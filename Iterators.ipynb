{
 "cells": [
  {
   "cell_type": "markdown",
   "id": "5db52905",
   "metadata": {},
   "source": [
    "### What is an Iteration "
   ]
  },
  {
   "cell_type": "raw",
   "id": "81fe2721",
   "metadata": {},
   "source": [
    "Iteration is a general term for taking each item of something,one after another. Any time you use a loop, explicit or implicit, to go over a group of items, that is iteration."
   ]
  },
  {
   "cell_type": "code",
   "execution_count": 1,
   "id": "8881373b",
   "metadata": {},
   "outputs": [
    {
     "name": "stdout",
     "output_type": "stream",
     "text": [
      "1\n",
      "2\n",
      "3\n"
     ]
    }
   ],
   "source": [
    "#Example\n",
    "num = [1,2,3]\n",
    "\n",
    "for i in num:\n",
    "    print(i)"
   ]
  },
  {
   "cell_type": "markdown",
   "id": "8210888b",
   "metadata": {},
   "source": [
    "### What is iterator \n",
    "\n",
    "An iterator is an object that allows the programmer to traverse through a sequence of data without having to store the entire data in the memory. "
   ]
  },
  {
   "cell_type": "code",
   "execution_count": 9,
   "id": "097eb386",
   "metadata": {},
   "outputs": [
    {
     "name": "stdout",
     "output_type": "stream",
     "text": [
      "12515.375\n",
      "0.75\n"
     ]
    }
   ],
   "source": [
    "#Example\n",
    "L=[x for x in range(1,100000)]\n",
    "\n",
    "#for i in L:\n",
    "    #print(i*2)\n",
    "    \n",
    "import sys \n",
    "print(sys.getsizeof(L)/64)\n",
    "\n",
    "\n",
    "x=range(1,100000)\n",
    "\n",
    "#for i in x:\n",
    "    #print(i*2)\n",
    "print(sys.getsizeof(x)/64)"
   ]
  },
  {
   "cell_type": "markdown",
   "id": "623fb9b1",
   "metadata": {},
   "source": [
    "### What is Iterable\n",
    "\n",
    "iterable is an object, which one can iterate over\n",
    "\n",
    "it generates an iterator when passed to iter() method."
   ]
  },
  {
   "cell_type": "code",
   "execution_count": 10,
   "id": "d7fc38b1",
   "metadata": {},
   "outputs": [
    {
     "data": {
      "text/plain": [
       "list_iterator"
      ]
     },
     "execution_count": 10,
     "metadata": {},
     "output_type": "execute_result"
    }
   ],
   "source": [
    "#Example \n",
    "\n",
    "L=[1,2,3]\n",
    "type(L)\n",
    "\n",
    "#L is an iterable\n",
    "type(iter(L))\n",
    "\n",
    "#iter(L)---> iterator"
   ]
  },
  {
   "cell_type": "markdown",
   "id": "757425be",
   "metadata": {},
   "source": [
    "### Point to remember\n",
    "\n",
    "Every iterator is also and iterable \n",
    "\n",
    "Not all iterables are iterators "
   ]
  },
  {
   "cell_type": "markdown",
   "id": "ca00ec35",
   "metadata": {},
   "source": [
    "### Understanding how for loop works \n"
   ]
  },
  {
   "cell_type": "code",
   "execution_count": 11,
   "id": "7aa5468f",
   "metadata": {},
   "outputs": [
    {
     "name": "stdout",
     "output_type": "stream",
     "text": [
      "1\n",
      "2\n",
      "3\n"
     ]
    }
   ],
   "source": [
    "num = [1,2,3]\n",
    "\n",
    "for i in num:\n",
    "    print(i)"
   ]
  },
  {
   "cell_type": "code",
   "execution_count": 14,
   "id": "b84b718e",
   "metadata": {},
   "outputs": [
    {
     "data": {
      "text/plain": [
       "3"
      ]
     },
     "execution_count": 14,
     "metadata": {},
     "output_type": "execute_result"
    }
   ],
   "source": [
    "num = [1,2,3]\n",
    "\n",
    "#fetch the iterator \n",
    "iter_num = iter(num)\n",
    "\n",
    "#step2 ---> next\n",
    "next(iter_num)\n",
    "next(iter_num)\n",
    "next(iter_num)\n"
   ]
  },
  {
   "cell_type": "markdown",
   "id": "6f52d423",
   "metadata": {},
   "source": [
    "### Making our own for loop"
   ]
  },
  {
   "cell_type": "code",
   "execution_count": 15,
   "id": "1242a652",
   "metadata": {},
   "outputs": [],
   "source": [
    "def myownforloop(iterable):\n",
    "    \n",
    "    iterator = iter(iterable)\n",
    "    \n",
    "    while True:\n",
    "        \n",
    "        try:\n",
    "            print(next(iterator))\n",
    "        except StopIteration:\n",
    "            break"
   ]
  },
  {
   "cell_type": "code",
   "execution_count": 16,
   "id": "ee4ffb99",
   "metadata": {},
   "outputs": [],
   "source": [
    "a=[1,2,3]\n",
    "b= range(1,11)\n",
    "c=(1,2,3)\n",
    "d={1,2,3}\n",
    "e={0:1,1:1}"
   ]
  },
  {
   "cell_type": "code",
   "execution_count": 17,
   "id": "5f447572",
   "metadata": {},
   "outputs": [
    {
     "name": "stdout",
     "output_type": "stream",
     "text": [
      "1\n",
      "2\n",
      "3\n"
     ]
    }
   ],
   "source": [
    "myownforloop(a)"
   ]
  },
  {
   "cell_type": "code",
   "execution_count": 18,
   "id": "59107995",
   "metadata": {},
   "outputs": [
    {
     "name": "stdout",
     "output_type": "stream",
     "text": [
      "1\n",
      "2\n",
      "3\n",
      "4\n",
      "5\n",
      "6\n",
      "7\n",
      "8\n",
      "9\n",
      "10\n"
     ]
    }
   ],
   "source": [
    "myownforloop(b)"
   ]
  },
  {
   "cell_type": "code",
   "execution_count": 19,
   "id": "13de4690",
   "metadata": {},
   "outputs": [
    {
     "name": "stdout",
     "output_type": "stream",
     "text": [
      "1\n",
      "2\n",
      "3\n"
     ]
    }
   ],
   "source": [
    "myownforloop(c)"
   ]
  },
  {
   "cell_type": "code",
   "execution_count": 20,
   "id": "4f81437f",
   "metadata": {},
   "outputs": [
    {
     "name": "stdout",
     "output_type": "stream",
     "text": [
      "1\n",
      "2\n",
      "3\n"
     ]
    }
   ],
   "source": [
    "myownforloop(d)"
   ]
  },
  {
   "cell_type": "code",
   "execution_count": 21,
   "id": "102c47e2",
   "metadata": {},
   "outputs": [
    {
     "name": "stdout",
     "output_type": "stream",
     "text": [
      "0\n",
      "1\n"
     ]
    }
   ],
   "source": [
    "myownforloop(e)"
   ]
  },
  {
   "cell_type": "markdown",
   "id": "69450276",
   "metadata": {},
   "source": [
    "### A confusing point"
   ]
  },
  {
   "cell_type": "code",
   "execution_count": 22,
   "id": "3546d4fe",
   "metadata": {},
   "outputs": [
    {
     "name": "stdout",
     "output_type": "stream",
     "text": [
      "3059467534288 Address of iterator 1\n",
      "3059467534288 Address of itertor 2\n"
     ]
    }
   ],
   "source": [
    "num = [1,2,3]\n",
    "iter_obj = iter(num)\n",
    "\n",
    "print(id(iter_obj),'Address of iterator 1')\n",
    "\n",
    "iter_obj2 = iter(iter_obj)\n",
    "print(id(iter_obj2),'Address of itertor 2')"
   ]
  },
  {
   "cell_type": "markdown",
   "id": "e17c7340",
   "metadata": {},
   "source": [
    "### creating my own range"
   ]
  },
  {
   "cell_type": "code",
   "execution_count": 23,
   "id": "cd195f33",
   "metadata": {},
   "outputs": [],
   "source": [
    "class mera_range:\n",
    "    \n",
    "    def __init__(self,start,end):\n",
    "        self.start = start \n",
    "        self.end = end\n",
    "        \n",
    "    def __iter__(self):\n",
    "        return mera_range_iterator(self)\n",
    "    "
   ]
  },
  {
   "cell_type": "code",
   "execution_count": 24,
   "id": "4909853a",
   "metadata": {},
   "outputs": [],
   "source": [
    "class mera_range_iterator:\n",
    "    \n",
    "    def __init__(self,iterable_obj):\n",
    "        self.iterable = iterable_obj\n",
    "        \n",
    "    def __iter__(self):\n",
    "        return self\n",
    "    \n",
    "    def __next__(self):\n",
    "        \n",
    "        if self.iterable.start >=self.iterable.end:\n",
    "            raise StopIteration"
   ]
  },
  {
   "cell_type": "code",
   "execution_count": 25,
   "id": "5a89eb56",
   "metadata": {},
   "outputs": [
    {
     "data": {
      "text/plain": [
       "__main__.mera_range"
      ]
     },
     "execution_count": 25,
     "metadata": {},
     "output_type": "execute_result"
    }
   ],
   "source": [
    "x=mera_range(1,11)\n",
    "type(x)"
   ]
  },
  {
   "cell_type": "code",
   "execution_count": 26,
   "id": "cc5b3b1f",
   "metadata": {},
   "outputs": [
    {
     "data": {
      "text/plain": [
       "<__main__.mera_range_iterator at 0x2c85679b820>"
      ]
     },
     "execution_count": 26,
     "metadata": {},
     "output_type": "execute_result"
    }
   ],
   "source": [
    "iter(x)"
   ]
  }
 ],
 "metadata": {
  "kernelspec": {
   "display_name": "Python 3 (ipykernel)",
   "language": "python",
   "name": "python3"
  },
  "language_info": {
   "codemirror_mode": {
    "name": "ipython",
    "version": 3
   },
   "file_extension": ".py",
   "mimetype": "text/x-python",
   "name": "python",
   "nbconvert_exporter": "python",
   "pygments_lexer": "ipython3",
   "version": "3.9.13"
  }
 },
 "nbformat": 4,
 "nbformat_minor": 5
}
