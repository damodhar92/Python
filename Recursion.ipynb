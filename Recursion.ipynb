{
 "cells": [
  {
   "cell_type": "code",
   "execution_count": 4,
   "id": "a871e6ea",
   "metadata": {},
   "outputs": [],
   "source": [
    "#mulyipy in loops\n",
    "def multiply (a,b):\n",
    "    result = 0\n",
    "    \n",
    "    for i in range(b):\n",
    "        result = result +a\n",
    "    print(result)\n"
   ]
  },
  {
   "cell_type": "code",
   "execution_count": 5,
   "id": "8db8c33f",
   "metadata": {},
   "outputs": [
    {
     "name": "stdout",
     "output_type": "stream",
     "text": [
      "12\n"
     ]
    }
   ],
   "source": [
    "multiply(3,4)"
   ]
  },
  {
   "cell_type": "code",
   "execution_count": 6,
   "id": "4d63da11",
   "metadata": {},
   "outputs": [
    {
     "name": "stdout",
     "output_type": "stream",
     "text": [
      "30\n"
     ]
    }
   ],
   "source": [
    "#multiply in recursion\n",
    "def mul(a,b):\n",
    "    \n",
    "    if b == 1:\n",
    "        return a \n",
    "    else:\n",
    "        return a + mul(a,b-1)\n",
    "print(mul(5,6))"
   ]
  },
  {
   "cell_type": "code",
   "execution_count": 8,
   "id": "23341c28",
   "metadata": {},
   "outputs": [],
   "source": [
    "def fact(num):\n",
    "    if num == 1:\n",
    "        return 1\n",
    "    else:\n",
    "        return num*fact(num-1)"
   ]
  },
  {
   "cell_type": "code",
   "execution_count": 9,
   "id": "a3ab4ecb",
   "metadata": {},
   "outputs": [
    {
     "name": "stdout",
     "output_type": "stream",
     "text": [
      "3628800\n"
     ]
    }
   ],
   "source": [
    "print(fact(10))"
   ]
  },
  {
   "cell_type": "code",
   "execution_count": 31,
   "id": "ddd19287",
   "metadata": {},
   "outputs": [],
   "source": [
    "def palin(text):\n",
    "    if len(text) <= 1:\n",
    "        print('palindrome')\n",
    "    else:\n",
    "        if text[0]==text[-1]:\n",
    "            palin(text[1:-1])\n",
    "        else:\n",
    "            print('not a palin')\n",
    "         "
   ]
  },
  {
   "cell_type": "code",
   "execution_count": 26,
   "id": "bf1bb862",
   "metadata": {},
   "outputs": [
    {
     "name": "stdout",
     "output_type": "stream",
     "text": [
      "palindrome\n"
     ]
    }
   ],
   "source": [
    "palin('abba')"
   ]
  },
  {
   "cell_type": "code",
   "execution_count": 27,
   "id": "b25eee8b",
   "metadata": {},
   "outputs": [
    {
     "name": "stdout",
     "output_type": "stream",
     "text": [
      "palindrome\n"
     ]
    }
   ],
   "source": [
    "palin('malayalam')"
   ]
  },
  {
   "cell_type": "code",
   "execution_count": 32,
   "id": "5aad49ec",
   "metadata": {},
   "outputs": [
    {
     "name": "stdout",
     "output_type": "stream",
     "text": [
      "not a palin\n"
     ]
    }
   ],
   "source": [
    "palin('python')"
   ]
  },
  {
   "cell_type": "code",
   "execution_count": 33,
   "id": "b7e97a3c",
   "metadata": {},
   "outputs": [],
   "source": [
    "#RABBIT PROBLEM"
   ]
  },
  {
   "cell_type": "code",
   "execution_count": 1,
   "id": "79e17852",
   "metadata": {},
   "outputs": [
    {
     "name": "stdout",
     "output_type": "stream",
     "text": [
      "1\n"
     ]
    }
   ],
   "source": [
    "def fib(m):\n",
    "    if m==0 or m==1:\n",
    "        return 1\n",
    "    else:\n",
    "        return fib(m-1)+fib(m-2)\n",
    "print(fib(1))"
   ]
  },
  {
   "cell_type": "code",
   "execution_count": 1,
   "id": "7d42a74e",
   "metadata": {},
   "outputs": [
    {
     "name": "stdout",
     "output_type": "stream",
     "text": [
      "10946\n",
      "0.0046367645263671875\n"
     ]
    }
   ],
   "source": [
    "import time\n",
    "def fib(m):\n",
    "    if m==0 or m==1:\n",
    "        return 1\n",
    "    else:\n",
    "        return fib(m-1)+fib(m-2)\n",
    "    \n",
    "start=time.time()\n",
    "print(fib(20))\n",
    "print(time.time()-start)"
   ]
  },
  {
   "cell_type": "code",
   "execution_count": 2,
   "id": "e82ce29e",
   "metadata": {},
   "outputs": [],
   "source": [
    "#its take lot of time so it is imperfect"
   ]
  },
  {
   "cell_type": "code",
   "execution_count": null,
   "id": "76c51395",
   "metadata": {},
   "outputs": [],
   "source": []
  },
  {
   "cell_type": "code",
   "execution_count": null,
   "id": "01dde901",
   "metadata": {},
   "outputs": [],
   "source": []
  }
 ],
 "metadata": {
  "kernelspec": {
   "display_name": "Python 3 (ipykernel)",
   "language": "python",
   "name": "python3"
  },
  "language_info": {
   "codemirror_mode": {
    "name": "ipython",
    "version": 3
   },
   "file_extension": ".py",
   "mimetype": "text/x-python",
   "name": "python",
   "nbconvert_exporter": "python",
   "pygments_lexer": "ipython3",
   "version": "3.9.13"
  }
 },
 "nbformat": 4,
 "nbformat_minor": 5
}
