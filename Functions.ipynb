{
 "cells": [
  {
   "cell_type": "code",
   "execution_count": null,
   "id": "788e17aa",
   "metadata": {},
   "outputs": [],
   "source": [
    "# Creating Function"
   ]
  },
  {
   "cell_type": "code",
   "execution_count": 3,
   "id": "0f5781e9",
   "metadata": {
    "collapsed": true
   },
   "outputs": [],
   "source": [
    "def is_even(num):\n",
    "    \"\"\"\n",
    "    This function returns if a given number is odd or even \n",
    "    input-any valid integr\n",
    "    output- odd/even\n",
    "    created on-16th Nov 2022\n",
    "    \"\"\"\n",
    "    \n",
    "    if type(num)==int:\n",
    "        if num % 2==0:\n",
    "            return 'even'\n",
    "        else:\n",
    "            return 'odd'\n",
    "    else:\n",
    "        return 'pagal hai kya?'\n",
    "#function writed "
   ]
  },
  {
   "cell_type": "code",
   "execution_count": 4,
   "id": "e07c8a74",
   "metadata": {},
   "outputs": [
    {
     "name": "stdout",
     "output_type": "stream",
     "text": [
      "odd\n",
      "even\n",
      "odd\n",
      "even\n",
      "odd\n",
      "even\n",
      "odd\n",
      "even\n",
      "odd\n",
      "even\n"
     ]
    }
   ],
   "source": [
    "#function \n",
    "# function_name(input)\n",
    "\n",
    "for i in range(1,11):\n",
    "    x=is_even(i)\n",
    "    print(x)\n",
    "#using of the function "
   ]
  },
  {
   "cell_type": "code",
   "execution_count": 5,
   "id": "569e2e10",
   "metadata": {},
   "outputs": [],
   "source": [
    "#Function is created is parameter (num) \n",
    "#Function is used is call orgument "
   ]
  },
  {
   "cell_type": "code",
   "execution_count": 6,
   "id": "21c066c5",
   "metadata": {},
   "outputs": [
    {
     "data": {
      "text/plain": [
       "'\\n    This function returns if a given number is odd or even \\n    input-any valid integr\\n    output- odd/even\\n    created on-16th Nov 2022\\n    '"
      ]
     },
     "execution_count": 6,
     "metadata": {},
     "output_type": "execute_result"
    }
   ],
   "source": [
    "#documentation \n",
    "is_even.__doc__"
   ]
  },
  {
   "cell_type": "code",
   "execution_count": 7,
   "id": "bed479bd",
   "metadata": {},
   "outputs": [
    {
     "name": "stdout",
     "output_type": "stream",
     "text": [
      "\n",
      "    This function returns if a given number is odd or even \n",
      "    input-any valid integr\n",
      "    output- odd/even\n",
      "    created on-16th Nov 2022\n",
      "    \n"
     ]
    }
   ],
   "source": [
    "print(is_even.__doc__)"
   ]
  },
  {
   "cell_type": "markdown",
   "id": "1ef95409",
   "metadata": {},
   "source": [
    "#### Point of Views"
   ]
  },
  {
   "cell_type": "code",
   "execution_count": 8,
   "id": "5251e595",
   "metadata": {},
   "outputs": [
    {
     "data": {
      "text/plain": [
       "'pagal hai kya?'"
      ]
     },
     "execution_count": 8,
     "metadata": {},
     "output_type": "execute_result"
    }
   ],
   "source": [
    "is_even('hello')"
   ]
  },
  {
   "cell_type": "markdown",
   "id": "91567e6b",
   "metadata": {},
   "source": [
    "#### Parameters Vs Arguments"
   ]
  },
  {
   "cell_type": "markdown",
   "id": "fb2a4c32",
   "metadata": {},
   "source": [
    "#### Types of Arguments"
   ]
  },
  {
   "cell_type": "raw",
   "id": "6cb7165b",
   "metadata": {},
   "source": [
    "Default Arguments\n",
    "Positional Arguments\n",
    "Keyword Arguments"
   ]
  },
  {
   "cell_type": "raw",
   "id": "1fa26a0c",
   "metadata": {},
   "source": [
    "#Default Arguments"
   ]
  },
  {
   "cell_type": "code",
   "execution_count": 12,
   "id": "b31d0a58",
   "metadata": {},
   "outputs": [],
   "source": [
    "def power(a=1,b=1):\n",
    "    return a**b\n",
    "#where we provided default value is 1"
   ]
  },
  {
   "cell_type": "code",
   "execution_count": 11,
   "id": "ab1dc7fd",
   "metadata": {},
   "outputs": [
    {
     "data": {
      "text/plain": [
       "8"
      ]
     },
     "execution_count": 11,
     "metadata": {},
     "output_type": "execute_result"
    }
   ],
   "source": [
    "power(2,3)"
   ]
  },
  {
   "cell_type": "raw",
   "id": "de1ed779",
   "metadata": {},
   "source": [
    "#Positional arguments"
   ]
  },
  {
   "cell_type": "code",
   "execution_count": 14,
   "id": "f49dfe0a",
   "metadata": {},
   "outputs": [
    {
     "data": {
      "text/plain": [
       "8"
      ]
     },
     "execution_count": 14,
     "metadata": {},
     "output_type": "execute_result"
    }
   ],
   "source": [
    "power(2,3)"
   ]
  },
  {
   "cell_type": "raw",
   "id": "34a281c5",
   "metadata": {},
   "source": [
    "#Key word arguments"
   ]
  },
  {
   "cell_type": "code",
   "execution_count": 15,
   "id": "c331c93e",
   "metadata": {},
   "outputs": [
    {
     "data": {
      "text/plain": [
       "8"
      ]
     },
     "execution_count": 15,
     "metadata": {},
     "output_type": "execute_result"
    }
   ],
   "source": [
    "power(b=3,a=2)"
   ]
  },
  {
   "cell_type": "markdown",
   "id": "f1b6ddb7",
   "metadata": {},
   "source": [
    "#   * args and    **kwargs"
   ]
  },
  {
   "cell_type": "markdown",
   "id": "3b205421",
   "metadata": {},
   "source": [
    "# \n",
    "    *args and **kwargs are special python keywords that are used to pass the variable length of argument functions."
   ]
  },
  {
   "cell_type": "code",
   "execution_count": 17,
   "id": "e73c5877",
   "metadata": {},
   "outputs": [],
   "source": [
    "# *args\n",
    "# allow us to pass a variable number of non-keyword arguments to a function\n",
    "# args store variable number of arguments in the form of tuple"
   ]
  },
  {
   "cell_type": "code",
   "execution_count": 18,
   "id": "bd9c4fe3",
   "metadata": {},
   "outputs": [],
   "source": [
    "def multiply(*args):\n",
    "    product = 1\n",
    "    \n",
    "    for i in args:\n",
    "        product = product *i\n",
    "    print(args)\n",
    "    return product"
   ]
  },
  {
   "cell_type": "code",
   "execution_count": 9,
   "id": "83a6538a",
   "metadata": {},
   "outputs": [
    {
     "name": "stdout",
     "output_type": "stream",
     "text": [
      "15\n"
     ]
    }
   ],
   "source": [
    "def add_numbers(*args):\n",
    "    sum = 0\n",
    "    for num in args:\n",
    "        sum += num\n",
    "    return sum\n",
    "\n",
    "result = add_numbers(1, 2, 3, 4, 5)\n",
    "print(result)  # Output: 15"
   ]
  },
  {
   "cell_type": "code",
   "execution_count": 19,
   "id": "bf4e793e",
   "metadata": {},
   "outputs": [
    {
     "name": "stdout",
     "output_type": "stream",
     "text": [
      "(1, 2, 3, 4, 5)\n"
     ]
    },
    {
     "data": {
      "text/plain": [
       "120"
      ]
     },
     "execution_count": 19,
     "metadata": {},
     "output_type": "execute_result"
    }
   ],
   "source": [
    "multiply(1,2,3,4,5)"
   ]
  },
  {
   "cell_type": "code",
   "execution_count": 20,
   "id": "0561ca76",
   "metadata": {},
   "outputs": [],
   "source": [
    "# **kwargs\n",
    "# **kwargs allows us to pass any number of keywords arguments.\n",
    "# Key words arguments mean that they contain a key-value pair,like python dictionry"
   ]
  },
  {
   "cell_type": "code",
   "execution_count": 21,
   "id": "d5f2d44c",
   "metadata": {},
   "outputs": [],
   "source": [
    "def display(**kwargs):\n",
    "    for(key,value) in kwargs.items():\n",
    "        print(key,'->',value)\n",
    "    "
   ]
  },
  {
   "cell_type": "code",
   "execution_count": 22,
   "id": "b4016c7a",
   "metadata": {},
   "outputs": [
    {
     "name": "stdout",
     "output_type": "stream",
     "text": [
      "india -> delhi\n",
      "srilanka -> colombo\n",
      "nepla -> kathmandu\n"
     ]
    }
   ],
   "source": [
    "display(india='delhi',srilanka='colombo',nepla='kathmandu')"
   ]
  },
  {
   "cell_type": "raw",
   "id": "e8626c12",
   "metadata": {},
   "source": [
    "#Points to remember while using *args and **kwargs\n",
    "1).order of the arguments matter (normal -> *args ->**kwargs)\n",
    "2).The words \"args\" and \"kwargs\" are only a convention, you can use any name of your choice."
   ]
  },
  {
   "cell_type": "markdown",
   "id": "e15c5a6a",
   "metadata": {},
   "source": [
    "### How Funcctions are executed in memory?"
   ]
  },
  {
   "cell_type": "code",
   "execution_count": 10,
   "id": "0be69d29",
   "metadata": {},
   "outputs": [],
   "source": [
    "# RAM -> city\n",
    "# GLOBAL FRAME -> home\n",
    "# FUNCTION SCOPE-> room\n",
    "\n",
    "# Function is active between call and return only, then the function is not in active."
   ]
  },
  {
   "cell_type": "markdown",
   "id": "16b650b3",
   "metadata": {},
   "source": [
    "### without return statement"
   ]
  },
  {
   "cell_type": "code",
   "execution_count": 26,
   "id": "7e56b963",
   "metadata": {},
   "outputs": [
    {
     "name": "stdout",
     "output_type": "stream",
     "text": [
      "None\n"
     ]
    }
   ],
   "source": [
    "L=[1,2,3]\n",
    "print(L.append(4))"
   ]
  },
  {
   "cell_type": "code",
   "execution_count": 28,
   "id": "dc682aab",
   "metadata": {},
   "outputs": [
    {
     "name": "stdout",
     "output_type": "stream",
     "text": [
      "None\n",
      "[1, 2, 3, 4, 5]\n"
     ]
    }
   ],
   "source": [
    "L=[1,2,3,4]\n",
    "print(L.append(5))\n",
    "print(L)"
   ]
  },
  {
   "cell_type": "markdown",
   "id": "36f2ffb0",
   "metadata": {},
   "source": [
    "### Variable Scope"
   ]
  },
  {
   "cell_type": "markdown",
   "id": "2b806519",
   "metadata": {},
   "source": [
    "#### Global"
   ]
  },
  {
   "cell_type": "code",
   "execution_count": 8,
   "id": "42ef85af",
   "metadata": {},
   "outputs": [],
   "source": [
    "#variables which are created outside of the function is called global variables.\n",
    "#global variable can be used by everyone, both inside the function and outside of the function."
   ]
  },
  {
   "cell_type": "code",
   "execution_count": null,
   "id": "61449af6",
   "metadata": {},
   "outputs": [],
   "source": [
    "#created variable outside of the function and use it inside of the function."
   ]
  },
  {
   "cell_type": "code",
   "execution_count": 16,
   "id": "a4d0aaa4",
   "metadata": {},
   "outputs": [
    {
     "name": "stdout",
     "output_type": "stream",
     "text": [
      "python isawesome\n"
     ]
    }
   ],
   "source": [
    "x='awesome'\n",
    "\n",
    "def myfunc():\n",
    "    print('python is'+x)\n",
    "myfunc()"
   ]
  },
  {
   "cell_type": "markdown",
   "id": "bb28554a",
   "metadata": {},
   "source": [
    "#### local"
   ]
  },
  {
   "cell_type": "code",
   "execution_count": null,
   "id": "99dcdee3",
   "metadata": {},
   "outputs": [],
   "source": [
    "#If you created a variable with the same name inside a function, this variable will be local variable, and\n",
    "#-->can only be the used in inside the function.\n",
    "\n",
    "#The global variable with the same name will remain as it was, global and with the original value."
   ]
  },
  {
   "cell_type": "code",
   "execution_count": null,
   "id": "26ee0540",
   "metadata": {},
   "outputs": [],
   "source": [
    "#Create a variable inside a function, with the same name as the global variable."
   ]
  },
  {
   "cell_type": "code",
   "execution_count": 4,
   "id": "46fc9015",
   "metadata": {},
   "outputs": [
    {
     "name": "stdout",
     "output_type": "stream",
     "text": [
      "python isfantastic\n",
      "python is awesome\n"
     ]
    }
   ],
   "source": [
    "x='awesome'\n",
    "\n",
    "def myfunc():\n",
    "    x='fantastic'\n",
    "    print('python is'+x)\n",
    "myfunc()\n",
    "print('python is ' +x)"
   ]
  },
  {
   "cell_type": "markdown",
   "id": "1f1b151c",
   "metadata": {},
   "source": [
    "#### The Global Keyword"
   ]
  },
  {
   "cell_type": "code",
   "execution_count": null,
   "id": "0c518a0d",
   "metadata": {},
   "outputs": [],
   "source": [
    "#Normally, when you create a variable inside a function, that variable is local, and can only be used inside that function.\n",
    "\n",
    "#To create a global variable inside a function, you can use the global keyword.\n",
    "\n",
    "#If you use the global keyword, the variable belong to the global scope."
   ]
  },
  {
   "cell_type": "code",
   "execution_count": 24,
   "id": "f1eededb",
   "metadata": {},
   "outputs": [
    {
     "name": "stdout",
     "output_type": "stream",
     "text": [
      "Python is fantastic\n"
     ]
    }
   ],
   "source": [
    "def myfunc():\n",
    "  global x\n",
    "  x = \"fantastic\"\n",
    "\n",
    "myfunc()\n",
    "\n",
    "print(\"Python is \" + x)"
   ]
  },
  {
   "cell_type": "code",
   "execution_count": null,
   "id": "49d0f289",
   "metadata": {},
   "outputs": [],
   "source": [
    "#Also, use the global keyword if you want to change a global variable inside a function."
   ]
  },
  {
   "cell_type": "code",
   "execution_count": 25,
   "id": "3948ea06",
   "metadata": {},
   "outputs": [
    {
     "name": "stdout",
     "output_type": "stream",
     "text": [
      "Python is fantastic\n"
     ]
    }
   ],
   "source": [
    "x = \"awesome\"\n",
    "\n",
    "def myfunc():\n",
    "  global x\n",
    "  x = \"fantastic\"\n",
    "\n",
    "myfunc()\n",
    "\n",
    "print(\"Python is \" + x)"
   ]
  },
  {
   "cell_type": "code",
   "execution_count": 1,
   "id": "454c81b9",
   "metadata": {},
   "outputs": [
    {
     "name": "stdout",
     "output_type": "stream",
     "text": [
      "5\n",
      "6\n",
      "5\n"
     ]
    }
   ],
   "source": [
    "def g(y):\n",
    "    print(x)\n",
    "    print(x+1)\n",
    "    \n",
    "x=5\n",
    "g(x)\n",
    "print(x)"
   ]
  },
  {
   "cell_type": "code",
   "execution_count": 2,
   "id": "4c088bbc",
   "metadata": {},
   "outputs": [
    {
     "name": "stdout",
     "output_type": "stream",
     "text": [
      "2\n",
      "5\n"
     ]
    }
   ],
   "source": [
    "def f(y):\n",
    "    x=1\n",
    "    x+=1\n",
    "    print(x)\n",
    "x=5\n",
    "f(x)\n",
    "print(x)"
   ]
  },
  {
   "cell_type": "code",
   "execution_count": 4,
   "id": "31ba6ac8",
   "metadata": {},
   "outputs": [
    {
     "name": "stdout",
     "output_type": "stream",
     "text": [
      "in f(x): x= 4\n",
      "in main program scope:z= 4\n",
      "in main program scope:x= 3\n"
     ]
    }
   ],
   "source": [
    "def f(x):\n",
    "    x = x+1\n",
    "    print('in f(x): x=',x)\n",
    "    return x\n",
    "x=3\n",
    "z=f(x)\n",
    "print('in main program scope:z=',z)\n",
    "print('in main program scope:x=',x)"
   ]
  },
  {
   "cell_type": "markdown",
   "id": "09a0a9b7",
   "metadata": {},
   "source": [
    "### Nested Functions\n"
   ]
  },
  {
   "cell_type": "code",
   "execution_count": 5,
   "id": "7c83fb86",
   "metadata": {},
   "outputs": [],
   "source": [
    "def f():\n",
    "    def g():\n",
    "        print('inside function g')\n",
    "        f()\n",
    "    g()\n",
    "    print('inside function f')"
   ]
  },
  {
   "cell_type": "code",
   "execution_count": 1,
   "id": "1df765d9",
   "metadata": {},
   "outputs": [
    {
     "name": "stdout",
     "output_type": "stream",
     "text": [
      "in main program scope:x= 3\n",
      "in main program scope:z= None\n"
     ]
    }
   ],
   "source": [
    "def g(x):\n",
    "    def h(x):\n",
    "        x=x+1\n",
    "        print('in g(x): x=',x)\n",
    "        h(x)\n",
    "        return x\n",
    "x=3\n",
    "z=g(x)\n",
    "print('in main program scope:x=',x)\n",
    "print('in main program scope:z=',z)"
   ]
  },
  {
   "cell_type": "markdown",
   "id": "4ae1c125",
   "metadata": {},
   "source": [
    "### Functions are first class citizens"
   ]
  },
  {
   "cell_type": "code",
   "execution_count": 10,
   "id": "10d6c6c4",
   "metadata": {},
   "outputs": [],
   "source": [
    "#type and id\n",
    "\n",
    "def square(num):\n",
    "    return num**2"
   ]
  },
  {
   "cell_type": "code",
   "execution_count": 40,
   "id": "735cf62a",
   "metadata": {},
   "outputs": [
    {
     "data": {
      "text/plain": [
       "function"
      ]
     },
     "execution_count": 40,
     "metadata": {},
     "output_type": "execute_result"
    }
   ],
   "source": [
    "type(square)"
   ]
  },
  {
   "cell_type": "code",
   "execution_count": 27,
   "id": "7f9a63c5",
   "metadata": {},
   "outputs": [
    {
     "data": {
      "text/plain": [
       "1460719440656"
      ]
     },
     "execution_count": 27,
     "metadata": {},
     "output_type": "execute_result"
    }
   ],
   "source": [
    "id(square)"
   ]
  },
  {
   "cell_type": "code",
   "execution_count": 28,
   "id": "1c0c139c",
   "metadata": {},
   "outputs": [],
   "source": [
    "x=square"
   ]
  },
  {
   "cell_type": "code",
   "execution_count": 29,
   "id": "57b5b26a",
   "metadata": {},
   "outputs": [
    {
     "data": {
      "text/plain": [
       "1460719440656"
      ]
     },
     "execution_count": 29,
     "metadata": {},
     "output_type": "execute_result"
    }
   ],
   "source": [
    "id(x)"
   ]
  },
  {
   "cell_type": "code",
   "execution_count": null,
   "id": "7473b41f",
   "metadata": {},
   "outputs": [],
   "source": [
    "#id of square function and id of x are same\n",
    "#so we can use x also a square function "
   ]
  },
  {
   "cell_type": "code",
   "execution_count": 30,
   "id": "44ac7397",
   "metadata": {},
   "outputs": [
    {
     "data": {
      "text/plain": [
       "9"
      ]
     },
     "execution_count": 30,
     "metadata": {},
     "output_type": "execute_result"
    }
   ],
   "source": [
    "square(3)"
   ]
  },
  {
   "cell_type": "code",
   "execution_count": 31,
   "id": "60ce9231",
   "metadata": {},
   "outputs": [
    {
     "data": {
      "text/plain": [
       "9"
      ]
     },
     "execution_count": 31,
     "metadata": {},
     "output_type": "execute_result"
    }
   ],
   "source": [
    "x(3)"
   ]
  },
  {
   "cell_type": "code",
   "execution_count": 39,
   "id": "0a1db85d",
   "metadata": {},
   "outputs": [
    {
     "data": {
      "text/plain": [
       "9"
      ]
     },
     "execution_count": 39,
     "metadata": {},
     "output_type": "execute_result"
    }
   ],
   "source": [
    "#reassign square function as a 'x'\n",
    "x=square\n",
    "id(x)\n",
    "x(3)"
   ]
  },
  {
   "cell_type": "code",
   "execution_count": 34,
   "id": "059f6b5c",
   "metadata": {},
   "outputs": [
    {
     "data": {
      "text/plain": [
       "2"
      ]
     },
     "execution_count": 34,
     "metadata": {},
     "output_type": "execute_result"
    }
   ],
   "source": [
    "#Example of reassign\n",
    "a = 2\n",
    "b = a\n",
    "\n",
    "b"
   ]
  },
  {
   "cell_type": "code",
   "execution_count": 35,
   "id": "870e1242",
   "metadata": {},
   "outputs": [
    {
     "ename": "NameError",
     "evalue": "name 'square' is not defined",
     "output_type": "error",
     "traceback": [
      "\u001b[1;31m---------------------------------------------------------------------------\u001b[0m",
      "\u001b[1;31mNameError\u001b[0m                                 Traceback (most recent call last)",
      "\u001b[1;32m~\\AppData\\Local\\Temp\\ipykernel_1808\\1210361600.py\u001b[0m in \u001b[0;36m<module>\u001b[1;34m\u001b[0m\n\u001b[0;32m      1\u001b[0m \u001b[1;31m#deleting a function\u001b[0m\u001b[1;33m\u001b[0m\u001b[1;33m\u001b[0m\u001b[0m\n\u001b[1;32m----> 2\u001b[1;33m \u001b[1;32mdel\u001b[0m \u001b[0msquare\u001b[0m\u001b[1;33m\u001b[0m\u001b[1;33m\u001b[0m\u001b[0m\n\u001b[0m",
      "\u001b[1;31mNameError\u001b[0m: name 'square' is not defined"
     ]
    }
   ],
   "source": [
    "#deleting a function \n",
    "del square "
   ]
  },
  {
   "cell_type": "code",
   "execution_count": 36,
   "id": "938e21ec",
   "metadata": {},
   "outputs": [
    {
     "ename": "NameError",
     "evalue": "name 'square' is not defined",
     "output_type": "error",
     "traceback": [
      "\u001b[1;31m---------------------------------------------------------------------------\u001b[0m",
      "\u001b[1;31mNameError\u001b[0m                                 Traceback (most recent call last)",
      "\u001b[1;32m~\\AppData\\Local\\Temp\\ipykernel_1808\\1056684087.py\u001b[0m in \u001b[0;36m<module>\u001b[1;34m\u001b[0m\n\u001b[1;32m----> 1\u001b[1;33m \u001b[0msquare\u001b[0m\u001b[1;33m(\u001b[0m\u001b[1;36m3\u001b[0m\u001b[1;33m)\u001b[0m\u001b[1;33m\u001b[0m\u001b[1;33m\u001b[0m\u001b[0m\n\u001b[0m",
      "\u001b[1;31mNameError\u001b[0m: name 'square' is not defined"
     ]
    }
   ],
   "source": [
    "square(3)"
   ]
  },
  {
   "cell_type": "code",
   "execution_count": 11,
   "id": "daf323e4",
   "metadata": {},
   "outputs": [
    {
     "data": {
      "text/plain": [
       "9"
      ]
     },
     "execution_count": 11,
     "metadata": {},
     "output_type": "execute_result"
    }
   ],
   "source": [
    "#sorting \n",
    "L=[1,2,3,4,square]\n",
    "L[-1](3)"
   ]
  },
  {
   "cell_type": "code",
   "execution_count": 9,
   "id": "9703fdd7",
   "metadata": {},
   "outputs": [
    {
     "data": {
      "text/plain": [
       "{<function __main__.square(num)>}"
      ]
     },
     "execution_count": 9,
     "metadata": {},
     "output_type": "execute_result"
    }
   ],
   "source": [
    "s={square}\n",
    "s"
   ]
  },
  {
   "cell_type": "code",
   "execution_count": null,
   "id": "9637a26c",
   "metadata": {},
   "outputs": [],
   "source": [
    "#returning a function"
   ]
  },
  {
   "cell_type": "code",
   "execution_count": null,
   "id": "4ccf6815",
   "metadata": {},
   "outputs": [],
   "source": [
    "# one function returning the another function it is possible in functions"
   ]
  },
  {
   "cell_type": "code",
   "execution_count": 11,
   "id": "04d5b1a2",
   "metadata": {},
   "outputs": [
    {
     "name": "stdout",
     "output_type": "stream",
     "text": [
      "7\n"
     ]
    }
   ],
   "source": [
    "def f():\n",
    "    def x(a,b):\n",
    "        return a+b\n",
    "    return x\n",
    "val=f()(3,4)\n",
    "print(val)"
   ]
  },
  {
   "cell_type": "code",
   "execution_count": null,
   "id": "9fd2eeeb",
   "metadata": {},
   "outputs": [],
   "source": [
    "#function as argument"
   ]
  },
  {
   "cell_type": "code",
   "execution_count": 13,
   "id": "b309ab79",
   "metadata": {},
   "outputs": [
    {
     "name": "stdout",
     "output_type": "stream",
     "text": [
      "inside func_c\n",
      "inside func_a\n",
      "None\n"
     ]
    }
   ],
   "source": [
    "def func_a():\n",
    "    print('inside func_a')\n",
    "def func_b(z):\n",
    "    print('inside func_c')\n",
    "    return z()\n",
    "print(func_b(func_a))"
   ]
  },
  {
   "cell_type": "code",
   "execution_count": null,
   "id": "7f5b0004",
   "metadata": {},
   "outputs": [],
   "source": [
    "#Benefits of using a Function"
   ]
  },
  {
   "cell_type": "raw",
   "id": "96b48043",
   "metadata": {},
   "source": [
    "*.Code Modularity\n",
    "*.Code Readibility\n",
    "*.Code Reusability"
   ]
  },
  {
   "cell_type": "markdown",
   "id": "d2baa17a",
   "metadata": {},
   "source": [
    "### Lambda Function"
   ]
  },
  {
   "cell_type": "raw",
   "id": "62324606",
   "metadata": {},
   "source": [
    "A lambda function is a small anonymous function.\n",
    "A lambda function can take any number of arguments, but can only one expression\n",
    "\n",
    " lambda a,b: a+b\n",
    " \n",
    " lambda-->(lambda key word) lambda key word creates the lambda expression.\n",
    " a,b--->(parameters) One or more parameters are supported. Must be separated by comma(,) and no parentheses.\n",
    " : colon--->(colon) this is a cue for the expression.\n",
    " a+b-->(Expresion) Must be a single python valid expression.\n",
    " \n",
    " The lambda function should be stored in a variable for use.\n",
    " "
   ]
  },
  {
   "cell_type": "code",
   "execution_count": 2,
   "id": "f7cb1a5f",
   "metadata": {},
   "outputs": [
    {
     "data": {
      "text/plain": [
       "<function __main__.<lambda>(x)>"
      ]
     },
     "execution_count": 2,
     "metadata": {},
     "output_type": "execute_result"
    }
   ],
   "source": [
    "# x -> x^2\n",
    "lambda x:x**2"
   ]
  },
  {
   "cell_type": "code",
   "execution_count": 45,
   "id": "9b98b4b7",
   "metadata": {},
   "outputs": [
    {
     "data": {
      "text/plain": [
       "4"
      ]
     },
     "execution_count": 45,
     "metadata": {},
     "output_type": "execute_result"
    }
   ],
   "source": [
    "x=lambda x:x**2\n",
    "x(2)"
   ]
  },
  {
   "cell_type": "code",
   "execution_count": 3,
   "id": "8a5e8ec6",
   "metadata": {},
   "outputs": [
    {
     "data": {
      "text/plain": [
       "7"
      ]
     },
     "execution_count": 3,
     "metadata": {},
     "output_type": "execute_result"
    }
   ],
   "source": [
    "# x,y -> x+y\n",
    "\n",
    "a=lambda x,y:x+y\n",
    "a(5,2)"
   ]
  },
  {
   "cell_type": "markdown",
   "id": "7be95911",
   "metadata": {},
   "source": [
    "#### Difference between lambda vs Normal Function"
   ]
  },
  {
   "cell_type": "raw",
   "id": "de15bcfe",
   "metadata": {},
   "source": [
    "1).No name\n",
    "2).Lambda has no return value(infact,returns a function)\n",
    "3).lambda is written in 1 line\n",
    "4).Not reusable"
   ]
  },
  {
   "cell_type": "raw",
   "id": "c3a43145",
   "metadata": {},
   "source": [
    "1).Then why we use lambda function?\n",
    "2).Lambda Function used for Higher Order Functions."
   ]
  },
  {
   "cell_type": "code",
   "execution_count": 47,
   "id": "ad3523f2",
   "metadata": {},
   "outputs": [
    {
     "data": {
      "text/plain": [
       "False"
      ]
     },
     "execution_count": 47,
     "metadata": {},
     "output_type": "execute_result"
    }
   ],
   "source": [
    "#check if a string has 'a'\n",
    "\n",
    "x=lambda s:'a' in s\n",
    "x('hello')"
   ]
  },
  {
   "cell_type": "code",
   "execution_count": 8,
   "id": "b9a571ab",
   "metadata": {},
   "outputs": [
    {
     "data": {
      "text/plain": [
       "'even'"
      ]
     },
     "execution_count": 8,
     "metadata": {},
     "output_type": "execute_result"
    }
   ],
   "source": [
    "#odd or even\n",
    "\n",
    "a=lambda x:'even' if x%2==0 else 'odd'\n",
    "a(6)"
   ]
  },
  {
   "cell_type": "markdown",
   "id": "c9fb24f2",
   "metadata": {},
   "source": [
    "#### Higher Order Functions"
   ]
  },
  {
   "cell_type": "raw",
   "id": "731c05d0",
   "metadata": {},
   "source": [
    "1). A function returns a another function is called higher order functions.\n",
    "2). and also if a function recives another function in an input it is also call higher order functions."
   ]
  },
  {
   "cell_type": "raw",
   "id": "51497b20",
   "metadata": {},
   "source": [
    "#Example"
   ]
  },
  {
   "cell_type": "code",
   "execution_count": 48,
   "id": "04111bb2",
   "metadata": {},
   "outputs": [],
   "source": [
    "def square(x):\n",
    "    return x**2\n",
    "def cube(x):\n",
    "    return x**3\n",
    "#HOF\n",
    "def transform(f,L):\n",
    "    output = []\n",
    "    for i in L:\n",
    "        output.append(f(i))\n",
    "        \n",
    "    print(output)"
   ]
  },
  {
   "cell_type": "code",
   "execution_count": 49,
   "id": "2679b17f",
   "metadata": {},
   "outputs": [
    {
     "name": "stdout",
     "output_type": "stream",
     "text": [
      "[1, 8, 27, 64, 125]\n"
     ]
    }
   ],
   "source": [
    "L=[1,2,3,4,5]\n",
    "    \n",
    "transform(lambda x:x**3,L)"
   ]
  },
  {
   "cell_type": "markdown",
   "id": "100cfddb",
   "metadata": {},
   "source": [
    "## MAP"
   ]
  },
  {
   "cell_type": "code",
   "execution_count": 15,
   "id": "b3f48e69",
   "metadata": {},
   "outputs": [],
   "source": [
    "# square the items of a list"
   ]
  },
  {
   "cell_type": "code",
   "execution_count": 16,
   "id": "a4d401b2",
   "metadata": {},
   "outputs": [
    {
     "data": {
      "text/plain": [
       "[1, 4, 9, 16, 25]"
      ]
     },
     "execution_count": 16,
     "metadata": {},
     "output_type": "execute_result"
    }
   ],
   "source": [
    "list(map(lambda x:x**2,[1,2,3,4,5]))"
   ]
  },
  {
   "cell_type": "code",
   "execution_count": 17,
   "id": "e68fef65",
   "metadata": {},
   "outputs": [
    {
     "data": {
      "text/plain": [
       "['odd', 'even', 'odd', 'even', 'odd']"
      ]
     },
     "execution_count": 17,
     "metadata": {},
     "output_type": "execute_result"
    }
   ],
   "source": [
    "#odd/even labelling of list items\n",
    "\n",
    "L=[1,2,3,4,5]\n",
    "list(map(lambda x:'even' if x%2 ==0 else 'odd',L ))"
   ]
  },
  {
   "cell_type": "code",
   "execution_count": null,
   "id": "3ff55697",
   "metadata": {},
   "outputs": [],
   "source": [
    "#fetch names from a list of dict"
   ]
  },
  {
   "cell_type": "code",
   "execution_count": 20,
   "id": "84c1b413",
   "metadata": {},
   "outputs": [
    {
     "data": {
      "text/plain": [
       "['male', 'male', 'female']"
      ]
     },
     "execution_count": 20,
     "metadata": {},
     "output_type": "execute_result"
    }
   ],
   "source": [
    "users=[\n",
    "    {\n",
    "        'name':'Rahul',\n",
    "        'age':45,\n",
    "        'gender':'male'\n",
    "    },\n",
    "\n",
    "    {\n",
    "        'name':'Nitist',\n",
    "        'age':33,\n",
    "        'gender':'male'\n",
    "        \n",
    "    },\n",
    "    {\n",
    "        'name':'Ankita',\n",
    "        'age':50,\n",
    "        'gender':'female'\n",
    "    }\n",
    "\n",
    "]\n",
    "\n",
    "list(map(lambda users:users['gender'],users))"
   ]
  },
  {
   "cell_type": "markdown",
   "id": "c3db3262",
   "metadata": {},
   "source": [
    "### Filter"
   ]
  },
  {
   "cell_type": "raw",
   "id": "07183d1d",
   "metadata": {},
   "source": [
    "#number greater than 5"
   ]
  },
  {
   "cell_type": "code",
   "execution_count": 22,
   "id": "8c32172d",
   "metadata": {},
   "outputs": [
    {
     "data": {
      "text/plain": [
       "[6, 7]"
      ]
     },
     "execution_count": 22,
     "metadata": {},
     "output_type": "execute_result"
    }
   ],
   "source": [
    "L=[3,4,5,6,7]\n",
    "\n",
    "list(filter(lambda x:x>5, L))"
   ]
  },
  {
   "cell_type": "code",
   "execution_count": 23,
   "id": "1bc35a4d",
   "metadata": {},
   "outputs": [
    {
     "data": {
      "text/plain": [
       "['apple']"
      ]
     },
     "execution_count": 23,
     "metadata": {},
     "output_type": "execute_result"
    }
   ],
   "source": [
    "#Fetch fruits starting with \"a\"\n",
    "\n",
    "fruits=['apple','guva','cherry']\n",
    "\n",
    "list(filter(lambda x:x.startswith('a'),fruits))"
   ]
  },
  {
   "cell_type": "markdown",
   "id": "54cddbff",
   "metadata": {},
   "source": [
    "## Reduce"
   ]
  },
  {
   "cell_type": "code",
   "execution_count": 24,
   "id": "aac98041",
   "metadata": {},
   "outputs": [
    {
     "data": {
      "text/plain": [
       "15"
      ]
     },
     "execution_count": 24,
     "metadata": {},
     "output_type": "execute_result"
    }
   ],
   "source": [
    "#sum of all item\n",
    "import functools\n",
    "\n",
    "functools.reduce(lambda x,y:x+y,[1,2,3,4,5])"
   ]
  },
  {
   "cell_type": "code",
   "execution_count": 25,
   "id": "5876d94b",
   "metadata": {},
   "outputs": [
    {
     "data": {
      "text/plain": [
       "45"
      ]
     },
     "execution_count": 25,
     "metadata": {},
     "output_type": "execute_result"
    }
   ],
   "source": [
    "#find min\n",
    "functools.reduce(lambda x,y:x if x>y else y, [23,11,45,10,1])"
   ]
  },
  {
   "cell_type": "markdown",
   "id": "217c71af",
   "metadata": {},
   "source": [
    "### Functions Examples"
   ]
  },
  {
   "cell_type": "code",
   "execution_count": 1,
   "id": "bb386663",
   "metadata": {},
   "outputs": [
    {
     "name": "stdout",
     "output_type": "stream",
     "text": [
      "Hello World\n"
     ]
    }
   ],
   "source": [
    "def test():\n",
    "    print('Hello World')\n",
    "test()"
   ]
  },
  {
   "cell_type": "code",
   "execution_count": 5,
   "id": "17ee1c5b",
   "metadata": {},
   "outputs": [
    {
     "name": "stdout",
     "output_type": "stream",
     "text": [
      "20\n"
     ]
    }
   ],
   "source": [
    "def abc(a):\n",
    "    print(a+10)\n",
    "abc(10)"
   ]
  },
  {
   "cell_type": "code",
   "execution_count": 6,
   "id": "b9c3c895",
   "metadata": {},
   "outputs": [
    {
     "name": "stdout",
     "output_type": "stream",
     "text": [
      "50\n"
     ]
    }
   ],
   "source": [
    "def abc(b):\n",
    "    print(b+20)\n",
    "abc(30)"
   ]
  },
  {
   "cell_type": "code",
   "execution_count": 7,
   "id": "669f4768",
   "metadata": {},
   "outputs": [
    {
     "name": "stdout",
     "output_type": "stream",
     "text": [
      "110\n"
     ]
    }
   ],
   "source": [
    "def abc(c):\n",
    "    print(c+40)\n",
    "abc(70)"
   ]
  },
  {
   "cell_type": "code",
   "execution_count": 8,
   "id": "e7d1d497",
   "metadata": {},
   "outputs": [
    {
     "name": "stdout",
     "output_type": "stream",
     "text": [
      "1040\n"
     ]
    }
   ],
   "source": [
    "abc(1000)"
   ]
  },
  {
   "cell_type": "code",
   "execution_count": 9,
   "id": "478ab7b4",
   "metadata": {},
   "outputs": [
    {
     "name": "stdout",
     "output_type": "stream",
     "text": [
      "India\n"
     ]
    }
   ],
   "source": [
    "def Getcountryname(name='India'):\n",
    "    print(name)\n",
    "Getcountryname()"
   ]
  },
  {
   "cell_type": "code",
   "execution_count": 10,
   "id": "361c97d9",
   "metadata": {},
   "outputs": [
    {
     "name": "stdout",
     "output_type": "stream",
     "text": [
      "damodhara is a good boy\n"
     ]
    }
   ],
   "source": [
    "def Getcountryname(name='damodhara is a good boy'):\n",
    "    print(name)\n",
    "Getcountryname()"
   ]
  },
  {
   "cell_type": "code",
   "execution_count": 11,
   "id": "5c9c89a2",
   "metadata": {},
   "outputs": [
    {
     "name": "stdout",
     "output_type": "stream",
     "text": [
      "hello jack\n"
     ]
    }
   ],
   "source": [
    "def soma():\n",
    "    print('hello jack')\n",
    "soma()"
   ]
  },
  {
   "cell_type": "code",
   "execution_count": 12,
   "id": "f36d8047",
   "metadata": {},
   "outputs": [
    {
     "name": "stdout",
     "output_type": "stream",
     "text": [
      "Rohit\n"
     ]
    }
   ],
   "source": [
    "def soma(name='Rohit'):\n",
    "    print(name)\n",
    "soma()"
   ]
  },
  {
   "cell_type": "code",
   "execution_count": null,
   "id": "90e90af6",
   "metadata": {},
   "outputs": [],
   "source": [
    "def getNames(list):\n",
    "    for x in list:\n",
    "        print(x)\n",
    "names=['java','python','DoTNET','Ruby']"
   ]
  },
  {
   "cell_type": "code",
   "execution_count": 14,
   "id": "29ce38d6",
   "metadata": {},
   "outputs": [
    {
     "name": "stdout",
     "output_type": "stream",
     "text": [
      "java\n",
      "python\n",
      "R\n"
     ]
    }
   ],
   "source": [
    "def getNames(list):\n",
    "    for x in list:\n",
    "        print(x)\n",
    "names=['java','python','R']\n",
    "getNames(names)"
   ]
  },
  {
   "cell_type": "code",
   "execution_count": 15,
   "id": "455668d6",
   "metadata": {},
   "outputs": [
    {
     "name": "stdout",
     "output_type": "stream",
     "text": [
      "java\n",
      "python\n",
      "R\n"
     ]
    }
   ],
   "source": [
    "def getNames(list):\n",
    "    for x in list:\n",
    "        print(x)\n",
    "names=['java','python','R']\n",
    "getNames(names)"
   ]
  },
  {
   "cell_type": "code",
   "execution_count": 16,
   "id": "e2aa3c0d",
   "metadata": {},
   "outputs": [
    {
     "name": "stdout",
     "output_type": "stream",
     "text": [
      "70\n"
     ]
    }
   ],
   "source": [
    "def sum(a,b):\n",
    "    return a+b\n",
    "c=sum(30,40)\n",
    "print(c)"
   ]
  },
  {
   "cell_type": "code",
   "execution_count": 17,
   "id": "815fa15b",
   "metadata": {},
   "outputs": [
    {
     "name": "stdout",
     "output_type": "stream",
     "text": [
      "300\n"
     ]
    }
   ],
   "source": [
    "def sum(a,b):\n",
    "    return a+b\n",
    "c=sum(100,200)\n",
    "print(c)"
   ]
  },
  {
   "cell_type": "code",
   "execution_count": 18,
   "id": "cb616f41",
   "metadata": {},
   "outputs": [
    {
     "name": "stdout",
     "output_type": "stream",
     "text": [
      "NewDelhi\n"
     ]
    }
   ],
   "source": [
    "def getcapitalname(countryname):\n",
    "    if countryname=='India':\n",
    "        return 'NewDelhi'\n",
    "print(getcapitalname('India'))"
   ]
  },
  {
   "cell_type": "code",
   "execution_count": 19,
   "id": "414481e9",
   "metadata": {},
   "outputs": [
    {
     "name": "stdout",
     "output_type": "stream",
     "text": [
      "Avula\n"
     ]
    }
   ],
   "source": [
    "def getsurname(name):\n",
    "    if name=='Damodhara':\n",
    "        return 'Avula'\n",
    "print(getsurname('Damodhara'))"
   ]
  },
  {
   "cell_type": "code",
   "execution_count": 21,
   "id": "e81c55e8",
   "metadata": {},
   "outputs": [
    {
     "name": "stdout",
     "output_type": "stream",
     "text": [
      "New Delhi\n",
      "Washigtondc\n"
     ]
    }
   ],
   "source": [
    "def getcapitalname(countryname):\n",
    "    if countryname=='India':\n",
    "        return 'New Delhi'\n",
    "    elif countryname=='Usa':\n",
    "        return 'Washigtondc'\n",
    "print(getcapitalname('India'))\n",
    "print(getcapitalname('Usa'))\n",
    "    "
   ]
  },
  {
   "cell_type": "code",
   "execution_count": 24,
   "id": "107cd9f4",
   "metadata": {},
   "outputs": [
    {
     "name": "stdout",
     "output_type": "stream",
     "text": [
      "Old capital is Hyderabad\n"
     ]
    }
   ],
   "source": [
    "def getcapitalname(statename):\n",
    "    if statename=='Andhra Pradesh':\n",
    "        return 'Old capital is Hyderabad'\n",
    "print(getcapitalname('Andhra Pradesh'))"
   ]
  },
  {
   "cell_type": "code",
   "execution_count": 26,
   "id": "bf816467",
   "metadata": {},
   "outputs": [
    {
     "name": "stdout",
     "output_type": "stream",
     "text": [
      "Launchgooglechrome\n"
     ]
    }
   ],
   "source": [
    "def launchbrowser(browserName):\n",
    "    if browserName=='Chrome':\n",
    "        print('Launchgooglechrome')\n",
    "    elif bowserName=='firefox':\n",
    "        print('launchfirefox')\n",
    "    else:\n",
    "        print('no browser is defined')\n",
    "launchbrowser('Chrome')"
   ]
  },
  {
   "cell_type": "code",
   "execution_count": 27,
   "id": "0678766f",
   "metadata": {},
   "outputs": [
    {
     "name": "stdout",
     "output_type": "stream",
     "text": [
      "He got a job\n"
     ]
    }
   ],
   "source": [
    "def getjob(interview):\n",
    "    if interview =='selected':\n",
    "        print('He got a job')\n",
    "    elif interview=='not selected':\n",
    "        print('he not got a job')\n",
    "getjob('selected')\n",
    "    "
   ]
  },
  {
   "cell_type": "code",
   "execution_count": 28,
   "id": "7e0fdf81",
   "metadata": {},
   "outputs": [
    {
     "name": "stdout",
     "output_type": "stream",
     "text": [
      "damodhara damu@123\n"
     ]
    }
   ],
   "source": [
    "def login(username,password):\n",
    "    print(username,password)\n",
    "login('damodhara','damu@123')"
   ]
  },
  {
   "cell_type": "code",
   "execution_count": 34,
   "id": "8ea84f92",
   "metadata": {},
   "outputs": [
    {
     "name": "stdout",
     "output_type": "stream",
     "text": [
      "3628800\n"
     ]
    }
   ],
   "source": [
    "def fact(num):\n",
    "    if (num>1):\n",
    "        num=num*fact(num-1)\n",
    "    return num\n",
    "print(fact(10))"
   ]
  },
  {
   "cell_type": "code",
   "execution_count": 35,
   "id": "eb3db470",
   "metadata": {},
   "outputs": [
    {
     "data": {
      "text/plain": [
       "24"
      ]
     },
     "execution_count": 35,
     "metadata": {},
     "output_type": "execute_result"
    }
   ],
   "source": [
    "fact(4)"
   ]
  },
  {
   "cell_type": "code",
   "execution_count": 36,
   "id": "e6e7cdae",
   "metadata": {},
   "outputs": [
    {
     "data": {
      "text/plain": [
       "3628800"
      ]
     },
     "execution_count": 36,
     "metadata": {},
     "output_type": "execute_result"
    }
   ],
   "source": [
    "fact(10)"
   ]
  },
  {
   "cell_type": "code",
   "execution_count": 37,
   "id": "a5c1fe2c",
   "metadata": {},
   "outputs": [
    {
     "name": "stdout",
     "output_type": "stream",
     "text": [
      "24\n"
     ]
    }
   ],
   "source": [
    "def fact(num):\n",
    "    if (num>1):\n",
    "        num=num*fact(num-1)\n",
    "    return num\n",
    "print(fact(4))"
   ]
  },
  {
   "cell_type": "code",
   "execution_count": 38,
   "id": "5de7e99f",
   "metadata": {},
   "outputs": [
    {
     "name": "stdout",
     "output_type": "stream",
     "text": [
      "120\n"
     ]
    }
   ],
   "source": [
    "def fact(num):\n",
    "    if (num>1):\n",
    "        num=num*fact(num-1)\n",
    "    return num\n",
    "print(fact(5))"
   ]
  },
  {
   "cell_type": "code",
   "execution_count": 43,
   "id": "7fe66cca",
   "metadata": {},
   "outputs": [
    {
     "name": "stdout",
     "output_type": "stream",
     "text": [
      "enter the number3\n",
      "Weird\n"
     ]
    }
   ],
   "source": [
    "n=int(input('enter the number'))\n",
    "if n%2==0 and n>=2 and n<=5:\n",
    "    print('Not Weird')\n",
    "elif n%2!=0:\n",
    "    print('Weird')\n",
    "elif n%2==0 and n>=6 and n<=20:\n",
    "    print('Weird')\n",
    "elif n>20:\n",
    "    print('Not Weird')"
   ]
  },
  {
   "cell_type": "code",
   "execution_count": 46,
   "id": "d2b2af91",
   "metadata": {},
   "outputs": [
    {
     "name": "stdout",
     "output_type": "stream",
     "text": [
      "enter the number4\n",
      "Not Weird\n"
     ]
    }
   ],
   "source": [
    "n=int(input('enter the number'))\n",
    "if n%2==0 and n>=2 and n<=5:\n",
    "    print('Not Weird')\n",
    "elif n%2!=0:\n",
    "    print('Weird')\n",
    "elif n%2==0 and n>=6 and n<=20:\n",
    "    print('Weird')\n",
    "elif n>20:\n",
    "    print('Not Weird')"
   ]
  },
  {
   "cell_type": "code",
   "execution_count": 45,
   "id": "02ac9da8",
   "metadata": {},
   "outputs": [
    {
     "name": "stdout",
     "output_type": "stream",
     "text": [
      "Not Weird\n"
     ]
    }
   ],
   "source": [
    "if n%2==0 and n>=2 and n<=5:\n",
    "    print('Not Weird')\n",
    "elif n%2!=0:\n",
    "    print('Weird')\n",
    "elif n%2==0 and n>=6 and n<=20:\n",
    "    print('Weird')\n",
    "elif n>20:\n",
    "    print('Not Weird')"
   ]
  },
  {
   "cell_type": "code",
   "execution_count": 1,
   "id": "3a21f3cf",
   "metadata": {},
   "outputs": [
    {
     "data": {
      "text/plain": [
       "30"
      ]
     },
     "execution_count": 1,
     "metadata": {},
     "output_type": "execute_result"
    }
   ],
   "source": [
    "def adding_twonumbers(a,b):\n",
    "    return a+b\n",
    "\n",
    "adding_twonumbers(10,20)"
   ]
  },
  {
   "cell_type": "code",
   "execution_count": 7,
   "id": "f05870ed",
   "metadata": {},
   "outputs": [
    {
     "name": "stdout",
     "output_type": "stream",
     "text": [
      "hello getha!\n"
     ]
    }
   ],
   "source": [
    "def greetings(name):\n",
    "    return ('hello'+ name+'!')\n",
    "\n",
    "x=greetings(' getha')\n",
    "print(x)"
   ]
  },
  {
   "cell_type": "code",
   "execution_count": 8,
   "id": "df7d674d",
   "metadata": {},
   "outputs": [
    {
     "data": {
      "text/plain": [
       "'hellomohan!'"
      ]
     },
     "execution_count": 8,
     "metadata": {},
     "output_type": "execute_result"
    }
   ],
   "source": [
    "greetings()"
   ]
  },
  {
   "cell_type": "code",
   "execution_count": 5,
   "id": "339517e0",
   "metadata": {},
   "outputs": [
    {
     "data": {
      "text/plain": [
       "[1, 9, 16, 25, 4489]"
      ]
     },
     "execution_count": 5,
     "metadata": {},
     "output_type": "execute_result"
    }
   ],
   "source": [
    "def square_items(L):\n",
    "    \n",
    "    squares=[]\n",
    "    \n",
    "    for i in L:\n",
    "        squares.append(i**2)\n",
    "    return squares\n",
    "L=[1,3,4,5,67]\n",
    "square_items(L)"
   ]
  },
  {
   "cell_type": "markdown",
   "id": "e8d6e732",
   "metadata": {},
   "source": [
    "### clesius to fahrenheit converter"
   ]
  },
  {
   "cell_type": "code",
   "execution_count": 8,
   "id": "de33b1ad",
   "metadata": {},
   "outputs": [
    {
     "data": {
      "text/plain": [
       "77.0"
      ]
     },
     "execution_count": 8,
     "metadata": {},
     "output_type": "execute_result"
    }
   ],
   "source": [
    "def celsius_to_fahrenheit(celsius):\n",
    "    fahrenheit =(celsius*9/5)+32\n",
    "    return fahrenheit\n",
    "celsius_to_fahrenheit(25)"
   ]
  },
  {
   "cell_type": "code",
   "execution_count": 9,
   "id": "1e1a55b9",
   "metadata": {},
   "outputs": [
    {
     "data": {
      "text/plain": [
       "82.4"
      ]
     },
     "execution_count": 9,
     "metadata": {},
     "output_type": "execute_result"
    }
   ],
   "source": [
    "celsius_to_fahrenheit(28)"
   ]
  },
  {
   "cell_type": "markdown",
   "id": "8d1e32e9",
   "metadata": {},
   "source": [
    "### Palindrome Checker"
   ]
  },
  {
   "cell_type": "code",
   "execution_count": 10,
   "id": "bc12aeee",
   "metadata": {},
   "outputs": [],
   "source": [
    "def is_palindrome(word):\n",
    "    if word==word[::-1]:\n",
    "        return True\n",
    "    else:\n",
    "        return False"
   ]
  },
  {
   "cell_type": "code",
   "execution_count": 11,
   "id": "5d148963",
   "metadata": {},
   "outputs": [
    {
     "name": "stdout",
     "output_type": "stream",
     "text": [
      "True\n"
     ]
    }
   ],
   "source": [
    "print(is_palindrome('racecar'))"
   ]
  },
  {
   "cell_type": "code",
   "execution_count": 12,
   "id": "ebccaec5",
   "metadata": {},
   "outputs": [
    {
     "name": "stdout",
     "output_type": "stream",
     "text": [
      "True\n"
     ]
    }
   ],
   "source": [
    "print(is_palindrome('abba'))"
   ]
  },
  {
   "cell_type": "markdown",
   "id": "ad8cc5aa",
   "metadata": {},
   "source": [
    "### FizzBuzz"
   ]
  },
  {
   "cell_type": "code",
   "execution_count": 15,
   "id": "0bdf9955",
   "metadata": {},
   "outputs": [],
   "source": [
    "def fizz_buzz(num):\n",
    "    if num %3 ==0 and num % 5==0:\n",
    "        return 'Fizzbuzz'\n",
    "    elif num%3==0:\n",
    "        return 'Fizz'\n",
    "    elif num % 5==0:\n",
    "        return 'Buzz'\n",
    "    else:\n",
    "        return num"
   ]
  },
  {
   "cell_type": "code",
   "execution_count": 16,
   "id": "ee68931b",
   "metadata": {
    "scrolled": true
   },
   "outputs": [
    {
     "name": "stdout",
     "output_type": "stream",
     "text": [
      "1\n",
      "2\n",
      "Fizz\n",
      "4\n",
      "Buzz\n",
      "Fizz\n",
      "7\n",
      "8\n",
      "Fizz\n",
      "Buzz\n",
      "11\n",
      "Fizz\n",
      "13\n",
      "14\n",
      "Fizzbuzz\n",
      "16\n",
      "17\n",
      "Fizz\n",
      "19\n",
      "Buzz\n"
     ]
    }
   ],
   "source": [
    "for i in range(1,21):\n",
    "    x=fizz_buzz(i)\n",
    "    print(x)"
   ]
  },
  {
   "cell_type": "markdown",
   "id": "ef316836",
   "metadata": {},
   "source": [
    "### Password Generator"
   ]
  },
  {
   "cell_type": "code",
   "execution_count": 24,
   "id": "9c6d2b20",
   "metadata": {},
   "outputs": [],
   "source": [
    "import random \n",
    "import string\n",
    "\n",
    "def generate_password(length):\n",
    "    letters = string.ascii_letters\n",
    "    numbers = string.digits\n",
    "    symbols = string.punctuation\n",
    "    \n",
    "    all_chars = letters +numbers + symbols\n",
    "    password =''.join(random.sample(all_chars,length))\n",
    "    return password"
   ]
  }
 ],
 "metadata": {
  "kernelspec": {
   "display_name": "Python 3 (ipykernel)",
   "language": "python",
   "name": "python3"
  },
  "language_info": {
   "codemirror_mode": {
    "name": "ipython",
    "version": 3
   },
   "file_extension": ".py",
   "mimetype": "text/x-python",
   "name": "python",
   "nbconvert_exporter": "python",
   "pygments_lexer": "ipython3",
   "version": "3.9.13"
  }
 },
 "nbformat": 4,
 "nbformat_minor": 5
}
