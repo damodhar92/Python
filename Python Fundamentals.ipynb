{
 "cells": [
  {
   "cell_type": "markdown",
   "id": "72cba479",
   "metadata": {},
   "source": [
    "### Print Function"
   ]
  },
  {
   "cell_type": "code",
   "execution_count": 1,
   "id": "f67b53e6",
   "metadata": {},
   "outputs": [
    {
     "name": "stdout",
     "output_type": "stream",
     "text": [
      "Hello world\n"
     ]
    }
   ],
   "source": [
    "print('Hello world')"
   ]
  },
  {
   "cell_type": "code",
   "execution_count": 2,
   "id": "ea1bb5e1",
   "metadata": {},
   "outputs": [
    {
     "name": "stdout",
     "output_type": "stream",
     "text": [
      "6\n"
     ]
    }
   ],
   "source": [
    "print(6)"
   ]
  },
  {
   "cell_type": "code",
   "execution_count": 3,
   "id": "5b471677",
   "metadata": {},
   "outputs": [
    {
     "name": "stdout",
     "output_type": "stream",
     "text": [
      "0.6\n"
     ]
    }
   ],
   "source": [
    "print(0.6)"
   ]
  },
  {
   "cell_type": "code",
   "execution_count": 4,
   "id": "9739b899",
   "metadata": {},
   "outputs": [
    {
     "name": "stdout",
     "output_type": "stream",
     "text": [
      "False\n"
     ]
    }
   ],
   "source": [
    "print(False)"
   ]
  },
  {
   "cell_type": "code",
   "execution_count": 5,
   "id": "cb34ae44",
   "metadata": {},
   "outputs": [
    {
     "name": "stdout",
     "output_type": "stream",
     "text": [
      "India Srilankha Nepal\n"
     ]
    }
   ],
   "source": [
    "print('India','Srilankha','Nepal')"
   ]
  },
  {
   "cell_type": "code",
   "execution_count": 6,
   "id": "a57afd01",
   "metadata": {},
   "outputs": [
    {
     "name": "stdout",
     "output_type": "stream",
     "text": [
      "India 5 Nepal\n"
     ]
    }
   ],
   "source": [
    "print('India',5,'Nepal')"
   ]
  },
  {
   "cell_type": "code",
   "execution_count": 7,
   "id": "3ecc6de3",
   "metadata": {},
   "outputs": [
    {
     "name": "stdout",
     "output_type": "stream",
     "text": [
      "India/Srilankha/Nepal\n"
     ]
    }
   ],
   "source": [
    "print('India','Srilankha','Nepal',sep='/')"
   ]
  },
  {
   "cell_type": "code",
   "execution_count": 8,
   "id": "88405d74",
   "metadata": {},
   "outputs": [
    {
     "name": "stdout",
     "output_type": "stream",
     "text": [
      "India/Srilankha/Nepal\n"
     ]
    }
   ],
   "source": [
    "print('India','Srilankha','Nepal',sep='/')"
   ]
  },
  {
   "cell_type": "code",
   "execution_count": 9,
   "id": "55997432",
   "metadata": {},
   "outputs": [
    {
     "name": "stdout",
     "output_type": "stream",
     "text": [
      "India-Srilankha-Nepal\n"
     ]
    }
   ],
   "source": [
    "print('India','Srilankha','Nepal',sep='-')"
   ]
  },
  {
   "cell_type": "code",
   "execution_count": 10,
   "id": "a3346cc4",
   "metadata": {},
   "outputs": [
    {
     "name": "stdout",
     "output_type": "stream",
     "text": [
      "damo\n",
      "dhar\n"
     ]
    }
   ],
   "source": [
    "print('damo')\n",
    "print('dhar')"
   ]
  },
  {
   "cell_type": "code",
   "execution_count": 11,
   "id": "ee9b888b",
   "metadata": {},
   "outputs": [
    {
     "name": "stdout",
     "output_type": "stream",
     "text": [
      "well come\n"
     ]
    }
   ],
   "source": [
    "str='well'\n",
    "print(str,'come')"
   ]
  },
  {
   "cell_type": "code",
   "execution_count": 12,
   "id": "e654de84",
   "metadata": {},
   "outputs": [
    {
     "name": "stdout",
     "output_type": "stream",
     "text": [
      "hari Prasad\n"
     ]
    }
   ],
   "source": [
    "str='hari'\n",
    "print(str,'Prasad')"
   ]
  },
  {
   "cell_type": "code",
   "execution_count": 13,
   "id": "df98e373",
   "metadata": {},
   "outputs": [
    {
     "name": "stdout",
     "output_type": "stream",
     "text": [
      "Wellcome Python\n"
     ]
    }
   ],
   "source": [
    "str1='Wellcome'\n",
    "str2='Python'\n",
    "print(str1,str2)"
   ]
  },
  {
   "cell_type": "code",
   "execution_count": 14,
   "id": "dc530713",
   "metadata": {},
   "outputs": [],
   "source": [
    "# '\\n' used for new line"
   ]
  },
  {
   "cell_type": "code",
   "execution_count": 15,
   "id": "1c141c73",
   "metadata": {},
   "outputs": [
    {
     "name": "stdout",
     "output_type": "stream",
     "text": [
      "Wellcome Python :\n"
     ]
    }
   ],
   "source": [
    "print(str1,str2,':')"
   ]
  },
  {
   "cell_type": "code",
   "execution_count": 16,
   "id": "f6f02a46",
   "metadata": {},
   "outputs": [
    {
     "name": "stdout",
     "output_type": "stream",
     "text": [
      "Damodar is an intelligent and also curious to learn datscience\n",
      "but he wont\n",
      "belive himself as soon as possible he will get a job\n"
     ]
    }
   ],
   "source": [
    "text = (\"Damodar is an intelligent and also curious to learn datscience\\nbut he wont\\nbelive himself as soon as possible he will get a job\")\n",
    "print(text)"
   ]
  },
  {
   "cell_type": "code",
   "execution_count": 17,
   "id": "6451f270",
   "metadata": {},
   "outputs": [
    {
     "name": "stdout",
     "output_type": "stream",
     "text": [
      "Damodhara\n",
      "data scientist\n",
      "B.tech student\n"
     ]
    }
   ],
   "source": [
    "print('Damodhara\\ndata scientist\\nB.tech student')"
   ]
  },
  {
   "cell_type": "code",
   "execution_count": 18,
   "id": "d136b382",
   "metadata": {},
   "outputs": [
    {
     "name": "stdout",
     "output_type": "stream",
     "text": [
      "Damodhara\n",
      "Hariprasad\n",
      "Jaya\n",
      "Ramana\n"
     ]
    }
   ],
   "source": [
    "print('Damodhara\\nHariprasad\\nJaya\\nRamana')"
   ]
  },
  {
   "cell_type": "markdown",
   "id": "a20cbd70",
   "metadata": {},
   "source": [
    "any word print multiple times"
   ]
  },
  {
   "cell_type": "code",
   "execution_count": 19,
   "id": "c949f560",
   "metadata": {},
   "outputs": [
    {
     "name": "stdout",
     "output_type": "stream",
     "text": [
      "damodharadamodharadamodharadamodharadamodhara\n"
     ]
    }
   ],
   "source": [
    "print('damodhara'*5)"
   ]
  },
  {
   "cell_type": "code",
   "execution_count": 20,
   "id": "efc8740f",
   "metadata": {},
   "outputs": [
    {
     "name": "stdout",
     "output_type": "stream",
     "text": [
      "damodhara\n",
      "damodhara\n",
      "damodhara\n",
      "damodhara\n",
      "\n"
     ]
    }
   ],
   "source": [
    "print('damodhara\\n'*4)"
   ]
  },
  {
   "cell_type": "markdown",
   "id": "dc657f84",
   "metadata": {},
   "source": [
    "\\t is used for tab."
   ]
  },
  {
   "cell_type": "code",
   "execution_count": 21,
   "id": "2d484f1d",
   "metadata": {},
   "outputs": [
    {
     "name": "stdout",
     "output_type": "stream",
     "text": [
      "\n",
      "language:\n",
      "\t1 python\n",
      "\t2 java\n",
      "\t3 JavaScript\n",
      "\n"
     ]
    }
   ],
   "source": [
    "print(\"\"\"\n",
    "language:\n",
    "\\t1 python\n",
    "\\t2 java\\n\\t3 JavaScript\n",
    "\"\"\")"
   ]
  },
  {
   "cell_type": "code",
   "execution_count": 22,
   "id": "a0f6054c",
   "metadata": {},
   "outputs": [
    {
     "name": "stdout",
     "output_type": "stream",
     "text": [
      "\n",
      "My Family:\n",
      "\t1 Damodhara\n",
      "\t2 Hariprasad\n",
      "\t3 Ramana\n",
      "\t4 jayamma\n",
      "\n"
     ]
    }
   ],
   "source": [
    "print(\"\"\"\n",
    "My Family:\n",
    "\\t1 Damodhara\n",
    "\\t2 Hariprasad\n",
    "\\t3 Ramana\n",
    "\\t4 jayamma\n",
    "\"\"\")"
   ]
  },
  {
   "cell_type": "code",
   "execution_count": 23,
   "id": "993d5810",
   "metadata": {},
   "outputs": [
    {
     "name": "stdout",
     "output_type": "stream",
     "text": [
      "\n",
      "My Family:\n",
      "\ta. Damodhara\n",
      "\tb. Hariprasad\n",
      "\tc. Ramana\n",
      "\td. jayamma\n",
      "\n"
     ]
    }
   ],
   "source": [
    "print(\"\"\"\n",
    "My Family:\n",
    "\\ta. Damodhara\n",
    "\\tb. Hariprasad\n",
    "\\tc. Ramana\n",
    "\\td. jayamma\n",
    "\"\"\")"
   ]
  },
  {
   "cell_type": "markdown",
   "id": "33284b90",
   "metadata": {},
   "source": [
    "Python Datatypes"
   ]
  },
  {
   "cell_type": "markdown",
   "id": "2f2aaa98",
   "metadata": {},
   "source": [
    "python Support 3 categories of data types: 1.Basic Types: (Integer ,Float,Complex,Boolean and String) 2.Container Type:(List,Tuples,Sets and Dictionaries) 3.User defined Types:(Class)"
   ]
  },
  {
   "cell_type": "markdown",
   "id": "5aaff1d0",
   "metadata": {},
   "source": [
    "## Basic Type:"
   ]
  },
  {
   "cell_type": "markdown",
   "id": "082b19fc",
   "metadata": {},
   "source": [
    "### Integer\n",
    "- -Infinity to +infinity"
   ]
  },
  {
   "cell_type": "code",
   "execution_count": 24,
   "id": "77731d8d",
   "metadata": {},
   "outputs": [
    {
     "name": "stdout",
     "output_type": "stream",
     "text": [
      "5\n",
      "1e+308\n"
     ]
    }
   ],
   "source": [
    "print('5')\n",
    "print(1e308)"
   ]
  },
  {
   "cell_type": "code",
   "execution_count": 25,
   "id": "c918cdd6",
   "metadata": {},
   "outputs": [
    {
     "name": "stdout",
     "output_type": "stream",
     "text": [
      "1e+308\n"
     ]
    }
   ],
   "source": [
    "print(1e308)"
   ]
  },
  {
   "cell_type": "markdown",
   "id": "26a76c85",
   "metadata": {},
   "source": [
    "### Float\n",
    "decimal number -infinity to +infinity of decimal numbers"
   ]
  },
  {
   "cell_type": "code",
   "execution_count": 26,
   "id": "fd353b25",
   "metadata": {},
   "outputs": [
    {
     "name": "stdout",
     "output_type": "stream",
     "text": [
      "4.5\n"
     ]
    }
   ],
   "source": [
    "print(4.5)"
   ]
  },
  {
   "cell_type": "code",
   "execution_count": 27,
   "id": "ec301ea7",
   "metadata": {},
   "outputs": [
    {
     "name": "stdout",
     "output_type": "stream",
     "text": [
      "1.7e+308\n"
     ]
    }
   ],
   "source": [
    "print(1.7e308)"
   ]
  },
  {
   "cell_type": "code",
   "execution_count": 28,
   "id": "bc832613",
   "metadata": {},
   "outputs": [
    {
     "data": {
      "text/plain": [
       "float"
      ]
     },
     "execution_count": 28,
     "metadata": {},
     "output_type": "execute_result"
    }
   ],
   "source": [
    "x=30.0\n",
    "type(x)"
   ]
  },
  {
   "cell_type": "markdown",
   "id": "4e78a0a8",
   "metadata": {},
   "source": [
    "### Boolean"
   ]
  },
  {
   "cell_type": "markdown",
   "id": "246fc553",
   "metadata": {},
   "source": [
    ": Booleans represent one of two values: True or False.\n",
    "When you compare two values, the expression is evaluated and Python returns the Boolean answer:"
   ]
  },
  {
   "cell_type": "code",
   "execution_count": 29,
   "id": "aaec1d0e",
   "metadata": {},
   "outputs": [
    {
     "name": "stdout",
     "output_type": "stream",
     "text": [
      "True\n",
      "False\n"
     ]
    }
   ],
   "source": [
    "print(True)\n",
    "print(False)"
   ]
  },
  {
   "cell_type": "markdown",
   "id": "981e1fe5",
   "metadata": {},
   "source": [
    "### complex"
   ]
  },
  {
   "cell_type": "code",
   "execution_count": 30,
   "id": "17b1f68b",
   "metadata": {},
   "outputs": [
    {
     "name": "stdout",
     "output_type": "stream",
     "text": [
      "(4+5j)\n"
     ]
    }
   ],
   "source": [
    "\n",
    "print(4+5J)"
   ]
  },
  {
   "cell_type": "markdown",
   "id": "49e00af2",
   "metadata": {},
   "source": [
    "## string"
   ]
  },
  {
   "cell_type": "code",
   "execution_count": 31,
   "id": "e5f08fb1",
   "metadata": {},
   "outputs": [
    {
     "name": "stdout",
     "output_type": "stream",
     "text": [
      "Damodhara\n",
      "Damodhara\n",
      "damodhara\n"
     ]
    }
   ],
   "source": [
    "\n",
    "print('Damodhara')\n",
    "print(\"Damodhara\")\n",
    "print('''damodhara''')"
   ]
  },
  {
   "cell_type": "markdown",
   "id": "d1fca8a1",
   "metadata": {},
   "source": [
    "### CONTAINER TYPE:"
   ]
  },
  {
   "cell_type": "markdown",
   "id": "5a4d4d2f",
   "metadata": {},
   "source": [
    "### List"
   ]
  },
  {
   "cell_type": "code",
   "execution_count": 32,
   "id": "21189e3a",
   "metadata": {},
   "outputs": [
    {
     "name": "stdout",
     "output_type": "stream",
     "text": [
      "[1, 2, 3, 4, 5]\n"
     ]
    }
   ],
   "source": [
    "print([1,2,3,4,5])"
   ]
  },
  {
   "cell_type": "markdown",
   "id": "0c4b243d",
   "metadata": {},
   "source": [
    "### Tuple"
   ]
  },
  {
   "cell_type": "code",
   "execution_count": 33,
   "id": "ab4edd2b",
   "metadata": {},
   "outputs": [
    {
     "name": "stdout",
     "output_type": "stream",
     "text": [
      "(1, 2, 3, 4, 5)\n"
     ]
    }
   ],
   "source": [
    "print((1,2,3,4,5))"
   ]
  },
  {
   "cell_type": "markdown",
   "id": "00a670e6",
   "metadata": {},
   "source": [
    "### Sets"
   ]
  },
  {
   "cell_type": "code",
   "execution_count": 34,
   "id": "0ab32b2f",
   "metadata": {},
   "outputs": [
    {
     "name": "stdout",
     "output_type": "stream",
     "text": [
      "{1, 2, 3, 4, 5}\n"
     ]
    }
   ],
   "source": [
    "print({1,2,3,4,5})"
   ]
  },
  {
   "cell_type": "markdown",
   "id": "9c44b0f5",
   "metadata": {},
   "source": [
    "### Dictionary"
   ]
  },
  {
   "cell_type": "code",
   "execution_count": 35,
   "id": "3bd45efc",
   "metadata": {},
   "outputs": [
    {
     "name": "stdout",
     "output_type": "stream",
     "text": [
      "{'Name': 'Damodhara'}\n"
     ]
    }
   ],
   "source": [
    "print({'Name':'Damodhara'})"
   ]
  },
  {
   "cell_type": "markdown",
   "id": "fc3a979b",
   "metadata": {},
   "source": [
    "### Comments in Python"
   ]
  },
  {
   "cell_type": "code",
   "execution_count": 36,
   "id": "244e567a",
   "metadata": {},
   "outputs": [],
   "source": [
    "#comment"
   ]
  },
  {
   "cell_type": "code",
   "execution_count": 37,
   "id": "f7741719",
   "metadata": {},
   "outputs": [],
   "source": [
    "#this is comment"
   ]
  },
  {
   "cell_type": "markdown",
   "id": "3332ec87",
   "metadata": {},
   "source": [
    "### Variables in Python"
   ]
  },
  {
   "cell_type": "code",
   "execution_count": 38,
   "id": "f0e0467c",
   "metadata": {},
   "outputs": [
    {
     "name": "stdout",
     "output_type": "stream",
     "text": [
      "damodhara\n"
     ]
    }
   ],
   "source": [
    "name=\"damodhara\"\n",
    "print(name)"
   ]
  },
  {
   "cell_type": "markdown",
   "id": "017ba02f",
   "metadata": {},
   "source": [
    "#Dynamic Binding : If one variable stores multiple data tyes known as dyanamic binding"
   ]
  },
  {
   "cell_type": "markdown",
   "id": "e5b7e47d",
   "metadata": {},
   "source": [
    "#Static Binding: if one variable is assigned to data type throught the program ,the \n",
    "programe variable cannot be changed."
   ]
  },
  {
   "cell_type": "markdown",
   "id": "041bed52",
   "metadata": {},
   "source": [
    "### special syntax"
   ]
  },
  {
   "cell_type": "code",
   "execution_count": 39,
   "id": "12e954fb",
   "metadata": {},
   "outputs": [
    {
     "name": "stdout",
     "output_type": "stream",
     "text": [
      "5\n",
      "5\n",
      "9\n"
     ]
    }
   ],
   "source": [
    "a=5; b=5; c=9\n",
    "print(a)\n",
    "print(b)\n",
    "print(c)"
   ]
  },
  {
   "cell_type": "code",
   "execution_count": 40,
   "id": "2d3209d6",
   "metadata": {},
   "outputs": [
    {
     "name": "stdout",
     "output_type": "stream",
     "text": [
      "5\n",
      "6\n",
      "7\n"
     ]
    }
   ],
   "source": [
    "a,b,c=5,6,7\n",
    "print(a)\n",
    "print(b)\n",
    "print(c)"
   ]
  },
  {
   "cell_type": "code",
   "execution_count": 41,
   "id": "a340cdcf",
   "metadata": {},
   "outputs": [
    {
     "name": "stdout",
     "output_type": "stream",
     "text": [
      "6\n",
      "6\n",
      "6\n"
     ]
    }
   ],
   "source": [
    "a=b=c=6\n",
    "print(a)\n",
    "print(c)\n",
    "print(b)"
   ]
  },
  {
   "cell_type": "markdown",
   "id": "666d95bb",
   "metadata": {},
   "source": [
    "### swap variable"
   ]
  },
  {
   "cell_type": "code",
   "execution_count": 42,
   "id": "8f63f85c",
   "metadata": {},
   "outputs": [
    {
     "name": "stdout",
     "output_type": "stream",
     "text": [
      "10\n",
      "20\n"
     ]
    }
   ],
   "source": [
    "x=10\n",
    "y=20\n",
    "print(x)\n",
    "print(y)"
   ]
  },
  {
   "cell_type": "code",
   "execution_count": 43,
   "id": "183f47f0",
   "metadata": {},
   "outputs": [
    {
     "name": "stdout",
     "output_type": "stream",
     "text": [
      "20\n",
      "10\n"
     ]
    }
   ],
   "source": [
    "x,y=y,x\n",
    "print(x)\n",
    "print(y)"
   ]
  },
  {
   "cell_type": "code",
   "execution_count": 44,
   "id": "fe074d37",
   "metadata": {},
   "outputs": [
    {
     "name": "stdout",
     "output_type": "stream",
     "text": [
      "damodhara\n",
      "Hariprasad\n"
     ]
    }
   ],
   "source": [
    "x='damodhara'\n",
    "y='Hariprasad'\n",
    "print(x)\n",
    "print(y)"
   ]
  },
  {
   "cell_type": "code",
   "execution_count": 45,
   "id": "afc60a41",
   "metadata": {},
   "outputs": [
    {
     "name": "stdout",
     "output_type": "stream",
     "text": [
      "Hariprasad\n",
      "damodhara\n"
     ]
    }
   ],
   "source": [
    "x,y=y,x\n",
    "print(x)\n",
    "print(y)"
   ]
  },
  {
   "cell_type": "markdown",
   "id": "8b8085bc",
   "metadata": {},
   "source": [
    "#### Global and Local Variable\n"
   ]
  },
  {
   "cell_type": "code",
   "execution_count": 46,
   "id": "09d446b8",
   "metadata": {},
   "outputs": [
    {
     "name": "stdout",
     "output_type": "stream",
     "text": [
      "In side func() var1= PHP\n",
      "In side func2() var1= python\n"
     ]
    }
   ],
   "source": [
    "var1 = \"python\"\n",
    "def func1():\n",
    "    var1 = \"PHP\"\n",
    "    print('In side func() var1=', var1)\n",
    "    \n",
    "def func2():\n",
    "    print(\"In side func2() var1=\",var1)\n",
    "func1()\n",
    "func2()"
   ]
  },
  {
   "cell_type": "markdown",
   "id": "d2252c56",
   "metadata": {},
   "source": [
    "### Key Words"
   ]
  },
  {
   "cell_type": "markdown",
   "id": "e654ffcb",
   "metadata": {},
   "source": [
    "Python is a case sensitive programming language"
   ]
  },
  {
   "cell_type": "markdown",
   "id": "a5f04d91",
   "metadata": {},
   "source": [
    "In programming a keyword is a word that is reserved by a programme because the word as a special meaning.keyword can be commands or parameters.Every programing language\n",
    "has set of keywords that can not be used as a variable name "
   ]
  },
  {
   "cell_type": "code",
   "execution_count": 47,
   "id": "1bd94386",
   "metadata": {},
   "outputs": [
    {
     "name": "stdout",
     "output_type": "stream",
     "text": [
      "['False', 'None', 'True', '__peg_parser__', 'and', 'as', 'assert', 'async', 'await', 'break', 'class', 'continue', 'def', 'del', 'elif', 'else', 'except', 'finally', 'for', 'from', 'global', 'if', 'import', 'in', 'is', 'lambda', 'nonlocal', 'not', 'or', 'pass', 'raise', 'return', 'try', 'while', 'with', 'yield']\n"
     ]
    }
   ],
   "source": [
    "#python as 33 keywords \n",
    "import keyword\n",
    "print(keyword.kwlist)"
   ]
  },
  {
   "cell_type": "markdown",
   "id": "92f2a3e7",
   "metadata": {},
   "source": [
    "### Identifier"
   ]
  },
  {
   "cell_type": "markdown",
   "id": "d8eef2f2",
   "metadata": {},
   "source": [
    "A python identifier is a name used to identify a varible, function, class, module or other object."
   ]
  },
  {
   "cell_type": "markdown",
   "id": "876b2cd1",
   "metadata": {},
   "source": [
    "Rules for setting identifiers:\n",
    " 1.can only start with a alphabet or _ (Under Score)\n",
    " 2.Followed by 0 or more letter,_(under score) and digits\n",
    " 3.Keyword can not be used as an identifier"
   ]
  },
  {
   "cell_type": "code",
   "execution_count": 48,
   "id": "542d548d",
   "metadata": {},
   "outputs": [
    {
     "name": "stdout",
     "output_type": "stream",
     "text": [
      "Nitish\n"
     ]
    }
   ],
   "source": [
    "_='Nitish'\n",
    "print(_)"
   ]
  },
  {
   "cell_type": "code",
   "execution_count": 49,
   "id": "c85c8eff",
   "metadata": {},
   "outputs": [
    {
     "name": "stdout",
     "output_type": "stream",
     "text": [
      "Nitish\n"
     ]
    }
   ],
   "source": [
    "a='Nitish'\n",
    "print(a)"
   ]
  },
  {
   "cell_type": "markdown",
   "id": "f6f362bc",
   "metadata": {},
   "source": [
    "#='damu'\n",
    "print(#)\n",
    "Error"
   ]
  },
  {
   "cell_type": "code",
   "execution_count": 50,
   "id": "3d94a7bc",
   "metadata": {},
   "outputs": [
    {
     "name": "stdout",
     "output_type": "stream",
     "text": [
      "Damu\n"
     ]
    }
   ],
   "source": [
    "name1='Damu'\n",
    "print(name1)"
   ]
  },
  {
   "cell_type": "markdown",
   "id": "5ab92d7b",
   "metadata": {},
   "source": [
    "1name='damu'\n",
    "print(1name)\n",
    "#the variable should not start with the integer "
   ]
  },
  {
   "cell_type": "code",
   "execution_count": 51,
   "id": "6e765822",
   "metadata": {},
   "outputs": [
    {
     "name": "stdout",
     "output_type": "stream",
     "text": [
      "Avula\n"
     ]
    }
   ],
   "source": [
    "first_name='Avula'\n",
    "print(first_name)"
   ]
  },
  {
   "cell_type": "code",
   "execution_count": 52,
   "id": "6bfc52fd",
   "metadata": {},
   "outputs": [
    {
     "name": "stdout",
     "output_type": "stream",
     "text": [
      "damodhara\n"
     ]
    }
   ],
   "source": [
    "__=\"damodhara\"\n",
    "print(__)"
   ]
  },
  {
   "cell_type": "markdown",
   "id": "bcc75b51",
   "metadata": {},
   "source": [
    "False=\"damodhara\"\n",
    "print(False)\n",
    "#the variables should not use the keywords "
   ]
  },
  {
   "cell_type": "markdown",
   "id": "13df5c5b",
   "metadata": {},
   "source": [
    "### The Input Function "
   ]
  },
  {
   "cell_type": "code",
   "execution_count": 53,
   "id": "18c48fda",
   "metadata": {},
   "outputs": [
    {
     "name": "stdout",
     "output_type": "stream",
     "text": [
      "Damodharahai\n"
     ]
    },
    {
     "data": {
      "text/plain": [
       "'hai'"
      ]
     },
     "execution_count": 53,
     "metadata": {},
     "output_type": "execute_result"
    }
   ],
   "source": [
    "input('Damodhara')"
   ]
  },
  {
   "cell_type": "code",
   "execution_count": 54,
   "id": "a322cf0d",
   "metadata": {},
   "outputs": [
    {
     "name": "stdout",
     "output_type": "stream",
     "text": [
      "haihello\n"
     ]
    },
    {
     "data": {
      "text/plain": [
       "'hello'"
      ]
     },
     "execution_count": 54,
     "metadata": {},
     "output_type": "execute_result"
    }
   ],
   "source": [
    "input('hai')"
   ]
  },
  {
   "cell_type": "code",
   "execution_count": 55,
   "id": "67930ec2",
   "metadata": {},
   "outputs": [
    {
     "name": "stdout",
     "output_type": "stream",
     "text": [
      "what is your namedamodhara\n"
     ]
    },
    {
     "data": {
      "text/plain": [
       "'damodhara'"
      ]
     },
     "execution_count": 55,
     "metadata": {},
     "output_type": "execute_result"
    }
   ],
   "source": [
    "input('what is your name')"
   ]
  },
  {
   "cell_type": "code",
   "execution_count": 56,
   "id": "46a015af",
   "metadata": {},
   "outputs": [
    {
     "name": "stdout",
     "output_type": "stream",
     "text": [
      "Enter the first number12\n",
      "Enter the second number22\n"
     ]
    }
   ],
   "source": [
    "first_num=input('Enter the first number')\n",
    "second_num=input('Enter the second number')"
   ]
  },
  {
   "cell_type": "code",
   "execution_count": 57,
   "id": "c7f6936d",
   "metadata": {},
   "outputs": [
    {
     "name": "stdout",
     "output_type": "stream",
     "text": [
      "12\n",
      "22\n"
     ]
    }
   ],
   "source": [
    "print(first_num)\n",
    "print(second_num)"
   ]
  },
  {
   "cell_type": "code",
   "execution_count": 58,
   "id": "018c9660",
   "metadata": {},
   "outputs": [
    {
     "name": "stdout",
     "output_type": "stream",
     "text": [
      "1222\n"
     ]
    }
   ],
   "source": [
    "result=first_num+second_num\n",
    "print(result)"
   ]
  },
  {
   "cell_type": "code",
   "execution_count": 59,
   "id": "d91eb7bc",
   "metadata": {},
   "outputs": [
    {
     "data": {
      "text/plain": [
       "str"
      ]
     },
     "execution_count": 59,
     "metadata": {},
     "output_type": "execute_result"
    }
   ],
   "source": [
    "type(first_num)"
   ]
  },
  {
   "cell_type": "code",
   "execution_count": 60,
   "id": "8439d19a",
   "metadata": {},
   "outputs": [
    {
     "data": {
      "text/plain": [
       "'12'"
      ]
     },
     "execution_count": 60,
     "metadata": {},
     "output_type": "execute_result"
    }
   ],
   "source": [
    "first_num"
   ]
  },
  {
   "cell_type": "markdown",
   "id": "495d5651",
   "metadata": {},
   "source": [
    "#the data type is string so the number can be concatenate"
   ]
  },
  {
   "cell_type": "markdown",
   "id": "584a4dd7",
   "metadata": {},
   "source": [
    "### Type Conversion in Python"
   ]
  },
  {
   "cell_type": "code",
   "execution_count": 61,
   "id": "1e0ec96a",
   "metadata": {},
   "outputs": [],
   "source": [
    "#types of type conversion\n",
    "#1.implicit\n",
    "#2.Explicit"
   ]
  },
  {
   "cell_type": "code",
   "execution_count": 62,
   "id": "cc7f65de",
   "metadata": {},
   "outputs": [
    {
     "data": {
      "text/plain": [
       "9.5"
      ]
     },
     "execution_count": 62,
     "metadata": {},
     "output_type": "execute_result"
    }
   ],
   "source": [
    "4+5.5 #implicit"
   ]
  },
  {
   "cell_type": "code",
   "execution_count": 63,
   "id": "2855ef96",
   "metadata": {},
   "outputs": [
    {
     "data": {
      "text/plain": [
       "(16+5j)"
      ]
     },
     "execution_count": 63,
     "metadata": {},
     "output_type": "execute_result"
    }
   ],
   "source": [
    "7+9+5j   #implicit"
   ]
  },
  {
   "cell_type": "code",
   "execution_count": 64,
   "id": "6883db58",
   "metadata": {},
   "outputs": [
    {
     "data": {
      "text/plain": [
       "'1222'"
      ]
     },
     "execution_count": 64,
     "metadata": {},
     "output_type": "execute_result"
    }
   ],
   "source": [
    "first_num+second_num"
   ]
  },
  {
   "cell_type": "code",
   "execution_count": 65,
   "id": "ba294b51",
   "metadata": {},
   "outputs": [
    {
     "data": {
      "text/plain": [
       "45"
      ]
     },
     "execution_count": 65,
     "metadata": {},
     "output_type": "execute_result"
    }
   ],
   "source": [
    "#int\n",
    "int(45)"
   ]
  },
  {
   "cell_type": "code",
   "execution_count": 66,
   "id": "e62b775e",
   "metadata": {},
   "outputs": [
    {
     "data": {
      "text/plain": [
       "4.0"
      ]
     },
     "execution_count": 66,
     "metadata": {},
     "output_type": "execute_result"
    }
   ],
   "source": [
    "float(4)"
   ]
  },
  {
   "cell_type": "code",
   "execution_count": 67,
   "id": "c500501d",
   "metadata": {},
   "outputs": [
    {
     "ename": "TypeError",
     "evalue": "'str' object is not callable",
     "output_type": "error",
     "traceback": [
      "\u001b[1;31m---------------------------------------------------------------------------\u001b[0m",
      "\u001b[1;31mTypeError\u001b[0m                                 Traceback (most recent call last)",
      "\u001b[1;32m~\\AppData\\Local\\Temp\\ipykernel_11040\\2228889495.py\u001b[0m in \u001b[0;36m<module>\u001b[1;34m\u001b[0m\n\u001b[1;32m----> 1\u001b[1;33m \u001b[0mstr\u001b[0m\u001b[1;33m(\u001b[0m\u001b[1;36m4\u001b[0m\u001b[1;33m)\u001b[0m\u001b[1;33m\u001b[0m\u001b[1;33m\u001b[0m\u001b[0m\n\u001b[0m",
      "\u001b[1;31mTypeError\u001b[0m: 'str' object is not callable"
     ]
    }
   ],
   "source": [
    "str(4)"
   ]
  },
  {
   "cell_type": "code",
   "execution_count": 68,
   "id": "d69a70db",
   "metadata": {},
   "outputs": [
    {
     "data": {
      "text/plain": [
       "True"
      ]
     },
     "execution_count": 68,
     "metadata": {},
     "output_type": "execute_result"
    }
   ],
   "source": [
    "bool(1)"
   ]
  },
  {
   "cell_type": "code",
   "execution_count": 69,
   "id": "142f9a68",
   "metadata": {},
   "outputs": [
    {
     "data": {
      "text/plain": [
       "(4+0j)"
      ]
     },
     "execution_count": 69,
     "metadata": {},
     "output_type": "execute_result"
    }
   ],
   "source": [
    "complex(4)"
   ]
  },
  {
   "cell_type": "code",
   "execution_count": 70,
   "id": "51173bf3",
   "metadata": {},
   "outputs": [
    {
     "data": {
      "text/plain": [
       "['h', 'e', 'l', 'l', 'o']"
      ]
     },
     "execution_count": 70,
     "metadata": {},
     "output_type": "execute_result"
    }
   ],
   "source": [
    "list('hello')"
   ]
  },
  {
   "cell_type": "markdown",
   "id": "8e0c2b17",
   "metadata": {},
   "source": [
    "a=4.5 # the original value can't be change, while conversion its create new integer "
   ]
  },
  {
   "cell_type": "code",
   "execution_count": 71,
   "id": "6747c19e",
   "metadata": {},
   "outputs": [],
   "source": [
    "a=4.5"
   ]
  },
  {
   "cell_type": "code",
   "execution_count": 72,
   "id": "46d117ae",
   "metadata": {},
   "outputs": [
    {
     "data": {
      "text/plain": [
       "4"
      ]
     },
     "execution_count": 72,
     "metadata": {},
     "output_type": "execute_result"
    }
   ],
   "source": [
    "int(a)"
   ]
  },
  {
   "cell_type": "code",
   "execution_count": 73,
   "id": "b6320532",
   "metadata": {},
   "outputs": [
    {
     "name": "stdout",
     "output_type": "stream",
     "text": [
      "Enter the first number12\n",
      "Enter the second number22\n",
      "34\n"
     ]
    }
   ],
   "source": [
    "first_num=input('Enter the first number')\n",
    "second_num=input('Enter the second number')\n",
    "\n",
    "result=int(first_num)+int(second_num)\n",
    "print(result)"
   ]
  },
  {
   "cell_type": "markdown",
   "id": "593864d2",
   "metadata": {},
   "source": [
    "## Literal"
   ]
  },
  {
   "cell_type": "markdown",
   "id": "d2b4c632",
   "metadata": {},
   "source": [
    "Literal is raw data given to variable"
   ]
  },
  {
   "cell_type": "markdown",
   "id": "97e87997",
   "metadata": {},
   "source": [
    "### Numerical Literal"
   ]
  },
  {
   "cell_type": "code",
   "execution_count": 74,
   "id": "4766fda6",
   "metadata": {},
   "outputs": [],
   "source": [
    "a=0b1010 #binary literal\n",
    "b=100 #decimal\n",
    "c=0o310 #octal literal\n",
    "d=0x12c #Hexa decimal literal"
   ]
  },
  {
   "cell_type": "code",
   "execution_count": 75,
   "id": "ff2ec7b6",
   "metadata": {},
   "outputs": [],
   "source": [
    "#float literal\n",
    "float_1=10.5\n",
    "float_2=1.5e2\n",
    "float_3=1.5e-3"
   ]
  },
  {
   "cell_type": "code",
   "execution_count": 76,
   "id": "ceee7a88",
   "metadata": {},
   "outputs": [],
   "source": [
    "#Complex literal\n",
    "x=3.14j"
   ]
  },
  {
   "cell_type": "code",
   "execution_count": 77,
   "id": "d818af0e",
   "metadata": {},
   "outputs": [
    {
     "name": "stdout",
     "output_type": "stream",
     "text": [
      "10 100 200 300\n"
     ]
    }
   ],
   "source": [
    "print(a,b,c,d)"
   ]
  },
  {
   "cell_type": "code",
   "execution_count": 78,
   "id": "9d690d98",
   "metadata": {},
   "outputs": [
    {
     "name": "stdout",
     "output_type": "stream",
     "text": [
      "10.5\n",
      "150.0\n",
      "0.0015\n"
     ]
    }
   ],
   "source": [
    "print(float_1)\n",
    "print(float_2)\n",
    "print(float_3)"
   ]
  },
  {
   "cell_type": "code",
   "execution_count": 79,
   "id": "d61461d9",
   "metadata": {},
   "outputs": [
    {
     "name": "stdout",
     "output_type": "stream",
     "text": [
      "3.14j 3.14 0.0\n"
     ]
    }
   ],
   "source": [
    "print(x,x.imag, x.real)"
   ]
  },
  {
   "cell_type": "markdown",
   "id": "2cd0724c",
   "metadata": {},
   "source": [
    "### String Literals"
   ]
  },
  {
   "cell_type": "code",
   "execution_count": 80,
   "id": "deb13035",
   "metadata": {},
   "outputs": [],
   "source": [
    "string=\"this is python\"\n",
    "strings=\"this is python\"\n",
    "char='C'\n",
    "multiliner_str=\"\"\"this is a multiline string with more than one line code.\"\"\"\n",
    "unicode=u'\\U0001f600\\U0001F606\\U0001F923'\n",
    "raw_str=r\"raw\\n string\""
   ]
  },
  {
   "cell_type": "code",
   "execution_count": 81,
   "id": "d51b74ad",
   "metadata": {},
   "outputs": [
    {
     "name": "stdout",
     "output_type": "stream",
     "text": [
      "this is python\n"
     ]
    }
   ],
   "source": [
    "print(string)"
   ]
  },
  {
   "cell_type": "code",
   "execution_count": 82,
   "id": "a04d98e2",
   "metadata": {},
   "outputs": [
    {
     "name": "stdout",
     "output_type": "stream",
     "text": [
      "this is python\n"
     ]
    }
   ],
   "source": [
    "print(strings)"
   ]
  },
  {
   "cell_type": "code",
   "execution_count": 83,
   "id": "510cfd70",
   "metadata": {},
   "outputs": [
    {
     "name": "stdout",
     "output_type": "stream",
     "text": [
      "C\n",
      "this is a multiline string with more than one line code.\n",
      "😀😆🤣\n",
      "raw\\n string\n"
     ]
    }
   ],
   "source": [
    "print(char)\n",
    "print(multiliner_str)\n",
    "print(unicode)\n",
    "print(raw_str)"
   ]
  },
  {
   "cell_type": "markdown",
   "id": "ca946970",
   "metadata": {},
   "source": [
    "### Boolean Literals"
   ]
  },
  {
   "cell_type": "code",
   "execution_count": 84,
   "id": "aac761ab",
   "metadata": {},
   "outputs": [
    {
     "name": "stdout",
     "output_type": "stream",
     "text": [
      "a: 5\n",
      "b: 10\n"
     ]
    }
   ],
   "source": [
    "a= True + 4\n",
    "b= False + 10\n",
    "print(\"a:\", a)\n",
    "print(\"b:\",b)"
   ]
  },
  {
   "cell_type": "markdown",
   "id": "410f781c",
   "metadata": {},
   "source": [
    "### Special Literal"
   ]
  },
  {
   "cell_type": "code",
   "execution_count": 85,
   "id": "8f8af768",
   "metadata": {},
   "outputs": [
    {
     "name": "stdout",
     "output_type": "stream",
     "text": [
      "None\n"
     ]
    }
   ],
   "source": [
    "a = None\n",
    "print(a)"
   ]
  },
  {
   "cell_type": "code",
   "execution_count": 86,
   "id": "18a28a9c",
   "metadata": {},
   "outputs": [],
   "source": [
    "c=34+45"
   ]
  },
  {
   "cell_type": "code",
   "execution_count": 87,
   "id": "af74528d",
   "metadata": {},
   "outputs": [],
   "source": [
    "k= None"
   ]
  },
  {
   "cell_type": "markdown",
   "id": "12eaed11",
   "metadata": {},
   "source": [
    "## Operators in Python"
   ]
  },
  {
   "cell_type": "markdown",
   "id": "858bda1b",
   "metadata": {},
   "source": [
    "#operators are used to perform operation on variable and values.Python has the following operators "
   ]
  },
  {
   "cell_type": "code",
   "execution_count": 88,
   "id": "4bd943a2",
   "metadata": {},
   "outputs": [],
   "source": [
    "#Arthimatic Operators\n",
    "#Comparision Operators\n",
    "#Logical Operators\n",
    "#Bitwise Operators\n",
    "#Assignment Operators\n",
    "#identity Operators \n",
    "#Membership Operators"
   ]
  },
  {
   "cell_type": "markdown",
   "id": "ffe6ee5d",
   "metadata": {},
   "source": [
    "#### Arthimatic operators"
   ]
  },
  {
   "cell_type": "code",
   "execution_count": 89,
   "id": "a58984d3",
   "metadata": {},
   "outputs": [
    {
     "name": "stdout",
     "output_type": "stream",
     "text": [
      "11\n"
     ]
    }
   ],
   "source": [
    "x=5\n",
    "y=6\n",
    "print(x+y)"
   ]
  },
  {
   "cell_type": "code",
   "execution_count": 90,
   "id": "e3e69103",
   "metadata": {},
   "outputs": [
    {
     "name": "stdout",
     "output_type": "stream",
     "text": [
      "1\n"
     ]
    }
   ],
   "source": [
    "print(y-x)"
   ]
  },
  {
   "cell_type": "code",
   "execution_count": 91,
   "id": "41e48e8b",
   "metadata": {},
   "outputs": [
    {
     "name": "stdout",
     "output_type": "stream",
     "text": [
      "30\n"
     ]
    }
   ],
   "source": [
    "print(x*y)"
   ]
  },
  {
   "cell_type": "code",
   "execution_count": 92,
   "id": "31bf4523",
   "metadata": {},
   "outputs": [
    {
     "name": "stdout",
     "output_type": "stream",
     "text": [
      "5\n"
     ]
    }
   ],
   "source": [
    "print(x%y)"
   ]
  },
  {
   "cell_type": "code",
   "execution_count": 93,
   "id": "6fc9d26e",
   "metadata": {},
   "outputs": [
    {
     "name": "stdout",
     "output_type": "stream",
     "text": [
      "15625\n"
     ]
    }
   ],
   "source": [
    "print(x**y)"
   ]
  },
  {
   "cell_type": "code",
   "execution_count": 94,
   "id": "0b6b87ca",
   "metadata": {},
   "outputs": [
    {
     "name": "stdout",
     "output_type": "stream",
     "text": [
      "0\n"
     ]
    }
   ],
   "source": [
    "print(x//y)"
   ]
  },
  {
   "cell_type": "code",
   "execution_count": 95,
   "id": "550c0bd8",
   "metadata": {},
   "outputs": [
    {
     "name": "stdout",
     "output_type": "stream",
     "text": [
      "0.8333333333333334\n"
     ]
    }
   ],
   "source": [
    "print(x/y)"
   ]
  },
  {
   "cell_type": "markdown",
   "id": "eb772d4a",
   "metadata": {},
   "source": [
    "### comparision Operators"
   ]
  },
  {
   "cell_type": "code",
   "execution_count": 96,
   "id": "62414488",
   "metadata": {},
   "outputs": [
    {
     "name": "stdout",
     "output_type": "stream",
     "text": [
      "False\n"
     ]
    }
   ],
   "source": [
    "print(x>y)"
   ]
  },
  {
   "cell_type": "code",
   "execution_count": 97,
   "id": "03bb35cf",
   "metadata": {},
   "outputs": [
    {
     "name": "stdout",
     "output_type": "stream",
     "text": [
      "True\n"
     ]
    }
   ],
   "source": [
    "print(x<y)"
   ]
  },
  {
   "cell_type": "code",
   "execution_count": 98,
   "id": "f0c65fd3",
   "metadata": {},
   "outputs": [
    {
     "name": "stdout",
     "output_type": "stream",
     "text": [
      "False\n"
     ]
    }
   ],
   "source": [
    "print(x>=y)"
   ]
  },
  {
   "cell_type": "code",
   "execution_count": 99,
   "id": "6c0073b4",
   "metadata": {},
   "outputs": [
    {
     "name": "stdout",
     "output_type": "stream",
     "text": [
      "True\n"
     ]
    }
   ],
   "source": [
    "print(x<=y)"
   ]
  },
  {
   "cell_type": "code",
   "execution_count": 100,
   "id": "9647a93e",
   "metadata": {},
   "outputs": [
    {
     "name": "stdout",
     "output_type": "stream",
     "text": [
      "False\n"
     ]
    }
   ],
   "source": [
    "print(x==y)"
   ]
  },
  {
   "cell_type": "code",
   "execution_count": 101,
   "id": "8c5c4754",
   "metadata": {},
   "outputs": [
    {
     "name": "stdout",
     "output_type": "stream",
     "text": [
      "True\n"
     ]
    }
   ],
   "source": [
    "print(x!=y)"
   ]
  },
  {
   "cell_type": "markdown",
   "id": "a72c845a",
   "metadata": {},
   "source": [
    "### Logical Operator"
   ]
  },
  {
   "cell_type": "code",
   "execution_count": 102,
   "id": "92cc60df",
   "metadata": {},
   "outputs": [
    {
     "name": "stdout",
     "output_type": "stream",
     "text": [
      "True\n"
     ]
    }
   ],
   "source": [
    "x=True\n",
    "y=False\n",
    "print(x or y)"
   ]
  },
  {
   "cell_type": "code",
   "execution_count": 103,
   "id": "200a0b8e",
   "metadata": {},
   "outputs": [
    {
     "name": "stdout",
     "output_type": "stream",
     "text": [
      "False\n"
     ]
    }
   ],
   "source": [
    "x=False\n",
    "y=False\n",
    "print(x or y)"
   ]
  },
  {
   "cell_type": "code",
   "execution_count": 104,
   "id": "4d3573ae",
   "metadata": {},
   "outputs": [
    {
     "name": "stdout",
     "output_type": "stream",
     "text": [
      "False\n"
     ]
    }
   ],
   "source": [
    "print(x and y)"
   ]
  },
  {
   "cell_type": "code",
   "execution_count": 105,
   "id": "7122ecd7",
   "metadata": {},
   "outputs": [
    {
     "name": "stdout",
     "output_type": "stream",
     "text": [
      "True\n"
     ]
    }
   ],
   "source": [
    "print(not x)"
   ]
  },
  {
   "cell_type": "code",
   "execution_count": 106,
   "id": "e119afaf",
   "metadata": {},
   "outputs": [
    {
     "name": "stdout",
     "output_type": "stream",
     "text": [
      "True\n"
     ]
    }
   ],
   "source": [
    "print( not y)"
   ]
  },
  {
   "cell_type": "markdown",
   "id": "d599ffe0",
   "metadata": {},
   "source": [
    "##### and"
   ]
  },
  {
   "cell_type": "code",
   "execution_count": 107,
   "id": "77c2d8de",
   "metadata": {},
   "outputs": [],
   "source": [
    "x=10"
   ]
  },
  {
   "cell_type": "code",
   "execution_count": 108,
   "id": "3a390ee6",
   "metadata": {},
   "outputs": [
    {
     "data": {
      "text/plain": [
       "False"
      ]
     },
     "execution_count": 108,
     "metadata": {},
     "output_type": "execute_result"
    }
   ],
   "source": [
    "x>10 and x>5\n",
    "#if both statement are True it gives True as output\n",
    "#if one of the statement as false it gives False as output"
   ]
  },
  {
   "cell_type": "code",
   "execution_count": 109,
   "id": "80a812ad",
   "metadata": {},
   "outputs": [
    {
     "data": {
      "text/plain": [
       "True"
      ]
     },
     "execution_count": 109,
     "metadata": {},
     "output_type": "execute_result"
    }
   ],
   "source": [
    "x>8 and x>5"
   ]
  },
  {
   "cell_type": "code",
   "execution_count": 110,
   "id": "44879b5c",
   "metadata": {},
   "outputs": [
    {
     "data": {
      "text/plain": [
       "False"
      ]
     },
     "execution_count": 110,
     "metadata": {},
     "output_type": "execute_result"
    }
   ],
   "source": [
    "x>12 and x>10"
   ]
  },
  {
   "cell_type": "markdown",
   "id": "4b7bab25",
   "metadata": {},
   "source": [
    "#### or"
   ]
  },
  {
   "cell_type": "code",
   "execution_count": 111,
   "id": "7aaf3ef8",
   "metadata": {},
   "outputs": [
    {
     "data": {
      "text/plain": [
       "True"
      ]
     },
     "execution_count": 111,
     "metadata": {},
     "output_type": "execute_result"
    }
   ],
   "source": [
    "x>10 or x>5\n",
    "#while using or logical operator one of the statement is True it gives result as true "
   ]
  },
  {
   "cell_type": "code",
   "execution_count": 112,
   "id": "ff20175d",
   "metadata": {},
   "outputs": [
    {
     "data": {
      "text/plain": [
       "False"
      ]
     },
     "execution_count": 112,
     "metadata": {},
     "output_type": "execute_result"
    }
   ],
   "source": [
    "x>10 or x>12 \n",
    "#while using or logical operator both of the statements are False it gives result as False"
   ]
  },
  {
   "cell_type": "code",
   "execution_count": 113,
   "id": "02df91dc",
   "metadata": {},
   "outputs": [
    {
     "data": {
      "text/plain": [
       "True"
      ]
     },
     "execution_count": 113,
     "metadata": {},
     "output_type": "execute_result"
    }
   ],
   "source": [
    "x>8 or x>5\n",
    "#while using or logical operator both of the statemts are True it gives results as True"
   ]
  },
  {
   "cell_type": "code",
   "execution_count": 114,
   "id": "e6e9ce15",
   "metadata": {},
   "outputs": [
    {
     "data": {
      "text/plain": [
       "True"
      ]
     },
     "execution_count": 114,
     "metadata": {},
     "output_type": "execute_result"
    }
   ],
   "source": [
    "not(x>10 and x>5)"
   ]
  },
  {
   "cell_type": "markdown",
   "id": "38a40844",
   "metadata": {},
   "source": [
    "### Bit Wise Operator"
   ]
  },
  {
   "cell_type": "code",
   "execution_count": 115,
   "id": "06e470ea",
   "metadata": {},
   "outputs": [],
   "source": [
    "x=2\n",
    "y=3"
   ]
  },
  {
   "cell_type": "code",
   "execution_count": 116,
   "id": "7fe963cf",
   "metadata": {},
   "outputs": [
    {
     "name": "stdout",
     "output_type": "stream",
     "text": [
      "2\n"
     ]
    }
   ],
   "source": [
    "print(x & y)"
   ]
  },
  {
   "cell_type": "code",
   "execution_count": 117,
   "id": "975e466b",
   "metadata": {},
   "outputs": [
    {
     "name": "stdout",
     "output_type": "stream",
     "text": [
      "3\n"
     ]
    }
   ],
   "source": [
    "print(x|y)"
   ]
  },
  {
   "cell_type": "code",
   "execution_count": 118,
   "id": "904a7a08",
   "metadata": {},
   "outputs": [
    {
     "name": "stdout",
     "output_type": "stream",
     "text": [
      "0\n"
     ]
    }
   ],
   "source": [
    "print(x>>2)"
   ]
  },
  {
   "cell_type": "code",
   "execution_count": 119,
   "id": "a3abf6b8",
   "metadata": {},
   "outputs": [
    {
     "name": "stdout",
     "output_type": "stream",
     "text": [
      "24\n"
     ]
    }
   ],
   "source": [
    "print(y<<3)"
   ]
  },
  {
   "cell_type": "code",
   "execution_count": 120,
   "id": "d67e8617",
   "metadata": {},
   "outputs": [
    {
     "name": "stdout",
     "output_type": "stream",
     "text": [
      "2\n"
     ]
    }
   ],
   "source": [
    "print(x)"
   ]
  },
  {
   "cell_type": "markdown",
   "id": "a8421b19",
   "metadata": {},
   "source": [
    "### Assignment Operators"
   ]
  },
  {
   "cell_type": "code",
   "execution_count": 121,
   "id": "ce10da2b",
   "metadata": {},
   "outputs": [
    {
     "name": "stdout",
     "output_type": "stream",
     "text": [
      "3\n"
     ]
    }
   ],
   "source": [
    "a=3\n",
    "print(a)"
   ]
  },
  {
   "cell_type": "code",
   "execution_count": 122,
   "id": "dcbbb406",
   "metadata": {},
   "outputs": [],
   "source": [
    "b=3"
   ]
  },
  {
   "cell_type": "code",
   "execution_count": 123,
   "id": "d38913d7",
   "metadata": {},
   "outputs": [
    {
     "name": "stdout",
     "output_type": "stream",
     "text": [
      "6\n"
     ]
    }
   ],
   "source": [
    "b+=3\n",
    "print(b)"
   ]
  },
  {
   "cell_type": "code",
   "execution_count": 124,
   "id": "aac0e6b0",
   "metadata": {},
   "outputs": [],
   "source": [
    "a-=3\n",
    "a*=3\n",
    "a&=3"
   ]
  },
  {
   "cell_type": "code",
   "execution_count": 125,
   "id": "ce6a635e",
   "metadata": {},
   "outputs": [
    {
     "name": "stdout",
     "output_type": "stream",
     "text": [
      "10\n"
     ]
    }
   ],
   "source": [
    "a=5\n",
    "a+=5\n",
    "print(a)"
   ]
  },
  {
   "cell_type": "code",
   "execution_count": 126,
   "id": "633693a1",
   "metadata": {},
   "outputs": [],
   "source": [
    "a**=5 #a=a**5"
   ]
  },
  {
   "cell_type": "code",
   "execution_count": 127,
   "id": "289e06a9",
   "metadata": {},
   "outputs": [
    {
     "data": {
      "text/plain": [
       "100000"
      ]
     },
     "execution_count": 127,
     "metadata": {},
     "output_type": "execute_result"
    }
   ],
   "source": [
    "a"
   ]
  },
  {
   "cell_type": "markdown",
   "id": "2c6e67b7",
   "metadata": {},
   "source": [
    "### Identity Operators"
   ]
  },
  {
   "cell_type": "code",
   "execution_count": 128,
   "id": "44da365b",
   "metadata": {},
   "outputs": [],
   "source": [
    "a='Hello'\n",
    "b='Hello'"
   ]
  },
  {
   "cell_type": "code",
   "execution_count": 129,
   "id": "6e4fceed",
   "metadata": {},
   "outputs": [
    {
     "name": "stdout",
     "output_type": "stream",
     "text": [
      "True\n"
     ]
    }
   ],
   "source": [
    "print( a is b)"
   ]
  },
  {
   "cell_type": "code",
   "execution_count": 130,
   "id": "90d613a3",
   "metadata": {},
   "outputs": [
    {
     "name": "stdout",
     "output_type": "stream",
     "text": [
      "False\n"
     ]
    }
   ],
   "source": [
    "a=[1,2,3]\n",
    "b=[1,2,3]\n",
    "print(a is b)"
   ]
  },
  {
   "cell_type": "code",
   "execution_count": 131,
   "id": "b4a1ed35",
   "metadata": {},
   "outputs": [
    {
     "name": "stdout",
     "output_type": "stream",
     "text": [
      "False\n"
     ]
    }
   ],
   "source": [
    "a='Hello-World'\n",
    "b='Hello-World'\n",
    "print(a is b)"
   ]
  },
  {
   "cell_type": "code",
   "execution_count": 132,
   "id": "ebf78361",
   "metadata": {},
   "outputs": [
    {
     "name": "stdout",
     "output_type": "stream",
     "text": [
      "False\n"
     ]
    }
   ],
   "source": [
    "x='Delhi'\n",
    "print('D' not in x)"
   ]
  },
  {
   "cell_type": "code",
   "execution_count": 133,
   "id": "c3880684",
   "metadata": {},
   "outputs": [
    {
     "name": "stdout",
     "output_type": "stream",
     "text": [
      "True\n"
     ]
    }
   ],
   "source": [
    "x=[1,2,3]\n",
    "print(1 in x)"
   ]
  },
  {
   "cell_type": "code",
   "execution_count": 134,
   "id": "58dd5664",
   "metadata": {},
   "outputs": [
    {
     "name": "stdout",
     "output_type": "stream",
     "text": [
      "False\n"
     ]
    }
   ],
   "source": [
    "print(5 in x)"
   ]
  },
  {
   "cell_type": "code",
   "execution_count": 135,
   "id": "552e54e8",
   "metadata": {},
   "outputs": [],
   "source": [
    "list1=[10,20,30]\n",
    "list2=[10,20,30]"
   ]
  },
  {
   "cell_type": "code",
   "execution_count": 136,
   "id": "fa1929e0",
   "metadata": {},
   "outputs": [],
   "source": [
    "x=list1"
   ]
  },
  {
   "cell_type": "code",
   "execution_count": 137,
   "id": "842c9b29",
   "metadata": {},
   "outputs": [
    {
     "data": {
      "text/plain": [
       "True"
      ]
     },
     "execution_count": 137,
     "metadata": {},
     "output_type": "execute_result"
    }
   ],
   "source": [
    "x is list1"
   ]
  },
  {
   "cell_type": "code",
   "execution_count": 138,
   "id": "96205dfc",
   "metadata": {},
   "outputs": [
    {
     "data": {
      "text/plain": [
       "False"
      ]
     },
     "execution_count": 138,
     "metadata": {},
     "output_type": "execute_result"
    }
   ],
   "source": [
    "list1 is list2"
   ]
  },
  {
   "cell_type": "code",
   "execution_count": 139,
   "id": "17acdf5f",
   "metadata": {},
   "outputs": [
    {
     "data": {
      "text/plain": [
       "True"
      ]
     },
     "execution_count": 139,
     "metadata": {},
     "output_type": "execute_result"
    }
   ],
   "source": [
    "list1 is not list2"
   ]
  },
  {
   "cell_type": "markdown",
   "id": "f725db2f",
   "metadata": {},
   "source": [
    "#### Memobership Operators"
   ]
  },
  {
   "cell_type": "code",
   "execution_count": 140,
   "id": "513b42de",
   "metadata": {},
   "outputs": [],
   "source": [
    "list1=[10,20,30]\n",
    "list2=[10, 20, 30]"
   ]
  },
  {
   "cell_type": "code",
   "execution_count": 141,
   "id": "24d0dafc",
   "metadata": {},
   "outputs": [
    {
     "data": {
      "text/plain": [
       "False"
      ]
     },
     "execution_count": 141,
     "metadata": {},
     "output_type": "execute_result"
    }
   ],
   "source": [
    "x is list1"
   ]
  },
  {
   "cell_type": "code",
   "execution_count": 142,
   "id": "0108b996",
   "metadata": {},
   "outputs": [
    {
     "data": {
      "text/plain": [
       "False"
      ]
     },
     "execution_count": 142,
     "metadata": {},
     "output_type": "execute_result"
    }
   ],
   "source": [
    "x in list1"
   ]
  },
  {
   "cell_type": "code",
   "execution_count": 143,
   "id": "401a58a9",
   "metadata": {},
   "outputs": [
    {
     "data": {
      "text/plain": [
       "list"
      ]
     },
     "execution_count": 143,
     "metadata": {},
     "output_type": "execute_result"
    }
   ],
   "source": [
    "list"
   ]
  }
 ],
 "metadata": {
  "kernelspec": {
   "display_name": "Python 3 (ipykernel)",
   "language": "python",
   "name": "python3"
  },
  "language_info": {
   "codemirror_mode": {
    "name": "ipython",
    "version": 3
   },
   "file_extension": ".py",
   "mimetype": "text/x-python",
   "name": "python",
   "nbconvert_exporter": "python",
   "pygments_lexer": "ipython3",
   "version": "3.9.13"
  }
 },
 "nbformat": 4,
 "nbformat_minor": 5
}
