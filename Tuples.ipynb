{
 "cells": [
  {
   "cell_type": "markdown",
   "id": "4bccee7a",
   "metadata": {},
   "source": [
    "### Tuples"
   ]
  },
  {
   "cell_type": "markdown",
   "id": "1ce05780",
   "metadata": {},
   "source": [
    "A tuple in python is similar to a list. The difference between the \n",
    "two is that we cannot change the elements of a tuple once \n",
    "it is assigned whereas we can change the elements of a list."
   ]
  },
  {
   "cell_type": "raw",
   "id": "b0e4229d",
   "metadata": {},
   "source": [
    "in short, a tuple is an immutable list. A tuple can not be changed in any way once it is created"
   ]
  },
  {
   "cell_type": "markdown",
   "id": "8be308d9",
   "metadata": {},
   "source": [
    "### Characteristics \n",
    "\n",
    "   *. Ordered\n",
    "   \n",
    "   \n",
    "    *.Unmutable\n",
    "    \n",
    "    \n",
    "    *.allows duplicated"
   ]
  },
  {
   "cell_type": "markdown",
   "id": "229382ec",
   "metadata": {},
   "source": [
    "### Creating Tuples"
   ]
  },
  {
   "cell_type": "code",
   "execution_count": 1,
   "id": "9f622d3d",
   "metadata": {},
   "outputs": [
    {
     "name": "stdout",
     "output_type": "stream",
     "text": [
      "()\n"
     ]
    }
   ],
   "source": [
    "#empty\n",
    "t1=()\n",
    "print(t1)"
   ]
  },
  {
   "cell_type": "code",
   "execution_count": 3,
   "id": "b6488f0f",
   "metadata": {},
   "outputs": [
    {
     "name": "stdout",
     "output_type": "stream",
     "text": [
      "<class 'str'>\n"
     ]
    }
   ],
   "source": [
    "#create a tuple with a single item\n",
    "t2=('hello')\n",
    "print(type(t2))\n",
    "#single tuple gives wrong class"
   ]
  },
  {
   "cell_type": "code",
   "execution_count": 4,
   "id": "d33c5ed9",
   "metadata": {},
   "outputs": [
    {
     "name": "stdout",
     "output_type": "stream",
     "text": [
      "<class 'tuple'>\n"
     ]
    }
   ],
   "source": [
    "t2=('hello',)\n",
    "print(type(t2))"
   ]
  },
  {
   "cell_type": "code",
   "execution_count": 5,
   "id": "f967758e",
   "metadata": {},
   "outputs": [
    {
     "name": "stdout",
     "output_type": "stream",
     "text": [
      "(1, 2, 3, 4)\n"
     ]
    }
   ],
   "source": [
    "#homogeneous\n",
    "t3=(1,2,3,4)\n",
    "print(t3)"
   ]
  },
  {
   "cell_type": "code",
   "execution_count": 6,
   "id": "5191f71a",
   "metadata": {},
   "outputs": [
    {
     "name": "stdout",
     "output_type": "stream",
     "text": [
      "(1, 2.5, True, [1, 2, 3])\n"
     ]
    }
   ],
   "source": [
    "#hetrogeneous\n",
    "t4=(1,2.5,True,[1,2,3])\n",
    "print(t4)"
   ]
  },
  {
   "cell_type": "code",
   "execution_count": 7,
   "id": "bbadeb7c",
   "metadata": {},
   "outputs": [
    {
     "name": "stdout",
     "output_type": "stream",
     "text": [
      "(1, 2, 3, (4, 5))\n"
     ]
    }
   ],
   "source": [
    "#tuple\n",
    "t5=(1,2,3,(4,5))\n",
    "print(t5)"
   ]
  },
  {
   "cell_type": "code",
   "execution_count": 8,
   "id": "55b91796",
   "metadata": {},
   "outputs": [
    {
     "name": "stdout",
     "output_type": "stream",
     "text": [
      "('h', 'e', 'l', 'l', 'o')\n"
     ]
    }
   ],
   "source": [
    "#using type conversion\n",
    "t6=tuple('hello')\n",
    "print(t6)"
   ]
  },
  {
   "cell_type": "markdown",
   "id": "fab2799c",
   "metadata": {},
   "source": [
    "### Accessing Items"
   ]
  },
  {
   "cell_type": "markdown",
   "id": "6d552b02",
   "metadata": {},
   "source": [
    "#### Indexing "
   ]
  },
  {
   "cell_type": "code",
   "execution_count": 9,
   "id": "b8bc645a",
   "metadata": {},
   "outputs": [
    {
     "name": "stdout",
     "output_type": "stream",
     "text": [
      "damodhara\n"
     ]
    }
   ],
   "source": [
    "\n",
    "t=('damodhara','hariprasad','jaya')\n",
    "print(t[0])"
   ]
  },
  {
   "cell_type": "code",
   "execution_count": 10,
   "id": "5da93e01",
   "metadata": {},
   "outputs": [
    {
     "name": "stdout",
     "output_type": "stream",
     "text": [
      "jaya\n"
     ]
    }
   ],
   "source": [
    "print(t[-1])"
   ]
  },
  {
   "cell_type": "code",
   "execution_count": 2,
   "id": "85732c8e",
   "metadata": {},
   "outputs": [
    {
     "name": "stdout",
     "output_type": "stream",
     "text": [
      "cherry\n"
     ]
    }
   ],
   "source": [
    "thistuple=(\"apple\",\"banana\",\"cherry\")\n",
    "print(thistuple[-1])"
   ]
  },
  {
   "cell_type": "code",
   "execution_count": 3,
   "id": "fbd288ee",
   "metadata": {},
   "outputs": [
    {
     "name": "stdout",
     "output_type": "stream",
     "text": [
      "banana\n"
     ]
    }
   ],
   "source": [
    "thistuple=(\"apple\",\"banana\",\"cherry\")\n",
    "print(thistuple[1])"
   ]
  },
  {
   "cell_type": "markdown",
   "id": "3fb0f4c8",
   "metadata": {},
   "source": [
    "#### Slicing"
   ]
  },
  {
   "cell_type": "code",
   "execution_count": 1,
   "id": "676dc081",
   "metadata": {},
   "outputs": [
    {
     "name": "stdout",
     "output_type": "stream",
     "text": [
      "('cherry', 'orange', 'kiwi')\n"
     ]
    }
   ],
   "source": [
    "thistuple=(\"apple\",\"banana\",\"cherry\",\"orange\",\"kiwi\",\"melon\",\"mango\")\n",
    "print(thistuple[2:5])"
   ]
  },
  {
   "cell_type": "markdown",
   "id": "058577ac",
   "metadata": {},
   "source": [
    "### Editing Items"
   ]
  },
  {
   "cell_type": "code",
   "execution_count": 13,
   "id": "64700143",
   "metadata": {},
   "outputs": [
    {
     "name": "stdout",
     "output_type": "stream",
     "text": [
      "(1, 2, 3, 4)\n"
     ]
    },
    {
     "ename": "TypeError",
     "evalue": "'tuple' object does not support item assignment",
     "output_type": "error",
     "traceback": [
      "\u001b[1;31m---------------------------------------------------------------------------\u001b[0m",
      "\u001b[1;31mTypeError\u001b[0m                                 Traceback (most recent call last)",
      "\u001b[1;32m~\\AppData\\Local\\Temp\\ipykernel_2776\\2226369266.py\u001b[0m in \u001b[0;36m<module>\u001b[1;34m\u001b[0m\n\u001b[0;32m      1\u001b[0m \u001b[0mprint\u001b[0m\u001b[1;33m(\u001b[0m\u001b[0mt3\u001b[0m\u001b[1;33m)\u001b[0m\u001b[1;33m\u001b[0m\u001b[1;33m\u001b[0m\u001b[0m\n\u001b[1;32m----> 2\u001b[1;33m \u001b[0mt3\u001b[0m\u001b[1;33m[\u001b[0m\u001b[1;36m0\u001b[0m\u001b[1;33m]\u001b[0m\u001b[1;33m=\u001b[0m\u001b[1;36m100\u001b[0m\u001b[1;33m\u001b[0m\u001b[1;33m\u001b[0m\u001b[0m\n\u001b[0m",
      "\u001b[1;31mTypeError\u001b[0m: 'tuple' object does not support item assignment"
     ]
    }
   ],
   "source": [
    "print(t3)\n",
    "t3[0]=100\n"
   ]
  },
  {
   "cell_type": "code",
   "execution_count": 14,
   "id": "22205a0d",
   "metadata": {},
   "outputs": [],
   "source": [
    "#Tuples are immutable "
   ]
  },
  {
   "cell_type": "markdown",
   "id": "6ffbb694",
   "metadata": {},
   "source": [
    "### Adding items"
   ]
  },
  {
   "cell_type": "code",
   "execution_count": 16,
   "id": "ecee5333",
   "metadata": {},
   "outputs": [
    {
     "name": "stdout",
     "output_type": "stream",
     "text": [
      "(1, 2, 3, 4)\n"
     ]
    }
   ],
   "source": [
    "print(t3)\n",
    "#not possible , tuples are immutable "
   ]
  },
  {
   "cell_type": "markdown",
   "id": "876d5731",
   "metadata": {},
   "source": [
    "### Deleting items"
   ]
  },
  {
   "cell_type": "code",
   "execution_count": 19,
   "id": "4c4e7579",
   "metadata": {},
   "outputs": [
    {
     "ename": "NameError",
     "evalue": "name 't3' is not defined",
     "output_type": "error",
     "traceback": [
      "\u001b[1;31m---------------------------------------------------------------------------\u001b[0m",
      "\u001b[1;31mNameError\u001b[0m                                 Traceback (most recent call last)",
      "\u001b[1;32m~\\AppData\\Local\\Temp\\ipykernel_2776\\480301247.py\u001b[0m in \u001b[0;36m<module>\u001b[1;34m\u001b[0m\n\u001b[1;32m----> 1\u001b[1;33m \u001b[0mprint\u001b[0m\u001b[1;33m(\u001b[0m\u001b[0mt3\u001b[0m\u001b[1;33m)\u001b[0m\u001b[1;33m\u001b[0m\u001b[1;33m\u001b[0m\u001b[0m\n\u001b[0m\u001b[0;32m      2\u001b[0m \u001b[1;32mdel\u001b[0m \u001b[0mt3\u001b[0m\u001b[1;33m\u001b[0m\u001b[1;33m\u001b[0m\u001b[0m\n\u001b[0;32m      3\u001b[0m \u001b[1;31m# total tuple deleted\u001b[0m\u001b[1;33m\u001b[0m\u001b[1;33m\u001b[0m\u001b[0m\n",
      "\u001b[1;31mNameError\u001b[0m: name 't3' is not defined"
     ]
    }
   ],
   "source": [
    "print(t3)\n",
    "del t3\n",
    "# total tuple deleted"
   ]
  },
  {
   "cell_type": "code",
   "execution_count": 20,
   "id": "f6d190e2",
   "metadata": {},
   "outputs": [
    {
     "name": "stdout",
     "output_type": "stream",
     "text": [
      "(1, 2, 3, (4, 5))\n"
     ]
    }
   ],
   "source": [
    "print(t5)"
   ]
  },
  {
   "cell_type": "code",
   "execution_count": 21,
   "id": "44d5ea83",
   "metadata": {},
   "outputs": [
    {
     "ename": "TypeError",
     "evalue": "'tuple' object doesn't support item deletion",
     "output_type": "error",
     "traceback": [
      "\u001b[1;31m---------------------------------------------------------------------------\u001b[0m",
      "\u001b[1;31mTypeError\u001b[0m                                 Traceback (most recent call last)",
      "\u001b[1;32m~\\AppData\\Local\\Temp\\ipykernel_2776\\1138733891.py\u001b[0m in \u001b[0;36m<module>\u001b[1;34m\u001b[0m\n\u001b[1;32m----> 1\u001b[1;33m \u001b[1;32mdel\u001b[0m \u001b[0mt5\u001b[0m\u001b[1;33m[\u001b[0m\u001b[1;33m-\u001b[0m\u001b[1;36m1\u001b[0m\u001b[1;33m]\u001b[0m\u001b[1;33m\u001b[0m\u001b[1;33m\u001b[0m\u001b[0m\n\u001b[0m\u001b[0;32m      2\u001b[0m \u001b[1;31m#not possible delet the particular portion in the tuple\u001b[0m\u001b[1;33m\u001b[0m\u001b[1;33m\u001b[0m\u001b[0m\n",
      "\u001b[1;31mTypeError\u001b[0m: 'tuple' object doesn't support item deletion"
     ]
    }
   ],
   "source": [
    "del t5[-1]\n",
    "#not possible delet the particular portion in the tuple "
   ]
  },
  {
   "cell_type": "markdown",
   "id": "c0f45e5e",
   "metadata": {},
   "source": [
    "### Operations on Tuples"
   ]
  },
  {
   "cell_type": "markdown",
   "id": "2b2920ed",
   "metadata": {},
   "source": [
    "#### Arithematic Operations"
   ]
  },
  {
   "cell_type": "code",
   "execution_count": 25,
   "id": "b476942d",
   "metadata": {},
   "outputs": [
    {
     "name": "stdout",
     "output_type": "stream",
     "text": [
      "(1, 2, 3, 4, 5, 6, 7, 8)\n"
     ]
    }
   ],
   "source": [
    "t1=(1,2,3,4)\n",
    "t2=(5,6,7,8)\n",
    "print(t1+t2)"
   ]
  },
  {
   "cell_type": "code",
   "execution_count": 26,
   "id": "f33d8f2c",
   "metadata": {},
   "outputs": [
    {
     "name": "stdout",
     "output_type": "stream",
     "text": [
      "(1, 2, 3, 4, 1, 2, 3, 4, 1, 2, 3, 4)\n"
     ]
    }
   ],
   "source": [
    "print(t1*3)"
   ]
  },
  {
   "cell_type": "markdown",
   "id": "32872c7f",
   "metadata": {},
   "source": [
    "#### Membership operations"
   ]
  },
  {
   "cell_type": "code",
   "execution_count": 29,
   "id": "e3a24ac2",
   "metadata": {},
   "outputs": [
    {
     "data": {
      "text/plain": [
       "True"
      ]
     },
     "execution_count": 29,
     "metadata": {},
     "output_type": "execute_result"
    }
   ],
   "source": [
    "1 in t1"
   ]
  },
  {
   "cell_type": "code",
   "execution_count": 30,
   "id": "5af4fdac",
   "metadata": {},
   "outputs": [
    {
     "data": {
      "text/plain": [
       "False"
      ]
     },
     "execution_count": 30,
     "metadata": {},
     "output_type": "execute_result"
    }
   ],
   "source": [
    "4 not in t1"
   ]
  },
  {
   "cell_type": "code",
   "execution_count": 5,
   "id": "11aa3c53",
   "metadata": {},
   "outputs": [
    {
     "name": "stdout",
     "output_type": "stream",
     "text": [
      "yes, 'apple' is in this fruits tuple\n"
     ]
    }
   ],
   "source": [
    "thistuple=(\"apple\",\"banana\",\"cherry\")\n",
    "if \"apple\" in thistuple:\n",
    "    print(\"yes, 'apple' is in this fruits tuple\")"
   ]
  },
  {
   "cell_type": "markdown",
   "id": "f143fe69",
   "metadata": {},
   "source": [
    "#### Iterations or Loops"
   ]
  },
  {
   "cell_type": "code",
   "execution_count": 31,
   "id": "cd3d056f",
   "metadata": {},
   "outputs": [
    {
     "name": "stdout",
     "output_type": "stream",
     "text": [
      "1\n",
      "2\n",
      "3\n",
      "4\n"
     ]
    }
   ],
   "source": [
    "for i in t1:\n",
    "    print(i)"
   ]
  },
  {
   "cell_type": "markdown",
   "id": "3492cd6c",
   "metadata": {},
   "source": [
    "### Tuple Functions"
   ]
  },
  {
   "cell_type": "code",
   "execution_count": 32,
   "id": "b096336a",
   "metadata": {},
   "outputs": [
    {
     "data": {
      "text/plain": [
       "4"
      ]
     },
     "execution_count": 32,
     "metadata": {},
     "output_type": "execute_result"
    }
   ],
   "source": [
    "#len\n",
    "t=(1,2,3,4)\n",
    "len(t)"
   ]
  },
  {
   "cell_type": "code",
   "execution_count": 33,
   "id": "66a0c577",
   "metadata": {},
   "outputs": [
    {
     "data": {
      "text/plain": [
       "10"
      ]
     },
     "execution_count": 33,
     "metadata": {},
     "output_type": "execute_result"
    }
   ],
   "source": [
    "sum(t)"
   ]
  },
  {
   "cell_type": "code",
   "execution_count": 34,
   "id": "23d138df",
   "metadata": {},
   "outputs": [
    {
     "data": {
      "text/plain": [
       "1"
      ]
     },
     "execution_count": 34,
     "metadata": {},
     "output_type": "execute_result"
    }
   ],
   "source": [
    "min(t)"
   ]
  },
  {
   "cell_type": "code",
   "execution_count": 35,
   "id": "0901b0c6",
   "metadata": {},
   "outputs": [
    {
     "data": {
      "text/plain": [
       "4"
      ]
     },
     "execution_count": 35,
     "metadata": {},
     "output_type": "execute_result"
    }
   ],
   "source": [
    "max(t)"
   ]
  },
  {
   "cell_type": "code",
   "execution_count": 36,
   "id": "0b764497",
   "metadata": {},
   "outputs": [
    {
     "data": {
      "text/plain": [
       "[4, 3, 2, 1]"
      ]
     },
     "execution_count": 36,
     "metadata": {},
     "output_type": "execute_result"
    }
   ],
   "source": [
    "sorted(t,reverse=True)"
   ]
  },
  {
   "cell_type": "code",
   "execution_count": 38,
   "id": "37e5ebc9",
   "metadata": {},
   "outputs": [
    {
     "data": {
      "text/plain": [
       "1"
      ]
     },
     "execution_count": 38,
     "metadata": {},
     "output_type": "execute_result"
    }
   ],
   "source": [
    "#count\n",
    "t=(1,2,3,4,5)\n",
    "t.count(5)"
   ]
  },
  {
   "cell_type": "code",
   "execution_count": 40,
   "id": "48815f24",
   "metadata": {},
   "outputs": [
    {
     "data": {
      "text/plain": [
       "4"
      ]
     },
     "execution_count": 40,
     "metadata": {},
     "output_type": "execute_result"
    }
   ],
   "source": [
    "#index\n",
    "t.index(5)\n",
    "# index position of 5 is 4"
   ]
  },
  {
   "cell_type": "markdown",
   "id": "a2640e6a",
   "metadata": {},
   "source": [
    "### Difference between Lists and Tuples"
   ]
  },
  {
   "cell_type": "raw",
   "id": "4418a808",
   "metadata": {},
   "source": [
    "Syntax\n",
    "Mutability\n",
    "speed\n",
    "Memory \n",
    "Built In functionality\n",
    "Error prone\n",
    "usability"
   ]
  },
  {
   "cell_type": "code",
   "execution_count": 42,
   "id": "1fa543db",
   "metadata": {},
   "outputs": [],
   "source": [
    "#tuples are faster then list , because tuple are immutable"
   ]
  },
  {
   "cell_type": "code",
   "execution_count": null,
   "id": "5fdaaad5",
   "metadata": {},
   "outputs": [],
   "source": [
    "import time\n",
    "L=list(range(100000000))\n",
    "T=tuple(range(100000000))\n",
    "\n",
    "start = time.time()\n",
    "for i in L:\n",
    "    i*5\n",
    "print('List time', time.time()-start)\n",
    "\n",
    "start=time.time()\n",
    "for i in T:\n",
    "    i*5\n",
    "print('Tuple time',time.time()-start)"
   ]
  },
  {
   "cell_type": "code",
   "execution_count": 1,
   "id": "183e8b22",
   "metadata": {},
   "outputs": [
    {
     "name": "stdout",
     "output_type": "stream",
     "text": [
      "List size 8056\n",
      "Tuple size 8040\n"
     ]
    }
   ],
   "source": [
    "import sys\n",
    "L=list(range(1000))\n",
    "T=tuple(range(1000))\n",
    "\n",
    "print('List size',sys.getsizeof(L))\n",
    "print('Tuple size',sys.getsizeof(T))"
   ]
  },
  {
   "cell_type": "markdown",
   "id": "d9c733c6",
   "metadata": {},
   "source": [
    "### Special Syntax"
   ]
  },
  {
   "cell_type": "markdown",
   "id": "4610e489",
   "metadata": {},
   "source": [
    "#### tuple unpacking "
   ]
  },
  {
   "cell_type": "code",
   "execution_count": 3,
   "id": "a05d2413",
   "metadata": {},
   "outputs": [
    {
     "name": "stdout",
     "output_type": "stream",
     "text": [
      "1 2 3\n"
     ]
    }
   ],
   "source": [
    "\n",
    "a,b,c=(1,2,3)\n",
    "print(a,b,c)"
   ]
  },
  {
   "cell_type": "raw",
   "id": "26030bc3",
   "metadata": {},
   "source": [
    "a,b=(1,2,3)\n",
    "it give error, because two sides value must be same"
   ]
  },
  {
   "cell_type": "code",
   "execution_count": 5,
   "id": "85a82a7a",
   "metadata": {},
   "outputs": [
    {
     "name": "stdout",
     "output_type": "stream",
     "text": [
      "2 1\n"
     ]
    }
   ],
   "source": [
    "a=1\n",
    "b=2\n",
    "a,b=b,a\n",
    "print(a,b)\n"
   ]
  },
  {
   "cell_type": "code",
   "execution_count": 6,
   "id": "3580e3a2",
   "metadata": {},
   "outputs": [
    {
     "name": "stdout",
     "output_type": "stream",
     "text": [
      "1 2\n",
      "[3, 4]\n"
     ]
    }
   ],
   "source": [
    "a,b,*others = (1,2,3,4)\n",
    "print(a,b)\n",
    "print(others)"
   ]
  },
  {
   "cell_type": "markdown",
   "id": "d6539b75",
   "metadata": {},
   "source": [
    "#### Zipping tuples"
   ]
  },
  {
   "cell_type": "code",
   "execution_count": 8,
   "id": "b74a235b",
   "metadata": {},
   "outputs": [
    {
     "data": {
      "text/plain": [
       "[(1, 5), (2, 6), (3, 7), (4, 8)]"
      ]
     },
     "execution_count": 8,
     "metadata": {},
     "output_type": "execute_result"
    }
   ],
   "source": [
    "a=(1,2,3,4)\n",
    "b=(5,6,7,8)\n",
    "\n",
    "list(zip(a,b))\n"
   ]
  },
  {
   "cell_type": "code",
   "execution_count": 9,
   "id": "2f31ec0f",
   "metadata": {},
   "outputs": [
    {
     "data": {
      "text/plain": [
       "((1, 5), (2, 6), (3, 7), (4, 8))"
      ]
     },
     "execution_count": 9,
     "metadata": {},
     "output_type": "execute_result"
    }
   ],
   "source": [
    "tuple(zip(a,b))"
   ]
  },
  {
   "cell_type": "code",
   "execution_count": 7,
   "id": "a3a83ed2",
   "metadata": {},
   "outputs": [
    {
     "name": "stdout",
     "output_type": "stream",
     "text": [
      "['banana', 'cherry']\n"
     ]
    }
   ],
   "source": [
    "#changing tuple into list then we can remove item in tuples\n",
    "thistuple=(\"apple\",\"banana\",\"cherry\")\n",
    "y=list(thistuple)\n",
    "y.remove(\"apple\")\n",
    "thistuple=((y))\n",
    "print(y)"
   ]
  }
 ],
 "metadata": {
  "kernelspec": {
   "display_name": "Python 3 (ipykernel)",
   "language": "python",
   "name": "python3"
  },
  "language_info": {
   "codemirror_mode": {
    "name": "ipython",
    "version": 3
   },
   "file_extension": ".py",
   "mimetype": "text/x-python",
   "name": "python",
   "nbconvert_exporter": "python",
   "pygments_lexer": "ipython3",
   "version": "3.9.13"
  }
 },
 "nbformat": 4,
 "nbformat_minor": 5
}
