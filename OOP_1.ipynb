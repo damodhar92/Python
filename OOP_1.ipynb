{
 "cells": [
  {
   "cell_type": "markdown",
   "id": "31489d6c",
   "metadata": {},
   "source": [
    "## OOP"
   ]
  },
  {
   "cell_type": "raw",
   "id": "7277ae6d",
   "metadata": {},
   "source": [
    "#Every thing in python are object."
   ]
  },
  {
   "cell_type": "raw",
   "id": "3f256f6a",
   "metadata": {},
   "source": [
    "#the main aim of oop is to creat own data types by the programmer."
   ]
  },
  {
   "cell_type": "raw",
   "id": "6363bfe7",
   "metadata": {},
   "source": [
    "#The String,Tuple,List,Dist are class in the python."
   ]
  },
  {
   "cell_type": "code",
   "execution_count": 1,
   "id": "240e4be1",
   "metadata": {},
   "outputs": [
    {
     "name": "stdout",
     "output_type": "stream",
     "text": [
      "<class 'list'>\n"
     ]
    }
   ],
   "source": [
    "L=[1,2,3,4]\n",
    "print(type(L))"
   ]
  },
  {
   "cell_type": "raw",
   "id": "766ac76f",
   "metadata": {},
   "source": [
    "#'List' is class in the python, variable L=[1,2,3,4] is object of List Class."
   ]
  },
  {
   "cell_type": "raw",
   "id": "9d2ba060",
   "metadata": {},
   "source": [
    "#Class is a blue print of set of rules."
   ]
  },
  {
   "cell_type": "raw",
   "id": "ea58f85c",
   "metadata": {},
   "source": [
    "#The Class is shows how the object is behaves in a class."
   ]
  },
  {
   "cell_type": "raw",
   "id": "ceedf83b",
   "metadata": {},
   "source": [
    "#Mentorship Program is class and students in the mentorship program are objects."
   ]
  },
  {
   "cell_type": "raw",
   "id": "9596d855",
   "metadata": {},
   "source": [
    "#Class:----->Data or property\n",
    "#     :----->Functions or Behaviors"
   ]
  },
  {
   "cell_type": "code",
   "execution_count": null,
   "id": "52328878",
   "metadata": {},
   "outputs": [],
   "source": [
    "#Object: object is an instance of the class"
   ]
  },
  {
   "cell_type": "raw",
   "id": "4148c66f",
   "metadata": {},
   "source": [
    "#Syntax to create an object \n",
    "\n",
    "objectname=classname()"
   ]
  },
  {
   "cell_type": "raw",
   "id": "a60521d4",
   "metadata": {},
   "source": [
    "#type of class\n",
    "   User defined \n",
    "    built in "
   ]
  },
  {
   "cell_type": "code",
   "execution_count": 5,
   "id": "8695bc61",
   "metadata": {},
   "outputs": [
    {
     "data": {
      "text/plain": [
       "[1, 2, 3, 4, 5]"
      ]
     },
     "execution_count": 5,
     "metadata": {},
     "output_type": "execute_result"
    }
   ],
   "source": [
    "#Ex\n",
    "L=list([1,2,3,4,5])\n",
    "L"
   ]
  },
  {
   "cell_type": "code",
   "execution_count": 6,
   "id": "feff6e78",
   "metadata": {},
   "outputs": [
    {
     "data": {
      "text/plain": [
       "'damodhara'"
      ]
     },
     "execution_count": 6,
     "metadata": {},
     "output_type": "execute_result"
    }
   ],
   "source": [
    "s=str(('damodhara'))\n",
    "s"
   ]
  },
  {
   "cell_type": "code",
   "execution_count": 11,
   "id": "a5ba90bd",
   "metadata": {},
   "outputs": [
    {
     "name": "stdout",
     "output_type": "stream",
     "text": [
      "<class '__main__.Atm'>\n"
     ]
    }
   ],
   "source": [
    "print(type(obj))"
   ]
  },
  {
   "cell_type": "code",
   "execution_count": null,
   "id": "a10fc791",
   "metadata": {},
   "outputs": [],
   "source": [
    "#Constructor:\n",
    "  If we write a code inside the constructor, when we execute the code , it is not required to call the constructor."
   ]
  },
  {
   "cell_type": "code",
   "execution_count": 2,
   "id": "a4d51ac3",
   "metadata": {},
   "outputs": [],
   "source": [
    "class Atm:\n",
    "    \n",
    "    def __init__(self):\n",
    "        print(id(self))\n",
    "        self.pin=' '\n",
    "        self.balance =0\n",
    "        #sef.menu()\n",
    "        \n",
    "    def menu(self):\n",
    "        user_input=input( \"\"\"\n",
    "        Hi how can I help you?\n",
    "        1.Press 1 to create pin \n",
    "        2.Press 2 to change pin \n",
    "        3.Press 3 to check balance\n",
    "        4.Press 4 to withdraw\n",
    "        5.Anything else to exit\n",
    "        \n",
    "        \n",
    "        \"\"\")\n",
    "        \n",
    "        if user_input == '1':\n",
    "            self.create_pin()\n",
    "        elif user_input == '2':\n",
    "            self.change_pin()\n",
    "        elif user_input == '3':\n",
    "            self.check_balance()\n",
    "        elif user_input == '4':\n",
    "            self.withdraw()\n",
    "        else:\n",
    "            exit()\n",
    "            \n",
    "    def create_pin(self):\n",
    "        user_pin = input('enter your pin')\n",
    "        self.pin=user_pin\n",
    "        \n",
    "        user_balance=int(input('enter your balance'))\n",
    "        self.balance = user_balance\n",
    "        \n",
    "        print('pin created successfully')\n",
    "        self.menu()\n",
    "        \n",
    "    def change_pin(self):\n",
    "        old_pin = input('enter old pin')\n",
    "        \n",
    "        if old_pin == self.pin:\n",
    "            #let him change the pin\n",
    "            new_pin = input('enter new pin')\n",
    "            self.pin=new_pin\n",
    "            print('pin change successful')\n",
    "            self.menu()\n",
    "        else:\n",
    "            print('nai karne de sakta re baba')\n",
    "            self.menu()\n",
    "            \n",
    "    def check_balance(self):\n",
    "        user_pin = input('enter your pin')\n",
    "        if user_pin == self.pin:\n",
    "            print('your balance is ',self.balance)\n",
    "        else:\n",
    "            print('chal nikhal yahan se')\n",
    "            self.menu()\n",
    "    def withdraw(self):\n",
    "        user_pin = input('enter the pin')\n",
    "        if user_pin == self.pin:\n",
    "            amount=int(input('enter the amount'))\n",
    "            if amount <= self.balance:\n",
    "                self.balance=self.balance-amount\n",
    "                print('withdrawl successful.balance is', self.balance)\n",
    "            else:\n",
    "                print('abe garib')\n",
    "        else:\n",
    "            print('sale chor')\n",
    "        self.menu()"
   ]
  },
  {
   "cell_type": "code",
   "execution_count": null,
   "id": "53e8cb4e",
   "metadata": {},
   "outputs": [],
   "source": [
    "L=[1,2,3,4]\n",
    "len(L)#function -->because it is outside the list class\n",
    "L.append() #method--> because it is inside the list class"
   ]
  },
  {
   "cell_type": "markdown",
   "id": "6d8ca5c3",
   "metadata": {},
   "source": [
    "### Fraction "
   ]
  },
  {
   "cell_type": "code",
   "execution_count": 44,
   "id": "c61f0a30",
   "metadata": {},
   "outputs": [],
   "source": [
    "class Fraction:\n",
    "    #parameterized constructor\n",
    "    def __init__(self,x,y):\n",
    "        self.num=x\n",
    "        self.den=y\n",
    "        \n",
    "    def __str__(self):\n",
    "        return '{}/{}'.format(self.num,self.den)\n",
    "    \n",
    "    def __add__(self,other):\n",
    "        new_num = self.num*other.den + other.num*self.den\n",
    "        new_den=self.den*other.den\n",
    "        return '{}/{}'.format(new_num,new_den)\n",
    "    \n",
    "    def __sub__(self,other):\n",
    "        new_num = self.num*other.den - other.num*self.den\n",
    "        new_den=self.den*other.den\n",
    "        return '{}/{}'.format(new_num,new_den)\n",
    "    def __mul__(self,other):\n",
    "        new_num =self.num*other.num\n",
    "        new_den=self.den*other.den\n",
    "        return '{}/{}'.format(new_num,new_den)\n",
    "    def __truediv__(self,other):\n",
    "        new_num=self.num*other.den\n",
    "        new_den = self.den*other.num\n",
    "        \n",
    "        return '{}/{}'.format(new_num,num_den)\n",
    "\n",
    "    def convert_to_decimal(self):\n",
    "        return self.num/self.den\n",
    "    "
   ]
  },
  {
   "cell_type": "code",
   "execution_count": 40,
   "id": "bff15fd4",
   "metadata": {},
   "outputs": [],
   "source": [
    "fr1=Fraction(3,4)\n",
    "fr2=Fraction(5,6)"
   ]
  },
  {
   "cell_type": "code",
   "execution_count": 41,
   "id": "8a67a1a3",
   "metadata": {},
   "outputs": [
    {
     "name": "stdout",
     "output_type": "stream",
     "text": [
      "3/4\n"
     ]
    }
   ],
   "source": [
    "print(fr1)"
   ]
  },
  {
   "cell_type": "code",
   "execution_count": 42,
   "id": "3e9b48aa",
   "metadata": {},
   "outputs": [
    {
     "name": "stdout",
     "output_type": "stream",
     "text": [
      "5/6\n"
     ]
    }
   ],
   "source": [
    "print(fr2)"
   ]
  },
  {
   "cell_type": "markdown",
   "id": "9908f304",
   "metadata": {},
   "source": [
    "# `Q-1:` Rectangle Class\n",
    "1. Write a Rectangle class in Python language, allowing you to build a rectangle with length and width attributes.\n",
    "\n",
    "2. Create a Perimeter() method to calculate the perimeter of the rectangle and a Area() method to calculate the area of ​​the rectangle.\n",
    "\n",
    "3. Create a method display() that display the length, width, perimeter and area of an object created using an instantiation on rectangle class."
   ]
  },
  {
   "cell_type": "code",
   "execution_count": 2,
   "id": "ec14ff75",
   "metadata": {},
   "outputs": [
    {
     "name": "stdout",
     "output_type": "stream",
     "text": [
      "length 4\n",
      "width 5\n",
      "perimeter 18\n",
      "area 20\n"
     ]
    }
   ],
   "source": [
    "# write your code here\n",
    "\n",
    "class Rectangle:\n",
    "\n",
    "    def __init__(self,l,b):\n",
    "        self.__length = l\n",
    "        self.__width = b\n",
    "\n",
    "    def __perimeter(self):\n",
    "        return 2*(self.__length + self.__width)\n",
    "\n",
    "    def __area(self):\n",
    "        return self.__length * self.__width\n",
    "\n",
    "    def display(self):\n",
    "        print('length',self.__length)\n",
    "        print('width',self.__width)\n",
    "        print('perimeter',self.__perimeter())\n",
    "        print('area',self.__area())\n",
    "\n",
    "obj = Rectangle(4,5)\n",
    "obj.display()"
   ]
  },
  {
   "cell_type": "markdown",
   "id": "2ac5d28e",
   "metadata": {},
   "source": [
    "# `Q-2: Bank Class`\n",
    "\n",
    "1. Create a Python class called `BankAccount` which represents a bank account, having as attributes: `accountNumber` (numeric type), `name` (name of the account owner as string type), `balance`.\n",
    "2. Create a constructor with parameters: `accountNumber, name, balance`.\n",
    "3. Create a `Deposit()` method which manages the deposit actions.\n",
    "4. Create a `Withdrawal()` method  which manages withdrawals actions.\n",
    "5. Create an `bankFees()` method to apply the bank fees with a percentage of 5% of the balance account.\n",
    "6. Create a `display()` method to display account details.\n",
    "Give the complete code for the  BankAccount class."
   ]
  },
  {
   "cell_type": "code",
   "execution_count": 4,
   "id": "af1a6e4b",
   "metadata": {},
   "outputs": [
    {
     "name": "stdout",
     "output_type": "stream",
     "text": [
      "Account Number : 1000000\n",
      "Account Name : nitish\n",
      "Account Balance : 855.0 ₹\n"
     ]
    }
   ],
   "source": [
    "class Bank:\n",
    "\n",
    "    def __init__(self,name,acc_no,balance):\n",
    "        self.__name = name\n",
    "        self.__acc_no = acc_no\n",
    "        self.__balance = balance\n",
    "\n",
    "    def display(self):\n",
    "        print('Account Number :',self.__acc_no)\n",
    "        print('Account Name :',self.__name)\n",
    "        print('Account Balance :',self.__balance,'₹')\n",
    "\n",
    "    def deposit(self,amount):\n",
    "        self.__balance = self.__balance + amount\n",
    "\n",
    "    def withdrawl(self,amount):\n",
    "        if amount>self.__balance:\n",
    "            print('Insufficient funds')\n",
    "        else:\n",
    "            self.__balance = self.__balance - amount\n",
    "            reduction = self.__bankFees()\n",
    "            self.__balance = self.__balance - reduction\n",
    "            \n",
    "    def __bankFees(self):\n",
    "        return 0.05*self.__balance\n",
    "\n",
    "cust = Bank('nitish',1000000,500)\n",
    "cust.deposit(500)\n",
    "cust.withdrawl(100)\n",
    "cust.display()"
   ]
  },
  {
   "cell_type": "markdown",
   "id": "2ab2df6e",
   "metadata": {},
   "source": [
    "# `Q-3:Computation class`\n",
    "\n",
    "1. Create a `Computation` class with a default constructor (without parameters) allowing to perform various calculations on integers numbers.\n",
    "2. Create a method called `Factorial()` which allows to calculate the factorial of an integer n. Integer n as parameter for this method\n",
    "\n",
    "3. Create a method called `naturalSum()` allowing to calculate the sum of the first n integers 1 + 2 + 3 + .. + n. Integer n as parameter for this method.\n",
    "\n",
    "4. Create a method called `testPrime()` in  the Calculation class to test the primality of a given integer n, n is Prime or Not? Integer n as parameter for this method.\n",
    "\n",
    "5. Create  a method called `testPrims()` allowing to test if two numbers are prime between them. Two integers are prime to one another if they have only `1` as their common divisor. Eg. 4 and 9 are prime to each other.\n",
    "\n",
    "5. Create a `tableMult()` method which creates and displays the multiplication table of a given integer. Then create an `allTablesMult()` method to display all the integer multiplication tables 1, 2, 3, ..., 9.\n",
    "\n",
    "6. Create a static `listDiv()` method that gets all the divisors of a given integer on new list called  Ldiv. Create another `listDivPrim()` method that gets all the prime divisors of a given integer."
   ]
  },
  {
   "cell_type": "code",
   "execution_count": 5,
   "id": "aeffe008",
   "metadata": {},
   "outputs": [
    {
     "name": "stdout",
     "output_type": "stream",
     "text": [
      "The numbers 13 and 7 are co-primes\n",
      "List of divisors of 18: [1, 2, 3, 6, 9, 18]\n",
      "List of prime divisors of 18: [2, 3]\n",
      "\n",
      "the multiplication table of: 1 is:\n",
      "1 x 1 = 1\n",
      "2 x 1 = 2\n",
      "3 x 1 = 3\n",
      "4 x 1 = 4\n",
      "5 x 1 = 5\n",
      "6 x 1 = 6\n",
      "7 x 1 = 7\n",
      "8 x 1 = 8\n",
      "9 x 1 = 9\n",
      "\n",
      "the multiplication table of: 2 is:\n",
      "1 x 2 = 2\n",
      "2 x 2 = 4\n",
      "3 x 2 = 6\n",
      "4 x 2 = 8\n",
      "5 x 2 = 10\n",
      "6 x 2 = 12\n",
      "7 x 2 = 14\n",
      "8 x 2 = 16\n",
      "9 x 2 = 18\n",
      "\n",
      "the multiplication table of: 3 is:\n",
      "1 x 3 = 3\n",
      "2 x 3 = 6\n",
      "3 x 3 = 9\n",
      "4 x 3 = 12\n",
      "5 x 3 = 15\n",
      "6 x 3 = 18\n",
      "7 x 3 = 21\n",
      "8 x 3 = 24\n",
      "9 x 3 = 27\n",
      "\n",
      "the multiplication table of: 4 is:\n",
      "1 x 4 = 4\n",
      "2 x 4 = 8\n",
      "3 x 4 = 12\n",
      "4 x 4 = 16\n",
      "5 x 4 = 20\n",
      "6 x 4 = 24\n",
      "7 x 4 = 28\n",
      "8 x 4 = 32\n",
      "9 x 4 = 36\n",
      "\n",
      "the multiplication table of: 5 is:\n",
      "1 x 5 = 5\n",
      "2 x 5 = 10\n",
      "3 x 5 = 15\n",
      "4 x 5 = 20\n",
      "5 x 5 = 25\n",
      "6 x 5 = 30\n",
      "7 x 5 = 35\n",
      "8 x 5 = 40\n",
      "9 x 5 = 45\n",
      "\n",
      "the multiplication table of: 6 is:\n",
      "1 x 6 = 6\n",
      "2 x 6 = 12\n",
      "3 x 6 = 18\n",
      "4 x 6 = 24\n",
      "5 x 6 = 30\n",
      "6 x 6 = 36\n",
      "7 x 6 = 42\n",
      "8 x 6 = 48\n",
      "9 x 6 = 54\n",
      "\n",
      "the multiplication table of: 7 is:\n",
      "1 x 7 = 7\n",
      "2 x 7 = 14\n",
      "3 x 7 = 21\n",
      "4 x 7 = 28\n",
      "5 x 7 = 35\n",
      "6 x 7 = 42\n",
      "7 x 7 = 49\n",
      "8 x 7 = 56\n",
      "9 x 7 = 63\n",
      "\n",
      "the multiplication table of: 8 is:\n",
      "1 x 8 = 8\n",
      "2 x 8 = 16\n",
      "3 x 8 = 24\n",
      "4 x 8 = 32\n",
      "5 x 8 = 40\n",
      "6 x 8 = 48\n",
      "7 x 8 = 56\n",
      "8 x 8 = 64\n",
      "9 x 8 = 72\n",
      "\n",
      "the multiplication table of: 9 is:\n",
      "1 x 9 = 9\n",
      "2 x 9 = 18\n",
      "3 x 9 = 27\n",
      "4 x 9 = 36\n",
      "5 x 9 = 45\n",
      "6 x 9 = 54\n",
      "7 x 9 = 63\n",
      "8 x 9 = 72\n",
      "9 x 9 = 81\n"
     ]
    }
   ],
   "source": [
    "# write your code here\n",
    "#Write your code here\n",
    "\n",
    "class Computation:\n",
    "    def __init__ (self):\n",
    "        pass\n",
    "# --- Factorial ------------\n",
    "    def factorial(self, n):\n",
    "        j = 1\n",
    "        for i in range (1, n + 1):\n",
    "            j = j * i\n",
    "        return j\n",
    "    \n",
    "# --- Sum of the first n numbers ----\n",
    "    def naturalSum(self, n):\n",
    "        j = 1\n",
    "        for i in range (1, n + 1):\n",
    "            j = j + i\n",
    "        return j\n",
    "    \n",
    "# --- Primality test of a number ------------\n",
    "    def testPrime(self, n):\n",
    "        j = 0\n",
    "        for i in range (1, n + 1):\n",
    "            if (n% i == 0):\n",
    "                j = j + 1\n",
    "        if (j == 2):\n",
    "            return True\n",
    "        else:\n",
    "            return False\n",
    "\n",
    "# --- Primality test of two integers ------------\n",
    "    def testPrims(self, n, m):\n",
    "        \n",
    "        # initialize the number of commons divisors\n",
    "        commonDiv = 0\n",
    "        for i in range (1, n + 1):\n",
    "            if (n% i == 0 and m% i == 0):\n",
    "                commonDiv = commonDiv + 1\n",
    "        if commonDiv == 1:\n",
    "            print (\"The numbers\", n, \"and\", m, \"are co-primes\")\n",
    "        else:\n",
    "            print (\"The numbers\", n, \"and\", m, \"are not co-primes\")\n",
    "\n",
    "#---Multiplication table-------------\n",
    "    def tableMult(self, k):\n",
    "        for i in range (1,10):\n",
    "            print (i, \"x\", k, \"=\", i * k)\n",
    "\n",
    "# --- All multiplication tables of the numbers 1, 2, .., 9\n",
    "    def allTables(self):\n",
    "        for k in range (1,10):\n",
    "            print (\"\\nthe multiplication table of:\", k, \"is:\")\n",
    "            for i in range (1,10):\n",
    "                print (i, \"x\", k, \"=\", i * k)\n",
    "\n",
    "# ----- list of divisors of an integer\n",
    "    def listDivisor(self, n):\n",
    "        # initialization of the list of divisors\n",
    "        lDiv = []\n",
    "        for i in range (1, n + 1):\n",
    "            if (n% i == 0):\n",
    "                lDiv.append (i)\n",
    "        return lDiv\n",
    "\n",
    "# ------ list of prime divisors of an integer ----------------\n",
    "    def listPrimeDivisor(self, n):\n",
    "        # initialization of the list of divisors\n",
    "        lDiv = []\n",
    "        for i in range (1, n + 1):\n",
    "            if (n% i == 0 and self.testPrime(i)):\n",
    "                lDiv.append(i)\n",
    "        return lDiv\n",
    "\n",
    "# Instantiation example\n",
    "Comput= Computation ()\n",
    "Comput.testPrims(13, 7)\n",
    "print (\"List of divisors of 18:\", Comput.listDivisor(18))\n",
    "print (\"List of prime divisors of 18:\", Comput.listPrimeDivisor(18))\n",
    "Comput.allTables()"
   ]
  },
  {
   "cell_type": "markdown",
   "id": "283e7544",
   "metadata": {},
   "source": [
    "# `Q-4`: Build flashcard using class in Python.\n",
    "\n",
    "Build a flashcard using class in python. A flashcard is a card having information on both sides, which can be used as an aid in memoization. Flashcards usually have a question on one side and an answer on the other.\n",
    "\n",
    "**Example 1:**\n",
    "\n",
    "Approach:\n",
    "\n",
    "- Create a class named FlashCard.\n",
    "- Initialize dictionary fruits using __init__() method. Here you have to define fruit name as key and it's color as value. E.g., {\"Banana\": \"yellow\", \"Strawberries\": \"pink\"}\n",
    "- Now randomly choose a pair from fruits by using _random_ module and store the key in variable _fruit_ and _value_ in variable color.\n",
    "- Now prompt the user to answer the color of the randomly chosen fruit.\n",
    "- If correct print correct else print wrong.\n",
    "\n",
    "Output:\n",
    "```bash\n",
    "welcome to fruit quiz\n",
    "What is the color of Strawberries\n",
    "pink\n",
    "Correct answer\n",
    "Enter 0, if you want to play again: 0\n",
    "What is the color of watermelon\n",
    "green\n",
    "Correct answer\n",
    "Enter 0, if you want to play again: 1\n",
    "```"
   ]
  },
  {
   "cell_type": "code",
   "execution_count": 15,
   "id": "62cfd3c7",
   "metadata": {},
   "outputs": [
    {
     "name": "stdout",
     "output_type": "stream",
     "text": [
      "Welcome to the fruit quiz\n",
      "What is the color of banana\n",
      "yellow\n",
      "Sahi jawab\n",
      "enter 0 to play again 1 to exit1\n"
     ]
    }
   ],
   "source": [
    "# write your code here\n",
    "import random \n",
    "\n",
    "class FlashCard:\n",
    "\n",
    "    def __init__(self):\n",
    "        self.__fruits = {\n",
    "            'apple':'red',\n",
    "            'banana':'yellow',\n",
    "            'watermelon':'green',\n",
    "            'strawberry':'pink',\n",
    "            'guava':'green'\n",
    "        }\n",
    "\n",
    "    def quiz(self):\n",
    "\n",
    "        while True:\n",
    "\n",
    "            fruit,color = random.choices(list(self.__fruits.items()))[0]\n",
    "\n",
    "            print('What is the color of {}'.format(fruit))\n",
    "            user_answer = input()\n",
    "\n",
    "            if user_answer.lower() == color:\n",
    "                print('Sahi jawab')\n",
    "            else:\n",
    "                print('Galat jawab')\n",
    "\n",
    "            option = int(input('enter 0 to play again 1 to exit'))\n",
    "\n",
    "            if option:\n",
    "                break\n",
    "\n",
    "print('Welcome to the fruit quiz')\n",
    "fc = FlashCard()\n",
    "fc.quiz()\n",
    "\n"
   ]
  },
  {
   "cell_type": "code",
   "execution_count": 20,
   "id": "e6085fe6",
   "metadata": {},
   "outputs": [
    {
     "ename": "NameError",
     "evalue": "name 'fruit' is not defined",
     "output_type": "error",
     "traceback": [
      "\u001b[1;31m---------------------------------------------------------------------------\u001b[0m",
      "\u001b[1;31mNameError\u001b[0m                                 Traceback (most recent call last)",
      "\u001b[1;32m~\\AppData\\Local\\Temp\\ipykernel_12016\\2229915581.py\u001b[0m in \u001b[0;36m<module>\u001b[1;34m\u001b[0m\n\u001b[0;32m      9\u001b[0m \u001b[1;33m\u001b[0m\u001b[0m\n\u001b[0;32m     10\u001b[0m \u001b[1;33m\u001b[0m\u001b[0m\n\u001b[1;32m---> 11\u001b[1;33m \u001b[0mprint\u001b[0m\u001b[1;33m(\u001b[0m\u001b[0mfruit\u001b[0m\u001b[1;33m)\u001b[0m\u001b[1;33m\u001b[0m\u001b[1;33m\u001b[0m\u001b[0m\n\u001b[0m\u001b[0;32m     12\u001b[0m \u001b[0mprint\u001b[0m\u001b[1;33m(\u001b[0m\u001b[0mcolor\u001b[0m\u001b[1;33m)\u001b[0m\u001b[1;33m\u001b[0m\u001b[1;33m\u001b[0m\u001b[0m\n",
      "\u001b[1;31mNameError\u001b[0m: name 'fruit' is not defined"
     ]
    }
   ],
   "source": [
    "import random\n",
    "d = {\n",
    "            'apple':'red',\n",
    "            'banana':'yellow',\n",
    "            'watermelon':'green',\n",
    "            'strawberry':'pink',\n",
    "            'guava':'green'\n",
    "        }\n",
    "\n",
    "\n",
    "print(fruit)\n",
    "print(color)"
   ]
  },
  {
   "cell_type": "markdown",
   "id": "2c5a612a",
   "metadata": {},
   "source": [
    "# `Q-5:` Problem 5 based on OOP Python.\n",
    "\n",
    "TechWorld, a technology training center, wants to allocate courses for instructors. An instructor is identified by name, technology skills, experience and average feedback. An instructor is allocated a course, if he/she satisfies the below two conditions:\n",
    "- eligibility criteria:\n",
    "    - if experience is more than 3 years, average feedback should be 4.5 or more\n",
    "    - if experience is 3 years or less, average feedback should be 4 or more\n",
    "- he/she should posses the technology skill for the course\n",
    "\n",
    "Identify the class name and attributes to represent instructors. Write a Python program to implement the class chosen with its attributes and methods.\n",
    "\n",
    "**Note:**\n",
    "- Consider all instance variables to be private and methods to be public.\n",
    "- An instructor may have multiple technology skills, so consider instance variable, technology_skill to be a list.\n",
    "- *check_eligibility()*: Return true if eligibility criteria is satisfied by the instructor. Else, return false\n",
    "- *allocate_course(technology)*: Return true if the course which requires the given technology can be allocated to the instructor. Else, return false.\n",
    "\n",
    "Represent a few objects of the class, initialize instance variables using setter methods, invoke\n",
    "appropriate methods and test your program."
   ]
  },
  {
   "cell_type": "code",
   "execution_count": 14,
   "id": "55534f7b",
   "metadata": {},
   "outputs": [
    {
     "data": {
      "text/plain": [
       "'Ye to usko aata hi nai hai'"
      ]
     },
     "execution_count": 14,
     "metadata": {},
     "output_type": "execute_result"
    }
   ],
   "source": [
    "# write your code here\n",
    "\n",
    "class Instructor:\n",
    "\n",
    "    def __init__(self,name,technology,experience,feedback):\n",
    "        self.__name = name\n",
    "        self.__technology = technology\n",
    "        self.__experience = experience\n",
    "        self.__feedback = feedback\n",
    "\n",
    "    def check_eligibility(self):\n",
    "\n",
    "        if self.__experience > 3 and self.__feedback >= 4.5:\n",
    "            return True\n",
    "        elif self.__experience <= 3 and self.__feedback >= 4:\n",
    "            return True\n",
    "        else:\n",
    "            return False\n",
    "\n",
    "    def allocate_course(self,tech):\n",
    "        is_eligible = self.check_eligibility()\n",
    "\n",
    "        if is_eligible:\n",
    "            if tech in self.__technology:\n",
    "                return 'Padha sakta hai'\n",
    "            else:\n",
    "                return 'Ye to usko aata hi nai hai'\n",
    "        else:\n",
    "            return 'acha nai padhata hai'\n",
    "\n",
    "ins = Instructor('Nitish',['Data Science','Web Development'],5,4.9)\n",
    "ins.allocate_course('Android Dev')"
   ]
  }
 ],
 "metadata": {
  "kernelspec": {
   "display_name": "Python 3 (ipykernel)",
   "language": "python",
   "name": "python3"
  },
  "language_info": {
   "codemirror_mode": {
    "name": "ipython",
    "version": 3
   },
   "file_extension": ".py",
   "mimetype": "text/x-python",
   "name": "python",
   "nbconvert_exporter": "python",
   "pygments_lexer": "ipython3",
   "version": "3.9.13"
  }
 },
 "nbformat": 4,
 "nbformat_minor": 5
}
