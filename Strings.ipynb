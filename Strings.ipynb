{
 "cells": [
  {
   "cell_type": "markdown",
   "id": "592530cb",
   "metadata": {},
   "source": [
    "### Creating Strings"
   ]
  },
  {
   "cell_type": "code",
   "execution_count": 1,
   "id": "efbec9f4",
   "metadata": {},
   "outputs": [
    {
     "name": "stdout",
     "output_type": "stream",
     "text": [
      "hello\n"
     ]
    }
   ],
   "source": [
    "s='hello'\n",
    "print(s)"
   ]
  },
  {
   "cell_type": "code",
   "execution_count": 2,
   "id": "fd97ff0d",
   "metadata": {},
   "outputs": [
    {
     "name": "stdout",
     "output_type": "stream",
     "text": [
      "hello\n"
     ]
    }
   ],
   "source": [
    "s=\"hello\"\n",
    "print(s)"
   ]
  },
  {
   "cell_type": "code",
   "execution_count": 3,
   "id": "3db5da68",
   "metadata": {},
   "outputs": [
    {
     "name": "stdout",
     "output_type": "stream",
     "text": [
      "hello\n"
     ]
    }
   ],
   "source": [
    "s='''hello'''\n",
    "print(s)\n",
    "#multiline strings"
   ]
  },
  {
   "cell_type": "code",
   "execution_count": 4,
   "id": "d40ceb5f",
   "metadata": {},
   "outputs": [
    {
     "name": "stdout",
     "output_type": "stream",
     "text": [
      "hello\n"
     ]
    }
   ],
   "source": [
    "s=\"\"\"hello\"\"\"\n",
    "print(s)"
   ]
  },
  {
   "cell_type": "code",
   "execution_count": 5,
   "id": "105dcd6f",
   "metadata": {},
   "outputs": [
    {
     "name": "stdout",
     "output_type": "stream",
     "text": [
      "hello\n"
     ]
    }
   ],
   "source": [
    "s=str('hello')\n",
    "print(s)"
   ]
  },
  {
   "cell_type": "code",
   "execution_count": 6,
   "id": "864b602e",
   "metadata": {},
   "outputs": [
    {
     "name": "stdout",
     "output_type": "stream",
     "text": [
      "it's raining outside\n"
     ]
    }
   ],
   "source": [
    "x=\"it's raining outside\"\n",
    "print(x)"
   ]
  },
  {
   "cell_type": "code",
   "execution_count": 7,
   "id": "6ea06b89",
   "metadata": {},
   "outputs": [
    {
     "name": "stdout",
     "output_type": "stream",
     "text": [
      "welcome to my blog\n"
     ]
    }
   ],
   "source": [
    "x='welcome to my blog'\n",
    "print(x)"
   ]
  },
  {
   "cell_type": "code",
   "execution_count": 8,
   "id": "88626b5e",
   "metadata": {},
   "outputs": [
    {
     "name": "stdout",
     "output_type": "stream",
     "text": [
      "welcome to\t my blog\n"
     ]
    }
   ],
   "source": [
    "x='welcome to\\t my blog'\n",
    "print(x)"
   ]
  },
  {
   "cell_type": "code",
   "execution_count": 9,
   "id": "2ecb577f",
   "metadata": {},
   "outputs": [
    {
     "name": "stdout",
     "output_type": "stream",
     "text": [
      "welcome to my\n",
      " blog\n"
     ]
    }
   ],
   "source": [
    "x='welcome to my\\n blog'\n",
    "print(x)"
   ]
  },
  {
   "cell_type": "markdown",
   "id": "fb0fe5a4",
   "metadata": {},
   "source": [
    "### Accessing Substrings from a string"
   ]
  },
  {
   "cell_type": "code",
   "execution_count": 10,
   "id": "fbdb4ed4",
   "metadata": {},
   "outputs": [],
   "source": [
    "#Indexing "
   ]
  },
  {
   "cell_type": "code",
   "execution_count": 11,
   "id": "e47ab731",
   "metadata": {},
   "outputs": [
    {
     "name": "stdout",
     "output_type": "stream",
     "text": [
      "l\n"
     ]
    }
   ],
   "source": [
    "s='Hello world'\n",
    "print(s[2])\n",
    "# positive indexing 0 to n"
   ]
  },
  {
   "cell_type": "code",
   "execution_count": 1,
   "id": "61347770",
   "metadata": {},
   "outputs": [
    {
     "name": "stdout",
     "output_type": "stream",
     "text": [
      "d\n"
     ]
    }
   ],
   "source": [
    "s='Hello world'\n",
    "print(s[-1])\n",
    "#negative indexing -1 to 0"
   ]
  },
  {
   "cell_type": "code",
   "execution_count": 129,
   "id": "a547c329",
   "metadata": {},
   "outputs": [
    {
     "data": {
      "text/plain": [
       "5"
      ]
     },
     "execution_count": 129,
     "metadata": {},
     "output_type": "execute_result"
    }
   ],
   "source": [
    "s.index('o')"
   ]
  },
  {
   "cell_type": "code",
   "execution_count": 13,
   "id": "d2269535",
   "metadata": {},
   "outputs": [
    {
     "name": "stdout",
     "output_type": "stream",
     "text": [
      "hello\n"
     ]
    }
   ],
   "source": [
    "#Slicing\n",
    "s='hello world'\n",
    "print(s[0:5])\n",
    "# last one not included  "
   ]
  },
  {
   "cell_type": "code",
   "execution_count": 14,
   "id": "8264d197",
   "metadata": {},
   "outputs": [
    {
     "name": "stdout",
     "output_type": "stream",
     "text": [
      "llo world\n"
     ]
    }
   ],
   "source": [
    "print(s[2:])"
   ]
  },
  {
   "cell_type": "code",
   "execution_count": 15,
   "id": "df2fd624",
   "metadata": {},
   "outputs": [
    {
     "name": "stdout",
     "output_type": "stream",
     "text": [
      "r\n"
     ]
    }
   ],
   "source": [
    "print(s[-3])"
   ]
  },
  {
   "cell_type": "code",
   "execution_count": 16,
   "id": "6a7e24e6",
   "metadata": {},
   "outputs": [
    {
     "name": "stdout",
     "output_type": "stream",
     "text": [
      "hlo\n"
     ]
    }
   ],
   "source": [
    "print(s[0:6:2])\n",
    "#step value"
   ]
  },
  {
   "cell_type": "code",
   "execution_count": 17,
   "id": "122f018c",
   "metadata": {},
   "outputs": [
    {
     "name": "stdout",
     "output_type": "stream",
     "text": [
      "w olle\n"
     ]
    }
   ],
   "source": [
    "print(s[6:0:-1]) \n",
    "# for negative  index first number should bigger"
   ]
  },
  {
   "cell_type": "code",
   "execution_count": 18,
   "id": "e5795592",
   "metadata": {
    "scrolled": true
   },
   "outputs": [
    {
     "name": "stdout",
     "output_type": "stream",
     "text": [
      "dlrow olleh\n"
     ]
    }
   ],
   "source": [
    "print(s[::-1])"
   ]
  },
  {
   "cell_type": "code",
   "execution_count": 19,
   "id": "3df47120",
   "metadata": {},
   "outputs": [
    {
     "name": "stdout",
     "output_type": "stream",
     "text": [
      "world\n"
     ]
    }
   ],
   "source": [
    "print(s[-5:])"
   ]
  },
  {
   "cell_type": "code",
   "execution_count": 20,
   "id": "3d7136f0",
   "metadata": {},
   "outputs": [
    {
     "name": "stdout",
     "output_type": "stream",
     "text": [
      "dlrow\n"
     ]
    }
   ],
   "source": [
    "print(s[-1:-6:-1])"
   ]
  },
  {
   "cell_type": "markdown",
   "id": "5947cf04",
   "metadata": {},
   "source": [
    "### Editing and Deleting in Strings"
   ]
  },
  {
   "cell_type": "raw",
   "id": "55f8e662",
   "metadata": {},
   "source": [
    "s='hello world'\n",
    "s[0]='H'\n",
    "strings are immutable , we cannot edit strings"
   ]
  },
  {
   "cell_type": "code",
   "execution_count": 2,
   "id": "bd33c3f6",
   "metadata": {},
   "outputs": [],
   "source": [
    "s='Hello world'\n",
    "del s"
   ]
  },
  {
   "cell_type": "raw",
   "id": "174f0c59",
   "metadata": {},
   "source": [
    "s='hello world'\n",
    "del s[-1:-5:2]\n",
    "print(s)\n",
    "# strings will delet fully not partially"
   ]
  },
  {
   "cell_type": "markdown",
   "id": "bbf1e7c0",
   "metadata": {},
   "source": [
    "### Operations on Strings"
   ]
  },
  {
   "cell_type": "markdown",
   "id": "15465cdf",
   "metadata": {},
   "source": [
    "#### Arithmetic Operations"
   ]
  },
  {
   "cell_type": "code",
   "execution_count": 22,
   "id": "8566d82a",
   "metadata": {},
   "outputs": [
    {
     "name": "stdout",
     "output_type": "stream",
     "text": [
      "Delhi Mumbai\n"
     ]
    }
   ],
   "source": [
    "print('Delhi'+' '+'Mumbai')"
   ]
  },
  {
   "cell_type": "code",
   "execution_count": 23,
   "id": "561350d8",
   "metadata": {},
   "outputs": [
    {
     "name": "stdout",
     "output_type": "stream",
     "text": [
      "delhidelhidelhidelhidelhi\n"
     ]
    }
   ],
   "source": [
    "print('delhi'*5)"
   ]
  },
  {
   "cell_type": "code",
   "execution_count": 24,
   "id": "ea0204c5",
   "metadata": {},
   "outputs": [
    {
     "name": "stdout",
     "output_type": "stream",
     "text": [
      "**************************************************\n"
     ]
    }
   ],
   "source": [
    "print('*'*50)"
   ]
  },
  {
   "cell_type": "markdown",
   "id": "47306d7b",
   "metadata": {},
   "source": [
    "#### Relational Operators"
   ]
  },
  {
   "cell_type": "code",
   "execution_count": 25,
   "id": "379d15c3",
   "metadata": {},
   "outputs": [
    {
     "data": {
      "text/plain": [
       "True"
      ]
     },
     "execution_count": 25,
     "metadata": {},
     "output_type": "execute_result"
    }
   ],
   "source": [
    "'delhi'=='delhi'"
   ]
  },
  {
   "cell_type": "code",
   "execution_count": 26,
   "id": "9692494c",
   "metadata": {},
   "outputs": [
    {
     "data": {
      "text/plain": [
       "False"
      ]
     },
     "execution_count": 26,
     "metadata": {},
     "output_type": "execute_result"
    }
   ],
   "source": [
    "'delhi'=='mumbai'"
   ]
  },
  {
   "cell_type": "code",
   "execution_count": 27,
   "id": "92f87c28",
   "metadata": {},
   "outputs": [
    {
     "data": {
      "text/plain": [
       "False"
      ]
     },
     "execution_count": 27,
     "metadata": {},
     "output_type": "execute_result"
    }
   ],
   "source": [
    "'Delhi'!='Delhi'"
   ]
  },
  {
   "cell_type": "code",
   "execution_count": 28,
   "id": "3d1ca672",
   "metadata": {},
   "outputs": [
    {
     "data": {
      "text/plain": [
       "False"
      ]
     },
     "execution_count": 28,
     "metadata": {},
     "output_type": "execute_result"
    }
   ],
   "source": [
    "'mumbai'>'pune'"
   ]
  },
  {
   "cell_type": "code",
   "execution_count": 29,
   "id": "72f98132",
   "metadata": {},
   "outputs": [
    {
     "data": {
      "text/plain": [
       "False"
      ]
     },
     "execution_count": 29,
     "metadata": {},
     "output_type": "execute_result"
    }
   ],
   "source": [
    "'Pune'>'pune'\n",
    "#these are based on ascii code "
   ]
  },
  {
   "cell_type": "code",
   "execution_count": 30,
   "id": "fed52d7a",
   "metadata": {},
   "outputs": [
    {
     "data": {
      "text/plain": [
       "False"
      ]
     },
     "execution_count": 30,
     "metadata": {},
     "output_type": "execute_result"
    }
   ],
   "source": [
    "'pune'>'pune'"
   ]
  },
  {
   "cell_type": "markdown",
   "id": "1589e7af",
   "metadata": {},
   "source": [
    "#### Logical Operators"
   ]
  },
  {
   "cell_type": "code",
   "execution_count": 31,
   "id": "92716fd4",
   "metadata": {},
   "outputs": [
    {
     "data": {
      "text/plain": [
       "'world'"
      ]
     },
     "execution_count": 31,
     "metadata": {},
     "output_type": "execute_result"
    }
   ],
   "source": [
    "'hello' and 'world'"
   ]
  },
  {
   "cell_type": "code",
   "execution_count": 32,
   "id": "70931540",
   "metadata": {},
   "outputs": [
    {
     "data": {
      "text/plain": [
       "'hello'"
      ]
     },
     "execution_count": 32,
     "metadata": {},
     "output_type": "execute_result"
    }
   ],
   "source": [
    "'hello' or 'world'"
   ]
  },
  {
   "cell_type": "code",
   "execution_count": 33,
   "id": "6a00db85",
   "metadata": {},
   "outputs": [
    {
     "data": {
      "text/plain": [
       "'world'"
      ]
     },
     "execution_count": 33,
     "metadata": {},
     "output_type": "execute_result"
    }
   ],
   "source": [
    "' ' and 'world'"
   ]
  },
  {
   "cell_type": "code",
   "execution_count": 34,
   "id": "065f8245",
   "metadata": {},
   "outputs": [
    {
     "data": {
      "text/plain": [
       "' '"
      ]
     },
     "execution_count": 34,
     "metadata": {},
     "output_type": "execute_result"
    }
   ],
   "source": [
    "' ' or 'world'"
   ]
  },
  {
   "cell_type": "code",
   "execution_count": 35,
   "id": "8ff664f8",
   "metadata": {},
   "outputs": [
    {
     "data": {
      "text/plain": [
       "False"
      ]
     },
     "execution_count": 35,
     "metadata": {},
     "output_type": "execute_result"
    }
   ],
   "source": [
    "not 'hello'"
   ]
  },
  {
   "cell_type": "markdown",
   "id": "9967b184",
   "metadata": {},
   "source": [
    "#### loops in String"
   ]
  },
  {
   "cell_type": "code",
   "execution_count": 36,
   "id": "9bd1100a",
   "metadata": {},
   "outputs": [
    {
     "name": "stdout",
     "output_type": "stream",
     "text": [
      "h\n",
      "e\n",
      "l\n",
      "l\n",
      "o\n"
     ]
    }
   ],
   "source": [
    "for i in 'hello':\n",
    "    print(i)"
   ]
  },
  {
   "cell_type": "code",
   "execution_count": 37,
   "id": "f6eb4743",
   "metadata": {},
   "outputs": [
    {
     "name": "stdout",
     "output_type": "stream",
     "text": [
      "pune\n",
      "pune\n",
      "pune\n",
      "pune\n",
      "pune\n"
     ]
    }
   ],
   "source": [
    "for i in 'delhi':\n",
    "    print('pune')"
   ]
  },
  {
   "cell_type": "markdown",
   "id": "a8700f67",
   "metadata": {},
   "source": [
    "#### Member ship operators"
   ]
  },
  {
   "cell_type": "code",
   "execution_count": 38,
   "id": "c738802f",
   "metadata": {},
   "outputs": [
    {
     "data": {
      "text/plain": [
       "True"
      ]
     },
     "execution_count": 38,
     "metadata": {},
     "output_type": "execute_result"
    }
   ],
   "source": [
    "'D' in 'Delhi'"
   ]
  },
  {
   "cell_type": "code",
   "execution_count": 39,
   "id": "e6c4e234",
   "metadata": {},
   "outputs": [
    {
     "data": {
      "text/plain": [
       "False"
      ]
     },
     "execution_count": 39,
     "metadata": {},
     "output_type": "execute_result"
    }
   ],
   "source": [
    "'D' not in 'Delhi'"
   ]
  },
  {
   "cell_type": "code",
   "execution_count": 40,
   "id": "4a775618",
   "metadata": {},
   "outputs": [
    {
     "data": {
      "text/plain": [
       "False"
      ]
     },
     "execution_count": 40,
     "metadata": {},
     "output_type": "execute_result"
    }
   ],
   "source": [
    "'D' in 'delhi'\n",
    "#case sensitive"
   ]
  },
  {
   "cell_type": "code",
   "execution_count": 41,
   "id": "91f0e3bd",
   "metadata": {},
   "outputs": [
    {
     "name": "stdout",
     "output_type": "stream",
     "text": [
      "True\n"
     ]
    }
   ],
   "source": [
    "txt='the best things in life are free'\n",
    "print('free' in txt)"
   ]
  },
  {
   "cell_type": "code",
   "execution_count": 42,
   "id": "97d404a7",
   "metadata": {},
   "outputs": [
    {
     "data": {
      "text/plain": [
       "True"
      ]
     },
     "execution_count": 42,
     "metadata": {},
     "output_type": "execute_result"
    }
   ],
   "source": [
    "'expensive' not in 'the best things in life are free' "
   ]
  },
  {
   "cell_type": "markdown",
   "id": "54cdc7ec",
   "metadata": {},
   "source": [
    "### Common Functions On String"
   ]
  },
  {
   "cell_type": "markdown",
   "id": "82732937",
   "metadata": {},
   "source": [
    "#### len"
   ]
  },
  {
   "cell_type": "code",
   "execution_count": 43,
   "id": "e809cdea",
   "metadata": {},
   "outputs": [
    {
     "data": {
      "text/plain": [
       "11"
      ]
     },
     "execution_count": 43,
     "metadata": {},
     "output_type": "execute_result"
    }
   ],
   "source": [
    "len('hello world')"
   ]
  },
  {
   "cell_type": "code",
   "execution_count": 44,
   "id": "36bd954b",
   "metadata": {},
   "outputs": [
    {
     "name": "stdout",
     "output_type": "stream",
     "text": [
      "9\n"
     ]
    }
   ],
   "source": [
    "a='damodhara'\n",
    "print(len(a))"
   ]
  },
  {
   "cell_type": "markdown",
   "id": "660794bf",
   "metadata": {},
   "source": [
    "#### max"
   ]
  },
  {
   "cell_type": "code",
   "execution_count": 45,
   "id": "8646edf2",
   "metadata": {},
   "outputs": [
    {
     "data": {
      "text/plain": [
       "'w'"
      ]
     },
     "execution_count": 45,
     "metadata": {},
     "output_type": "execute_result"
    }
   ],
   "source": [
    "max('hello world')"
   ]
  },
  {
   "cell_type": "code",
   "execution_count": 46,
   "id": "ec44b122",
   "metadata": {},
   "outputs": [
    {
     "data": {
      "text/plain": [
       "' '"
      ]
     },
     "execution_count": 46,
     "metadata": {},
     "output_type": "execute_result"
    }
   ],
   "source": [
    "min('hello world')"
   ]
  },
  {
   "cell_type": "markdown",
   "id": "8abbce61",
   "metadata": {},
   "source": [
    "#### Sort"
   ]
  },
  {
   "cell_type": "code",
   "execution_count": 47,
   "id": "cd196053",
   "metadata": {},
   "outputs": [
    {
     "data": {
      "text/plain": [
       "[' ', 'd', 'e', 'h', 'l', 'l', 'l', 'o', 'o', 'r', 'w']"
      ]
     },
     "execution_count": 47,
     "metadata": {},
     "output_type": "execute_result"
    }
   ],
   "source": [
    "sorted('hello world')\n",
    "#all are based on ascii values"
   ]
  },
  {
   "cell_type": "code",
   "execution_count": 48,
   "id": "2d58e50d",
   "metadata": {},
   "outputs": [],
   "source": [
    "#default sort order is ascending \n",
    "#the output of the sort is list"
   ]
  },
  {
   "cell_type": "code",
   "execution_count": 49,
   "id": "b8188570",
   "metadata": {},
   "outputs": [
    {
     "data": {
      "text/plain": [
       "['w', 'r', 'o', 'o', 'l', 'l', 'h', 'e', 'd', ' ']"
      ]
     },
     "execution_count": 49,
     "metadata": {},
     "output_type": "execute_result"
    }
   ],
   "source": [
    "sorted('hello word', reverse=True)"
   ]
  },
  {
   "cell_type": "markdown",
   "id": "2d08153a",
   "metadata": {},
   "source": [
    "#### Capitalize"
   ]
  },
  {
   "cell_type": "code",
   "execution_count": 50,
   "id": "795dce43",
   "metadata": {},
   "outputs": [],
   "source": [
    "# capitalize makes first letter of the sentese is Capital letter"
   ]
  },
  {
   "cell_type": "code",
   "execution_count": 51,
   "id": "d9c2b27f",
   "metadata": {},
   "outputs": [
    {
     "data": {
      "text/plain": [
       "'Hello world'"
      ]
     },
     "execution_count": 51,
     "metadata": {},
     "output_type": "execute_result"
    }
   ],
   "source": [
    "\n",
    "s='hello world'\n",
    "s.capitalize()"
   ]
  },
  {
   "cell_type": "markdown",
   "id": "abc82cf5",
   "metadata": {},
   "source": [
    "#### Title"
   ]
  },
  {
   "cell_type": "code",
   "execution_count": 52,
   "id": "2de77065",
   "metadata": {},
   "outputs": [],
   "source": [
    "#in a sentense first letter of every workd becomes Capital letter "
   ]
  },
  {
   "cell_type": "code",
   "execution_count": 53,
   "id": "14716dc9",
   "metadata": {},
   "outputs": [
    {
     "data": {
      "text/plain": [
       "'Hello World'"
      ]
     },
     "execution_count": 53,
     "metadata": {},
     "output_type": "execute_result"
    }
   ],
   "source": [
    "s='hello world'\n",
    "s.title()"
   ]
  },
  {
   "cell_type": "markdown",
   "id": "0304667d",
   "metadata": {},
   "source": [
    "#### Upper"
   ]
  },
  {
   "cell_type": "code",
   "execution_count": 54,
   "id": "e74bd890",
   "metadata": {},
   "outputs": [
    {
     "data": {
      "text/plain": [
       "'HELLO WORLD'"
      ]
     },
     "execution_count": 54,
     "metadata": {},
     "output_type": "execute_result"
    }
   ],
   "source": [
    "s='hello world'\n",
    "s.upper()"
   ]
  },
  {
   "cell_type": "code",
   "execution_count": 55,
   "id": "97ae060b",
   "metadata": {},
   "outputs": [
    {
     "data": {
      "text/plain": [
       "'MAG ESH 6000'"
      ]
     },
     "execution_count": 55,
     "metadata": {},
     "output_type": "execute_result"
    }
   ],
   "source": [
    "'Mag esH 6000'.upper()"
   ]
  },
  {
   "cell_type": "code",
   "execution_count": 56,
   "id": "deebf67d",
   "metadata": {},
   "outputs": [
    {
     "data": {
      "text/plain": [
       "'DAMODHARA'"
      ]
     },
     "execution_count": 56,
     "metadata": {},
     "output_type": "execute_result"
    }
   ],
   "source": [
    "'DamoDhara'.upper()"
   ]
  },
  {
   "cell_type": "markdown",
   "id": "c4c7bf38",
   "metadata": {},
   "source": [
    "#### Lower"
   ]
  },
  {
   "cell_type": "code",
   "execution_count": 57,
   "id": "41418d71",
   "metadata": {},
   "outputs": [
    {
     "data": {
      "text/plain": [
       "'hello world'"
      ]
     },
     "execution_count": 57,
     "metadata": {},
     "output_type": "execute_result"
    }
   ],
   "source": [
    "s='HELLO WORLD'\n",
    "s.lower()"
   ]
  },
  {
   "cell_type": "code",
   "execution_count": 58,
   "id": "ea551cb9",
   "metadata": {},
   "outputs": [
    {
     "name": "stdout",
     "output_type": "stream",
     "text": [
      "hello,world!\n"
     ]
    }
   ],
   "source": [
    "a='hello,world!'\n",
    "print(a)"
   ]
  },
  {
   "cell_type": "markdown",
   "id": "5c1c9ef3",
   "metadata": {},
   "source": [
    "#### swapcase"
   ]
  },
  {
   "cell_type": "code",
   "execution_count": 59,
   "id": "62e7ce60",
   "metadata": {},
   "outputs": [
    {
     "data": {
      "text/plain": [
       "'HEllO woRLD'"
      ]
     },
     "execution_count": 59,
     "metadata": {},
     "output_type": "execute_result"
    }
   ],
   "source": [
    "s='heLLo WOrld'\n",
    "s.swapcase()\n",
    "# changing lower values to higher and higher values to lower "
   ]
  },
  {
   "cell_type": "markdown",
   "id": "72932f38",
   "metadata": {},
   "source": [
    "#### Count"
   ]
  },
  {
   "cell_type": "code",
   "execution_count": 60,
   "id": "fc8deac1",
   "metadata": {},
   "outputs": [
    {
     "data": {
      "text/plain": [
       "2"
      ]
     },
     "execution_count": 60,
     "metadata": {},
     "output_type": "execute_result"
    }
   ],
   "source": [
    "'my name is damodhar'.count('d')\n"
   ]
  },
  {
   "cell_type": "markdown",
   "id": "fe2cf168",
   "metadata": {},
   "source": [
    "#### find"
   ]
  },
  {
   "cell_type": "code",
   "execution_count": 61,
   "id": "e78af39c",
   "metadata": {},
   "outputs": [
    {
     "data": {
      "text/plain": [
       "11"
      ]
     },
     "execution_count": 61,
     "metadata": {},
     "output_type": "execute_result"
    }
   ],
   "source": [
    "'my name is damodhara'.find('damo')"
   ]
  },
  {
   "cell_type": "code",
   "execution_count": 62,
   "id": "4c7faaae",
   "metadata": {},
   "outputs": [
    {
     "data": {
      "text/plain": [
       "-1"
      ]
     },
     "execution_count": 62,
     "metadata": {},
     "output_type": "execute_result"
    }
   ],
   "source": [
    "'my name is damodhara'.find('x')"
   ]
  },
  {
   "cell_type": "markdown",
   "id": "6c2fbbf4",
   "metadata": {},
   "source": [
    "#### index"
   ]
  },
  {
   "cell_type": "code",
   "execution_count": 63,
   "id": "a61748e7",
   "metadata": {},
   "outputs": [
    {
     "data": {
      "text/plain": [
       "11"
      ]
     },
     "execution_count": 63,
     "metadata": {},
     "output_type": "execute_result"
    }
   ],
   "source": [
    "'my name is damodhara'.index('damo')"
   ]
  },
  {
   "cell_type": "markdown",
   "id": "f0398150",
   "metadata": {},
   "source": [
    "'my name is damodhara'.index('x')"
   ]
  },
  {
   "cell_type": "markdown",
   "id": "d6252c5b",
   "metadata": {},
   "source": [
    "#### endswith / startswith"
   ]
  },
  {
   "cell_type": "code",
   "execution_count": 64,
   "id": "c8cc534b",
   "metadata": {},
   "outputs": [
    {
     "data": {
      "text/plain": [
       "True"
      ]
     },
     "execution_count": 64,
     "metadata": {},
     "output_type": "execute_result"
    }
   ],
   "source": [
    "'my name is damodhara'.endswith('a')"
   ]
  },
  {
   "cell_type": "code",
   "execution_count": 65,
   "id": "575c1d22",
   "metadata": {},
   "outputs": [
    {
     "data": {
      "text/plain": [
       "False"
      ]
     },
     "execution_count": 65,
     "metadata": {},
     "output_type": "execute_result"
    }
   ],
   "source": [
    "'my name is damodhara'.endswith('x')"
   ]
  },
  {
   "cell_type": "code",
   "execution_count": 66,
   "id": "fbfea743",
   "metadata": {},
   "outputs": [
    {
     "data": {
      "text/plain": [
       "True"
      ]
     },
     "execution_count": 66,
     "metadata": {},
     "output_type": "execute_result"
    }
   ],
   "source": [
    "'my name is damodhara'.startswith('m')"
   ]
  },
  {
   "cell_type": "code",
   "execution_count": 67,
   "id": "3bbb4123",
   "metadata": {},
   "outputs": [
    {
     "data": {
      "text/plain": [
       "False"
      ]
     },
     "execution_count": 67,
     "metadata": {},
     "output_type": "execute_result"
    }
   ],
   "source": [
    "'my name is damodhara'.startswith('n')"
   ]
  },
  {
   "cell_type": "markdown",
   "id": "69adb0d4",
   "metadata": {},
   "source": [
    "#### Format"
   ]
  },
  {
   "cell_type": "code",
   "execution_count": 68,
   "id": "a3f3985e",
   "metadata": {},
   "outputs": [
    {
     "data": {
      "text/plain": [
       "'hi my name is damodhara and iam male'"
      ]
     },
     "execution_count": 68,
     "metadata": {},
     "output_type": "execute_result"
    }
   ],
   "source": [
    "name='damodhara'\n",
    "gender='male'\n",
    "'hi my name is {} and iam {}'.format(name,gender)"
   ]
  },
  {
   "cell_type": "code",
   "execution_count": 69,
   "id": "93d1edcf",
   "metadata": {},
   "outputs": [
    {
     "data": {
      "text/plain": [
       "'hi my name is male and iam damodhara'"
      ]
     },
     "execution_count": 69,
     "metadata": {},
     "output_type": "execute_result"
    }
   ],
   "source": [
    "name='damodhara'\n",
    "gender='male'\n",
    "'hi my name is {} and iam {}'.format(gender,name)"
   ]
  },
  {
   "cell_type": "code",
   "execution_count": 70,
   "id": "9182bba7",
   "metadata": {},
   "outputs": [
    {
     "data": {
      "text/plain": [
       "'hi my name is damodhara and iam male'"
      ]
     },
     "execution_count": 70,
     "metadata": {},
     "output_type": "execute_result"
    }
   ],
   "source": [
    "name='damodhara'\n",
    "gender='male'\n",
    "'hi my name is {1} and iam {0}'.format(gender,name)"
   ]
  },
  {
   "cell_type": "code",
   "execution_count": 71,
   "id": "4f0a58b9",
   "metadata": {},
   "outputs": [
    {
     "data": {
      "text/plain": [
       "'my name is john, and i am 16'"
      ]
     },
     "execution_count": 71,
     "metadata": {},
     "output_type": "execute_result"
    }
   ],
   "source": [
    "'my name is john, and i am {}'.format(16)"
   ]
  },
  {
   "cell_type": "code",
   "execution_count": 72,
   "id": "66534ac5",
   "metadata": {},
   "outputs": [
    {
     "data": {
      "text/plain": [
       "'my name is john, and i am 16'"
      ]
     },
     "execution_count": 72,
     "metadata": {},
     "output_type": "execute_result"
    }
   ],
   "source": [
    "age=16\n",
    "'my name is john, and i am {}'.format(age)"
   ]
  },
  {
   "cell_type": "code",
   "execution_count": 73,
   "id": "87c5cbd5",
   "metadata": {},
   "outputs": [
    {
     "data": {
      "text/plain": [
       "'i want 3 pices of item 567 for 49.95 dollars'"
      ]
     },
     "execution_count": 73,
     "metadata": {},
     "output_type": "execute_result"
    }
   ],
   "source": [
    "quantity=3\n",
    "itemno=567\n",
    "price=49.95\n",
    "'i want {} pices of item {} for {} dollars'.format(quantity,itemno,price)"
   ]
  },
  {
   "cell_type": "markdown",
   "id": "e62c0579",
   "metadata": {},
   "source": [
    "#### Partition"
   ]
  },
  {
   "cell_type": "code",
   "execution_count": 74,
   "id": "a4ee5e9d",
   "metadata": {},
   "outputs": [
    {
     "data": {
      "text/plain": [
       "(('I ', 'l', 'ove india'), ('I love ', 'i', 'ndia'), ('I lov', 'e', ' india'))"
      ]
     },
     "execution_count": 74,
     "metadata": {},
     "output_type": "execute_result"
    }
   ],
   "source": [
    "a= 'I love india'\n",
    "a.partition('l'),a.partition('i'), a.partition('e')\n",
    "#output in tuple"
   ]
  },
  {
   "cell_type": "code",
   "execution_count": 75,
   "id": "adcf68df",
   "metadata": {},
   "outputs": [
    {
     "data": {
      "text/plain": [
       "('D', 'a', 'modhara')"
      ]
     },
     "execution_count": 75,
     "metadata": {},
     "output_type": "execute_result"
    }
   ],
   "source": [
    "y='Damodhara'\n",
    "y.partition('a')"
   ]
  },
  {
   "cell_type": "markdown",
   "id": "d358f956",
   "metadata": {},
   "source": [
    "#### isalnum"
   ]
  },
  {
   "cell_type": "code",
   "execution_count": 76,
   "id": "9149bf9a",
   "metadata": {},
   "outputs": [
    {
     "data": {
      "text/plain": [
       "True"
      ]
     },
     "execution_count": 76,
     "metadata": {},
     "output_type": "execute_result"
    }
   ],
   "source": [
    "'myname123'.isalnum()"
   ]
  },
  {
   "cell_type": "code",
   "execution_count": 77,
   "id": "7a1f0c63",
   "metadata": {},
   "outputs": [
    {
     "data": {
      "text/plain": [
       "True"
      ]
     },
     "execution_count": 77,
     "metadata": {},
     "output_type": "execute_result"
    }
   ],
   "source": [
    "'myname'.isalnum()"
   ]
  },
  {
   "cell_type": "code",
   "execution_count": 78,
   "id": "3a0dcdd6",
   "metadata": {},
   "outputs": [
    {
     "data": {
      "text/plain": [
       "True"
      ]
     },
     "execution_count": 78,
     "metadata": {},
     "output_type": "execute_result"
    }
   ],
   "source": [
    "'1234'.isalnum()"
   ]
  },
  {
   "cell_type": "code",
   "execution_count": 79,
   "id": "76eca596",
   "metadata": {},
   "outputs": [
    {
     "data": {
      "text/plain": [
       "False"
      ]
     },
     "execution_count": 79,
     "metadata": {},
     "output_type": "execute_result"
    }
   ],
   "source": [
    "'myname123%'.isalnum()"
   ]
  },
  {
   "cell_type": "code",
   "execution_count": 80,
   "id": "4d543f30",
   "metadata": {},
   "outputs": [
    {
     "data": {
      "text/plain": [
       "True"
      ]
     },
     "execution_count": 80,
     "metadata": {},
     "output_type": "execute_result"
    }
   ],
   "source": [
    "'mynameisdamodhara'.isalnum()"
   ]
  },
  {
   "cell_type": "code",
   "execution_count": 81,
   "id": "e9b11b60",
   "metadata": {},
   "outputs": [
    {
     "data": {
      "text/plain": [
       "False"
      ]
     },
     "execution_count": 81,
     "metadata": {},
     "output_type": "execute_result"
    }
   ],
   "source": [
    "'my name is damodhara'.isalnum()\n",
    "#while space it will give false as output"
   ]
  },
  {
   "cell_type": "markdown",
   "id": "0ec0500a",
   "metadata": {},
   "source": [
    "#### isalpha"
   ]
  },
  {
   "cell_type": "code",
   "execution_count": 82,
   "id": "be8cff49",
   "metadata": {},
   "outputs": [
    {
     "data": {
      "text/plain": [
       "True"
      ]
     },
     "execution_count": 82,
     "metadata": {},
     "output_type": "execute_result"
    }
   ],
   "source": [
    "'myname'.isalpha()"
   ]
  },
  {
   "cell_type": "code",
   "execution_count": 83,
   "id": "eac4d922",
   "metadata": {},
   "outputs": [
    {
     "data": {
      "text/plain": [
       "False"
      ]
     },
     "execution_count": 83,
     "metadata": {},
     "output_type": "execute_result"
    }
   ],
   "source": [
    "'myname123'.isalpha()"
   ]
  },
  {
   "cell_type": "code",
   "execution_count": 84,
   "id": "e34872cb",
   "metadata": {},
   "outputs": [
    {
     "data": {
      "text/plain": [
       "False"
      ]
     },
     "execution_count": 84,
     "metadata": {},
     "output_type": "execute_result"
    }
   ],
   "source": [
    "'myname%'.isalpha()"
   ]
  },
  {
   "cell_type": "code",
   "execution_count": 85,
   "id": "b3706a34",
   "metadata": {},
   "outputs": [
    {
     "data": {
      "text/plain": [
       "True"
      ]
     },
     "execution_count": 85,
     "metadata": {},
     "output_type": "execute_result"
    }
   ],
   "source": [
    "'mynameisdamodhara'.isalpha()"
   ]
  },
  {
   "cell_type": "code",
   "execution_count": 86,
   "id": "0f4b153f",
   "metadata": {},
   "outputs": [
    {
     "data": {
      "text/plain": [
       "False"
      ]
     },
     "execution_count": 86,
     "metadata": {},
     "output_type": "execute_result"
    }
   ],
   "source": [
    "'my name is damodhara'.isalpha()"
   ]
  },
  {
   "cell_type": "markdown",
   "id": "2bef0fa4",
   "metadata": {},
   "source": [
    "#### isdigit"
   ]
  },
  {
   "cell_type": "code",
   "execution_count": 87,
   "id": "1217eea5",
   "metadata": {},
   "outputs": [
    {
     "data": {
      "text/plain": [
       "True"
      ]
     },
     "execution_count": 87,
     "metadata": {},
     "output_type": "execute_result"
    }
   ],
   "source": [
    "'123'.isdigit()"
   ]
  },
  {
   "cell_type": "code",
   "execution_count": 88,
   "id": "324da3da",
   "metadata": {},
   "outputs": [
    {
     "data": {
      "text/plain": [
       "True"
      ]
     },
     "execution_count": 88,
     "metadata": {},
     "output_type": "execute_result"
    }
   ],
   "source": [
    "'0000'.isdigit()"
   ]
  },
  {
   "cell_type": "code",
   "execution_count": 89,
   "id": "c8aabd73",
   "metadata": {},
   "outputs": [
    {
     "data": {
      "text/plain": [
       "False"
      ]
     },
     "execution_count": 89,
     "metadata": {},
     "output_type": "execute_result"
    }
   ],
   "source": [
    "'damod123'.isdigit()"
   ]
  },
  {
   "cell_type": "markdown",
   "id": "9f494462",
   "metadata": {},
   "source": [
    "#### isidentifier"
   ]
  },
  {
   "cell_type": "code",
   "execution_count": 90,
   "id": "9b8fdd33",
   "metadata": {},
   "outputs": [
    {
     "data": {
      "text/plain": [
       "True"
      ]
     },
     "execution_count": 90,
     "metadata": {},
     "output_type": "execute_result"
    }
   ],
   "source": [
    "'name'.isidentifier()"
   ]
  },
  {
   "cell_type": "code",
   "execution_count": 91,
   "id": "c323b3dd",
   "metadata": {},
   "outputs": [
    {
     "data": {
      "text/plain": [
       "False"
      ]
     },
     "execution_count": 91,
     "metadata": {},
     "output_type": "execute_result"
    }
   ],
   "source": [
    "'1name'.isidentifier()"
   ]
  },
  {
   "cell_type": "code",
   "execution_count": 92,
   "id": "ad8e488e",
   "metadata": {},
   "outputs": [
    {
     "data": {
      "text/plain": [
       "False"
      ]
     },
     "execution_count": 92,
     "metadata": {},
     "output_type": "execute_result"
    }
   ],
   "source": [
    "'%name'.isidentifier()"
   ]
  },
  {
   "cell_type": "code",
   "execution_count": 93,
   "id": "b6fe9b21",
   "metadata": {},
   "outputs": [
    {
     "data": {
      "text/plain": [
       "True"
      ]
     },
     "execution_count": 93,
     "metadata": {},
     "output_type": "execute_result"
    }
   ],
   "source": [
    "'first_name'.isidentifier()"
   ]
  },
  {
   "cell_type": "code",
   "execution_count": 94,
   "id": "df7fa765",
   "metadata": {},
   "outputs": [
    {
     "data": {
      "text/plain": [
       "False"
      ]
     },
     "execution_count": 94,
     "metadata": {},
     "output_type": "execute_result"
    }
   ],
   "source": [
    "'first-name'.isidentifier()\n",
    "#Special Character is not allowed"
   ]
  },
  {
   "cell_type": "markdown",
   "id": "8695f632",
   "metadata": {},
   "source": [
    "#### Split / Join"
   ]
  },
  {
   "cell_type": "code",
   "execution_count": 95,
   "id": "e74740fc",
   "metadata": {},
   "outputs": [
    {
     "data": {
      "text/plain": [
       "['h', ' my name ', 's n', 't', 'sh']"
      ]
     },
     "execution_count": 95,
     "metadata": {},
     "output_type": "execute_result"
    }
   ],
   "source": [
    "'hi my name is nitish'.split('i')\n",
    "#output in list"
   ]
  },
  {
   "cell_type": "code",
   "execution_count": 96,
   "id": "15835675",
   "metadata": {},
   "outputs": [
    {
     "data": {
      "text/plain": [
       "['hi', 'my', 'name', 'is', 'nitish']"
      ]
     },
     "execution_count": 96,
     "metadata": {},
     "output_type": "execute_result"
    }
   ],
   "source": [
    "'hi my name is nitish'.split()"
   ]
  },
  {
   "cell_type": "code",
   "execution_count": 97,
   "id": "7903b32e",
   "metadata": {},
   "outputs": [
    {
     "data": {
      "text/plain": [
       "['my nam', ' is damodhara']"
      ]
     },
     "execution_count": 97,
     "metadata": {},
     "output_type": "execute_result"
    }
   ],
   "source": [
    "'my name is damodhara'.split('e')"
   ]
  },
  {
   "cell_type": "code",
   "execution_count": 98,
   "id": "aba08243",
   "metadata": {},
   "outputs": [
    {
     "data": {
      "text/plain": [
       "'my name is damodhara'"
      ]
     },
     "execution_count": 98,
     "metadata": {},
     "output_type": "execute_result"
    }
   ],
   "source": [
    "''.join(['my name is damodhara'])"
   ]
  },
  {
   "cell_type": "code",
   "execution_count": 99,
   "id": "9697b69e",
   "metadata": {},
   "outputs": [
    {
     "data": {
      "text/plain": [
       "'my-name-is-damodhara'"
      ]
     },
     "execution_count": 99,
     "metadata": {},
     "output_type": "execute_result"
    }
   ],
   "source": [
    "\"-\".join(['my', 'name', 'is', 'damodhara'])"
   ]
  },
  {
   "cell_type": "code",
   "execution_count": 100,
   "id": "7acdd289",
   "metadata": {},
   "outputs": [
    {
     "data": {
      "text/plain": [
       "'my*name*is*damodhara'"
      ]
     },
     "execution_count": 100,
     "metadata": {},
     "output_type": "execute_result"
    }
   ],
   "source": [
    "'*'.join(['my','name','is' ,'damodhara'])"
   ]
  },
  {
   "cell_type": "code",
   "execution_count": 101,
   "id": "cdc282c3",
   "metadata": {},
   "outputs": [
    {
     "data": {
      "text/plain": [
       "'dmaodhara'"
      ]
     },
     "execution_count": 101,
     "metadata": {},
     "output_type": "execute_result"
    }
   ],
   "source": [
    "'king'.join(['dmaodhara'])"
   ]
  },
  {
   "cell_type": "markdown",
   "id": "e9472268",
   "metadata": {},
   "source": [
    "## Replace"
   ]
  },
  {
   "cell_type": "code",
   "execution_count": 102,
   "id": "f22f27b5",
   "metadata": {},
   "outputs": [
    {
     "data": {
      "text/plain": [
       "'my name is damodhara'"
      ]
     },
     "execution_count": 102,
     "metadata": {},
     "output_type": "execute_result"
    }
   ],
   "source": [
    "'my name is damodhara'.replace('good','great')"
   ]
  },
  {
   "cell_type": "code",
   "execution_count": 103,
   "id": "e4c63d61",
   "metadata": {},
   "outputs": [
    {
     "data": {
      "text/plain": [
       "'Jello, World'"
      ]
     },
     "execution_count": 103,
     "metadata": {},
     "output_type": "execute_result"
    }
   ],
   "source": [
    "'Hello, World'.replace('H','J')"
   ]
  },
  {
   "cell_type": "code",
   "execution_count": 104,
   "id": "f5f015f3",
   "metadata": {},
   "outputs": [
    {
     "data": {
      "text/plain": [
       "'Wrong'"
      ]
     },
     "execution_count": 104,
     "metadata": {},
     "output_type": "execute_result"
    }
   ],
   "source": [
    "'Right'.replace('Right','Wrong')"
   ]
  },
  {
   "cell_type": "markdown",
   "id": "86e5b24b",
   "metadata": {},
   "source": [
    "#### Strip"
   ]
  },
  {
   "cell_type": "code",
   "execution_count": 105,
   "id": "d32b2acf",
   "metadata": {},
   "outputs": [
    {
     "data": {
      "text/plain": [
       "'damodhara'"
      ]
     },
     "execution_count": 105,
     "metadata": {},
     "output_type": "execute_result"
    }
   ],
   "source": [
    "'damodhara    '.strip()"
   ]
  },
  {
   "cell_type": "code",
   "execution_count": 106,
   "id": "6296e7fd",
   "metadata": {},
   "outputs": [
    {
     "data": {
      "text/plain": [
       "'Hello, Wordl!'"
      ]
     },
     "execution_count": 106,
     "metadata": {},
     "output_type": "execute_result"
    }
   ],
   "source": [
    "' Hello, Wordl! '.strip()"
   ]
  },
  {
   "cell_type": "markdown",
   "id": "e3018ce5",
   "metadata": {},
   "source": [
    "### String Concatenation"
   ]
  },
  {
   "cell_type": "code",
   "execution_count": 107,
   "id": "addc2e26",
   "metadata": {},
   "outputs": [
    {
     "name": "stdout",
     "output_type": "stream",
     "text": [
      "HelloWorld\n"
     ]
    }
   ],
   "source": [
    "a='Hello'\n",
    "b='World'\n",
    "c=a+b\n",
    "print(c)"
   ]
  },
  {
   "cell_type": "code",
   "execution_count": 108,
   "id": "d9a25e67",
   "metadata": {},
   "outputs": [
    {
     "name": "stdout",
     "output_type": "stream",
     "text": [
      "Hello world\n"
     ]
    }
   ],
   "source": [
    "a='Hello'\n",
    "b='world'\n",
    "c=a+' '+b\n",
    "print(c)"
   ]
  },
  {
   "cell_type": "raw",
   "id": "3f2950c6",
   "metadata": {},
   "source": [
    "##Wecan not adding to string \n",
    "age = 36\n",
    "txt = \"My name is John, I am \" + age\n",
    "print(txt)"
   ]
  },
  {
   "cell_type": "markdown",
   "id": "fa9ca12e",
   "metadata": {},
   "source": [
    "### 1. Find the length of string with out using len() function"
   ]
  },
  {
   "cell_type": "code",
   "execution_count": 109,
   "id": "aca9af03",
   "metadata": {},
   "outputs": [
    {
     "name": "stdout",
     "output_type": "stream",
     "text": [
      "enter the stringhai how are you\n",
      "Length of string 15\n"
     ]
    }
   ],
   "source": [
    "s=input('enter the string')\n",
    "counter=0\n",
    "for i in s:\n",
    "    counter+=1\n",
    "    \n",
    "print('Length of string',counter)"
   ]
  },
  {
   "cell_type": "code",
   "execution_count": 110,
   "id": "8dd7e142",
   "metadata": {},
   "outputs": [
    {
     "name": "stdout",
     "output_type": "stream",
     "text": [
      "enterthe stringhai how are you\n",
      "Length of string 15\n"
     ]
    }
   ],
   "source": [
    "s=input('enterthe string')\n",
    "counter=0\n",
    "for i in s:\n",
    "    counter+=1\n",
    "print('Length of string',counter)"
   ]
  },
  {
   "cell_type": "markdown",
   "id": "e2812538",
   "metadata": {},
   "source": [
    "### 2.Extract user name from a given email\n",
    "      example email- damodhara@gmail.com\n",
    "     the user name should damodhara"
   ]
  },
  {
   "cell_type": "code",
   "execution_count": 111,
   "id": "cdb6654a",
   "metadata": {},
   "outputs": [
    {
     "name": "stdout",
     "output_type": "stream",
     "text": [
      "enter the emaildamodhara@gmailcom\n",
      "damodhara\n"
     ]
    }
   ],
   "source": [
    "s=input('enter the email')\n",
    "\n",
    "position=s.index('@')\n",
    "print(s[0:position])"
   ]
  },
  {
   "cell_type": "markdown",
   "id": "73f8d00b",
   "metadata": {},
   "source": [
    "### 3.count the frequency of particular character in a provided string\n",
    "   Eg.'Hello how are you' is the string,the frequency of h"
   ]
  },
  {
   "cell_type": "code",
   "execution_count": 112,
   "id": "584f6f7d",
   "metadata": {},
   "outputs": [
    {
     "name": "stdout",
     "output_type": "stream",
     "text": [
      "Enter the emailhai how are you\n",
      "what would you like to search for-h\n",
      "frequency 2\n"
     ]
    }
   ],
   "source": [
    "s=input('Enter the email')\n",
    "term=input('what would you like to search for-')\n",
    "\n",
    "counter= 0\n",
    "for i in s:\n",
    "    if i==term:\n",
    "        counter +=1\n",
    "\n",
    "print('frequency',counter)"
   ]
  },
  {
   "cell_type": "code",
   "execution_count": 113,
   "id": "92a587d5",
   "metadata": {},
   "outputs": [
    {
     "name": "stdout",
     "output_type": "stream",
     "text": [
      "ente the emailhai how are \n",
      "What would you like to search for -a\n",
      "frequency 2\n"
     ]
    }
   ],
   "source": [
    "s=input('ente the email')\n",
    "term=input('What would you like to search for -')\n",
    "\n",
    "counter=0\n",
    "for i in s:\n",
    "    if i==term:\n",
    "        counter +=1\n",
    "print('frequency',counter)"
   ]
  },
  {
   "cell_type": "markdown",
   "id": "0fbdfa32",
   "metadata": {},
   "source": [
    "### 4. write a program which can remove a particular character from a string"
   ]
  },
  {
   "cell_type": "code",
   "execution_count": 114,
   "id": "e87a2a2e",
   "metadata": {},
   "outputs": [
    {
     "name": "stdout",
     "output_type": "stream",
     "text": [
      "enter the stringdamodhara\n",
      "what would like to removea\n",
      " dmodhr\n"
     ]
    }
   ],
   "source": [
    "s=input('enter the string')\n",
    "term=input('what would like to remove')\n",
    "\n",
    "result=' '\n",
    "\n",
    "for i in s:\n",
    "    if i != term:\n",
    "        result=result+i\n",
    "print(result)"
   ]
  },
  {
   "cell_type": "markdown",
   "id": "d3ec6a72",
   "metadata": {},
   "source": [
    "#### 5. Write a program whether given string is palindram or not\n"
   ]
  },
  {
   "cell_type": "markdown",
   "id": "c04bbd72",
   "metadata": {},
   "source": [
    "#### ఇరువైపుల ఒకేవిధంగా వచ్చు పదం\n",
    "palindrome\n",
    " Example:  abba\n",
    "           malayalam "
   ]
  },
  {
   "cell_type": "code",
   "execution_count": 115,
   "id": "6f5983bb",
   "metadata": {},
   "outputs": [
    {
     "name": "stdout",
     "output_type": "stream",
     "text": [
      "enter the stringmalayalm\n",
      "Not a palindrome\n"
     ]
    }
   ],
   "source": [
    "s=input('enter the string')\n",
    "flag=True\n",
    "for i in range(0,len(s)//2):\n",
    "    if s[i] !=s[len(s)-i-1]:\n",
    "        flag=False\n",
    "        print('Not a palindrome')\n",
    "        break\n",
    "if flag:\n",
    "    print('palindrome')"
   ]
  },
  {
   "cell_type": "code",
   "execution_count": 116,
   "id": "88006abf",
   "metadata": {},
   "outputs": [
    {
     "name": "stdout",
     "output_type": "stream",
     "text": [
      "enter the stringracecar\n",
      "palindrome\n"
     ]
    }
   ],
   "source": [
    "s=input('enter the string')\n",
    "flag=True\n",
    "for i in range(0,len(s)//2):\n",
    "    if s[i] !=s[len(s)-i-1]:\n",
    "        flag=False\n",
    "        print('Not a palindrome')\n",
    "        break\n",
    "if flag:\n",
    "    print('palindrome')"
   ]
  },
  {
   "cell_type": "code",
   "execution_count": 117,
   "id": "c552bdd6",
   "metadata": {},
   "outputs": [
    {
     "name": "stdout",
     "output_type": "stream",
     "text": [
      "enter the stringdamodhara\n",
      "Not a palindrome\n"
     ]
    }
   ],
   "source": [
    "s=input('enter the string')\n",
    "flag=True\n",
    "for i in range(0,len(s)//2):\n",
    "    if s[i] !=s[len(s)-i-1]:\n",
    "        flag=False\n",
    "        print('Not a palindrome')\n",
    "        break\n",
    "if flag:\n",
    "    print('palindrome')"
   ]
  },
  {
   "cell_type": "code",
   "execution_count": 118,
   "id": "439975f2",
   "metadata": {},
   "outputs": [
    {
     "name": "stdout",
     "output_type": "stream",
     "text": [
      "enter the stringabba\n",
      "palindrome\n"
     ]
    }
   ],
   "source": [
    "s=input('enter the string')\n",
    "flag=True\n",
    "for i in range(0,len(s)//2):\n",
    "    if s[i] !=s[len(s)-i-1]:\n",
    "        flag=False\n",
    "        print('Not a palindrome')\n",
    "        break\n",
    "if flag:\n",
    "    print('palindrome')"
   ]
  },
  {
   "cell_type": "markdown",
   "id": "bff3ab64",
   "metadata": {},
   "source": [
    "#### 6.write a program to count the number of words in a string without split()"
   ]
  },
  {
   "cell_type": "code",
   "execution_count": 119,
   "id": "a5aee6fc",
   "metadata": {},
   "outputs": [
    {
     "name": "stdout",
     "output_type": "stream",
     "text": [
      "enter the stringabba\n",
      "['abba']\n"
     ]
    }
   ],
   "source": [
    "s=input('enter the string')\n",
    "L=[]\n",
    "temp=''\n",
    "for i in s:\n",
    "    \n",
    "    if i !=' ':\n",
    "        temp= temp+i\n",
    "    else:\n",
    "        L.append(temp)\n",
    "        temp=' '\n",
    "L.append(temp)\n",
    "print(L)            "
   ]
  },
  {
   "cell_type": "markdown",
   "id": "d4a80155",
   "metadata": {},
   "source": [
    "#### 7.Write a program to convert string in to title case without using the title()."
   ]
  },
  {
   "cell_type": "code",
   "execution_count": 120,
   "id": "38c3905b",
   "metadata": {},
   "outputs": [
    {
     "data": {
      "text/plain": [
       "'Hai How Are You'"
      ]
     },
     "execution_count": 120,
     "metadata": {},
     "output_type": "execute_result"
    }
   ],
   "source": [
    "'hai how are you'.title()"
   ]
  },
  {
   "cell_type": "code",
   "execution_count": 121,
   "id": "ba1b3d28",
   "metadata": {},
   "outputs": [
    {
     "name": "stdout",
     "output_type": "stream",
     "text": [
      "enter the stringhai\n",
      "hai\n"
     ]
    }
   ],
   "source": [
    "s=input('enter the string')\n",
    "\n",
    "for i in s.split():\n",
    "    print(i)"
   ]
  },
  {
   "cell_type": "code",
   "execution_count": 122,
   "id": "74426bfa",
   "metadata": {},
   "outputs": [
    {
     "name": "stdout",
     "output_type": "stream",
     "text": [
      "enter the stringhello how are you\n",
      "Hello How Are You "
     ]
    }
   ],
   "source": [
    "s=input('enter the string')\n",
    "\n",
    "for i in s.split():\n",
    "    print(i[0].upper() + i[1:].lower(),end=\" \")"
   ]
  },
  {
   "cell_type": "code",
   "execution_count": 123,
   "id": "4a64c678",
   "metadata": {},
   "outputs": [
    {
     "name": "stdout",
     "output_type": "stream",
     "text": [
      "enter the stringiam sorry\n",
      "Iam Sorry\n"
     ]
    }
   ],
   "source": [
    "s=input('enter the string')\n",
    "\n",
    "L=[]\n",
    "for i in s.split():\n",
    "    L.append(i[0].upper() + i[1:].lower())\n",
    "print(\" \".join(L))"
   ]
  },
  {
   "cell_type": "markdown",
   "id": "0abf5d05",
   "metadata": {},
   "source": [
    "#### 8. Write a Program to convert integer into string "
   ]
  },
  {
   "cell_type": "code",
   "execution_count": 128,
   "id": "57ade952",
   "metadata": {},
   "outputs": [
    {
     "name": "stdout",
     "output_type": "stream",
     "text": [
      "Enter the number10000\n",
      "10000 \n",
      "<class 'str'>\n"
     ]
    }
   ],
   "source": [
    "number=int(input('Enter the number'))\n",
    "\n",
    "digits='0123456789'\n",
    "result=' '\n",
    "while number !=0:\n",
    "    result=digits[number%10] + result\n",
    "    number = number//10\n",
    "    \n",
    "print(result)\n",
    "print(type(result))"
   ]
  },
  {
   "cell_type": "markdown",
   "id": "9dd88c48",
   "metadata": {},
   "source": [
    "#### 9.Write a program to count the length of string without using inbuilt function"
   ]
  },
  {
   "cell_type": "code",
   "execution_count": 125,
   "id": "d5ad67be",
   "metadata": {},
   "outputs": [
    {
     "name": "stdout",
     "output_type": "stream",
     "text": [
      "Length of the string 18\n"
     ]
    }
   ],
   "source": [
    "str='Welcome to my blog'\n",
    "count=0\n",
    "for i in str:\n",
    "    count=count+1\n",
    "print('Length of the string',count)"
   ]
  },
  {
   "cell_type": "markdown",
   "id": "51de7126",
   "metadata": {},
   "source": [
    "### miscellaneous"
   ]
  },
  {
   "cell_type": "code",
   "execution_count": 126,
   "id": "9b825166",
   "metadata": {},
   "outputs": [
    {
     "name": "stdout",
     "output_type": "stream",
     "text": [
      "Mg\n"
     ]
    }
   ],
   "source": [
    "s1='My'\n",
    "s2='Blog'\n",
    "s3=s1[:1]+s2[len(s2)-1:]\n",
    "print(s3)"
   ]
  },
  {
   "cell_type": "code",
   "execution_count": 127,
   "id": "7221c4d4",
   "metadata": {},
   "outputs": [
    {
     "name": "stdout",
     "output_type": "stream",
     "text": [
      "myblogblog\n"
     ]
    }
   ],
   "source": [
    "print('my'+'blog'*2)"
   ]
  },
  {
   "cell_type": "code",
   "execution_count": 6,
   "id": "9073a4b0",
   "metadata": {},
   "outputs": [
    {
     "name": "stdout",
     "output_type": "stream",
     "text": [
      "abc\n"
     ]
    }
   ],
   "source": [
    "print(\"a\"+\"bc\")"
   ]
  },
  {
   "cell_type": "code",
   "execution_count": 7,
   "id": "a1206e91",
   "metadata": {},
   "outputs": [
    {
     "data": {
      "text/plain": [
       "'cd'"
      ]
     },
     "execution_count": 7,
     "metadata": {},
     "output_type": "execute_result"
    }
   ],
   "source": [
    "'abcd'[2:]"
   ]
  },
  {
   "cell_type": "raw",
   "id": "44136c62",
   "metadata": {},
   "source": [
    "3. The output of executing string.ascii_letters can also be achieved by:\n",
    "a) string.ascii_lowercase_string.digits\n",
    "b) string.ascii_lowercase+string.ascii_uppercase\n",
    "c) string.letters\n",
    "d) string.lowercase_string.uppercase\n",
    "\n",
    "answer: b"
   ]
  },
  {
   "cell_type": "code",
   "execution_count": 8,
   "id": "ed43cf34",
   "metadata": {},
   "outputs": [
    {
     "data": {
      "text/plain": [
       "'o'"
      ]
     },
     "execution_count": 8,
     "metadata": {},
     "output_type": "execute_result"
    }
   ],
   "source": [
    "str1='hello'\n",
    "str2=','\n",
    "str3='world'\n",
    "str1[-1:]"
   ]
  },
  {
   "cell_type": "code",
   "execution_count": 9,
   "id": "98eb5999",
   "metadata": {},
   "outputs": [
    {
     "data": {
      "text/plain": [
       "'o'"
      ]
     },
     "execution_count": 9,
     "metadata": {},
     "output_type": "execute_result"
    }
   ],
   "source": [
    "str1[-1::]"
   ]
  },
  {
   "cell_type": "code",
   "execution_count": 10,
   "id": "6b81a968",
   "metadata": {},
   "outputs": [
    {
     "data": {
      "text/plain": [
       "'olleh'"
      ]
     },
     "execution_count": 10,
     "metadata": {},
     "output_type": "execute_result"
    }
   ],
   "source": [
    "str1[::-1]"
   ]
  },
  {
   "cell_type": "code",
   "execution_count": 12,
   "id": "217f77b9",
   "metadata": {},
   "outputs": [
    {
     "name": "stdout",
     "output_type": "stream",
     "text": [
      "\\nhello\n"
     ]
    }
   ],
   "source": [
    "print(r'\\nhello')"
   ]
  },
  {
   "cell_type": "code",
   "execution_count": 15,
   "id": "90fba460",
   "metadata": {},
   "outputs": [
    {
     "name": "stdout",
     "output_type": "stream",
     "text": [
      "newline\n"
     ]
    }
   ],
   "source": [
    "print('new' 'line')\n",
    "\n",
    "#String literal separated by whitespace are allowed. They are concatenated."
   ]
  },
  {
   "cell_type": "code",
   "execution_count": 16,
   "id": "f5c3ca5f",
   "metadata": {},
   "outputs": [
    {
     "name": "stdout",
     "output_type": "stream",
     "text": [
      "x\\97\n"
     ]
    }
   ],
   "source": [
    "print('x\\97\\x98')"
   ]
  },
  {
   "cell_type": "code",
   "execution_count": 17,
   "id": "3ae1dd62",
   "metadata": {},
   "outputs": [
    {
     "data": {
      "text/plain": [
       "'dlrowolleh'"
      ]
     },
     "execution_count": 17,
     "metadata": {},
     "output_type": "execute_result"
    }
   ],
   "source": [
    "str1='helloworld'\n",
    "str1[::-1]"
   ]
  },
  {
   "cell_type": "code",
   "execution_count": 19,
   "id": "c7453027",
   "metadata": {},
   "outputs": [
    {
     "name": "stdout",
     "output_type": "stream",
     "text": [
      "33\n"
     ]
    }
   ],
   "source": [
    "print(0xA + 0xB + 0xC)\n",
    "\n",
    "#out put=33\n",
    "#0xA and 0xB and 0xC are hexadecimal integer literals representing the decimal values 10, 11 and 12 respectively. \n",
    "#There sum is 33."
   ]
  },
  {
   "cell_type": "code",
   "execution_count": 20,
   "id": "3565938e",
   "metadata": {},
   "outputs": [
    {
     "name": "stdout",
     "output_type": "stream",
     "text": [
      " wo\n"
     ]
    }
   ],
   "source": [
    "example='snow world'\n",
    "print('%s' % example[4:7])"
   ]
  },
  {
   "cell_type": "code",
   "execution_count": 22,
   "id": "37458491",
   "metadata": {},
   "outputs": [
    {
     "ename": "TypeError",
     "evalue": "'str' object does not support item assignment",
     "output_type": "error",
     "traceback": [
      "\u001b[1;31m---------------------------------------------------------------------------\u001b[0m",
      "\u001b[1;31mTypeError\u001b[0m                                 Traceback (most recent call last)",
      "\u001b[1;32m~\\AppData\\Local\\Temp\\ipykernel_14096\\2109560944.py\u001b[0m in \u001b[0;36m<module>\u001b[1;34m\u001b[0m\n\u001b[0;32m      1\u001b[0m \u001b[0mexample\u001b[0m\u001b[1;33m=\u001b[0m\u001b[1;34m'snow world'\u001b[0m\u001b[1;33m\u001b[0m\u001b[1;33m\u001b[0m\u001b[0m\n\u001b[1;32m----> 2\u001b[1;33m \u001b[0mexample\u001b[0m\u001b[1;33m[\u001b[0m\u001b[1;36m3\u001b[0m\u001b[1;33m]\u001b[0m\u001b[1;33m=\u001b[0m\u001b[1;34m's'\u001b[0m\u001b[1;33m\u001b[0m\u001b[1;33m\u001b[0m\u001b[0m\n\u001b[0m\u001b[0;32m      3\u001b[0m \u001b[0mprint\u001b[0m\u001b[1;33m(\u001b[0m\u001b[0mexample\u001b[0m\u001b[1;33m)\u001b[0m\u001b[1;33m\u001b[0m\u001b[1;33m\u001b[0m\u001b[0m\n\u001b[0;32m      4\u001b[0m \u001b[1;31m#Strings cannot be modified\u001b[0m\u001b[1;33m\u001b[0m\u001b[1;33m\u001b[0m\u001b[0m\n",
      "\u001b[1;31mTypeError\u001b[0m: 'str' object does not support item assignment"
     ]
    }
   ],
   "source": [
    "example='snow world'\n",
    "example[3]='s'\n",
    "print(example)\n",
    "#Strings cannot be modified"
   ]
  },
  {
   "cell_type": "code",
   "execution_count": 23,
   "id": "edbfd013",
   "metadata": {},
   "outputs": [
    {
     "data": {
      "text/plain": [
       "'y'"
      ]
     },
     "execution_count": 23,
     "metadata": {},
     "output_type": "execute_result"
    }
   ],
   "source": [
    "max('what are  you')"
   ]
  },
  {
   "cell_type": "code",
   "execution_count": 25,
   "id": "74712623",
   "metadata": {},
   "outputs": [
    {
     "data": {
      "text/plain": [
       "1"
      ]
     },
     "execution_count": 25,
     "metadata": {},
     "output_type": "execute_result"
    }
   ],
   "source": [
    "x='helle'\n",
    "x.find('e')\n",
    "#it returns the lowest index value"
   ]
  },
  {
   "cell_type": "code",
   "execution_count": 26,
   "id": "8b69d222",
   "metadata": {},
   "outputs": [
    {
     "data": {
      "text/plain": [
       "4"
      ]
     },
     "execution_count": 26,
     "metadata": {},
     "output_type": "execute_result"
    }
   ],
   "source": [
    "x='helle'\n",
    "x.rfind('e')\n",
    "#it returns the highest index value"
   ]
  },
  {
   "cell_type": "code",
   "execution_count": 27,
   "id": "d2d5887c",
   "metadata": {},
   "outputs": [
    {
     "data": {
      "text/plain": [
       "True"
      ]
     },
     "execution_count": 27,
     "metadata": {},
     "output_type": "execute_result"
    }
   ],
   "source": [
    "x='helloworld'\n",
    "x[::-1].startswith('d')"
   ]
  },
  {
   "cell_type": "code",
   "execution_count": 30,
   "id": "f5e38bbe",
   "metadata": {},
   "outputs": [
    {
     "name": "stdout",
     "output_type": "stream",
     "text": [
      "damodhara\n"
     ]
    }
   ],
   "source": [
    "s1='damo'\n",
    "s2='dhara'\n",
    "s3=s1.__add__(s2) # it is another method of concatenation\n",
    "print(s3)"
   ]
  },
  {
   "cell_type": "code",
   "execution_count": 31,
   "id": "60f362fb",
   "metadata": {},
   "outputs": [
    {
     "data": {
      "text/plain": [
       "'A'"
      ]
     },
     "execution_count": 31,
     "metadata": {},
     "output_type": "execute_result"
    }
   ],
   "source": [
    "chr(ord('A'))"
   ]
  },
  {
   "cell_type": "code",
   "execution_count": 32,
   "id": "0c21beb7",
   "metadata": {},
   "outputs": [
    {
     "data": {
      "text/plain": [
       "'B'"
      ]
     },
     "execution_count": 32,
     "metadata": {},
     "output_type": "execute_result"
    }
   ],
   "source": [
    "chr(ord('A')+1)"
   ]
  },
  {
   "cell_type": "code",
   "execution_count": 33,
   "id": "44c12727",
   "metadata": {},
   "outputs": [
    {
     "data": {
      "text/plain": [
       "'c'"
      ]
     },
     "execution_count": 33,
     "metadata": {},
     "output_type": "execute_result"
    }
   ],
   "source": [
    "chr(ord('b')+1)"
   ]
  },
  {
   "cell_type": "code",
   "execution_count": 39,
   "id": "bab465d5",
   "metadata": {},
   "outputs": [
    {
     "name": "stdout",
     "output_type": "stream",
     "text": [
      "hello\\example\\test.txt\n"
     ]
    }
   ],
   "source": [
    "print(\"hello\\\\example\\\\test.txt\")"
   ]
  },
  {
   "cell_type": "code",
   "execution_count": 40,
   "id": "2bf66044",
   "metadata": {},
   "outputs": [
    {
     "data": {
      "text/plain": [
       "'World'"
      ]
     },
     "execution_count": 40,
     "metadata": {},
     "output_type": "execute_result"
    }
   ],
   "source": [
    "\"\\t\\tWorld\\n\".strip()"
   ]
  },
  {
   "cell_type": "code",
   "execution_count": 42,
   "id": "b50c4b7e",
   "metadata": {},
   "outputs": [
    {
     "data": {
      "text/plain": [
       "'hello world'"
      ]
     },
     "execution_count": 42,
     "metadata": {},
     "output_type": "execute_result"
    }
   ],
   "source": [
    "'hello world'.format()\n",
    "\n",
    "#format function return a string"
   ]
  },
  {
   "cell_type": "code",
   "execution_count": 44,
   "id": "df9b7b23",
   "metadata": {},
   "outputs": [
    {
     "ename": "TypeError",
     "evalue": "can only concatenate str (not \"int\") to str",
     "output_type": "error",
     "traceback": [
      "\u001b[1;31m---------------------------------------------------------------------------\u001b[0m",
      "\u001b[1;31mTypeError\u001b[0m                                 Traceback (most recent call last)",
      "\u001b[1;32m~\\AppData\\Local\\Temp\\ipykernel_14096\\3124542893.py\u001b[0m in \u001b[0;36m<module>\u001b[1;34m\u001b[0m\n\u001b[1;32m----> 1\u001b[1;33m \u001b[0mx\u001b[0m\u001b[1;33m=\u001b[0m\u001b[1;34m'hello'\u001b[0m\u001b[1;33m+\u001b[0m\u001b[1;36m1\u001b[0m\u001b[1;33m+\u001b[0m\u001b[1;36m2\u001b[0m\u001b[1;33m+\u001b[0m\u001b[1;36m3\u001b[0m\u001b[1;33m\u001b[0m\u001b[1;33m\u001b[0m\u001b[0m\n\u001b[0m\u001b[0;32m      2\u001b[0m \u001b[0mprint\u001b[0m\u001b[1;33m(\u001b[0m\u001b[0mx\u001b[0m\u001b[1;33m)\u001b[0m\u001b[1;33m\u001b[0m\u001b[1;33m\u001b[0m\u001b[0m\n\u001b[0;32m      3\u001b[0m \u001b[1;33m\u001b[0m\u001b[0m\n\u001b[0;32m      4\u001b[0m \u001b[1;31m#cannot concatenate str and int objects\u001b[0m\u001b[1;33m\u001b[0m\u001b[1;33m\u001b[0m\u001b[0m\n",
      "\u001b[1;31mTypeError\u001b[0m: can only concatenate str (not \"int\") to str"
     ]
    }
   ],
   "source": [
    "x='hello'+1+2+3\n",
    "print(x)\n",
    "\n",
    "#cannot concatenate str and int objects"
   ]
  },
  {
   "cell_type": "code",
   "execution_count": 49,
   "id": "38411ca6",
   "metadata": {},
   "outputs": [
    {
     "name": "stdout",
     "output_type": "stream",
     "text": [
      "Welcome   # 111#924.66\n"
     ]
    }
   ],
   "source": [
    "print(format('Welcome','10s'),end='#')\n",
    "print(format(111,'4d'),end='#')\n",
    "print(format(924.656,'3.2f'))"
   ]
  },
  {
   "cell_type": "code",
   "execution_count": 51,
   "id": "91f02759",
   "metadata": {},
   "outputs": [
    {
     "name": "stdout",
     "output_type": "stream",
     "text": [
      "1\n"
     ]
    }
   ],
   "source": [
    "print(ord('b') - ord('a'))"
   ]
  }
 ],
 "metadata": {
  "kernelspec": {
   "display_name": "Python 3 (ipykernel)",
   "language": "python",
   "name": "python3"
  },
  "language_info": {
   "codemirror_mode": {
    "name": "ipython",
    "version": 3
   },
   "file_extension": ".py",
   "mimetype": "text/x-python",
   "name": "python",
   "nbconvert_exporter": "python",
   "pygments_lexer": "ipython3",
   "version": "3.9.13"
  }
 },
 "nbformat": 4,
 "nbformat_minor": 5
}
