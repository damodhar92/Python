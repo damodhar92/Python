{
 "cells": [
  {
   "cell_type": "markdown",
   "id": "a007e49a",
   "metadata": {},
   "source": [
    "# Python Introduction"
   ]
  },
  {
   "cell_type": "code",
   "execution_count": 1,
   "id": "186db089",
   "metadata": {},
   "outputs": [],
   "source": [
    "#Python is a popular programming language.\n",
    "#Python can be used on a server to create web applications."
   ]
  },
  {
   "cell_type": "code",
   "execution_count": null,
   "id": "8020f02c",
   "metadata": {},
   "outputs": [],
   "source": [
    "#What is python:\n",
    "1.Python is a popular programming language. It was created by Guido van Rossum, and released in 1991.\n",
    "2.It is used for:\n",
    "3.web development (server-side),\n",
    "4.software development,\n",
    "5.mathematics,\n",
    "6.system scripting.\n"
   ]
  },
  {
   "cell_type": "code",
   "execution_count": null,
   "id": "067ec0e9",
   "metadata": {},
   "outputs": [],
   "source": [
    "#What can Python do?\n",
    "1.Python can be used on a server to create web applications.\n",
    "2.python can be used alongside software to create workflows.\n",
    "3.Python can connect to database systems. It can also read and modify files.\n",
    "4.Python can be used to handle big data and perform complex mathematics.\n",
    "5.Python can be used for rapid prototyping, or for production-ready software development.\n"
   ]
  },
  {
   "cell_type": "code",
   "execution_count": null,
   "id": "654e0ca5",
   "metadata": {},
   "outputs": [],
   "source": [
    "#Why Python?\n",
    "1.Python works on different platforms (Windows, Mac, Linux, Raspberry Pi, etc).\n",
    "2.Python has a simple syntax similar to the English language.\n",
    "3.Python has syntax that allows developers to write programs with fewer lines than some other programming languages.\n",
    "4.Python runs on an interpreter system, meaning that code can be executed as soon as it is written. \n",
    "5.This means that prototyping can be very quick.\n",
    "6.Python can be treated in a procedural way, an object-oriented way or a functional way."
   ]
  },
  {
   "cell_type": "code",
   "execution_count": 1,
   "id": "da33c5de",
   "metadata": {},
   "outputs": [
    {
     "data": {
      "text/plain": [
       "int"
      ]
     },
     "execution_count": 1,
     "metadata": {},
     "output_type": "execute_result"
    }
   ],
   "source": [
    "# Int: Integer- inifinity to + infinity\n",
    "x=45\n",
    "type(x)"
   ]
  },
  {
   "cell_type": "code",
   "execution_count": 1,
   "id": "c02905ba",
   "metadata": {},
   "outputs": [
    {
     "data": {
      "text/plain": [
       "int"
      ]
     },
     "execution_count": 1,
     "metadata": {},
     "output_type": "execute_result"
    }
   ],
   "source": [
    "x= 0\n",
    "type(x)"
   ]
  },
  {
   "cell_type": "code",
   "execution_count": 2,
   "id": "6ec61dde",
   "metadata": {},
   "outputs": [
    {
     "data": {
      "text/plain": [
       "float"
      ]
     },
     "execution_count": 2,
     "metadata": {},
     "output_type": "execute_result"
    }
   ],
   "source": [
    "#float : decimal number - infinity to +infinity of decimal numbers\n",
    "x=30.0\n",
    "type(x)"
   ]
  },
  {
   "cell_type": "code",
   "execution_count": 3,
   "id": "baa7b2f0",
   "metadata": {},
   "outputs": [
    {
     "data": {
      "text/plain": [
       "str"
      ]
     },
     "execution_count": 3,
     "metadata": {},
     "output_type": "execute_result"
    }
   ],
   "source": [
    "#str:STRING- when anything inside \" \" or'' or''' ''' \n",
    "x=\"damodhara\"\n",
    "type(x)"
   ]
  },
  {
   "cell_type": "code",
   "execution_count": 4,
   "id": "0888b367",
   "metadata": {},
   "outputs": [
    {
     "name": "stdout",
     "output_type": "stream",
     "text": [
      "True\n",
      "False\n",
      "False\n"
     ]
    }
   ],
   "source": [
    "# Boolean: Booleans represent one of two values: True or False.\n",
    "#When you compare two values, the expression is evaluated and Python returns the Boolean answer:\n",
    "print(10 > 9)\n",
    "print(10 == 9)\n",
    "print(10 < 9)"
   ]
  },
  {
   "cell_type": "code",
   "execution_count": 6,
   "id": "19c8f0a0",
   "metadata": {},
   "outputs": [
    {
     "name": "stdout",
     "output_type": "stream",
     "text": [
      "b is not greater than a\n"
     ]
    }
   ],
   "source": [
    "a = 200\n",
    "b = 33\n",
    "if b > a:\n",
    "  print(\"b is greater than a\")\n",
    "else:\n",
    "  print(\"b is not greater than a\")"
   ]
  },
  {
   "cell_type": "code",
   "execution_count": 7,
   "id": "1cb991e2",
   "metadata": {},
   "outputs": [
    {
     "name": "stdout",
     "output_type": "stream",
     "text": [
      "True\n",
      "True\n"
     ]
    }
   ],
   "source": [
    "#Evaluate Values and Variables\n",
    "#The bool() function allows you to evaluate any value, and give you True or False in return,\n",
    "print(bool(\"Hello\"))\n",
    "print(bool(15))"
   ]
  },
  {
   "cell_type": "code",
   "execution_count": 8,
   "id": "dddd060f",
   "metadata": {},
   "outputs": [
    {
     "name": "stdout",
     "output_type": "stream",
     "text": [
      "True\n",
      "True\n"
     ]
    }
   ],
   "source": [
    "#Evaluate two variables:\n",
    "x = \"Hello\"\n",
    "y = 15\n",
    "print(bool(x))\n",
    "print(bool(y))"
   ]
  },
  {
   "cell_type": "code",
   "execution_count": 10,
   "id": "3c774543",
   "metadata": {},
   "outputs": [
    {
     "data": {
      "text/plain": [
       "True"
      ]
     },
     "execution_count": 10,
     "metadata": {},
     "output_type": "execute_result"
    }
   ],
   "source": [
    "#Most Values are True:\n",
    "#>>>Almost any value is evaluated to True if it has some sort of content.\n",
    "#>>>Any string is True, except empty strings.\n",
    "#>>>Any number is True, except 0.\n",
    "#>>>Any list, tuple, set, and dictionary are True, except empty ones."
   ]
  },
  {
   "cell_type": "code",
   "execution_count": 11,
   "id": "df97aa9c",
   "metadata": {},
   "outputs": [
    {
     "data": {
      "text/plain": [
       "True"
      ]
     },
     "execution_count": 11,
     "metadata": {},
     "output_type": "execute_result"
    }
   ],
   "source": [
    "#The following will return True:\n",
    "bool(\"abc\")\n",
    "bool(123)\n",
    "bool([\"apple\", \"cherry\", \"banana\"])"
   ]
  },
  {
   "cell_type": "code",
   "execution_count": 14,
   "id": "724650fc",
   "metadata": {},
   "outputs": [
    {
     "data": {
      "text/plain": [
       "list"
      ]
     },
     "execution_count": 14,
     "metadata": {},
     "output_type": "execute_result"
    }
   ],
   "source": [
    "# List:when any thing inside []\n",
    "X=['DAMODHARA']\n",
    "type(X)"
   ]
  },
  {
   "cell_type": "code",
   "execution_count": 4,
   "id": "f04768ee",
   "metadata": {},
   "outputs": [
    {
     "data": {
      "text/plain": [
       "str"
      ]
     },
     "execution_count": 4,
     "metadata": {},
     "output_type": "execute_result"
    }
   ],
   "source": [
    "#Tuple:when any thing inside ()\n",
    "x=(('damodhara'))\n",
    "type(x)"
   ]
  },
  {
   "cell_type": "code",
   "execution_count": 18,
   "id": "2e1454f9",
   "metadata": {},
   "outputs": [
    {
     "name": "stdout",
     "output_type": "stream",
     "text": [
      "<class 'dict'>\n"
     ]
    }
   ],
   "source": [
    "#dict : when anything inside {\"key\":\"value\"}\n",
    "thisdict = {\n",
    "  \"brand\": \"Ford\",\n",
    "  \"model\": \"Mustang\",\n",
    "  \"year\": 1964\n",
    "}\n",
    "print(type(thisdict))"
   ]
  },
  {
   "cell_type": "code",
   "execution_count": 20,
   "id": "ed41c78b",
   "metadata": {},
   "outputs": [
    {
     "name": "stdout",
     "output_type": "stream",
     "text": [
      "<class 'set'>\n"
     ]
    }
   ],
   "source": [
    "# set:Sets are used to store multiple items in a single variable.\n",
    "myset = {\"apple\", \"banana\", \"cherry\"}\n",
    "print(type(myset))"
   ]
  },
  {
   "cell_type": "code",
   "execution_count": null,
   "id": "2b146402",
   "metadata": {},
   "outputs": [],
   "source": [
    "# json: similar to dict --- but data format "
   ]
  },
  {
   "cell_type": "markdown",
   "id": "b4dd044d",
   "metadata": {},
   "source": [
    "# Python Operators"
   ]
  },
  {
   "cell_type": "code",
   "execution_count": 21,
   "id": "ca27008b",
   "metadata": {},
   "outputs": [
    {
     "data": {
      "text/plain": [
       "1.0"
      ]
     },
     "execution_count": 21,
     "metadata": {},
     "output_type": "execute_result"
    }
   ],
   "source": [
    "# division : whenever we perform div operation the out datatype is always going to be float \n",
    "a=8\n",
    "b=8\n",
    "a/b"
   ]
  },
  {
   "cell_type": "code",
   "execution_count": 22,
   "id": "19fa0054",
   "metadata": {},
   "outputs": [
    {
     "data": {
      "text/plain": [
       "1"
      ]
     },
     "execution_count": 22,
     "metadata": {},
     "output_type": "execute_result"
    }
   ],
   "source": [
    "#modolo: going to take reminder as output \n",
    "        # the output datatype is int if all the variables is int \n",
    "#symbol :%\n",
    "a=11\n",
    "b=2\n",
    "a%b"
   ]
  },
  {
   "cell_type": "code",
   "execution_count": 23,
   "id": "3744c7b9",
   "metadata": {},
   "outputs": [
    {
     "data": {
      "text/plain": [
       "0.5"
      ]
     },
     "execution_count": 23,
     "metadata": {},
     "output_type": "execute_result"
    }
   ],
   "source": [
    "a=11\n",
    "b=2\n",
    "a%3.5"
   ]
  },
  {
   "cell_type": "code",
   "execution_count": 24,
   "id": "13292f2c",
   "metadata": {},
   "outputs": [
    {
     "data": {
      "text/plain": [
       "5"
      ]
     },
     "execution_count": 24,
     "metadata": {},
     "output_type": "execute_result"
    }
   ],
   "source": [
    "# Floor division: going to take quotient as output \n",
    "#symbol: //\n",
    "a=11\n",
    "b=2\n",
    "a//b"
   ]
  },
  {
   "cell_type": "code",
   "execution_count": 25,
   "id": "a6fa623a",
   "metadata": {},
   "outputs": [
    {
     "data": {
      "text/plain": [
       "(6172, 0, 6172.0)"
      ]
     },
     "execution_count": 25,
     "metadata": {},
     "output_type": "execute_result"
    }
   ],
   "source": [
    "a=12344\n",
    "b=2\n",
    "a//b,a%b,a/b"
   ]
  },
  {
   "cell_type": "code",
   "execution_count": 26,
   "id": "82a1bac9",
   "metadata": {},
   "outputs": [
    {
     "name": "stdout",
     "output_type": "stream",
     "text": [
      "8\n"
     ]
    }
   ],
   "source": [
    "# Addition\n",
    "x = 5\n",
    "y = 3\n",
    "print(x + y)"
   ]
  },
  {
   "cell_type": "code",
   "execution_count": 27,
   "id": "4ca88d74",
   "metadata": {},
   "outputs": [
    {
     "name": "stdout",
     "output_type": "stream",
     "text": [
      "2\n"
     ]
    }
   ],
   "source": [
    "#Subtraction\n",
    "x = 5\n",
    "y = 3\n",
    "print(x - y)"
   ]
  },
  {
   "cell_type": "code",
   "execution_count": 28,
   "id": "bba09661",
   "metadata": {},
   "outputs": [
    {
     "name": "stdout",
     "output_type": "stream",
     "text": [
      "15\n"
     ]
    }
   ],
   "source": [
    "#Multiplication\n",
    "x = 5\n",
    "y = 3\n",
    "print(x * y)"
   ]
  },
  {
   "cell_type": "code",
   "execution_count": 29,
   "id": "b3d8a4f8",
   "metadata": {},
   "outputs": [
    {
     "name": "stdout",
     "output_type": "stream",
     "text": [
      "32\n"
     ]
    }
   ],
   "source": [
    "#Exponentiation\n",
    "x = 2\n",
    "y = 5\n",
    "print(x ** y) #same as 2*2*2*2*2"
   ]
  },
  {
   "cell_type": "code",
   "execution_count": 30,
   "id": "ce02a556",
   "metadata": {},
   "outputs": [
    {
     "data": {
      "text/plain": [
       "(False, False, True, False)"
      ]
     },
     "execution_count": 30,
     "metadata": {},
     "output_type": "execute_result"
    }
   ],
   "source": [
    "#Equality operators:\n",
    "#  <,>,>=,<=,==,!=\n",
    "a=4\n",
    "b=4\n",
    "a>b,a<b,a==b,a!=b"
   ]
  }
 ],
 "metadata": {
  "kernelspec": {
   "display_name": "Python 3 (ipykernel)",
   "language": "python",
   "name": "python3"
  },
  "language_info": {
   "codemirror_mode": {
    "name": "ipython",
    "version": 3
   },
   "file_extension": ".py",
   "mimetype": "text/x-python",
   "name": "python",
   "nbconvert_exporter": "python",
   "pygments_lexer": "ipython3",
   "version": "3.9.13"
  }
 },
 "nbformat": 4,
 "nbformat_minor": 5
}
