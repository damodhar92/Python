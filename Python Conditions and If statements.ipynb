{
 "cells": [
  {
   "cell_type": "markdown",
   "id": "2999e13f",
   "metadata": {},
   "source": [
    "# Python Conditions and If statements\n"
   ]
  },
  {
   "cell_type": "code",
   "execution_count": 1,
   "id": "0fb7e25a",
   "metadata": {},
   "outputs": [],
   "source": [
    "#Python supports the usual logical conditions from mathematics:\n",
    "#Equals: a == b\n",
    "#Not Equals: a != b\n",
    "#Less than: a < b\n",
    "#Less than or equal to: a <= b\n",
    "#Greater than: a > b\n",
    "#Greater than or equal to: a >= b\n",
    "#These conditions can be used in several ways, most commonly in \"if statements\" and loops.\n",
    "#An \"if statement\" is written by using the if keyword."
   ]
  },
  {
   "cell_type": "code",
   "execution_count": 2,
   "id": "4c61523b",
   "metadata": {},
   "outputs": [
    {
     "name": "stdout",
     "output_type": "stream",
     "text": [
      "b is greater than a\n"
     ]
    }
   ],
   "source": [
    "#If statement:\n",
    "a = 33\n",
    "b = 200\n",
    "if b > a:\n",
    "  print(\"b is greater than a\")"
   ]
  },
  {
   "cell_type": "code",
   "execution_count": 3,
   "id": "e3d76453",
   "metadata": {},
   "outputs": [
    {
     "name": "stdout",
     "output_type": "stream",
     "text": [
      "a and b are equal\n"
     ]
    }
   ],
   "source": [
    "#Elif:The elif keyword is pythons way of saying \"if the previous conditions were not true, then try this condition\".\n",
    "a = 33\n",
    "b = 33\n",
    "if b > a:\n",
    "  print(\"b is greater than a\")\n",
    "elif a == b:\n",
    "  print(\"a and b are equal\")"
   ]
  },
  {
   "cell_type": "code",
   "execution_count": 4,
   "id": "9163c6d8",
   "metadata": {},
   "outputs": [
    {
     "name": "stdout",
     "output_type": "stream",
     "text": [
      "a is greater than b\n"
     ]
    }
   ],
   "source": [
    "#Else:The else keyword catches anything which isn't caught by the preceding conditions.\n",
    "a = 200\n",
    "b = 33\n",
    "if b > a:\n",
    "  print(\"b is greater than a\")\n",
    "elif a == b:\n",
    "  print(\"a and b are equal\")\n",
    "else:\n",
    "  print(\"a is greater than b\")"
   ]
  },
  {
   "cell_type": "code",
   "execution_count": 6,
   "id": "7a680d99",
   "metadata": {},
   "outputs": [
    {
     "name": "stdout",
     "output_type": "stream",
     "text": [
      "b is not greater than a\n"
     ]
    }
   ],
   "source": [
    "#You can also have an else without the elif:\n",
    "a = 200\n",
    "b = 33\n",
    "if b > a:\n",
    "  print(\"b is greater than a\")\n",
    "else:\n",
    "  print(\"b is not greater than a\")"
   ]
  },
  {
   "cell_type": "code",
   "execution_count": 8,
   "id": "7a08e7d6",
   "metadata": {},
   "outputs": [
    {
     "name": "stdout",
     "output_type": "stream",
     "text": [
      "a is greater than b\n"
     ]
    }
   ],
   "source": [
    "#Short Hand If\n",
    "if a > b: print(\"a is greater than b\")"
   ]
  },
  {
   "cell_type": "code",
   "execution_count": 9,
   "id": "13d863bb",
   "metadata": {},
   "outputs": [
    {
     "name": "stdout",
     "output_type": "stream",
     "text": [
      "B\n"
     ]
    }
   ],
   "source": [
    "#Short Hand If ... Else\n",
    "a = 2\n",
    "b = 330\n",
    "print(\"A\") if a > b else print(\"B\")"
   ]
  },
  {
   "cell_type": "code",
   "execution_count": 10,
   "id": "f832a59a",
   "metadata": {},
   "outputs": [
    {
     "name": "stdout",
     "output_type": "stream",
     "text": [
      "=\n"
     ]
    }
   ],
   "source": [
    "#One line if else statement, with 3 conditions:\n",
    "a = 330\n",
    "b = 330\n",
    "print(\"A\") if a > b else print(\"=\") if a == b else print(\"B\")"
   ]
  },
  {
   "cell_type": "code",
   "execution_count": 12,
   "id": "5ebd1ea6",
   "metadata": {},
   "outputs": [
    {
     "name": "stdout",
     "output_type": "stream",
     "text": [
      "Both conditions are True\n"
     ]
    }
   ],
   "source": [
    "#And:\n",
    "#The and keyword is a logical operator, and is used to combine conditional statements:\n",
    "#Test if a is greater than b, AND if c is greater than a:\n",
    "a = 200\n",
    "b = 33\n",
    "c = 500\n",
    "if a > b and c > a:\n",
    "  print(\"Both conditions are True\")"
   ]
  },
  {
   "cell_type": "code",
   "execution_count": 14,
   "id": "7ce83374",
   "metadata": {},
   "outputs": [
    {
     "name": "stdout",
     "output_type": "stream",
     "text": [
      "At least one of the conditions is True\n"
     ]
    }
   ],
   "source": [
    "#Or:\n",
    "#The or keyword is a logical operator, and is used to combine conditional statements#:\n",
    "a = 200\n",
    "b = 33\n",
    "c = 500\n",
    "if a > b or a > c:\n",
    "  print(\"At least one of the conditions is True\")"
   ]
  },
  {
   "cell_type": "code",
   "execution_count": 15,
   "id": "19f6fff2",
   "metadata": {},
   "outputs": [
    {
     "name": "stdout",
     "output_type": "stream",
     "text": [
      "Above ten,\n",
      "and also above 20!\n"
     ]
    }
   ],
   "source": [
    "#Nested If\n",
    "x = 41\n",
    "if x > 10:\n",
    "  print(\"Above ten,\")\n",
    "  if x > 20:\n",
    "    print(\"and also above 20!\")\n",
    "  else:\n",
    "    print(\"but not above 20.\")"
   ]
  },
  {
   "cell_type": "code",
   "execution_count": 16,
   "id": "98c1bfbc",
   "metadata": {},
   "outputs": [],
   "source": [
    "#The pass Statement:\n",
    "#if statements cannot be empty, but if you for some reason have an if statement with no content,\n",
    "#put in the pass statement to avoid getting an error.\n",
    "a = 33\n",
    "b = 200\n",
    "if b > a:\n",
    "  pass"
   ]
  },
  {
   "cell_type": "code",
   "execution_count": 17,
   "id": "a29d46a8",
   "metadata": {},
   "outputs": [
    {
     "name": "stdout",
     "output_type": "stream",
     "text": [
      "please enter the value of x1\n",
      "x is a positive number\n"
     ]
    }
   ],
   "source": [
    "x=int(input(\"please enter the value of x\"))\n",
    "if x<0:\n",
    "    print(\"x is a negative number\")\n",
    "elif x>0:\n",
    "    print(\"x is a positive number\")\n",
    "elif x==0:\n",
    "    print(\"x is equale to zero\")\n",
    "else:\n",
    "    print(\"x is not defined\")\n"
   ]
  },
  {
   "cell_type": "code",
   "execution_count": 20,
   "id": "b4345d5d",
   "metadata": {},
   "outputs": [
    {
     "name": "stdout",
     "output_type": "stream",
     "text": [
      "please enter the value of x-1\n",
      "x is a negative number\n"
     ]
    }
   ],
   "source": [
    "x=int(input(\"please enter the value of x\"))\n",
    "if x<0:\n",
    "    print(\"x is a negative number\")\n",
    "elif x>0:\n",
    "    print(\"x is a positive number\")\n",
    "elif x==0:\n",
    "    print(\"x is equale to zero\")\n",
    "else:\n",
    "    print(\"x is not defined\")\n"
   ]
  },
  {
   "cell_type": "code",
   "execution_count": 21,
   "id": "51638083",
   "metadata": {},
   "outputs": [
    {
     "name": "stdout",
     "output_type": "stream",
     "text": [
      "please enter the value of x0\n",
      "x is equale to zero\n"
     ]
    }
   ],
   "source": [
    "x=int(input(\"please enter the value of x\"))\n",
    "if x<0:\n",
    "    print(\"x is a negative number\")\n",
    "elif x>0:\n",
    "    print(\"x is a positive number\")\n",
    "elif x==0:\n",
    "    print(\"x is equale to zero\")\n",
    "else:\n",
    "    print(\"x is not defined\")\n"
   ]
  },
  {
   "cell_type": "code",
   "execution_count": 23,
   "id": "dd113e73",
   "metadata": {},
   "outputs": [
    {
     "name": "stdout",
     "output_type": "stream",
     "text": [
      "c is the higest number\n"
     ]
    }
   ],
   "source": [
    "#Write a program higest number , when 3 numbers are given\n",
    "a=100\n",
    "b=200\n",
    "c=300\n",
    "if a>b and a>c:\n",
    "    print(\"a is the higest number\")\n",
    "elif b>c:\n",
    "    print(\"b is the higest number\")\n",
    "else:\n",
    "    print(\"c is the higest number\")\n",
    "    "
   ]
  },
  {
   "cell_type": "code",
   "execution_count": 24,
   "id": "06ff0e6d",
   "metadata": {},
   "outputs": [
    {
     "name": "stdout",
     "output_type": "stream",
     "text": [
      "b is the higest number\n"
     ]
    }
   ],
   "source": [
    "a=100\n",
    "b=300\n",
    "c=200\n",
    "if a>b and a>c:\n",
    "    print(\"a is the higest number\")\n",
    "elif b>c:\n",
    "    print(\"b is the higest number\")\n",
    "else:\n",
    "    print(\"c is the higest number\")"
   ]
  },
  {
   "cell_type": "code",
   "execution_count": 25,
   "id": "36dcfbf5",
   "metadata": {},
   "outputs": [
    {
     "name": "stdout",
     "output_type": "stream",
     "text": [
      "a is the higest number\n"
     ]
    }
   ],
   "source": [
    "a=300\n",
    "b=100\n",
    "c=200\n",
    "if a>b and a>c:\n",
    "    print(\"a is the highest number\")\n",
    "elif b>c:\n",
    "    print(\"b is the highest number\")\n",
    "else:\n",
    "    print(\"c is the highest number\")"
   ]
  },
  {
   "cell_type": "code",
   "execution_count": 26,
   "id": "276b5798",
   "metadata": {},
   "outputs": [
    {
     "name": "stdout",
     "output_type": "stream",
     "text": [
      "d is the highest number\n"
     ]
    }
   ],
   "source": [
    "# write a programe highest number when four numbers are given \n",
    "a=100\n",
    "b=200\n",
    "c=300\n",
    "d=400\n",
    "if a>b and a>c and a>d:\n",
    "    print(\"a is the highest number\")\n",
    "elif b>c and b>d:\n",
    "    print(\"b is the highest number\")\n",
    "elif c>d:\n",
    "    print(\"c is the highest number\")\n",
    "else:\n",
    "    print(\"d is the highest number\")"
   ]
  },
  {
   "cell_type": "code",
   "execution_count": 28,
   "id": "7caf162b",
   "metadata": {},
   "outputs": [
    {
     "name": "stdout",
     "output_type": "stream",
     "text": [
      "d is the highest number\n"
     ]
    }
   ],
   "source": [
    "a=100\n",
    "b=200\n",
    "c=300\n",
    "d=400\n",
    "if a>d:\n",
    "    print(\"a is the highest number\")\n",
    "else:\n",
    "    print(\"d is the highest number\")\n",
    "  "
   ]
  }
 ],
 "metadata": {
  "kernelspec": {
   "display_name": "Python 3 (ipykernel)",
   "language": "python",
   "name": "python3"
  },
  "language_info": {
   "codemirror_mode": {
    "name": "ipython",
    "version": 3
   },
   "file_extension": ".py",
   "mimetype": "text/x-python",
   "name": "python",
   "nbconvert_exporter": "python",
   "pygments_lexer": "ipython3",
   "version": "3.9.13"
  }
 },
 "nbformat": 4,
 "nbformat_minor": 5
}
