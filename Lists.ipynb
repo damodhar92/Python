{
 "cells": [
  {
   "cell_type": "markdown",
   "id": "193cda50",
   "metadata": {},
   "source": [
    "# characteristics of list\n",
    "     \n",
    "     *.Ordered\n",
    "     *.Changeble/Mutable\n",
    "     *.Hetrogeneous\n",
    "     *.Can have duplicates\n",
    "     *.dynamic\n",
    "     *.Nested \n",
    "     *.items can be accesed\n",
    "     *.can contain any type of object"
   ]
  },
  {
   "cell_type": "code",
   "execution_count": 1,
   "id": "9a6632a8",
   "metadata": {},
   "outputs": [
    {
     "data": {
      "text/plain": [
       "False"
      ]
     },
     "execution_count": 1,
     "metadata": {},
     "output_type": "execute_result"
    }
   ],
   "source": [
    "#Ordered\n",
    "L1=[1,2,3]\n",
    "L2=[3,2,1]\n",
    "L1==L2"
   ]
  },
  {
   "cell_type": "raw",
   "id": "3ac9f57a",
   "metadata": {},
   "source": [
    "L1 is not equalt to L2 because ordered is not same"
   ]
  },
  {
   "cell_type": "code",
   "execution_count": 4,
   "id": "807a724d",
   "metadata": {},
   "outputs": [
    {
     "name": "stdout",
     "output_type": "stream",
     "text": [
      "[100, 2, 3]\n"
     ]
    }
   ],
   "source": [
    "#Mutable\n",
    "L1=[1,2,3]\n",
    "L1[0]=100\n",
    "print(L1)"
   ]
  },
  {
   "cell_type": "code",
   "execution_count": 5,
   "id": "318a2fa2",
   "metadata": {},
   "outputs": [
    {
     "name": "stdout",
     "output_type": "stream",
     "text": [
      "[123, 'damodhara', 120.3, True]\n"
     ]
    }
   ],
   "source": [
    "#Heterogeneous\n",
    "x=[123,'damodhara',120.30,True]\n",
    "print(x)"
   ]
  },
  {
   "cell_type": "code",
   "execution_count": 6,
   "id": "d3f561ea",
   "metadata": {},
   "outputs": [
    {
     "name": "stdout",
     "output_type": "stream",
     "text": [
      "['apple', 'banana', 'orange', 'apple']\n"
     ]
    }
   ],
   "source": [
    "#can have duplicated\n",
    "x=['apple','banana','orange','apple']\n",
    "print(x)"
   ]
  },
  {
   "cell_type": "code",
   "execution_count": 7,
   "id": "22bfa75b",
   "metadata": {},
   "outputs": [
    {
     "name": "stdout",
     "output_type": "stream",
     "text": [
      "[1, 2, 3, 4, [123], ['damodhara']]\n"
     ]
    }
   ],
   "source": [
    "#can be nested\n",
    "x=[1,2,3,4,[123],['damodhara']]\n",
    "print(x)"
   ]
  },
  {
   "cell_type": "code",
   "execution_count": 9,
   "id": "cfee6887",
   "metadata": {},
   "outputs": [
    {
     "name": "stdout",
     "output_type": "stream",
     "text": [
      "rama\n"
     ]
    }
   ],
   "source": [
    "#items can be accessed\n",
    "x=['rama','sita','hanuma']\n",
    "print(x[0])"
   ]
  },
  {
   "cell_type": "markdown",
   "id": "5043dd38",
   "metadata": {},
   "source": [
    "## creating a list"
   ]
  },
  {
   "cell_type": "code",
   "execution_count": 10,
   "id": "58c505b6",
   "metadata": {},
   "outputs": [
    {
     "name": "stdout",
     "output_type": "stream",
     "text": [
      "[]\n"
     ]
    }
   ],
   "source": [
    "#empty list\n",
    "print([])"
   ]
  },
  {
   "cell_type": "code",
   "execution_count": 11,
   "id": "e748e71f",
   "metadata": {},
   "outputs": [
    {
     "name": "stdout",
     "output_type": "stream",
     "text": [
      "[1, 2, 3, 4, 5]\n"
     ]
    }
   ],
   "source": [
    "# 1D list\n",
    "print([1,2,3,4,5])"
   ]
  },
  {
   "cell_type": "code",
   "execution_count": 141,
   "id": "7359d4e9",
   "metadata": {},
   "outputs": [
    {
     "name": "stdout",
     "output_type": "stream",
     "text": [
      "[1, 2, 3, [4, 5, 6]]\n"
     ]
    }
   ],
   "source": [
    "# 2D List\n",
    "print([1,2,3,[4,5,6]])\n",
    "#heterogeneous \n",
    "#1,2,3 are integers \n",
    "# [4,5,6] are list "
   ]
  },
  {
   "cell_type": "code",
   "execution_count": 15,
   "id": "2c9e26cb",
   "metadata": {},
   "outputs": [
    {
     "name": "stdout",
     "output_type": "stream",
     "text": [
      "[[[1, 2], [3, 4]], [[5, 6], [6, 7]]]\n"
     ]
    }
   ],
   "source": [
    "#3D list\n",
    "print([[[1,2],[3,4]],[[5,6],[6,7]]])\n",
    "#homogeneous"
   ]
  },
  {
   "cell_type": "code",
   "execution_count": 16,
   "id": "33a1358f",
   "metadata": {},
   "outputs": [
    {
     "name": "stdout",
     "output_type": "stream",
     "text": [
      "['h', 'e', 'l', 'l', 'o']\n"
     ]
    }
   ],
   "source": [
    "#using type conversion\n",
    "print(list('hello'))"
   ]
  },
  {
   "cell_type": "markdown",
   "id": "29242c99",
   "metadata": {},
   "source": [
    "### accessing items from a list"
   ]
  },
  {
   "cell_type": "markdown",
   "id": "5f3b055f",
   "metadata": {},
   "source": [
    "#### Indexing"
   ]
  },
  {
   "cell_type": "code",
   "execution_count": 25,
   "id": "45ceace8",
   "metadata": {},
   "outputs": [
    {
     "name": "stdout",
     "output_type": "stream",
     "text": [
      "4\n"
     ]
    }
   ],
   "source": [
    "x=[1,2,3,[4,5]]\n",
    "print(x[3][0])"
   ]
  },
  {
   "cell_type": "code",
   "execution_count": 27,
   "id": "6fd39154",
   "metadata": {},
   "outputs": [
    {
     "name": "stdout",
     "output_type": "stream",
     "text": [
      "4\n"
     ]
    }
   ],
   "source": [
    "print(x[-1][-2])"
   ]
  },
  {
   "cell_type": "code",
   "execution_count": 30,
   "id": "5f5583ca",
   "metadata": {},
   "outputs": [
    {
     "name": "stdout",
     "output_type": "stream",
     "text": [
      "5\n"
     ]
    }
   ],
   "source": [
    "# Extract 5\n",
    "x=[[[1,2],[3,4]],[[5,6],[7,8]]]\n",
    "print(x[1][0][0])"
   ]
  },
  {
   "cell_type": "code",
   "execution_count": 31,
   "id": "5cf12cce",
   "metadata": {},
   "outputs": [
    {
     "name": "stdout",
     "output_type": "stream",
     "text": [
      "3\n"
     ]
    }
   ],
   "source": [
    "#Extract 3\n",
    "print(x[0][1][0])"
   ]
  },
  {
   "cell_type": "code",
   "execution_count": 32,
   "id": "ecd8ec70",
   "metadata": {},
   "outputs": [
    {
     "name": "stdout",
     "output_type": "stream",
     "text": [
      "2\n"
     ]
    }
   ],
   "source": [
    "#Extract 2\n",
    "print(x[0][0][1])"
   ]
  },
  {
   "cell_type": "markdown",
   "id": "512471db",
   "metadata": {},
   "source": [
    "#### Slicing"
   ]
  },
  {
   "cell_type": "code",
   "execution_count": 3,
   "id": "54e05ed8",
   "metadata": {},
   "outputs": [
    {
     "name": "stdout",
     "output_type": "stream",
     "text": [
      "[3, 4, 5, 6]\n"
     ]
    }
   ],
   "source": [
    "L=[1,2,3,4,5,6]\n",
    "print(L[2:])"
   ]
  },
  {
   "cell_type": "code",
   "execution_count": 4,
   "id": "e48c209a",
   "metadata": {},
   "outputs": [
    {
     "name": "stdout",
     "output_type": "stream",
     "text": [
      "[1, 3, 5]\n"
     ]
    }
   ],
   "source": [
    "print(L[0::2])"
   ]
  },
  {
   "cell_type": "code",
   "execution_count": 7,
   "id": "01cb8543",
   "metadata": {},
   "outputs": [
    {
     "name": "stdout",
     "output_type": "stream",
     "text": [
      "[2, 4]\n"
     ]
    }
   ],
   "source": [
    "print(L[-5:-1:2])"
   ]
  },
  {
   "cell_type": "code",
   "execution_count": 37,
   "id": "2285949c",
   "metadata": {},
   "outputs": [
    {
     "name": "stdout",
     "output_type": "stream",
     "text": [
      "[6, 5, 4, 3, 2, 1]\n"
     ]
    }
   ],
   "source": [
    "print(L[::-1])"
   ]
  },
  {
   "cell_type": "markdown",
   "id": "6b1e7a53",
   "metadata": {},
   "source": [
    "### Adding items to a List"
   ]
  },
  {
   "cell_type": "markdown",
   "id": "55fc95b0",
   "metadata": {},
   "source": [
    "#### append\n",
    "   one item can be added one time at end of the list"
   ]
  },
  {
   "cell_type": "code",
   "execution_count": 142,
   "id": "006c3740",
   "metadata": {},
   "outputs": [
    {
     "name": "stdout",
     "output_type": "stream",
     "text": [
      "[1, 2, 3, 4, 5, 6, 7]\n"
     ]
    }
   ],
   "source": [
    "L=[1,2,3,4,5,6]\n",
    "L.append(7)\n",
    "print(L)"
   ]
  },
  {
   "cell_type": "code",
   "execution_count": 39,
   "id": "3cdef55d",
   "metadata": {},
   "outputs": [
    {
     "name": "stdout",
     "output_type": "stream",
     "text": [
      "[1, 2, 3, 4, 5, 6, 7, True]\n"
     ]
    }
   ],
   "source": [
    "L.append(True)\n",
    "print(L)"
   ]
  },
  {
   "cell_type": "markdown",
   "id": "d88c7f8c",
   "metadata": {},
   "source": [
    "#### Extend \n",
    "   We can added multiple items at the end of list"
   ]
  },
  {
   "cell_type": "code",
   "execution_count": 42,
   "id": "4500a280",
   "metadata": {},
   "outputs": [
    {
     "name": "stdout",
     "output_type": "stream",
     "text": [
      "[1, 2, 3, 4, 5, 6, 7, 8, 9]\n"
     ]
    }
   ],
   "source": [
    "x=[1,2,3,4,5,6]\n",
    "x.extend([7,8,9])\n",
    "print(x)"
   ]
  },
  {
   "cell_type": "code",
   "execution_count": 48,
   "id": "eb5ab5bc",
   "metadata": {},
   "outputs": [],
   "source": [
    "x.extend('Delhi')"
   ]
  },
  {
   "cell_type": "code",
   "execution_count": 49,
   "id": "0b2cc967",
   "metadata": {},
   "outputs": [
    {
     "name": "stdout",
     "output_type": "stream",
     "text": [
      "[1, 2, 3, 4, 5, 6, 7, 8, 9, 'D', 'e', 'l', 'h', 'i']\n"
     ]
    }
   ],
   "source": [
    "print(x)"
   ]
  },
  {
   "cell_type": "markdown",
   "id": "0c56a265",
   "metadata": {},
   "source": [
    "#### Insert \n",
    "   it useful for insert value into desired location"
   ]
  },
  {
   "cell_type": "code",
   "execution_count": 51,
   "id": "15c1be5d",
   "metadata": {},
   "outputs": [
    {
     "name": "stdout",
     "output_type": "stream",
     "text": [
      "[1, 100, 2, 3, 4, 5]\n"
     ]
    }
   ],
   "source": [
    "x=[1,2,3,4,5]\n",
    "x.insert(1,100)\n",
    "# index position 1 (between 1 and 2) and inserted value 100\n",
    "print(x)"
   ]
  },
  {
   "cell_type": "code",
   "execution_count": 54,
   "id": "9b3a8ca7",
   "metadata": {},
   "outputs": [
    {
     "name": "stdout",
     "output_type": "stream",
     "text": [
      "['damodhara', 'hariprasd', 'changalva']\n"
     ]
    }
   ],
   "source": [
    "x=['damodhara','hariprasd']\n",
    "x.insert(2,'changalva')\n",
    "print(x)"
   ]
  },
  {
   "cell_type": "markdown",
   "id": "3597472b",
   "metadata": {},
   "source": [
    "### Editing items in a list"
   ]
  },
  {
   "cell_type": "code",
   "execution_count": 56,
   "id": "2c94a7dc",
   "metadata": {},
   "outputs": [
    {
     "name": "stdout",
     "output_type": "stream",
     "text": [
      "[1, 2, 3, 4, 500]\n"
     ]
    }
   ],
   "source": [
    "L=[1,2,3,4,5]\n",
    "L[-1]=500\n",
    "print(L)"
   ]
  },
  {
   "cell_type": "code",
   "execution_count": 57,
   "id": "4cbb877c",
   "metadata": {},
   "outputs": [
    {
     "name": "stdout",
     "output_type": "stream",
     "text": [
      "[1, 200, 300, 400, 500]\n"
     ]
    }
   ],
   "source": [
    "L[1:4]=[200,300,400]\n",
    "print(L)"
   ]
  },
  {
   "cell_type": "markdown",
   "id": "43a3ddb9",
   "metadata": {},
   "source": [
    "### Deleting items from a list"
   ]
  },
  {
   "cell_type": "markdown",
   "id": "a5248ab9",
   "metadata": {},
   "source": [
    "#### del"
   ]
  },
  {
   "cell_type": "code",
   "execution_count": 10,
   "id": "5d71c2dc",
   "metadata": {},
   "outputs": [],
   "source": [
    "L=[1,2,3,4]\n",
    "del L\n",
    "#total string deleted "
   ]
  },
  {
   "cell_type": "code",
   "execution_count": 60,
   "id": "5db226da",
   "metadata": {},
   "outputs": [
    {
     "name": "stdout",
     "output_type": "stream",
     "text": [
      "[1, 2, 3, 4]\n"
     ]
    }
   ],
   "source": [
    "L=[1,2,3,4,5]\n",
    "del L[-1]\n",
    "print(L)\n",
    "# we can deleted single item"
   ]
  },
  {
   "cell_type": "code",
   "execution_count": 62,
   "id": "e4e52b0e",
   "metadata": {},
   "outputs": [
    {
     "name": "stdout",
     "output_type": "stream",
     "text": [
      "[1, 2, 4, 5, 6]\n"
     ]
    }
   ],
   "source": [
    "L=[1,2,3,4,5,6]\n",
    "del L[2]\n",
    "#based on index value the list is deleted\n",
    "print(L)"
   ]
  },
  {
   "cell_type": "code",
   "execution_count": 63,
   "id": "97d1132a",
   "metadata": {},
   "outputs": [],
   "source": [
    "del L[1:2]\n",
    "#delet can be done using delet "
   ]
  },
  {
   "cell_type": "code",
   "execution_count": 65,
   "id": "ea0fe8d9",
   "metadata": {},
   "outputs": [
    {
     "data": {
      "text/plain": [
       "[1, 4, 5, 6]"
      ]
     },
     "execution_count": 65,
     "metadata": {},
     "output_type": "execute_result"
    }
   ],
   "source": [
    "L"
   ]
  },
  {
   "cell_type": "markdown",
   "id": "e1938585",
   "metadata": {},
   "source": [
    "#### remove\n",
    "  remove can used to remove particular value in a list"
   ]
  },
  {
   "cell_type": "code",
   "execution_count": 143,
   "id": "5ff2cfcb",
   "metadata": {},
   "outputs": [
    {
     "name": "stdout",
     "output_type": "stream",
     "text": [
      "[1, 2, 3, 4, 6]\n"
     ]
    }
   ],
   "source": [
    "L=[1,2,3,4,5,6]\n",
    "L.remove(5)\n",
    "print(L)\n",
    "#it can be removed based an value present in list"
   ]
  },
  {
   "cell_type": "code",
   "execution_count": 70,
   "id": "6b58ebdd",
   "metadata": {},
   "outputs": [
    {
     "name": "stdout",
     "output_type": "stream",
     "text": [
      "['damu', 'ram']\n"
     ]
    }
   ],
   "source": [
    "L=['damu','ram','dhan']\n",
    "L.remove('dhan')\n",
    "print(L)"
   ]
  },
  {
   "cell_type": "markdown",
   "id": "b81188e2",
   "metadata": {},
   "source": [
    "#### pop"
   ]
  },
  {
   "cell_type": "code",
   "execution_count": 72,
   "id": "f2bdeb43",
   "metadata": {},
   "outputs": [
    {
     "name": "stdout",
     "output_type": "stream",
     "text": [
      "[2, 3, 4, 5]\n"
     ]
    }
   ],
   "source": [
    "L=[1,2,3,4,5]\n",
    "L.pop(0)\n",
    "print(L)\n",
    "#while provinding index postion the item will be deleted"
   ]
  },
  {
   "cell_type": "code",
   "execution_count": 75,
   "id": "9bc20fc8",
   "metadata": {},
   "outputs": [
    {
     "name": "stdout",
     "output_type": "stream",
     "text": [
      "[1, 2, 3, 4]\n"
     ]
    }
   ],
   "source": [
    "L=[1,2,3,4,5]\n",
    "L.pop()\n",
    "print(L)\n",
    "# no index position, the last item of the list will deleted"
   ]
  },
  {
   "cell_type": "markdown",
   "id": "11411492",
   "metadata": {},
   "source": [
    "#### Clear\n",
    "     All items can be deleted and give empty string"
   ]
  },
  {
   "cell_type": "code",
   "execution_count": 77,
   "id": "2fe64f0f",
   "metadata": {},
   "outputs": [
    {
     "name": "stdout",
     "output_type": "stream",
     "text": [
      "[]\n"
     ]
    }
   ],
   "source": [
    "L=[1,2,3,4,5]\n",
    "L.clear()\n",
    "print(L)"
   ]
  },
  {
   "cell_type": "markdown",
   "id": "83b028d7",
   "metadata": {},
   "source": [
    "### Operation in List"
   ]
  },
  {
   "cell_type": "markdown",
   "id": "bdbdd061",
   "metadata": {},
   "source": [
    "#### Arithmetic Operations\n",
    "     + and *"
   ]
  },
  {
   "cell_type": "code",
   "execution_count": 79,
   "id": "f4127229",
   "metadata": {},
   "outputs": [
    {
     "name": "stdout",
     "output_type": "stream",
     "text": [
      "[1, 2, 3, 4, 5, 6, 7, 8, 9, 10]\n"
     ]
    }
   ],
   "source": [
    "L1=[1,2,3,4,5]\n",
    "L2=[6,7,8,9,10]\n",
    "print(L1+L2)\n",
    "#concatenation"
   ]
  },
  {
   "cell_type": "code",
   "execution_count": 80,
   "id": "2664cc78",
   "metadata": {},
   "outputs": [
    {
     "data": {
      "text/plain": [
       "[1, 2, 3, 4, 5, 1, 2, 3, 4, 5, 1, 2, 3, 4, 5, 1, 2, 3, 4, 5]"
      ]
     },
     "execution_count": 80,
     "metadata": {},
     "output_type": "execute_result"
    }
   ],
   "source": [
    "L1*4"
   ]
  },
  {
   "cell_type": "markdown",
   "id": "3f3e7e7c",
   "metadata": {},
   "source": [
    "#### Membership Operations"
   ]
  },
  {
   "cell_type": "code",
   "execution_count": 85,
   "id": "f10e54f8",
   "metadata": {},
   "outputs": [],
   "source": [
    "L1=[1,2,3,4,5]\n",
    "\n",
    "L2=[1,2,3,4,[5,6]]"
   ]
  },
  {
   "cell_type": "code",
   "execution_count": 87,
   "id": "42049c09",
   "metadata": {},
   "outputs": [
    {
     "name": "stdout",
     "output_type": "stream",
     "text": [
      "True\n"
     ]
    }
   ],
   "source": [
    "print(5 in L1)"
   ]
  },
  {
   "cell_type": "code",
   "execution_count": 88,
   "id": "a6533094",
   "metadata": {},
   "outputs": [
    {
     "name": "stdout",
     "output_type": "stream",
     "text": [
      "False\n"
     ]
    }
   ],
   "source": [
    "print(5 in L2)"
   ]
  },
  {
   "cell_type": "code",
   "execution_count": 86,
   "id": "c1934a87",
   "metadata": {},
   "outputs": [
    {
     "name": "stdout",
     "output_type": "stream",
     "text": [
      "True\n"
     ]
    }
   ],
   "source": [
    "print([5,6] in L2)\n",
    "#[5,6] not a number it a nested list"
   ]
  },
  {
   "cell_type": "markdown",
   "id": "580e315e",
   "metadata": {},
   "source": [
    "#### loops"
   ]
  },
  {
   "cell_type": "code",
   "execution_count": 89,
   "id": "a18f1909",
   "metadata": {},
   "outputs": [
    {
     "name": "stdout",
     "output_type": "stream",
     "text": [
      "1\n",
      "2\n",
      "3\n",
      "4\n",
      "5\n"
     ]
    }
   ],
   "source": [
    "L1=[1,2,3,4,5]\n",
    "\n",
    "L2=[1,2,3,4,[5,6]]\n",
    "\n",
    "for i in L1:\n",
    "    print(i)"
   ]
  },
  {
   "cell_type": "code",
   "execution_count": 90,
   "id": "888189b0",
   "metadata": {},
   "outputs": [
    {
     "name": "stdout",
     "output_type": "stream",
     "text": [
      "1\n",
      "2\n",
      "3\n",
      "4\n",
      "[5, 6]\n"
     ]
    }
   ],
   "source": [
    "for i in L2:\n",
    "    print(i)"
   ]
  },
  {
   "cell_type": "code",
   "execution_count": 91,
   "id": "753505c3",
   "metadata": {},
   "outputs": [
    {
     "name": "stdout",
     "output_type": "stream",
     "text": [
      "[[1, 2], [3, 4]]\n",
      "[[5, 6], [6, 7]]\n"
     ]
    }
   ],
   "source": [
    "L3=([[[1,2],[3,4]],[[5,6],[6,7]]])\n",
    "for i in L3:\n",
    "    print(i)"
   ]
  },
  {
   "cell_type": "markdown",
   "id": "8d7c52f0",
   "metadata": {},
   "source": [
    "### List functions"
   ]
  },
  {
   "cell_type": "code",
   "execution_count": 144,
   "id": "b82fb3cb",
   "metadata": {},
   "outputs": [
    {
     "name": "stdout",
     "output_type": "stream",
     "text": [
      "5\n"
     ]
    }
   ],
   "source": [
    "#len\n",
    "L=[1,2,3,4,5]\n",
    "print(len(L))"
   ]
  },
  {
   "cell_type": "code",
   "execution_count": 94,
   "id": "5eb48d5c",
   "metadata": {},
   "outputs": [
    {
     "name": "stdout",
     "output_type": "stream",
     "text": [
      "6\n"
     ]
    }
   ],
   "source": [
    "L=[1,2,3,4,5,'Damu']\n",
    "print(len(L))"
   ]
  },
  {
   "cell_type": "code",
   "execution_count": 95,
   "id": "2c15bbc9",
   "metadata": {},
   "outputs": [
    {
     "name": "stdout",
     "output_type": "stream",
     "text": [
      "6\n"
     ]
    }
   ],
   "source": [
    "#max\n",
    "L=[1,2,3,4,5,6]\n",
    "print(max(L))"
   ]
  },
  {
   "cell_type": "raw",
   "id": "e3d0c025",
   "metadata": {},
   "source": [
    "#Error\n",
    "L=[1,2,3,4,5,'damu']\n",
    "print(max(L))"
   ]
  },
  {
   "cell_type": "code",
   "execution_count": 98,
   "id": "7aa5892f",
   "metadata": {},
   "outputs": [
    {
     "name": "stdout",
     "output_type": "stream",
     "text": [
      "1\n"
     ]
    }
   ],
   "source": [
    "#min \n",
    "L=[1,2,3,4,5]\n",
    "print(min(L))"
   ]
  },
  {
   "cell_type": "code",
   "execution_count": 99,
   "id": "e24e1969",
   "metadata": {},
   "outputs": [
    {
     "name": "stdout",
     "output_type": "stream",
     "text": [
      "[1, 2, 3, 4, 5]\n"
     ]
    }
   ],
   "source": [
    "#sorted \n",
    "print(sorted(L))"
   ]
  },
  {
   "cell_type": "code",
   "execution_count": 100,
   "id": "000a020c",
   "metadata": {},
   "outputs": [
    {
     "name": "stdout",
     "output_type": "stream",
     "text": [
      "[1, 2, 3, 7, 8, 9, 10]\n"
     ]
    }
   ],
   "source": [
    "L=[1,2,3,7,8,9,10]\n",
    "print(sorted(L))"
   ]
  },
  {
   "cell_type": "code",
   "execution_count": 146,
   "id": "95148597",
   "metadata": {},
   "outputs": [
    {
     "name": "stdout",
     "output_type": "stream",
     "text": [
      "2\n",
      "2\n"
     ]
    }
   ],
   "source": [
    "#count\n",
    "L=[1,2,3,4,5,5,6,1,2,3,5]\n",
    "print(L.count(1))\n",
    "print(L.count(2))"
   ]
  },
  {
   "cell_type": "code",
   "execution_count": 147,
   "id": "aaa33776",
   "metadata": {},
   "outputs": [
    {
     "data": {
      "text/plain": [
       "1"
      ]
     },
     "execution_count": 147,
     "metadata": {},
     "output_type": "execute_result"
    }
   ],
   "source": [
    "#index\n",
    "L=[1,2,3,4,5,6]\n",
    "L.index(2)\n",
    "# index position of 2 is 1\n",
    "#the out put is index position of a particular value"
   ]
  },
  {
   "cell_type": "code",
   "execution_count": 105,
   "id": "fbd848dc",
   "metadata": {},
   "outputs": [
    {
     "name": "stdout",
     "output_type": "stream",
     "text": [
      "[5, 4, 3, 2, 1]\n"
     ]
    }
   ],
   "source": [
    "#reverse\n",
    "L=[1,2,3,4,5]\n",
    "L.reverse()\n",
    "print(L)\n",
    "#it permanently reverses "
   ]
  },
  {
   "cell_type": "code",
   "execution_count": 110,
   "id": "84cf3417",
   "metadata": {},
   "outputs": [
    {
     "name": "stdout",
     "output_type": "stream",
     "text": [
      "[0, 1, 2, 3, 4, 5]\n",
      "[0, 4, 3, 2, 1, 5]\n"
     ]
    }
   ],
   "source": [
    "#sorted\n",
    "L=[0,4,3,2,1,5]\n",
    "print(sorted(L))\n",
    "print(L)\n",
    "#sorted is a temporary operation"
   ]
  },
  {
   "cell_type": "code",
   "execution_count": 116,
   "id": "8b1945c2",
   "metadata": {},
   "outputs": [
    {
     "name": "stdout",
     "output_type": "stream",
     "text": [
      "[0, 1, 2, 3, 4, 5]\n"
     ]
    }
   ],
   "source": [
    "#Sort\n",
    "L=[0,4,3,2,1,5]\n",
    "L.sort()\n",
    "print(L)\n",
    "# sort is a permanently changes "
   ]
  },
  {
   "cell_type": "code",
   "execution_count": 117,
   "id": "b762ee0f",
   "metadata": {},
   "outputs": [
    {
     "name": "stdout",
     "output_type": "stream",
     "text": [
      "[1, 2, 3, 4, 5]\n",
      "2566781331712\n",
      "[1, 2, 3, 4, 5]\n",
      "2566782195008\n"
     ]
    }
   ],
   "source": [
    "L=[1,2,3,4,5]\n",
    "print(L)\n",
    "print(id(L))\n",
    "L1=L.copy()\n",
    "print(L1)\n",
    "print(id(L1))"
   ]
  },
  {
   "cell_type": "code",
   "execution_count": 118,
   "id": "a00e3cae",
   "metadata": {},
   "outputs": [],
   "source": [
    "#the values are same but both are different lists"
   ]
  },
  {
   "cell_type": "markdown",
   "id": "509ac624",
   "metadata": {},
   "source": [
    "## List Comprehension\n",
    "    \n",
    "    Important Topic "
   ]
  },
  {
   "cell_type": "markdown",
   "id": "42ad76be",
   "metadata": {},
   "source": [
    "list comprehension provides a concise way of creating lists\n",
    "\n",
    "newlist=[expresion for item in iterable if condition == True]\n",
    "\n",
    "   Advantages of List Comprehension: \n",
    "    \n",
    "    1.More time efficient and time efficient than loops.\n",
    "    2.Require fewer lines of code.\n",
    "    3.Transforms iterative statement into a formula."
   ]
  },
  {
   "cell_type": "code",
   "execution_count": 119,
   "id": "156e4472",
   "metadata": {},
   "outputs": [
    {
     "name": "stdout",
     "output_type": "stream",
     "text": [
      "[1, 2, 3, 4, 5, 6, 7, 8, 9, 10]\n"
     ]
    }
   ],
   "source": [
    "# Add 1 to 10 numbers to a list\n",
    "\n",
    "L=[]\n",
    "\n",
    "for i in range(1,11):\n",
    "    L.append(i)\n",
    "    \n",
    "print(L)"
   ]
  },
  {
   "cell_type": "code",
   "execution_count": 120,
   "id": "56bf65cf",
   "metadata": {},
   "outputs": [
    {
     "name": "stdout",
     "output_type": "stream",
     "text": [
      "[1, 2, 3, 4, 5, 6, 7, 8, 9, 10]\n"
     ]
    }
   ],
   "source": [
    "L= [i for i in range(1,11)]\n",
    "print(L)"
   ]
  },
  {
   "cell_type": "code",
   "execution_count": 124,
   "id": "b76edbcc",
   "metadata": {},
   "outputs": [
    {
     "data": {
      "text/plain": [
       "[-6, -9, -12]"
      ]
     },
     "execution_count": 124,
     "metadata": {},
     "output_type": "execute_result"
    }
   ],
   "source": [
    "#scaler multiplication\n",
    "v=[2,3,4]\n",
    "s=-3\n",
    "[s*i for i in v]"
   ]
  },
  {
   "cell_type": "code",
   "execution_count": 125,
   "id": "47ca4770",
   "metadata": {},
   "outputs": [
    {
     "data": {
      "text/plain": [
       "[1, 4, 9, 16]"
      ]
     },
     "execution_count": 125,
     "metadata": {},
     "output_type": "execute_result"
    }
   ],
   "source": [
    "#Add squres\n",
    "L=[1,2,3,4]\n",
    "[i**2 for i in L]"
   ]
  },
  {
   "cell_type": "code",
   "execution_count": 126,
   "id": "958ac6de",
   "metadata": {},
   "outputs": [
    {
     "data": {
      "text/plain": [
       "[5, 10, 15, 20, 25, 30, 35, 40, 45, 50]"
      ]
     },
     "execution_count": 126,
     "metadata": {},
     "output_type": "execute_result"
    }
   ],
   "source": [
    "#Print all the numbers that are divisible by 5 in the range of 1 to 50\n",
    "[i for i in range(1,51) if i%5==0]"
   ]
  },
  {
   "cell_type": "code",
   "execution_count": 128,
   "id": "a93261dd",
   "metadata": {},
   "outputs": [
    {
     "data": {
      "text/plain": [
       "['python', 'php']"
      ]
     },
     "execution_count": 128,
     "metadata": {},
     "output_type": "execute_result"
    }
   ],
   "source": [
    "#Find language which start with letter p\n",
    "\n",
    "language=['java','python','php','c','javascript']\n",
    "[language for language in language if language.startswith('p')]"
   ]
  },
  {
   "cell_type": "code",
   "execution_count": 129,
   "id": "213d3726",
   "metadata": {},
   "outputs": [
    {
     "data": {
      "text/plain": [
       "['python', 'php']"
      ]
     },
     "execution_count": 129,
     "metadata": {},
     "output_type": "execute_result"
    }
   ],
   "source": [
    "[i for i in language if i.startswith('p')]"
   ]
  },
  {
   "cell_type": "code",
   "execution_count": 130,
   "id": "6721baac",
   "metadata": {},
   "outputs": [
    {
     "data": {
      "text/plain": [
       "['apple']"
      ]
     },
     "execution_count": 130,
     "metadata": {},
     "output_type": "execute_result"
    }
   ],
   "source": [
    "#Nested if with List Comprehension \n",
    "basket=['apple','guva','cherry','banana']\n",
    "my_fruits=['apple','kiwi','grapes','banana']\n",
    "[fruit for fruit in my_fruits if fruit in basket if fruit.startswith('a')]"
   ]
  },
  {
   "cell_type": "code",
   "execution_count": 131,
   "id": "00939e2c",
   "metadata": {},
   "outputs": [
    {
     "data": {
      "text/plain": [
       "[[1, 2, 3], [2, 4, 6], [3, 6, 9]]"
      ]
     },
     "execution_count": 131,
     "metadata": {},
     "output_type": "execute_result"
    }
   ],
   "source": [
    "#print a (3,3) matrix using list comprehension ---> Nested List comprehension\n",
    "[[i*j for i in range(1,4)] for j in range(1,4)]"
   ]
  },
  {
   "cell_type": "code",
   "execution_count": 132,
   "id": "ce9f65a0",
   "metadata": {},
   "outputs": [
    {
     "data": {
      "text/plain": [
       "[5, 6, 7, 8, 10, 12, 14, 16, 15, 18, 21, 24, 20, 24, 28, 32]"
      ]
     },
     "execution_count": 132,
     "metadata": {},
     "output_type": "execute_result"
    }
   ],
   "source": [
    "#cartesian product -> List Comprehension on 2 lists together \n",
    "L1=[1,2,3,4]\n",
    "L2=[5,6,7,8]\n",
    "[i*j for i in L1 for j in L2]"
   ]
  },
  {
   "cell_type": "markdown",
   "id": "b231f4a2",
   "metadata": {},
   "source": [
    "### 2 ways to traverse a list \n",
    "#itemwise \n",
    "\n",
    "\n",
    "#indexwise \n"
   ]
  },
  {
   "cell_type": "code",
   "execution_count": 133,
   "id": "e7dd6a3d",
   "metadata": {},
   "outputs": [
    {
     "name": "stdout",
     "output_type": "stream",
     "text": [
      "1\n",
      "2\n",
      "3\n",
      "4\n"
     ]
    }
   ],
   "source": [
    "#item wise\n",
    "L=[1,2,3,4]\n",
    "\n",
    "for i in L:\n",
    "    print(i)"
   ]
  },
  {
   "cell_type": "code",
   "execution_count": 134,
   "id": "b14f2957",
   "metadata": {},
   "outputs": [
    {
     "name": "stdout",
     "output_type": "stream",
     "text": [
      "1\n",
      "2\n",
      "3\n",
      "4\n"
     ]
    }
   ],
   "source": [
    "#index wise \n",
    "L=[1,2,3,4]\n",
    "\n",
    "for i in range(0,len(L)):\n",
    "    print(L[i])"
   ]
  },
  {
   "cell_type": "markdown",
   "id": "02b9fadc",
   "metadata": {},
   "source": [
    "### Zip"
   ]
  },
  {
   "cell_type": "raw",
   "id": "dfec5caa",
   "metadata": {},
   "source": [
    "the zip() function returns a zip object, which is an iterator of tuples where the first item in each passed\n",
    "iterator is paired together, and then the second item in each passed iterator are paired togethe.\n",
    "\n",
    "if the passed iterator have different lengths, the iterator with the least items decides the length of the new iterator"
   ]
  },
  {
   "cell_type": "code",
   "execution_count": 137,
   "id": "7691b3f6",
   "metadata": {},
   "outputs": [
    {
     "data": {
      "text/plain": [
       "[(1, -1), (2, -2), (3, -3), (4, -4)]"
      ]
     },
     "execution_count": 137,
     "metadata": {},
     "output_type": "execute_result"
    }
   ],
   "source": [
    "# write a program to add items of 2 lits indexwise\n",
    "\n",
    "L1=[1,2,3,4]\n",
    "L2=[-1,-2,-3,-4]\n",
    "list(zip(L1,L2))"
   ]
  },
  {
   "cell_type": "code",
   "execution_count": 138,
   "id": "100469d5",
   "metadata": {},
   "outputs": [
    {
     "data": {
      "text/plain": [
       "[0, 0, 0, 0]"
      ]
     },
     "execution_count": 138,
     "metadata": {},
     "output_type": "execute_result"
    }
   ],
   "source": [
    "[i+j for i,j in zip(L1,L2)]"
   ]
  },
  {
   "cell_type": "markdown",
   "id": "50e43f53",
   "metadata": {},
   "source": [
    "### List can contain any type of python objects"
   ]
  },
  {
   "cell_type": "code",
   "execution_count": 140,
   "id": "a9cff64d",
   "metadata": {},
   "outputs": [
    {
     "name": "stdout",
     "output_type": "stream",
     "text": [
      "[1, 2, 3, 4, 5, 6, 7, <built-in function print>, <class 'type'>, <bound method Kernel.raw_input of <ipykernel.ipkernel.IPythonKernel object at 0x00000255A00DA130>>]\n"
     ]
    }
   ],
   "source": [
    "L=[1,2,3,4,5,6,7,print,type,input]\n",
    "print(L)"
   ]
  },
  {
   "cell_type": "markdown",
   "id": "9853c8a2",
   "metadata": {},
   "source": [
    "### Disadvantages of Python List\n",
    "\n",
    "     * Slow\n",
    "     * Risky usage\n",
    "     * eats up more memory"
   ]
  }
 ],
 "metadata": {
  "kernelspec": {
   "display_name": "Python 3 (ipykernel)",
   "language": "python",
   "name": "python3"
  },
  "language_info": {
   "codemirror_mode": {
    "name": "ipython",
    "version": 3
   },
   "file_extension": ".py",
   "mimetype": "text/x-python",
   "name": "python",
   "nbconvert_exporter": "python",
   "pygments_lexer": "ipython3",
   "version": "3.9.13"
  }
 },
 "nbformat": 4,
 "nbformat_minor": 5
}
