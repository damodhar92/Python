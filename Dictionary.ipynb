{
 "cells": [
  {
   "cell_type": "markdown",
   "id": "3aaaeab2",
   "metadata": {},
   "source": [
    "### Dictionary"
   ]
  },
  {
   "cell_type": "raw",
   "id": "9bcc8625",
   "metadata": {},
   "source": [
    "Dictionary in a python is collection of key and values,used to store data values \n",
    "like map, which, unlike other data types which hold only a single value \n",
    "as an element."
   ]
  },
  {
   "cell_type": "markdown",
   "id": "87378992",
   "metadata": {},
   "source": [
    "In some language it is known as map or associative arrays."
   ]
  },
  {
   "cell_type": "markdown",
   "id": "6ffeb1cb",
   "metadata": {},
   "source": [
    "### characteristics\n",
    "    \n",
    "    1.mutable\n",
    "    2.Indexing has no meaning \n",
    "    3.key can't be duplicate \n",
    "    4.key can't be mutable items"
   ]
  },
  {
   "cell_type": "markdown",
   "id": "e3e5758d",
   "metadata": {},
   "source": [
    "### Creat Dictionary"
   ]
  },
  {
   "cell_type": "code",
   "execution_count": 3,
   "id": "fe622ed9",
   "metadata": {},
   "outputs": [
    {
     "name": "stdout",
     "output_type": "stream",
     "text": [
      "{}\n",
      "<class 'dict'>\n"
     ]
    }
   ],
   "source": [
    "#empty dictionary\n",
    "d={}\n",
    "print(d)\n",
    "print(type(d))"
   ]
  },
  {
   "cell_type": "code",
   "execution_count": 4,
   "id": "1c57e7e2",
   "metadata": {},
   "outputs": [
    {
     "name": "stdout",
     "output_type": "stream",
     "text": [
      "{'name': 'damodhara', 'gender': 'male'}\n"
     ]
    }
   ],
   "source": [
    "#1D dictionary\n",
    "d1={'name':'damodhara','gender':'male'}\n",
    "print(d1)\n",
    "#1D dictionary with homogeneous"
   ]
  },
  {
   "cell_type": "code",
   "execution_count": 8,
   "id": "89102255",
   "metadata": {},
   "outputs": [
    {
     "name": "stdout",
     "output_type": "stream",
     "text": [
      "{(1, 2, 3): 1, 'hello': 'World'}\n"
     ]
    }
   ],
   "source": [
    "#1D dictionary with mixed type\n",
    "d1={(1,2,3):1,'hello':'World'}\n",
    "print(d1)\n",
    "# one string and tuple both are immutable"
   ]
  },
  {
   "cell_type": "code",
   "execution_count": 9,
   "id": "e123a4c0",
   "metadata": {},
   "outputs": [
    {
     "name": "stdout",
     "output_type": "stream",
     "text": [
      "{'name': 'Damodhara', 'college': 'SVCE', 'sem': 4, 'Subjects': {'dsa': 40, 'maths': 67, 'Englis': 67}}\n"
     ]
    }
   ],
   "source": [
    "#2D dictionary\n",
    "\n",
    "s={\n",
    "    'name':'Damodhara',\n",
    "    'college':'SVCE',\n",
    "    'sem':4,\n",
    "    'Subjects':{\n",
    "        'dsa':40,\n",
    "        'maths':67,\n",
    "        'Englis':67\n",
    "    }\n",
    "    \n",
    "}\n",
    "print(s)"
   ]
  },
  {
   "cell_type": "code",
   "execution_count": 13,
   "id": "79d48680",
   "metadata": {},
   "outputs": [
    {
     "name": "stdout",
     "output_type": "stream",
     "text": [
      "{1: 2, 2: 3, 3: 4}\n"
     ]
    }
   ],
   "source": [
    "#using sequence and dictionary function\n",
    "d4=dict([(1,2),(2,3),(3,4)])\n",
    "print(d4)"
   ]
  },
  {
   "cell_type": "code",
   "execution_count": 15,
   "id": "d9db8cfc",
   "metadata": {},
   "outputs": [
    {
     "name": "stdout",
     "output_type": "stream",
     "text": [
      "{'name': 'damodhara', 'qualifications': 'Btech', 'designation': 'Analyst'}\n"
     ]
    }
   ],
   "source": [
    "d4=dict([('name','damodhara'),('qualifications','Btech'),('designation','Analyst')])\n",
    "print(d4)"
   ]
  },
  {
   "cell_type": "code",
   "execution_count": 17,
   "id": "2fb93a93",
   "metadata": {},
   "outputs": [
    {
     "name": "stdout",
     "output_type": "stream",
     "text": [
      "{'name': 'damodhara'}\n"
     ]
    }
   ],
   "source": [
    "#duplicate keys not allowed \n",
    "d5={'name':'hariprasad','name':'damodhara'}\n",
    "print(d5)"
   ]
  },
  {
   "cell_type": "code",
   "execution_count": 18,
   "id": "1d9ca5b5",
   "metadata": {},
   "outputs": [
    {
     "ename": "TypeError",
     "evalue": "unhashable type: 'list'",
     "output_type": "error",
     "traceback": [
      "\u001b[1;31m---------------------------------------------------------------------------\u001b[0m",
      "\u001b[1;31mTypeError\u001b[0m                                 Traceback (most recent call last)",
      "\u001b[1;32m~\\AppData\\Local\\Temp\\ipykernel_11060\\3238783841.py\u001b[0m in \u001b[0;36m<module>\u001b[1;34m\u001b[0m\n\u001b[0;32m      1\u001b[0m \u001b[1;31m#keys are must immutable\u001b[0m\u001b[1;33m\u001b[0m\u001b[1;33m\u001b[0m\u001b[0m\n\u001b[0;32m      2\u001b[0m \u001b[1;33m\u001b[0m\u001b[0m\n\u001b[1;32m----> 3\u001b[1;33m \u001b[0md6\u001b[0m\u001b[1;33m=\u001b[0m\u001b[1;33m{\u001b[0m\u001b[1;34m'name'\u001b[0m\u001b[1;33m:\u001b[0m\u001b[1;34m'damodhara'\u001b[0m\u001b[1;33m,\u001b[0m\u001b[1;33m[\u001b[0m\u001b[1;36m1\u001b[0m\u001b[1;33m,\u001b[0m\u001b[1;36m2\u001b[0m\u001b[1;33m,\u001b[0m\u001b[1;36m3\u001b[0m\u001b[1;33m,\u001b[0m\u001b[1;36m4\u001b[0m\u001b[1;33m]\u001b[0m\u001b[1;33m:\u001b[0m\u001b[1;36m1\u001b[0m\u001b[1;33m}\u001b[0m\u001b[1;33m\u001b[0m\u001b[1;33m\u001b[0m\u001b[0m\n\u001b[0m",
      "\u001b[1;31mTypeError\u001b[0m: unhashable type: 'list'"
     ]
    }
   ],
   "source": [
    "#keys are must immutable \n",
    "\n",
    "d6={'name':'damodhara',[1,2,3,4]:1}\n",
    "#list are mutable so its show error\n"
   ]
  },
  {
   "cell_type": "code",
   "execution_count": 20,
   "id": "6547d505",
   "metadata": {},
   "outputs": [
    {
     "name": "stdout",
     "output_type": "stream",
     "text": [
      "{'name': 'Damodhara', (1, 2, 3, 4): 1}\n"
     ]
    }
   ],
   "source": [
    "d6={'name':'Damodhara',(1,2,3,4):1}\n",
    "print(d6)\n",
    "#tuple are immutable, so its not show error"
   ]
  },
  {
   "cell_type": "markdown",
   "id": "14cc8288",
   "metadata": {},
   "source": [
    "### Accessing item "
   ]
  },
  {
   "cell_type": "code",
   "execution_count": 22,
   "id": "fb32d8f7",
   "metadata": {},
   "outputs": [
    {
     "ename": "KeyError",
     "evalue": "0",
     "output_type": "error",
     "traceback": [
      "\u001b[1;31m---------------------------------------------------------------------------\u001b[0m",
      "\u001b[1;31mKeyError\u001b[0m                                  Traceback (most recent call last)",
      "\u001b[1;32m~\\AppData\\Local\\Temp\\ipykernel_11060\\1880039216.py\u001b[0m in \u001b[0;36m<module>\u001b[1;34m\u001b[0m\n\u001b[0;32m      1\u001b[0m \u001b[1;31m#index not works for dictionarys\u001b[0m\u001b[1;33m\u001b[0m\u001b[1;33m\u001b[0m\u001b[0m\n\u001b[0;32m      2\u001b[0m \u001b[0mmy_dict\u001b[0m\u001b[1;33m=\u001b[0m\u001b[1;33m{\u001b[0m\u001b[1;34m'name'\u001b[0m\u001b[1;33m:\u001b[0m\u001b[1;34m'jack'\u001b[0m\u001b[1;33m,\u001b[0m\u001b[1;34m'age'\u001b[0m\u001b[1;33m:\u001b[0m\u001b[1;36m20\u001b[0m\u001b[1;33m}\u001b[0m\u001b[1;33m\u001b[0m\u001b[1;33m\u001b[0m\u001b[0m\n\u001b[1;32m----> 3\u001b[1;33m \u001b[0mmy_dict\u001b[0m\u001b[1;33m[\u001b[0m\u001b[1;36m0\u001b[0m\u001b[1;33m]\u001b[0m\u001b[1;33m\u001b[0m\u001b[1;33m\u001b[0m\u001b[0m\n\u001b[0m",
      "\u001b[1;31mKeyError\u001b[0m: 0"
     ]
    }
   ],
   "source": [
    "#index not works for dictionarys\n",
    "my_dict={'name':'jack','age':20}\n",
    "my_dict[0]"
   ]
  },
  {
   "cell_type": "code",
   "execution_count": 25,
   "id": "85b190a1",
   "metadata": {},
   "outputs": [
    {
     "data": {
      "text/plain": [
       "'jack'"
      ]
     },
     "execution_count": 25,
     "metadata": {},
     "output_type": "execute_result"
    }
   ],
   "source": [
    "#we are asscessing through kesy\n",
    "#we mention particular key the value will give output\n",
    "my_dict['name']"
   ]
  },
  {
   "cell_type": "code",
   "execution_count": 24,
   "id": "ad490cd4",
   "metadata": {},
   "outputs": [
    {
     "data": {
      "text/plain": [
       "20"
      ]
     },
     "execution_count": 24,
     "metadata": {},
     "output_type": "execute_result"
    }
   ],
   "source": [
    "my_dict['age']"
   ]
  },
  {
   "cell_type": "code",
   "execution_count": 26,
   "id": "928bcfe8",
   "metadata": {},
   "outputs": [
    {
     "data": {
      "text/plain": [
       "'jack'"
      ]
     },
     "execution_count": 26,
     "metadata": {},
     "output_type": "execute_result"
    }
   ],
   "source": [
    "#get \n",
    "my_dict.get('name')"
   ]
  },
  {
   "cell_type": "code",
   "execution_count": 27,
   "id": "524941b1",
   "metadata": {},
   "outputs": [
    {
     "data": {
      "text/plain": [
       "20"
      ]
     },
     "execution_count": 27,
     "metadata": {},
     "output_type": "execute_result"
    }
   ],
   "source": [
    "my_dict.get('age')"
   ]
  },
  {
   "cell_type": "code",
   "execution_count": 46,
   "id": "cafbfcea",
   "metadata": {},
   "outputs": [],
   "source": [
    "#Accessing 2D dictionary\n",
    "\n",
    "s={\n",
    "    'name':'Damodhara',\n",
    "    'college':'SVCE',\n",
    "    'sem':4,\n",
    "    'Subjects':{\n",
    "        'dsa':40,\n",
    "        'maths':67,\n",
    "        'Englis':67\n",
    "    }\n",
    "    \n",
    "}"
   ]
  },
  {
   "cell_type": "code",
   "execution_count": 48,
   "id": "12046282",
   "metadata": {},
   "outputs": [
    {
     "data": {
      "text/plain": [
       "{'dsa': 40, 'maths': 67, 'Englis': 67}"
      ]
     },
     "execution_count": 48,
     "metadata": {},
     "output_type": "execute_result"
    }
   ],
   "source": [
    "s['Subjects']"
   ]
  },
  {
   "cell_type": "code",
   "execution_count": 49,
   "id": "c4e75f7d",
   "metadata": {},
   "outputs": [
    {
     "data": {
      "text/plain": [
       "67"
      ]
     },
     "execution_count": 49,
     "metadata": {},
     "output_type": "execute_result"
    }
   ],
   "source": [
    "s['Subjects']['maths']"
   ]
  },
  {
   "cell_type": "markdown",
   "id": "9e941679",
   "metadata": {},
   "source": [
    "### Adding Key value Pair "
   ]
  },
  {
   "cell_type": "code",
   "execution_count": 28,
   "id": "57322d55",
   "metadata": {},
   "outputs": [
    {
     "data": {
      "text/plain": [
       "{'name': 'damodhara', 'qualifications': 'Btech', 'designation': 'Analyst'}"
      ]
     },
     "execution_count": 28,
     "metadata": {},
     "output_type": "execute_result"
    }
   ],
   "source": [
    "d4"
   ]
  },
  {
   "cell_type": "code",
   "execution_count": 29,
   "id": "5da10237",
   "metadata": {},
   "outputs": [],
   "source": [
    "d4['location']='Banglore'"
   ]
  },
  {
   "cell_type": "code",
   "execution_count": 30,
   "id": "6a965e74",
   "metadata": {},
   "outputs": [
    {
     "name": "stdout",
     "output_type": "stream",
     "text": [
      "{'name': 'damodhara', 'qualifications': 'Btech', 'designation': 'Analyst', 'location': 'Banglore'}\n"
     ]
    }
   ],
   "source": [
    "print(d4)"
   ]
  },
  {
   "cell_type": "code",
   "execution_count": 31,
   "id": "1300a123",
   "metadata": {},
   "outputs": [],
   "source": [
    "d4['weight']=70"
   ]
  },
  {
   "cell_type": "code",
   "execution_count": 32,
   "id": "14e3ecca",
   "metadata": {},
   "outputs": [
    {
     "name": "stdout",
     "output_type": "stream",
     "text": [
      "{'name': 'damodhara', 'qualifications': 'Btech', 'designation': 'Analyst', 'location': 'Banglore', 'weight': 70}\n"
     ]
    }
   ],
   "source": [
    "print(d4)"
   ]
  },
  {
   "cell_type": "code",
   "execution_count": 50,
   "id": "bf03f365",
   "metadata": {},
   "outputs": [],
   "source": [
    "#2 D\n",
    "\n",
    "\n",
    "s={\n",
    "    'name':'Damodhara',\n",
    "    'college':'SVCE',\n",
    "    'sem':4,\n",
    "    'Subjects':{\n",
    "        'dsa':40,\n",
    "        'maths':67,\n",
    "        'Englis':67\n",
    "    }\n",
    "    \n",
    "}"
   ]
  },
  {
   "cell_type": "code",
   "execution_count": 51,
   "id": "99563a60",
   "metadata": {},
   "outputs": [],
   "source": [
    "s['Subjects']['Social']=90"
   ]
  },
  {
   "cell_type": "code",
   "execution_count": 52,
   "id": "f4548656",
   "metadata": {},
   "outputs": [
    {
     "name": "stdout",
     "output_type": "stream",
     "text": [
      "{'name': 'Damodhara', 'college': 'SVCE', 'sem': 4, 'Subjects': {'dsa': 40, 'maths': 67, 'Englis': 67, 'Social': 90}}\n"
     ]
    }
   ],
   "source": [
    "print(s)"
   ]
  },
  {
   "cell_type": "code",
   "execution_count": 53,
   "id": "fdff5923",
   "metadata": {},
   "outputs": [
    {
     "name": "stdout",
     "output_type": "stream",
     "text": [
      "{'name': 'Damodhara', 'college': 'SVCE', 'sem': 4, 'Subjects': {'dsa': 40, 'maths': 67, 'Englis': 67, 'Social': 90}, 'labmarks': 90}\n"
     ]
    }
   ],
   "source": [
    "s['labmarks']=90\n",
    "print(s)"
   ]
  },
  {
   "cell_type": "markdown",
   "id": "ea45fb67",
   "metadata": {},
   "source": [
    "### Remove Key Value Pair "
   ]
  },
  {
   "cell_type": "code",
   "execution_count": 36,
   "id": "7e061c1e",
   "metadata": {},
   "outputs": [
    {
     "name": "stdout",
     "output_type": "stream",
     "text": [
      "{'name': 'damodhara', 'qualification': 'B.Tech', 'designation': 'data analyst', 'age': 31}\n"
     ]
    }
   ],
   "source": [
    "#pop\n",
    "#it will remove particular key value pair\n",
    "d={'name':'damodhara','qualification':'B.Tech','designation':'data analyst','age':31,'weight':90}\n",
    "d.pop('weight')\n",
    "print(d)d"
   ]
  },
  {
   "cell_type": "code",
   "execution_count": 38,
   "id": "80218d72",
   "metadata": {},
   "outputs": [
    {
     "name": "stdout",
     "output_type": "stream",
     "text": [
      "{'name': 'damodhara', 'qualification': 'B.Tech', 'designation': 'data analyst', 'age': 31}\n"
     ]
    }
   ],
   "source": [
    "#popitem\n",
    "#itwill remove last key pair\n",
    "d={'name':'damodhara','qualification':'B.Tech','designation':'data analyst','age':31,'weight':90}\n",
    "d.popitem()\n",
    "print(d)"
   ]
  },
  {
   "cell_type": "code",
   "execution_count": 39,
   "id": "1888f39e",
   "metadata": {},
   "outputs": [
    {
     "name": "stdout",
     "output_type": "stream",
     "text": [
      "{'qualification': 'B.Tech', 'designation': 'data analyst', 'age': 31}\n"
     ]
    }
   ],
   "source": [
    "#del\n",
    "#we can delet particular key value pair \n",
    "del d['name']\n",
    "print(d)"
   ]
  },
  {
   "cell_type": "code",
   "execution_count": 45,
   "id": "87cb27c8",
   "metadata": {},
   "outputs": [
    {
     "name": "stdout",
     "output_type": "stream",
     "text": [
      "{}\n"
     ]
    }
   ],
   "source": [
    "#claear\n",
    "d={'name':'damodhara','qualification':'B.Tech','designation':'data analyst','age':31,'weight':90}\n",
    "d.clear()\n",
    "print(d)"
   ]
  },
  {
   "cell_type": "markdown",
   "id": "3e5d9db5",
   "metadata": {},
   "source": [
    "### Editing Key Value Pair "
   ]
  },
  {
   "cell_type": "code",
   "execution_count": 54,
   "id": "e5517475",
   "metadata": {},
   "outputs": [
    {
     "data": {
      "text/plain": [
       "{'name': 'Damodhara',\n",
       " 'college': 'SVCE',\n",
       " 'sem': 4,\n",
       " 'Subjects': {'dsa': 40, 'maths': 67, 'Englis': 67, 'Social': 90},\n",
       " 'labmarks': 90}"
      ]
     },
     "execution_count": 54,
     "metadata": {},
     "output_type": "execute_result"
    }
   ],
   "source": [
    "s"
   ]
  },
  {
   "cell_type": "code",
   "execution_count": 55,
   "id": "8cd32599",
   "metadata": {},
   "outputs": [],
   "source": [
    "s['sem']=5"
   ]
  },
  {
   "cell_type": "code",
   "execution_count": 56,
   "id": "e6a933e2",
   "metadata": {},
   "outputs": [
    {
     "name": "stdout",
     "output_type": "stream",
     "text": [
      "{'name': 'Damodhara', 'college': 'SVCE', 'sem': 5, 'Subjects': {'dsa': 40, 'maths': 67, 'Englis': 67, 'Social': 90}, 'labmarks': 90}\n"
     ]
    }
   ],
   "source": [
    "print(s)"
   ]
  },
  {
   "cell_type": "code",
   "execution_count": 57,
   "id": "b522d0bf",
   "metadata": {},
   "outputs": [],
   "source": [
    "s['Subjects']['DataScience']=90"
   ]
  },
  {
   "cell_type": "code",
   "execution_count": 58,
   "id": "47e6c67b",
   "metadata": {},
   "outputs": [
    {
     "name": "stdout",
     "output_type": "stream",
     "text": [
      "{'name': 'Damodhara', 'college': 'SVCE', 'sem': 5, 'Subjects': {'dsa': 40, 'maths': 67, 'Englis': 67, 'Social': 90, 'DataScience': 90}, 'labmarks': 90}\n"
     ]
    }
   ],
   "source": [
    "print(s)"
   ]
  },
  {
   "cell_type": "markdown",
   "id": "9cc73bf4",
   "metadata": {},
   "source": [
    "### Dictionary Opearations"
   ]
  },
  {
   "cell_type": "markdown",
   "id": "50d6b83b",
   "metadata": {},
   "source": [
    "#### Membership Operations"
   ]
  },
  {
   "cell_type": "code",
   "execution_count": 59,
   "id": "c9b4474b",
   "metadata": {},
   "outputs": [
    {
     "data": {
      "text/plain": [
       "{'name': 'Damodhara',\n",
       " 'college': 'SVCE',\n",
       " 'sem': 5,\n",
       " 'Subjects': {'dsa': 40,\n",
       "  'maths': 67,\n",
       "  'Englis': 67,\n",
       "  'Social': 90,\n",
       "  'DataScience': 90},\n",
       " 'labmarks': 90}"
      ]
     },
     "execution_count": 59,
     "metadata": {},
     "output_type": "execute_result"
    }
   ],
   "source": [
    "s"
   ]
  },
  {
   "cell_type": "code",
   "execution_count": 61,
   "id": "dc0571f8",
   "metadata": {},
   "outputs": [
    {
     "data": {
      "text/plain": [
       "False"
      ]
     },
     "execution_count": 61,
     "metadata": {},
     "output_type": "execute_result"
    }
   ],
   "source": [
    "'Damodhara' in s\n",
    "#we asking about value so its shows false"
   ]
  },
  {
   "cell_type": "code",
   "execution_count": 63,
   "id": "2b3e5349",
   "metadata": {},
   "outputs": [
    {
     "data": {
      "text/plain": [
       "True"
      ]
     },
     "execution_count": 63,
     "metadata": {},
     "output_type": "execute_result"
    }
   ],
   "source": [
    "'sem' in s\n",
    "# sem is key "
   ]
  },
  {
   "cell_type": "code",
   "execution_count": 64,
   "id": "09ba8621",
   "metadata": {},
   "outputs": [],
   "source": [
    "#Membership operators works on the key value only"
   ]
  },
  {
   "cell_type": "markdown",
   "id": "8101fcd5",
   "metadata": {},
   "source": [
    "#### Iteration"
   ]
  },
  {
   "cell_type": "code",
   "execution_count": 65,
   "id": "4878e379",
   "metadata": {},
   "outputs": [],
   "source": [
    "d={'name':'damodhara','designation':'data analyst','age':31}"
   ]
  },
  {
   "cell_type": "code",
   "execution_count": 66,
   "id": "7e59b04b",
   "metadata": {},
   "outputs": [
    {
     "name": "stdout",
     "output_type": "stream",
     "text": [
      "name\n",
      "designation\n",
      "age\n"
     ]
    }
   ],
   "source": [
    "for i in d:\n",
    "    print(i)"
   ]
  },
  {
   "cell_type": "code",
   "execution_count": 67,
   "id": "5ea62933",
   "metadata": {},
   "outputs": [
    {
     "name": "stdout",
     "output_type": "stream",
     "text": [
      "name damodhara\n",
      "designation data analyst\n",
      "age 31\n"
     ]
    }
   ],
   "source": [
    "for i in d:\n",
    "    print(i,d[i])"
   ]
  },
  {
   "cell_type": "markdown",
   "id": "dad35952",
   "metadata": {},
   "source": [
    "### Dictionry Functions"
   ]
  },
  {
   "cell_type": "code",
   "execution_count": 68,
   "id": "55a35d27",
   "metadata": {},
   "outputs": [
    {
     "data": {
      "text/plain": [
       "{'name': 'damodhara', 'designation': 'data analyst', 'age': 31}"
      ]
     },
     "execution_count": 68,
     "metadata": {},
     "output_type": "execute_result"
    }
   ],
   "source": [
    "d"
   ]
  },
  {
   "cell_type": "code",
   "execution_count": 69,
   "id": "8e5fb7e8",
   "metadata": {},
   "outputs": [
    {
     "data": {
      "text/plain": [
       "3"
      ]
     },
     "execution_count": 69,
     "metadata": {},
     "output_type": "execute_result"
    }
   ],
   "source": [
    "#length\n",
    "len(d)"
   ]
  },
  {
   "cell_type": "code",
   "execution_count": 71,
   "id": "feb55e25",
   "metadata": {},
   "outputs": [
    {
     "data": {
      "text/plain": [
       "['age', 'designation', 'name']"
      ]
     },
     "execution_count": 71,
     "metadata": {},
     "output_type": "execute_result"
    }
   ],
   "source": [
    "sorted(d)\n",
    "#the output will give the list"
   ]
  },
  {
   "cell_type": "code",
   "execution_count": 73,
   "id": "e955676b",
   "metadata": {},
   "outputs": [
    {
     "data": {
      "text/plain": [
       "'age'"
      ]
     },
     "execution_count": 73,
     "metadata": {},
     "output_type": "execute_result"
    }
   ],
   "source": [
    "min(d)\n",
    "#the output will be based on ascii"
   ]
  },
  {
   "cell_type": "code",
   "execution_count": 74,
   "id": "5bc36289",
   "metadata": {},
   "outputs": [
    {
     "data": {
      "text/plain": [
       "'name'"
      ]
     },
     "execution_count": 74,
     "metadata": {},
     "output_type": "execute_result"
    }
   ],
   "source": [
    "max(d)"
   ]
  },
  {
   "cell_type": "code",
   "execution_count": 75,
   "id": "85b8fbe6",
   "metadata": {},
   "outputs": [
    {
     "name": "stdout",
     "output_type": "stream",
     "text": [
      "{'name': 'damodhara', 'designation': 'data analyst', 'age': 31}\n"
     ]
    }
   ],
   "source": [
    "print(d)"
   ]
  },
  {
   "cell_type": "code",
   "execution_count": 77,
   "id": "8a09a8c2",
   "metadata": {},
   "outputs": [
    {
     "name": "stdout",
     "output_type": "stream",
     "text": [
      "dict_items([('name', 'damodhara'), ('designation', 'data analyst'), ('age', 31)])\n"
     ]
    }
   ],
   "source": [
    "print(d.items())\n",
    "#avery item is a tuple "
   ]
  },
  {
   "cell_type": "code",
   "execution_count": 78,
   "id": "6f4d62a9",
   "metadata": {},
   "outputs": [
    {
     "name": "stdout",
     "output_type": "stream",
     "text": [
      "dict_keys(['name', 'designation', 'age'])\n"
     ]
    }
   ],
   "source": [
    "print(d.keys())"
   ]
  },
  {
   "cell_type": "code",
   "execution_count": 79,
   "id": "bff7dfdf",
   "metadata": {},
   "outputs": [
    {
     "name": "stdout",
     "output_type": "stream",
     "text": [
      "dict_values(['damodhara', 'data analyst', 31])\n"
     ]
    }
   ],
   "source": [
    "print(d.values())"
   ]
  },
  {
   "cell_type": "code",
   "execution_count": 80,
   "id": "a662d1a4",
   "metadata": {},
   "outputs": [
    {
     "name": "stdout",
     "output_type": "stream",
     "text": [
      "{1: 2, 3: 4, 4: 7, 6: 8}\n",
      "{4: 7, 6: 8}\n"
     ]
    }
   ],
   "source": [
    "#update\n",
    "d1={1:2,3:4,4:5}\n",
    "d2={4:7,6:8}\n",
    "d1.update(d2)\n",
    "print(d1)\n",
    "print(d2)"
   ]
  },
  {
   "cell_type": "markdown",
   "id": "ad1fb4b9",
   "metadata": {},
   "source": [
    "### Dictionary Comprehension"
   ]
  },
  {
   "cell_type": "markdown",
   "id": "6a695798",
   "metadata": {},
   "source": [
    "# {key:Value for vars in iterable}"
   ]
  },
  {
   "cell_type": "code",
   "execution_count": 81,
   "id": "73405e0c",
   "metadata": {},
   "outputs": [
    {
     "data": {
      "text/plain": [
       "{1: 1, 2: 4, 3: 9, 4: 16, 5: 25, 6: 36, 7: 49, 8: 64, 9: 81, 10: 100}"
      ]
     },
     "execution_count": 81,
     "metadata": {},
     "output_type": "execute_result"
    }
   ],
   "source": [
    "#print 1 to 10 numbers and their squares \n",
    "{i:i**2 for i in range(1,11)}"
   ]
  },
  {
   "cell_type": "code",
   "execution_count": 85,
   "id": "de1ca7fc",
   "metadata": {},
   "outputs": [
    {
     "name": "stdout",
     "output_type": "stream",
     "text": [
      "dict_items([('delhi', 1000), ('mumbai', 2000), ('bengalore', 3000)])\n"
     ]
    }
   ],
   "source": [
    "#using existing dict \n",
    "distances={'delhi':1000,'mumbai':2000,'bengalore':3000}\n",
    "print(distances.items())"
   ]
  },
  {
   "cell_type": "code",
   "execution_count": 86,
   "id": "864180e3",
   "metadata": {},
   "outputs": [
    {
     "data": {
      "text/plain": [
       "{'delhi': 620.0, 'mumbai': 1240.0, 'bengalore': 1860.0}"
      ]
     },
     "execution_count": 86,
     "metadata": {},
     "output_type": "execute_result"
    }
   ],
   "source": [
    "{key:value*0.62 for (key,value) in distances.items()}"
   ]
  },
  {
   "cell_type": "code",
   "execution_count": 88,
   "id": "6628013f",
   "metadata": {},
   "outputs": [
    {
     "data": {
      "text/plain": [
       "{'sunday': 20,\n",
       " 'monday': 3,\n",
       " 'tuesday': 90,\n",
       " 'wendsday': 80,\n",
       " 'thursday': 90,\n",
       " 'friday': 30,\n",
       " 'satrday': 70}"
      ]
     },
     "execution_count": 88,
     "metadata": {},
     "output_type": "execute_result"
    }
   ],
   "source": [
    "days=['sunday','monday','tuesday','wendsday','thursday','friday','satrday']\n",
    "temp_c=[20,3,90,80,90,30,70]\n",
    "{i:j for (i,j) in zip(days,temp_c)}"
   ]
  },
  {
   "cell_type": "code",
   "execution_count": 90,
   "id": "220a2d4f",
   "metadata": {},
   "outputs": [
    {
     "data": {
      "text/plain": [
       "{'phone': 10, 'charger': 32}"
      ]
     },
     "execution_count": 90,
     "metadata": {},
     "output_type": "execute_result"
    }
   ],
   "source": [
    "#Using If Conditions\n",
    "\n",
    "products={'phone':10,'laptop':0,'charger':32,'table':0}\n",
    "{key:value for (key,value) in products.items() if value>0}"
   ]
  },
  {
   "cell_type": "code",
   "execution_count": 93,
   "id": "8c6444e0",
   "metadata": {},
   "outputs": [
    {
     "data": {
      "text/plain": [
       "{2: {1: 2, 2: 2, 3: 2, 4: 2, 5: 2, 6: 2, 7: 2, 8: 2, 9: 2, 10: 2},\n",
       " 3: {1: 3, 2: 3, 3: 3, 4: 3, 5: 3, 6: 3, 7: 3, 8: 3, 9: 3, 10: 3},\n",
       " 4: {1: 4, 2: 4, 3: 4, 4: 4, 5: 4, 6: 4, 7: 4, 8: 4, 9: 4, 10: 4}}"
      ]
     },
     "execution_count": 93,
     "metadata": {},
     "output_type": "execute_result"
    }
   ],
   "source": [
    "#nested comprehension\n",
    "#print the tables from 1 to 2\n",
    "{i:{j:i for j in range(1,11)} for i in range(2,5)}"
   ]
  }
 ],
 "metadata": {
  "kernelspec": {
   "display_name": "Python 3 (ipykernel)",
   "language": "python",
   "name": "python3"
  },
  "language_info": {
   "codemirror_mode": {
    "name": "ipython",
    "version": 3
   },
   "file_extension": ".py",
   "mimetype": "text/x-python",
   "name": "python",
   "nbconvert_exporter": "python",
   "pygments_lexer": "ipython3",
   "version": "3.9.13"
  }
 },
 "nbformat": 4,
 "nbformat_minor": 5
}
