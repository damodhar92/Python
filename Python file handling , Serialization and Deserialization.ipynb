{
 "cells": [
  {
   "cell_type": "markdown",
   "id": "270f235e",
   "metadata": {},
   "source": [
    "### Types of data used for input/output:\n",
    "    1.Text -'12345' as a sequence of unicode characters\n",
    "    2.Binary - 12345 as a sequence of bytes of its binaray equivalent.\n",
    "    \n",
    "### hence there are 2 file types to deal with \n",
    "\n",
    "    1.Text files-All program files are text files \n",
    "    2.Binary files-images,music,video,exe files."
   ]
  },
  {
   "cell_type": "markdown",
   "id": "853093cc",
   "metadata": {},
   "source": [
    "### How file input and output is done in the most programming language:\n",
    "    1. Open a file \n",
    "    2. Read / Write data \n",
    "    3. Close the file \n",
    "\n"
   ]
  },
  {
   "cell_type": "markdown",
   "id": "cac3c200",
   "metadata": {},
   "source": [
    "### Writing to a file"
   ]
  },
  {
   "cell_type": "code",
   "execution_count": 6,
   "id": "d767262e",
   "metadata": {},
   "outputs": [],
   "source": [
    "# case-1 if the file is not present\n",
    "f=open('sample.txt','w')\n",
    "f.write('Hello World')\n",
    "f.close()"
   ]
  },
  {
   "cell_type": "code",
   "execution_count": 8,
   "id": "dfd426a7",
   "metadata": {},
   "outputs": [
    {
     "ename": "ValueError",
     "evalue": "I/O operation on closed file.",
     "output_type": "error",
     "traceback": [
      "\u001b[1;31m---------------------------------------------------------------------------\u001b[0m",
      "\u001b[1;31mValueError\u001b[0m                                Traceback (most recent call last)",
      "\u001b[1;32m~\\AppData\\Local\\Temp\\ipykernel_21744\\369204760.py\u001b[0m in \u001b[0;36m<module>\u001b[1;34m\u001b[0m\n\u001b[0;32m      1\u001b[0m \u001b[1;31m#Since the file is close hence this will not work\u001b[0m\u001b[1;33m\u001b[0m\u001b[1;33m\u001b[0m\u001b[0m\n\u001b[1;32m----> 2\u001b[1;33m \u001b[0mf\u001b[0m\u001b[1;33m.\u001b[0m\u001b[0mwrite\u001b[0m\u001b[1;33m(\u001b[0m\u001b[1;34m'hello'\u001b[0m\u001b[1;33m)\u001b[0m\u001b[1;33m\u001b[0m\u001b[1;33m\u001b[0m\u001b[0m\n\u001b[0m",
      "\u001b[1;31mValueError\u001b[0m: I/O operation on closed file."
     ]
    }
   ],
   "source": [
    "#Since the file is close hence this will not work\n",
    "f.write('hello')"
   ]
  },
  {
   "cell_type": "code",
   "execution_count": null,
   "id": "e5a02825",
   "metadata": {},
   "outputs": [],
   "source": [
    "# Write multiline spring"
   ]
  },
  {
   "cell_type": "code",
   "execution_count": 9,
   "id": "26deb01f",
   "metadata": {},
   "outputs": [],
   "source": [
    "f=open('sample1.txt','w')\n",
    "f.write('hello world')\n",
    "f.write('\\nhow are you?')\n",
    "f.close()"
   ]
  },
  {
   "cell_type": "code",
   "execution_count": 10,
   "id": "85c0dba3",
   "metadata": {},
   "outputs": [],
   "source": [
    "# Case-2 if the file is already present\n",
    "f=open('sample1.txt','w')\n",
    "f.write('meditation makes man perfect')\n",
    "f.close()"
   ]
  },
  {
   "cell_type": "raw",
   "id": "7a610c5f",
   "metadata": {},
   "source": [
    "# how exactly open() function works:\n",
    "\n",
    "\n",
    "1.the file opean in ram and runs in the bufering mode untill the file close."
   ]
  },
  {
   "cell_type": "code",
   "execution_count": 14,
   "id": "a135610c",
   "metadata": {},
   "outputs": [],
   "source": [
    "#problem with w mode\n",
    "#  -> due to w mode the previous data may deleted and newly enter data only appears.\n",
    "#introducing append mode\n",
    "f=open('sample1.txt','a')\n",
    "f.write('\\nmeditation gives energy')\n",
    "f.close()"
   ]
  },
  {
   "cell_type": "code",
   "execution_count": 16,
   "id": "6c547dd7",
   "metadata": {},
   "outputs": [],
   "source": [
    "#Write lines\n",
    "\n",
    "l=['hai\\n','myname is\\n','damodhara\\n','iam data science enthusastic']\n",
    "\n",
    "f=open('sample.txt','w')\n",
    "f.writelines(l)\n",
    "f.close()"
   ]
  },
  {
   "cell_type": "markdown",
   "id": "26533361",
   "metadata": {},
   "source": [
    "##### we can store the file any where while giving the file path\n",
    "\n",
    "f=open('path of the file/sample.txt','w')"
   ]
  },
  {
   "cell_type": "markdown",
   "id": "00210309",
   "metadata": {},
   "source": [
    "### reading the files"
   ]
  },
  {
   "cell_type": "code",
   "execution_count": 17,
   "id": "68fc1fc4",
   "metadata": {},
   "outputs": [
    {
     "name": "stdout",
     "output_type": "stream",
     "text": [
      "hai\n",
      "myname is\n",
      "damodhara\n",
      "iam data science enthusastic\n"
     ]
    }
   ],
   "source": [
    "# using read()\n",
    "f=open('sample.txt','r')\n",
    "s=f.read()\n",
    "print(s)\n",
    "f.close()"
   ]
  },
  {
   "cell_type": "code",
   "execution_count": 18,
   "id": "86a4fc6b",
   "metadata": {},
   "outputs": [
    {
     "name": "stdout",
     "output_type": "stream",
     "text": [
      "hai\n",
      "myname\n"
     ]
    }
   ],
   "source": [
    "# reading upto n characters\n",
    "f=open('sample.txt','r')\n",
    "s=f.read(10)\n",
    "print(s)\n",
    "f.close()"
   ]
  },
  {
   "cell_type": "code",
   "execution_count": 19,
   "id": "4347c762",
   "metadata": {},
   "outputs": [
    {
     "name": "stdout",
     "output_type": "stream",
     "text": [
      "hai\n",
      "\n",
      "myname is\n",
      "\n"
     ]
    }
   ],
   "source": [
    "# how read the file lineby line\n",
    "f=open('sample.txt','r')\n",
    "s=f.readline()\n",
    "print(s)\n",
    "s=f.readline()\n",
    "print(s)\n",
    "f.close()"
   ]
  },
  {
   "cell_type": "code",
   "execution_count": null,
   "id": "5451f2eb",
   "metadata": {},
   "outputs": [],
   "source": [
    "# to counter the gap between lines"
   ]
  },
  {
   "cell_type": "code",
   "execution_count": 25,
   "id": "f32c289d",
   "metadata": {},
   "outputs": [
    {
     "name": "stdout",
     "output_type": "stream",
     "text": [
      "hai\n",
      "myname is\n"
     ]
    }
   ],
   "source": [
    "f=open('sample.txt','r')\n",
    "print(f.readline(),end='')\n",
    "print(f.readline(),end='')\n",
    "f.close()"
   ]
  },
  {
   "cell_type": "code",
   "execution_count": 34,
   "id": "ee9f4cd3",
   "metadata": {},
   "outputs": [
    {
     "name": "stdout",
     "output_type": "stream",
     "text": [
      "hai\n",
      "myname is\n",
      "damodhara\n",
      "iam data science enthusastic"
     ]
    }
   ],
   "source": [
    " #reading entire using readline\n",
    "f=open('sample.txt','r')\n",
    "while True:\n",
    "    data = f.readline()\n",
    "    \n",
    "    if data == '':\n",
    "        break\n",
    "    else:\n",
    "        print(data,end=\"\")\n",
    "        \n",
    "        \n",
    "        \n",
    "f.close()"
   ]
  },
  {
   "cell_type": "markdown",
   "id": "4951f7d2",
   "metadata": {},
   "source": [
    "### Using Context Manager (with):\n",
    "\n",
    "1).it's a good idea to close a file after usage as it will\n",
    "\n",
    "2). if we dont close it, garbage collector would close it\n",
    "\n",
    "3).with keyword close the file as soon as the usage is over "
   ]
  },
  {
   "cell_type": "code",
   "execution_count": 35,
   "id": "6548e335",
   "metadata": {},
   "outputs": [],
   "source": [
    "#with\n",
    "with open('sample.txt','w') as f:\n",
    "    f.write('selmon bhai')"
   ]
  },
  {
   "cell_type": "code",
   "execution_count": 36,
   "id": "f9d9a7d7",
   "metadata": {},
   "outputs": [
    {
     "ename": "ValueError",
     "evalue": "I/O operation on closed file.",
     "output_type": "error",
     "traceback": [
      "\u001b[1;31m---------------------------------------------------------------------------\u001b[0m",
      "\u001b[1;31mValueError\u001b[0m                                Traceback (most recent call last)",
      "\u001b[1;32m~\\AppData\\Local\\Temp\\ipykernel_21744\\375632407.py\u001b[0m in \u001b[0;36m<module>\u001b[1;34m\u001b[0m\n\u001b[1;32m----> 1\u001b[1;33m \u001b[0mf\u001b[0m\u001b[1;33m.\u001b[0m\u001b[0mwrite\u001b[0m\u001b[1;33m(\u001b[0m\u001b[1;34m'hello'\u001b[0m\u001b[1;33m)\u001b[0m\u001b[1;33m\u001b[0m\u001b[1;33m\u001b[0m\u001b[0m\n\u001b[0m",
      "\u001b[1;31mValueError\u001b[0m: I/O operation on closed file."
     ]
    }
   ],
   "source": [
    "f.write('hello')"
   ]
  },
  {
   "cell_type": "code",
   "execution_count": 37,
   "id": "584a02ac",
   "metadata": {},
   "outputs": [
    {
     "name": "stdout",
     "output_type": "stream",
     "text": [
      "selmon bhai\n"
     ]
    }
   ],
   "source": [
    "#try f.read() now\n",
    "with open('sample.txt','r') as f:\n",
    "    print(f.read())"
   ]
  },
  {
   "cell_type": "code",
   "execution_count": 38,
   "id": "1ffee532",
   "metadata": {},
   "outputs": [
    {
     "name": "stdout",
     "output_type": "stream",
     "text": [
      "selmon bha\n",
      "i\n"
     ]
    }
   ],
   "source": [
    "# moving within a file -> 10 char than 10 char\n",
    "with open('sample.txt','r') as f:\n",
    "    print(f.read(10))\n",
    "    print(f.read(10))"
   ]
  },
  {
   "cell_type": "code",
   "execution_count": 39,
   "id": "24464c06",
   "metadata": {},
   "outputs": [],
   "source": [
    "# benefit --> to load a big file in memory\n",
    "big_L = ['hello world' for oi in range(1000)]\n",
    "\n",
    "with open ('big.txt','w') as f:\n",
    "    f.writelines(big_L)"
   ]
  },
  {
   "cell_type": "code",
   "execution_count": 41,
   "id": "0e29990d",
   "metadata": {},
   "outputs": [
    {
     "name": "stdout",
     "output_type": "stream",
     "text": [
      "dhello wor***orldhello ***o worldhel***ello world***ldhello wo***worldhello***lo worldhe***hello worl***rldhello w*** worldhell***llo worldh***dhello wor***orldhello ***o worldhel***ello world***ldhello wo***worldhello***lo worldhe***hello worl***rldhello w*** worldhell***llo worldh***dhello wor***orldhello ***o worldhel***ello world***ldhello wo***worldhello***lo worldhe***hello worl***rldhello w*** worldhell***llo worldh***dhello wor***orldhello ***o worldhel***ello world***ldhello wo***worldhello***lo worldhe***hello worl***rldhello w*** worldhell***llo worldh***dhello wor***orldhello ***o worldhel***ello world***ldhello wo***worldhello***lo worldhe***hello worl***rldhello w*** worldhell***llo worldh***dhello wor***orldhello ***o worldhel***ello world***ldhello wo***worldhello***lo worldhe***hello worl***rldhello w*** worldhell***llo worldh***dhello wor***orldhello ***o worldhel***ello world***ldhello wo***worldhello***lo worldhe***hello worl***rldhello w*** worldhell***llo worldh***dhello wor***orldhello ***o worldhel***ello world***ldhello wo***worldhello***lo worldhe***hello worl***rldhello w*** worldhell***llo worldh***dhello wor***orldhello ***o worldhel***ello world***ldhello wo***worldhello***lo worldhe***hello worl***rldhello w*** worldhell***llo worldh***dhello wor***orldhello ***o worldhel***ello world***ldhello wo***worldhello***lo worldhe***hello worl***rldhello w*** worldhell***llo worldh***dhello wor***orldhello ***o worldhel***ello world***ldhello wo***worldhello***lo worldhe***hello worl***rldhello w*** worldhell***llo worldh***dhello wor***orldhello ***o worldhel***ello world***ldhello wo***worldhello***lo worldhe***hello worl***rldhello w*** worldhell***llo worldh***dhello wor***orldhello ***o worldhel***ello world***ldhello wo***worldhello***lo worldhe***hello worl***rldhello w*** worldhell***llo worldh***dhello wor***orldhello ***o worldhel***ello world***ldhello wo***worldhello***lo worldhe***hello worl***rldhello w*** worldhell***llo worldh***dhello wor***orldhello ***o worldhel***ello world***ldhello wo***worldhello***lo worldhe***hello worl***rldhello w*** worldhell***llo worldh***dhello wor***orldhello ***o worldhel***ello world***ldhello wo***worldhello***lo worldhe***hello worl***rldhello w*** worldhell***llo worldh***dhello wor***orldhello ***o worldhel***ello world***ldhello wo***worldhello***lo worldhe***hello worl***rldhello w*** worldhell***llo worldh***dhello wor***orldhello ***o worldhel***ello world***ldhello wo***worldhello***lo worldhe***hello worl***rldhello w*** worldhell***llo worldh***dhello wor***orldhello ***o worldhel***ello world***ldhello wo***worldhello***lo worldhe***hello worl***rldhello w*** worldhell***llo worldh***dhello wor***orldhello ***o worldhel***ello world***ldhello wo***worldhello***lo worldhe***hello worl***rldhello w*** worldhell***llo worldh***dhello wor***orldhello ***o worldhel***ello world***ldhello wo***worldhello***lo worldhe***hello worl***rldhello w*** worldhell***llo worldh***dhello wor***orldhello ***o worldhel***ello world***ldhello wo***worldhello***lo worldhe***hello worl***rldhello w*** worldhell***llo worldh***dhello wor***orldhello ***o worldhel***ello world***ldhello wo***worldhello***lo worldhe***hello worl***rldhello w*** worldhell***llo worldh***dhello wor***orldhello ***o worldhel***ello world***ldhello wo***worldhello***lo worldhe***hello worl***rldhello w*** worldhell***llo worldh***dhello wor***orldhello ***o worldhel***ello world***ldhello wo***worldhello***lo worldhe***hello worl***rldhello w*** worldhell***llo worldh***dhello wor***orldhello ***o worldhel***ello world***ldhello wo***worldhello***lo worldhe***hello worl***rldhello w*** worldhell***llo worldh***dhello wor***orldhello ***o worldhel***ello world***ldhello wo***worldhello***lo worldhe***hello worl***rldhello w*** worldhell***llo worldh***dhello wor***orldhello ***o worldhel***ello world***ldhello wo***worldhello***lo worldhe***hello worl***rldhello w*** worldhell***llo worldh***dhello wor***orldhello ***o worldhel***ello world***ldhello wo***worldhello***lo worldhe***hello worl***rldhello w*** worldhell***llo worldh***dhello wor***orldhello ***o worldhel***ello world***ldhello wo***worldhello***lo worldhe***hello worl***rldhello w*** worldhell***llo worldh***dhello wor***orldhello ***o worldhel***ello world***ldhello wo***worldhello***lo worldhe***hello worl***rldhello w*** worldhell***llo worldh***dhello wor***orldhello ***o worldhel***ello world***ldhello wo***worldhello***lo worldhe***hello worl***rldhello w*** worldhell***llo worldh***dhello wor***orldhello ***o worldhel***ello world***ldhello wo***worldhello***lo worldhe***hello worl***rldhello w*** worldhell***llo worldh***dhello wor***orldhello ***o worldhel***ello world***"
     ]
    }
   ],
   "source": [
    "with open('big.txt','r') as f:\n",
    "    chunk_size = 10\n",
    "    \n",
    "    while len(f.read(chunk_size)) > 0:\n",
    "        print(f.read(chunk_size), end='***')\n",
    "        f.read(chunk_size)"
   ]
  },
  {
   "cell_type": "code",
   "execution_count": 43,
   "id": "727e3da6",
   "metadata": {},
   "outputs": [
    {
     "name": "stdout",
     "output_type": "stream",
     "text": [
      "selmon bha\n",
      "10\n"
     ]
    }
   ],
   "source": [
    "   #seek and tell function \n",
    "with open('sample.txt','r') as f:\n",
    "    print(f.read(10))\n",
    "    print(f.tell())\n",
    "# tell function indicates the what the next function is gone to print"
   ]
  },
  {
   "cell_type": "code",
   "execution_count": 44,
   "id": "83ef40dd",
   "metadata": {},
   "outputs": [
    {
     "name": "stdout",
     "output_type": "stream",
     "text": [
      "selmon bha\n",
      "10\n",
      "selmon bha\n"
     ]
    }
   ],
   "source": [
    "with open('sample.txt','r') as f:\n",
    "    print(f.read(10))\n",
    "    print(f.tell())\n",
    "    f.seek(0)\n",
    "    print(f.read(10))\n",
    "    "
   ]
  },
  {
   "cell_type": "code",
   "execution_count": null,
   "id": "a8e340f5",
   "metadata": {},
   "outputs": [],
   "source": [
    "#seek start again "
   ]
  },
  {
   "cell_type": "code",
   "execution_count": 45,
   "id": "4f4f2327",
   "metadata": {},
   "outputs": [
    {
     "name": "stdout",
     "output_type": "stream",
     "text": [
      "selmon bha\n",
      "10\n",
      "selmon bha\n",
      "10\n"
     ]
    }
   ],
   "source": [
    "with open('sample.txt','r') as f:\n",
    "    print(f.read(10))\n",
    "    print(f.tell())\n",
    "    f.seek(0) #it start 0 we given 0\n",
    "    print(f.read(10))\n",
    "    print(f.tell())"
   ]
  },
  {
   "cell_type": "code",
   "execution_count": 46,
   "id": "9fc86bda",
   "metadata": {},
   "outputs": [
    {
     "name": "stdout",
     "output_type": "stream",
     "text": [
      "selmon bha\n",
      "10\n",
      "n bhai\n",
      "11\n"
     ]
    }
   ],
   "source": [
    "with open('sample.txt','r') as f:\n",
    "    print(f.read(10))\n",
    "    print(f.tell())\n",
    "    f.seek(5)# it start 0 to given number \n",
    "    print(f.read(10))\n",
    "    print(f.tell())"
   ]
  },
  {
   "cell_type": "code",
   "execution_count": 47,
   "id": "5dd3373a",
   "metadata": {},
   "outputs": [],
   "source": [
    "#seek during write\n",
    "with open('sample.txt','w') as f:\n",
    "    f.write('hello')\n",
    "    f.seek(0)\n",
    "    f.write('X')"
   ]
  },
  {
   "cell_type": "code",
   "execution_count": 48,
   "id": "b6083670",
   "metadata": {},
   "outputs": [],
   "source": [
    "with open('sample.txt','w') as f:\n",
    "    f.write('hello')\n",
    "    f.seek(0)\n",
    "    f.write('Xoooo')"
   ]
  },
  {
   "cell_type": "markdown",
   "id": "5bdf9dd6",
   "metadata": {},
   "source": [
    "### Problems with working in text mode\n",
    "1).can't work with binary file\n",
    "\n",
    "2).not good for other data types like int/float/list/tuple"
   ]
  },
  {
   "cell_type": "code",
   "execution_count": null,
   "id": "1220da8c",
   "metadata": {},
   "outputs": [],
   "source": [
    "#working with binary file \n"
   ]
  },
  {
   "cell_type": "code",
   "execution_count": null,
   "id": "eb9fcf8a",
   "metadata": {},
   "outputs": [],
   "source": [
    "#working with a big binary file "
   ]
  },
  {
   "cell_type": "code",
   "execution_count": 1,
   "id": "b17a33ca",
   "metadata": {},
   "outputs": [
    {
     "ename": "TypeError",
     "evalue": "write() argument must be str, not int",
     "output_type": "error",
     "traceback": [
      "\u001b[1;31m---------------------------------------------------------------------------\u001b[0m",
      "\u001b[1;31mTypeError\u001b[0m                                 Traceback (most recent call last)",
      "\u001b[1;32m~\\AppData\\Local\\Temp\\ipykernel_1856\\3704186509.py\u001b[0m in \u001b[0;36m<module>\u001b[1;34m\u001b[0m\n\u001b[0;32m      1\u001b[0m \u001b[1;31m#workin with other data types\u001b[0m\u001b[1;33m\u001b[0m\u001b[1;33m\u001b[0m\u001b[0m\n\u001b[0;32m      2\u001b[0m \u001b[1;32mwith\u001b[0m \u001b[0mopen\u001b[0m\u001b[1;33m(\u001b[0m\u001b[1;34m'sample.txt'\u001b[0m\u001b[1;33m,\u001b[0m\u001b[1;34m'w'\u001b[0m\u001b[1;33m)\u001b[0m \u001b[1;32mas\u001b[0m \u001b[0mf\u001b[0m\u001b[1;33m:\u001b[0m\u001b[1;33m\u001b[0m\u001b[1;33m\u001b[0m\u001b[0m\n\u001b[1;32m----> 3\u001b[1;33m     \u001b[0mf\u001b[0m\u001b[1;33m.\u001b[0m\u001b[0mwrite\u001b[0m\u001b[1;33m(\u001b[0m\u001b[1;36m5\u001b[0m\u001b[1;33m)\u001b[0m\u001b[1;33m\u001b[0m\u001b[1;33m\u001b[0m\u001b[0m\n\u001b[0m",
      "\u001b[1;31mTypeError\u001b[0m: write() argument must be str, not int"
     ]
    }
   ],
   "source": [
    "#workin with other data types\n",
    "with open('sample.txt','w') as f:\n",
    "    f.write(5)\n",
    "# we can't write the other data types in a file. it always allows only strings"
   ]
  },
  {
   "cell_type": "code",
   "execution_count": 2,
   "id": "84b5df9c",
   "metadata": {},
   "outputs": [],
   "source": [
    "with open('sample.txt','w') as f:\n",
    "    f.write('5')"
   ]
  },
  {
   "cell_type": "code",
   "execution_count": 3,
   "id": "3d324900",
   "metadata": {},
   "outputs": [
    {
     "name": "stdout",
     "output_type": "stream",
     "text": [
      "10\n"
     ]
    }
   ],
   "source": [
    "with open('sample.txt','r') as f:\n",
    "    print(int(f.read())+5)"
   ]
  },
  {
   "cell_type": "code",
   "execution_count": 6,
   "id": "af140a44",
   "metadata": {},
   "outputs": [],
   "source": [
    "#more complex data\n",
    "\n",
    "d={\n",
    "    \n",
    "    'name':'nitish',\n",
    "    'age':33,\n",
    "    'gender':'male'\n",
    "}\n",
    "\n",
    "with open('sample.txt','w') as f:\n",
    "    f.write(str(d)) #here we converted dict data type into string type"
   ]
  },
  {
   "cell_type": "code",
   "execution_count": 7,
   "id": "c42c5c76",
   "metadata": {},
   "outputs": [
    {
     "name": "stdout",
     "output_type": "stream",
     "text": [
      "{'name': 'nitish', 'age': 33, 'gender': 'male'}\n",
      "<class 'str'>\n"
     ]
    }
   ],
   "source": [
    "with open('sample.txt','r') as f:\n",
    "    print(f.read())\n",
    "    print(type(f.read()))"
   ]
  },
  {
   "cell_type": "code",
   "execution_count": 8,
   "id": "239c867d",
   "metadata": {},
   "outputs": [],
   "source": [
    "# from the above cell its looks like dict but the actual data type is string "
   ]
  },
  {
   "cell_type": "code",
   "execution_count": 9,
   "id": "ab7d2792",
   "metadata": {},
   "outputs": [
    {
     "ename": "SyntaxError",
     "evalue": "unexpected EOF while parsing (656843754.py, line 2)",
     "output_type": "error",
     "traceback": [
      "\u001b[1;36m  File \u001b[1;32m\"C:\\Users\\Damodhara\\AppData\\Local\\Temp\\ipykernel_1856\\656843754.py\"\u001b[1;36m, line \u001b[1;32m2\u001b[0m\n\u001b[1;33m    print(dict(f.read())\u001b[0m\n\u001b[1;37m                        ^\u001b[0m\n\u001b[1;31mSyntaxError\u001b[0m\u001b[1;31m:\u001b[0m unexpected EOF while parsing\n"
     ]
    }
   ],
   "source": [
    "with open('sample.txt','r') as f:\n",
    "    print(dict(f.read())\n",
    "#it will not possible convert string to dict \n",
    "#it is big problem"
   ]
  },
  {
   "cell_type": "markdown",
   "id": "ef17befe",
   "metadata": {},
   "source": [
    "### Serialization and Deserialization"
   ]
  },
  {
   "cell_type": "raw",
   "id": "bf167f23",
   "metadata": {},
   "source": [
    "Serialization- Process of converting python data type to JSON format.\n",
    "Deserialization - process of converting JSON to python data type "
   ]
  },
  {
   "cell_type": "raw",
   "id": "87c17082",
   "metadata": {},
   "source": [
    "JSON: JavaScript Object Notation."
   ]
  },
  {
   "cell_type": "raw",
   "id": "a7227afd",
   "metadata": {},
   "source": [
    "JSON is Universal data types, it can be understand by any language. "
   ]
  },
  {
   "cell_type": "code",
   "execution_count": 10,
   "id": "ec44bd79",
   "metadata": {},
   "outputs": [],
   "source": [
    "#serialization using json module\n",
    "#list\n",
    "import json\n",
    "\n",
    "L=[1,2,3,4,5]\n",
    "\n",
    "with open('demo.json','w') as f:\n",
    "    json.dump(L,f)"
   ]
  },
  {
   "cell_type": "code",
   "execution_count": 11,
   "id": "a08bf25f",
   "metadata": {},
   "outputs": [],
   "source": [
    "# dict\n",
    "d={\n",
    "    'name' : 'nitish',\n",
    "    'age':33,\n",
    "    'gender':'male'\n",
    "}\n",
    "\n",
    "with open('demo.json','w') as f:\n",
    "    json.dump(d,f)"
   ]
  },
  {
   "cell_type": "code",
   "execution_count": 12,
   "id": "5af99a85",
   "metadata": {},
   "outputs": [],
   "source": [
    "d={\n",
    "    'name' : 'nitish',\n",
    "    'age':33,\n",
    "    'gender':'male'\n",
    "}\n",
    "\n",
    "with open('demo.json','w') as f:\n",
    "    json.dump(d,f,indent=4) # for better representaion of dict"
   ]
  },
  {
   "cell_type": "code",
   "execution_count": 13,
   "id": "92dabf80",
   "metadata": {},
   "outputs": [
    {
     "name": "stdout",
     "output_type": "stream",
     "text": [
      "{'name': 'nitish', 'age': 33, 'gender': 'male'}\n"
     ]
    }
   ],
   "source": [
    "#deserialization\n",
    "import json\n",
    "\n",
    "with open('demo.json','r') as f:\n",
    "    print(json.load(f))"
   ]
  },
  {
   "cell_type": "code",
   "execution_count": 14,
   "id": "c067f6ec",
   "metadata": {},
   "outputs": [
    {
     "name": "stdout",
     "output_type": "stream",
     "text": [
      "{'name': 'nitish', 'age': 33, 'gender': 'male'}\n",
      "<class 'dict'>\n"
     ]
    }
   ],
   "source": [
    "import json\n",
    "\n",
    "with open('demo.json','r') as f:\n",
    "    d=json.load(f)\n",
    "    print(d)\n",
    "    print(type(d))"
   ]
  },
  {
   "cell_type": "code",
   "execution_count": 15,
   "id": "ccaed9ad",
   "metadata": {},
   "outputs": [],
   "source": [
    "#Serialize and deserialize tuple\n",
    "\n",
    "import json\n",
    "\n",
    "t=(1,2,3,4,5,6)\n",
    "\n",
    "with open('demo.json','w') as f:\n",
    "    json.dump(t,f)\n",
    "    "
   ]
  },
  {
   "cell_type": "code",
   "execution_count": 16,
   "id": "7147248a",
   "metadata": {},
   "outputs": [],
   "source": [
    "# serialize and deserialize a nested dict\n",
    "\n",
    "d={\n",
    "    'student':'damodhara',\n",
    "    'marks':[50,70,80,60,100]\n",
    "}\n",
    "with open('demo.json','w') as f:\n",
    "    json.dump(d,f)"
   ]
  },
  {
   "cell_type": "markdown",
   "id": "f32652f0",
   "metadata": {},
   "source": [
    "### serializing and deserializing custom objects"
   ]
  },
  {
   "cell_type": "code",
   "execution_count": 37,
   "id": "f99ee13c",
   "metadata": {},
   "outputs": [],
   "source": [
    "class Person:\n",
    "    def __init__(self,fname,lname,age,gender):\n",
    "        self.fname = fname\n",
    "        self.lname = lname\n",
    "        self.age=age\n",
    "        self.gender = gender\n",
    "  "
   ]
  },
  {
   "cell_type": "code",
   "execution_count": 38,
   "id": "4251bec9",
   "metadata": {},
   "outputs": [],
   "source": [
    "person = Person('damodhara','Avula',30,'male')"
   ]
  },
  {
   "cell_type": "code",
   "execution_count": 40,
   "id": "94fcd8f7",
   "metadata": {},
   "outputs": [],
   "source": [
    "# As a string\n",
    "import json\n",
    "\n",
    "def show_object(person):\n",
    "  if isinstance(person,Person):\n",
    "    return \"{} {} age -> {} gender -> {}\".format(person.fname,person.lname,person.age,person.gender)\n",
    "\n",
    "with open('demo.json','w') as f:\n",
    "  json.dump(person,f,default=show_object)"
   ]
  },
  {
   "cell_type": "code",
   "execution_count": 41,
   "id": "0dc1fa27",
   "metadata": {},
   "outputs": [],
   "source": [
    "# As a dict\n",
    "import json\n",
    "\n",
    "def show_object(person):\n",
    "  if isinstance(person,Person):\n",
    "    return {'name':person.fname + ' ' + person.lname,'age':person.age,'gender':person.gender}\n",
    "\n",
    "with open('demo.json','w') as f:\n",
    "  json.dump(person,f,default=show_object,indent=4)"
   ]
  },
  {
   "cell_type": "code",
   "execution_count": 42,
   "id": "f144091c",
   "metadata": {},
   "outputs": [
    {
     "name": "stdout",
     "output_type": "stream",
     "text": [
      "{'name': 'damodhara Avula', 'age': 30, 'gender': 'male'}\n",
      "<class 'dict'>\n"
     ]
    }
   ],
   "source": [
    "# deserializing\n",
    "import json\n",
    "\n",
    "with open('demo.json','r') as f:\n",
    "  d = json.load(f)\n",
    "  print(d)\n",
    "  print(type(d))"
   ]
  },
  {
   "cell_type": "markdown",
   "id": "8e188a54",
   "metadata": {},
   "source": [
    "### Pickling\n",
    "`Pickling` is the process whereby a Python object hierarchy is converted into a byte stream, and `unpickling` is the inverse operation, whereby a byte stream (from a binary file or bytes-like object) is converted back into an object hierarchy."
   ]
  },
  {
   "cell_type": "code",
   "execution_count": 43,
   "id": "f4968bfe",
   "metadata": {},
   "outputs": [],
   "source": [
    "class Person:\n",
    "\n",
    "  def __init__(self,name,age):\n",
    "    self.name = name\n",
    "    self.age = age\n",
    "\n",
    "  def display_info(self):\n",
    "    print('Hi my name is',self.name,'and I am ',self.age,'years old')"
   ]
  },
  {
   "cell_type": "code",
   "execution_count": 44,
   "id": "b1d80c71",
   "metadata": {},
   "outputs": [],
   "source": [
    "p = Person('nitish',33)"
   ]
  },
  {
   "cell_type": "code",
   "execution_count": 45,
   "id": "a7f38d32",
   "metadata": {},
   "outputs": [],
   "source": [
    "# pickle dump\n",
    "import pickle\n",
    "with open('person.pkl','wb') as f:\n",
    "  pickle.dump(p,f)"
   ]
  },
  {
   "cell_type": "code",
   "execution_count": 46,
   "id": "e86b2e89",
   "metadata": {},
   "outputs": [
    {
     "name": "stdout",
     "output_type": "stream",
     "text": [
      "Hi my name is nitish and I am  33 years old\n"
     ]
    }
   ],
   "source": [
    "# pickle load\n",
    "import pickle\n",
    "with open('person.pkl','rb') as f:\n",
    "  p = pickle.load(f)\n",
    "\n",
    "p.display_info()"
   ]
  },
  {
   "cell_type": "markdown",
   "id": "0866a272",
   "metadata": {},
   "source": [
    "# Pickle Vs Json\n",
    "\n",
    "- Pickle lets the user to store data in binary format. JSON lets the user store data in a human-readable text format."
   ]
  }
 ],
 "metadata": {
  "kernelspec": {
   "display_name": "Python 3 (ipykernel)",
   "language": "python",
   "name": "python3"
  },
  "language_info": {
   "codemirror_mode": {
    "name": "ipython",
    "version": 3
   },
   "file_extension": ".py",
   "mimetype": "text/x-python",
   "name": "python",
   "nbconvert_exporter": "python",
   "pygments_lexer": "ipython3",
   "version": "3.9.13"
  }
 },
 "nbformat": 4,
 "nbformat_minor": 5
}
