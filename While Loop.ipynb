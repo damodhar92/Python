{
 "cells": [
  {
   "cell_type": "code",
   "execution_count": 13,
   "id": "4c19ea3d",
   "metadata": {},
   "outputs": [
    {
     "name": "stdout",
     "output_type": "stream",
     "text": [
      "Enter the Number1\n",
      "1\n",
      "2\n",
      "3\n",
      "4\n",
      "5\n",
      "6\n",
      "7\n",
      "8\n",
      "9\n",
      "10\n"
     ]
    }
   ],
   "source": [
    "number = int(input('Enter the Number'))\n",
    "i=1\n",
    "while i<11:\n",
    "    print(number*i)\n",
    "    i+=1"
   ]
  },
  {
   "cell_type": "code",
   "execution_count": 14,
   "id": "3b7c56db",
   "metadata": {},
   "outputs": [
    {
     "name": "stdout",
     "output_type": "stream",
     "text": [
      "Enter the Number1\n",
      "1\n",
      "2\n",
      "3\n",
      "4\n",
      "5\n",
      "6\n",
      "7\n",
      "8\n",
      "9\n",
      "10\n"
     ]
    }
   ],
   "source": [
    "number=int(input('Enter the Number'))\n",
    "i=1\n",
    "while i<11:\n",
    "    print(number*i)\n",
    "    i+=1"
   ]
  },
  {
   "cell_type": "code",
   "execution_count": 15,
   "id": "5612b53c",
   "metadata": {},
   "outputs": [
    {
     "name": "stdout",
     "output_type": "stream",
     "text": [
      "Enter the Number1\n",
      "1 * 1 = 1\n",
      "1 * 2 = 2\n",
      "1 * 3 = 3\n",
      "1 * 4 = 4\n",
      "1 * 5 = 5\n",
      "1 * 6 = 6\n",
      "1 * 7 = 7\n",
      "1 * 8 = 8\n",
      "1 * 9 = 9\n",
      "1 * 10 = 10\n"
     ]
    }
   ],
   "source": [
    "number = int(input('Enter the Number'))\n",
    "i=1\n",
    "while i<11:\n",
    "    print(number,'*',i,'=',number*i)\n",
    "    i+=1"
   ]
  },
  {
   "cell_type": "code",
   "execution_count": 16,
   "id": "c62d7c68",
   "metadata": {},
   "outputs": [
    {
     "name": "stdout",
     "output_type": "stream",
     "text": [
      "1\n",
      "2\n",
      "3\n",
      "4\n",
      "5\n"
     ]
    }
   ],
   "source": [
    "i=1\n",
    "while i<6:\n",
    "    print(i)\n",
    "    i+=1"
   ]
  },
  {
   "cell_type": "code",
   "execution_count": 17,
   "id": "8c45dc9f",
   "metadata": {},
   "outputs": [
    {
     "name": "stdout",
     "output_type": "stream",
     "text": [
      "0\n",
      "1\n",
      "2\n",
      "3\n"
     ]
    }
   ],
   "source": [
    "i=0\n",
    "while i<4:\n",
    "    print(i)\n",
    "    i+=1"
   ]
  },
  {
   "cell_type": "code",
   "execution_count": 18,
   "id": "6273ac9e",
   "metadata": {},
   "outputs": [
    {
     "name": "stdout",
     "output_type": "stream",
     "text": [
      "20\n",
      "22\n",
      "24\n"
     ]
    }
   ],
   "source": [
    "i=20\n",
    "while i<25:\n",
    "    print(i)\n",
    "    i+=2"
   ]
  },
  {
   "cell_type": "code",
   "execution_count": 19,
   "id": "b483a990",
   "metadata": {},
   "outputs": [
    {
     "name": "stdout",
     "output_type": "stream",
     "text": [
      "2\n",
      "4\n",
      "6\n",
      "8\n",
      "10\n"
     ]
    }
   ],
   "source": [
    "i=2\n",
    "while i<11:\n",
    "    print(i)\n",
    "    i+=2"
   ]
  },
  {
   "cell_type": "code",
   "execution_count": 20,
   "id": "5a794d8d",
   "metadata": {},
   "outputs": [
    {
     "name": "stdout",
     "output_type": "stream",
     "text": [
      "1\n",
      "3\n",
      "5\n",
      "7\n",
      "9\n"
     ]
    }
   ],
   "source": [
    "i=1\n",
    "while i<11:\n",
    "    print(i)\n",
    "    i+=2"
   ]
  },
  {
   "cell_type": "code",
   "execution_count": 21,
   "id": "d7bfb8b6",
   "metadata": {},
   "outputs": [
    {
     "name": "stdout",
     "output_type": "stream",
     "text": [
      "100\n",
      "101\n",
      "102\n",
      "103\n",
      "104\n",
      "Completed\n"
     ]
    }
   ],
   "source": [
    "i=100\n",
    "while i<105:\n",
    "    print(i)\n",
    "    i=i+1\n",
    "else:\n",
    "    print('Completed')"
   ]
  },
  {
   "cell_type": "code",
   "execution_count": 22,
   "id": "0537846f",
   "metadata": {},
   "outputs": [
    {
     "name": "stdout",
     "output_type": "stream",
     "text": [
      "1\n",
      "2\n",
      "3\n"
     ]
    }
   ],
   "source": [
    "i=1\n",
    "while i<6:\n",
    "    print(i)\n",
    "    if (i==3):\n",
    "        break\n",
    "    i+=1"
   ]
  },
  {
   "cell_type": "code",
   "execution_count": 23,
   "id": "4a506af8",
   "metadata": {},
   "outputs": [
    {
     "name": "stdout",
     "output_type": "stream",
     "text": [
      "2\n",
      "4\n",
      "6\n",
      "8\n"
     ]
    }
   ],
   "source": [
    "i=2\n",
    "while i<10:\n",
    "    print(i)\n",
    "    if (i==8):\n",
    "        break\n",
    "    i+=2\n",
    "else:\n",
    "    print('Task is Completed')"
   ]
  },
  {
   "cell_type": "code",
   "execution_count": 24,
   "id": "315ac72a",
   "metadata": {},
   "outputs": [
    {
     "name": "stdout",
     "output_type": "stream",
     "text": [
      "1\n",
      "2\n"
     ]
    }
   ],
   "source": [
    "i=1\n",
    "while i<5:\n",
    "    print(i)\n",
    "    if(i==2):\n",
    "        break\n",
    "    i=i+1"
   ]
  },
  {
   "cell_type": "code",
   "execution_count": 25,
   "id": "f9f4f030",
   "metadata": {},
   "outputs": [
    {
     "name": "stdout",
     "output_type": "stream",
     "text": [
      "Enter any Number1\n",
      "Sum of digits is 1\n"
     ]
    }
   ],
   "source": [
    "num=int(input('Enter any Number'))\n",
    "s=0\n",
    "while (num):\n",
    "    r=num%10\n",
    "    s=s+r\n",
    "    num=num//10\n",
    "print('Sum of digits is',s)"
   ]
  },
  {
   "cell_type": "code",
   "execution_count": 26,
   "id": "03b39f51",
   "metadata": {},
   "outputs": [
    {
     "name": "stdout",
     "output_type": "stream",
     "text": [
      "Enter any Number1\n",
      "Sum of digits is 1\n"
     ]
    }
   ],
   "source": [
    "num=int(input('Enter any Number'))\n",
    "s=0\n",
    "while(num):\n",
    "    r=num%10\n",
    "    s=s+r\n",
    "    num=num//10\n",
    "print('Sum of digits is',s)"
   ]
  },
  {
   "cell_type": "code",
   "execution_count": 27,
   "id": "03c5f413",
   "metadata": {},
   "outputs": [
    {
     "name": "stdout",
     "output_type": "stream",
     "text": [
      "25\n",
      "64\n",
      "121\n",
      "196\n"
     ]
    }
   ],
   "source": [
    "x=5\n",
    "while (x<15):\n",
    "    print(x**2)\n",
    "    x+=3"
   ]
  },
  {
   "cell_type": "code",
   "execution_count": 28,
   "id": "6bcad4c9",
   "metadata": {},
   "outputs": [
    {
     "name": "stdout",
     "output_type": "stream",
     "text": [
      "20\n",
      "24\n",
      "28\n",
      "32\n",
      "36\n"
     ]
    }
   ],
   "source": [
    "x=10\n",
    "while(x<20):\n",
    "    print(x*2)\n",
    "    x+=2"
   ]
  },
  {
   "cell_type": "code",
   "execution_count": 29,
   "id": "db880afc",
   "metadata": {},
   "outputs": [
    {
     "name": "stdout",
     "output_type": "stream",
     "text": [
      "12\n",
      "13\n"
     ]
    }
   ],
   "source": [
    "a=7\n",
    "b=5\n",
    "while (a<9):\n",
    "    print(a+b)\n",
    "    a+=1"
   ]
  },
  {
   "cell_type": "code",
   "execution_count": 30,
   "id": "3fd47ecd",
   "metadata": {},
   "outputs": [
    {
     "name": "stdout",
     "output_type": "stream",
     "text": [
      "18\n",
      "19\n",
      "20\n",
      "21\n"
     ]
    }
   ],
   "source": [
    "a=8\n",
    "b=10\n",
    "while a<12:\n",
    "    print(a+b)\n",
    "    a+=1"
   ]
  },
  {
   "cell_type": "code",
   "execution_count": 31,
   "id": "6b3f1fa9",
   "metadata": {},
   "outputs": [
    {
     "name": "stdout",
     "output_type": "stream",
     "text": [
      "H\n",
      "H\n",
      "H\n",
      "H\n"
     ]
    }
   ],
   "source": [
    "b=5\n",
    "while (b<9):\n",
    "    print('H')\n",
    "    b+=1"
   ]
  },
  {
   "cell_type": "code",
   "execution_count": 32,
   "id": "af5cca74",
   "metadata": {},
   "outputs": [
    {
     "name": "stdout",
     "output_type": "stream",
     "text": [
      "Hello\n",
      "Hello\n",
      "Hello\n"
     ]
    }
   ],
   "source": [
    "b=15\n",
    "while (b>9):\n",
    "    print('Hello')\n",
    "    b=b-2"
   ]
  },
  {
   "cell_type": "code",
   "execution_count": 33,
   "id": "d9cca8a5",
   "metadata": {},
   "outputs": [
    {
     "name": "stdout",
     "output_type": "stream",
     "text": [
      "Damu\n",
      "Damu\n",
      "Damu\n",
      "Damu\n"
     ]
    }
   ],
   "source": [
    "b=5\n",
    "while b>1:\n",
    "    print('Damu')\n",
    "    b=b-1"
   ]
  },
  {
   "cell_type": "code",
   "execution_count": 34,
   "id": "3070dd06",
   "metadata": {},
   "outputs": [
    {
     "name": "stdout",
     "output_type": "stream",
     "text": [
      "Damodhara\n",
      "Damodhara\n"
     ]
    }
   ],
   "source": [
    "b=10\n",
    "while (b>7):\n",
    "    print('Damodhara')\n",
    "    b=b-2"
   ]
  },
  {
   "cell_type": "code",
   "execution_count": 35,
   "id": "4e6d1ef5",
   "metadata": {},
   "outputs": [
    {
     "name": "stdout",
     "output_type": "stream",
     "text": [
      "Hello\n"
     ]
    }
   ],
   "source": [
    "x=15\n",
    "while (x==15):\n",
    "    print('Hello')\n",
    "    x=x-3"
   ]
  },
  {
   "cell_type": "code",
   "execution_count": 36,
   "id": "a348e2ea",
   "metadata": {},
   "outputs": [],
   "source": [
    "i=9\n",
    "while True:\n",
    "    if i%3==0:\n",
    "        break \n",
    "    print('A')"
   ]
  },
  {
   "cell_type": "code",
   "execution_count": 37,
   "id": "57d4142e",
   "metadata": {},
   "outputs": [
    {
     "name": "stdout",
     "output_type": "stream",
     "text": [
      "a\n",
      "a\n",
      "a\n",
      "a\n",
      "a\n"
     ]
    }
   ],
   "source": [
    "a=6\n",
    "while (a<=10):\n",
    "    print('a')\n",
    "    a+=1"
   ]
  },
  {
   "cell_type": "code",
   "execution_count": 38,
   "id": "24606d15",
   "metadata": {},
   "outputs": [
    {
     "name": "stdout",
     "output_type": "stream",
     "text": [
      "0\n",
      "1\n",
      "2\n",
      "7\n"
     ]
    }
   ],
   "source": [
    "i=0\n",
    "while i<3:\n",
    "    print(i)\n",
    "    i=i+1\n",
    "else:\n",
    "    print(7)"
   ]
  },
  {
   "cell_type": "code",
   "execution_count": 39,
   "id": "01ce3654",
   "metadata": {},
   "outputs": [
    {
     "name": "stdout",
     "output_type": "stream",
     "text": [
      "0\n",
      "0\n",
      "1\n",
      "0\n",
      "2\n",
      "0\n"
     ]
    }
   ],
   "source": [
    "i=0\n",
    "while i<3:\n",
    "    print(i)\n",
    "    i=i+1\n",
    "    print(0)"
   ]
  },
  {
   "cell_type": "code",
   "execution_count": 40,
   "id": "055c8054",
   "metadata": {},
   "outputs": [],
   "source": [
    "i=100\n",
    "while i<57:\n",
    "    print(i)\n",
    "    i+=5"
   ]
  },
  {
   "cell_type": "code",
   "execution_count": 41,
   "id": "08db6213",
   "metadata": {},
   "outputs": [],
   "source": [
    "c=0\n",
    "while c<20:\n",
    "    c+=2"
   ]
  },
  {
   "cell_type": "code",
   "execution_count": 42,
   "id": "814d85cd",
   "metadata": {},
   "outputs": [
    {
     "name": "stdout",
     "output_type": "stream",
     "text": [
      "-6\n",
      "-3\n",
      "0\n",
      "3\n",
      "6\n",
      "9\n",
      "12\n",
      "15\n",
      "18\n",
      "21\n"
     ]
    }
   ],
   "source": [
    "c=-9\n",
    "while c<20:\n",
    "    c+=3\n",
    "    print(c)"
   ]
  },
  {
   "cell_type": "code",
   "execution_count": 43,
   "id": "96041c43",
   "metadata": {},
   "outputs": [
    {
     "name": "stdout",
     "output_type": "stream",
     "text": [
      "Enter any Number1\n",
      "1 "
     ]
    }
   ],
   "source": [
    "num=int(input('Enter any Number'))\n",
    "l=[]\n",
    "while(num):\n",
    "    r=num%2\n",
    "    l.append(r)\n",
    "    num=num//2\n",
    "for i in range(len(l)-1,-1,-1):\n",
    "    print(l[i],end=' ')\n",
    "#enter digit number and output is binary function"
   ]
  },
  {
   "cell_type": "code",
   "execution_count": 44,
   "id": "a1992222",
   "metadata": {},
   "outputs": [
    {
     "name": "stdout",
     "output_type": "stream",
     "text": [
      "Enter any number 1\n",
      "Number is Palindrome\n"
     ]
    }
   ],
   "source": [
    "num=int(input('Enter any number '))\n",
    "ornum=num\n",
    "rn=0\n",
    "while(num):\n",
    "    r=num%10\n",
    "    rn=rn*10+r\n",
    "    num=num//10\n",
    "    if ornum==rn:\n",
    "        print('Number is Palindrome')\n",
    "    else:\n",
    "        print('Numbeer is not a Palindrome')"
   ]
  },
  {
   "cell_type": "code",
   "execution_count": 45,
   "id": "f3d122aa",
   "metadata": {},
   "outputs": [
    {
     "name": "stdout",
     "output_type": "stream",
     "text": [
      "5\n",
      "4\n",
      "3\n",
      "2\n",
      "1\n"
     ]
    }
   ],
   "source": [
    "a=5\n",
    "while a>0:\n",
    "    print(a)\n",
    "    a=a-1"
   ]
  },
  {
   "cell_type": "code",
   "execution_count": 46,
   "id": "22eaa727",
   "metadata": {},
   "outputs": [
    {
     "name": "stdout",
     "output_type": "stream",
     "text": [
      "4\n"
     ]
    }
   ],
   "source": [
    "#Difference between break and continue statement\n",
    "a=5\n",
    "while a>0:\n",
    "    a=a-1\n",
    "    if a==3: #as this condition matches it terminates the loop\n",
    "        break\n",
    "    else:\n",
    "        print(a)"
   ]
  },
  {
   "cell_type": "code",
   "execution_count": 47,
   "id": "d296e65d",
   "metadata": {},
   "outputs": [
    {
     "name": "stdout",
     "output_type": "stream",
     "text": [
      "4\n",
      "2\n",
      "1\n",
      "0\n"
     ]
    }
   ],
   "source": [
    "a=5\n",
    "while a>0:\n",
    "    a=a-1\n",
    "    if a==3: #as this condition matches it goes to the next condition of the loop\n",
    "        continue\n",
    "    else:\n",
    "        print(a)"
   ]
  },
  {
   "cell_type": "code",
   "execution_count": 48,
   "id": "1c24aed2",
   "metadata": {},
   "outputs": [
    {
     "name": "stdout",
     "output_type": "stream",
     "text": [
      "Hello World\n",
      "Hello World\n",
      "Hello World\n"
     ]
    }
   ],
   "source": [
    "count=0\n",
    "while count<3:\n",
    "    print(\"Hello World\")\n",
    "    count=count+1"
   ]
  },
  {
   "cell_type": "code",
   "execution_count": 49,
   "id": "bdeb9f15",
   "metadata": {},
   "outputs": [
    {
     "name": "stdout",
     "output_type": "stream",
     "text": [
      "0\n",
      "1\n",
      "2\n",
      "3\n",
      "4\n",
      "5\n",
      "6\n",
      "7\n",
      "8\n",
      "9\n"
     ]
    }
   ],
   "source": [
    "count=0\n",
    "while count<10:\n",
    "    print(count)\n",
    "    count=count+1"
   ]
  },
  {
   "cell_type": "code",
   "execution_count": 50,
   "id": "a1a2b750",
   "metadata": {},
   "outputs": [
    {
     "name": "stdout",
     "output_type": "stream",
     "text": [
      "1\n",
      "2\n",
      "3\n",
      "4\n"
     ]
    }
   ],
   "source": [
    "count=1\n",
    "while count<5:\n",
    "    print(count)\n",
    "    count=count+1"
   ]
  },
  {
   "cell_type": "code",
   "execution_count": 51,
   "id": "96fe3b41",
   "metadata": {},
   "outputs": [
    {
     "name": "stdout",
     "output_type": "stream",
     "text": [
      "Hello Python\n",
      "Hello Python\n",
      "Hello Python\n",
      "Bye Python\n"
     ]
    }
   ],
   "source": [
    "num=0\n",
    "while num<3:\n",
    "    print('Hello Python')\n",
    "    num=num+1\n",
    "else:\n",
    "    print('Bye Python') "
   ]
  },
  {
   "cell_type": "code",
   "execution_count": 52,
   "id": "4d979cf0",
   "metadata": {},
   "outputs": [
    {
     "name": "stdout",
     "output_type": "stream",
     "text": [
      "Damodhara\n",
      "Damodhara\n",
      "Damodhara\n",
      "Damodhara\n",
      "Damodhara\n"
     ]
    }
   ],
   "source": [
    "i=1            #Initialization\n",
    "while i<=5:    #Condition\n",
    "    print('Damodhara')\n",
    "    i=i+1       #Increment"
   ]
  },
  {
   "cell_type": "code",
   "execution_count": 53,
   "id": "76c8d7ce",
   "metadata": {},
   "outputs": [
    {
     "name": "stdout",
     "output_type": "stream",
     "text": [
      "5\n",
      "4\n",
      "3\n",
      "2\n",
      "1\n"
     ]
    }
   ],
   "source": [
    "i=5            #Initialization\n",
    "while i>=1:    #Condition\n",
    "    print(i)\n",
    "    i=i-1      #Decrement"
   ]
  },
  {
   "cell_type": "code",
   "execution_count": 54,
   "id": "e33e8374",
   "metadata": {},
   "outputs": [
    {
     "name": "stdout",
     "output_type": "stream",
     "text": [
      "Damodhara 5\n",
      "Damodhara 4\n",
      "Damodhara 3\n",
      "Damodhara 2\n",
      "Damodhara 1\n"
     ]
    }
   ],
   "source": [
    "i=5\n",
    "while i>=1:\n",
    "    print('Damodhara',i)\n",
    "    i=i-1"
   ]
  },
  {
   "cell_type": "code",
   "execution_count": 55,
   "id": "1b326546",
   "metadata": {},
   "outputs": [
    {
     "name": "stdout",
     "output_type": "stream",
     "text": [
      "Damodhara 1\n",
      "Damodhara 2\n",
      "Damodhara 3\n",
      "Damodhara 4\n",
      "Damodhara 5\n"
     ]
    }
   ],
   "source": [
    "i=1\n",
    "while i<=5:\n",
    "    print('Damodhara',i)\n",
    "    i=i+1"
   ]
  },
  {
   "cell_type": "code",
   "execution_count": 56,
   "id": "081e64e2",
   "metadata": {},
   "outputs": [
    {
     "name": "stdout",
     "output_type": "stream",
     "text": [
      "2\n",
      "5\n",
      "8\n",
      "11\n",
      "14\n",
      "17\n",
      "20\n"
     ]
    }
   ],
   "source": [
    "x=2\n",
    "while(x<=20):\n",
    "    print(x)\n",
    "    x+=3"
   ]
  },
  {
   "cell_type": "code",
   "execution_count": 57,
   "id": "da31bf5d",
   "metadata": {},
   "outputs": [
    {
     "name": "stdout",
     "output_type": "stream",
     "text": [
      "2\n",
      "4\n",
      "6\n",
      "8\n",
      "10\n",
      "12\n",
      "14\n",
      "16\n",
      "18\n",
      "20\n"
     ]
    }
   ],
   "source": [
    "x=1\n",
    "while(x<=10):\n",
    "    print(x*2)\n",
    "    x+=1"
   ]
  },
  {
   "cell_type": "code",
   "execution_count": 58,
   "id": "11549142",
   "metadata": {},
   "outputs": [
    {
     "name": "stdout",
     "output_type": "stream",
     "text": [
      "6\n",
      "2\n"
     ]
    }
   ],
   "source": [
    "x=10\n",
    "y=1\n",
    "while x>y:\n",
    "    x=x-4\n",
    "    y=y+3\n",
    "    print(x)"
   ]
  },
  {
   "cell_type": "code",
   "execution_count": 59,
   "id": "4c3c4a6c",
   "metadata": {},
   "outputs": [
    {
     "name": "stdout",
     "output_type": "stream",
     "text": [
      "Current Letter: G\n",
      "Current Letter: k\n",
      "Current Letter: f\n",
      "Current Letter: o\n",
      "Current Letter: r\n",
      "Current Letter: G\n",
      "Current Letter: k\n"
     ]
    }
   ],
   "source": [
    "i=0\n",
    "a='GeeksforGeeks'\n",
    "while i<len(a):\n",
    "    if a[i]=='e' or a[i]=='s':\n",
    "        i+=1\n",
    "        continue\n",
    "    print('Current Letter:',a[i])\n",
    "    i+=1"
   ]
  },
  {
   "cell_type": "code",
   "execution_count": 60,
   "id": "ea39f110",
   "metadata": {},
   "outputs": [
    {
     "name": "stdout",
     "output_type": "stream",
     "text": [
      "Current Letter: g\n"
     ]
    }
   ],
   "source": [
    "i=0\n",
    "a=\"geeksforgeeks\"\n",
    "while i<len(a):\n",
    "    if a[i]=='e' or a[i]=='s':\n",
    "        i+=1\n",
    "        break\n",
    "    print('Current Letter:',a[i])\n",
    "    i+=1"
   ]
  },
  {
   "cell_type": "code",
   "execution_count": 61,
   "id": "0229925e",
   "metadata": {},
   "outputs": [
    {
     "name": "stdout",
     "output_type": "stream",
     "text": [
      "Value of i: 13\n"
     ]
    }
   ],
   "source": [
    "a='geeksforgeeks'\n",
    "i=0\n",
    "while i<len(a):\n",
    "    i+=1\n",
    "    pass\n",
    "print('Value of i:',i)"
   ]
  },
  {
   "cell_type": "code",
   "execution_count": 62,
   "id": "82949b4a",
   "metadata": {},
   "outputs": [
    {
     "name": "stdout",
     "output_type": "stream",
     "text": [
      "1\n",
      "2\n",
      "3\n",
      "4\n",
      "NO Break\n",
      "\n",
      "1\n"
     ]
    }
   ],
   "source": [
    "i=0\n",
    "while i<4:\n",
    "    i+=1\n",
    "    print(i)\n",
    "else:\n",
    "    print('NO Break\\n')\n",
    "\n",
    "i=0\n",
    "while i<4:\n",
    "    i+=1\n",
    "    print(i)\n",
    "    break\n",
    "else:\n",
    "    print('No Break')"
   ]
  },
  {
   "cell_type": "code",
   "execution_count": 63,
   "id": "6775bf93",
   "metadata": {},
   "outputs": [
    {
     "name": "stdout",
     "output_type": "stream",
     "text": [
      "Enter a number (-1 to quit):-1\n"
     ]
    }
   ],
   "source": [
    "a=int(input('Enter a number (-1 to quit):'))\n",
    "while a!=-1:\n",
    "    a=int(input('Enter a number (-1 to quit):'))"
   ]
  },
  {
   "cell_type": "code",
   "execution_count": 64,
   "id": "4119ad37",
   "metadata": {},
   "outputs": [
    {
     "name": "stdout",
     "output_type": "stream",
     "text": [
      "The sum of squares is 1240\n"
     ]
    }
   ],
   "source": [
    "num=15\n",
    "summation=0\n",
    "c=1\n",
    "while c<=num:\n",
    "    summation=c**2 + summation\n",
    "    c=c+1\n",
    "print('The sum of squares is',summation)"
   ]
  },
  {
   "cell_type": "code",
   "execution_count": 65,
   "id": "6e455447",
   "metadata": {},
   "outputs": [
    {
     "name": "stdout",
     "output_type": "stream",
     "text": [
      "34 is a PRIME number\n",
      "12 is a PRIME number\n",
      "54 is a PRIME number\n",
      "23 is a PRIME number\n",
      "75 is a PRIME number\n",
      "34 is a PRIME number\n",
      "11 is a PRIME number\n"
     ]
    }
   ],
   "source": [
    "num=[34,12,54,23,75,34,11]\n",
    "def prime_number(number):\n",
    "    condition=0\n",
    "    iteration=2\n",
    "    while iteration<=number/2:\n",
    "        if number % iteration ==0:\n",
    "            condition =1\n",
    "            break\n",
    "        iteration = iteration +1\n",
    "    if condition ==0:\n",
    "        print(f'{number} is a PRIME number')\n",
    "    else:\n",
    "        print(f'{number} is a PRIME number')\n",
    "for i in num:\n",
    "    prime_number(i)"
   ]
  },
  {
   "cell_type": "code",
   "execution_count": 66,
   "id": "603830ac",
   "metadata": {},
   "outputs": [
    {
     "name": "stdout",
     "output_type": "stream",
     "text": [
      "[36, 16, 1, 25, 9]\n"
     ]
    }
   ],
   "source": [
    "# Python program to square every number of a list  \n",
    "# initializing a list  \n",
    "list_ = [3, 5, 1, 4, 6]  \n",
    "squares = []  \n",
    "# programing a while loop   \n",
    "while list_: # until list is not empty this expression will give boolean True after that False  \n",
    "    squares.append( (list_.pop())**2)  \n",
    "# print the squares  \n",
    "print( squares )  "
   ]
  },
  {
   "cell_type": "code",
   "execution_count": 67,
   "id": "a01cd6a2",
   "metadata": {},
   "outputs": [
    {
     "name": "stdout",
     "output_type": "stream",
     "text": [
      "The Multiplication Table of:  21\n",
      "21 x 1 = 21\n",
      "21 x 2 = 42\n",
      "21 x 3 = 63\n",
      "21 x 4 = 84\n",
      "21 x 5 = 105\n",
      "21 x 6 = 126\n",
      "21 x 7 = 147\n",
      "21 x 8 = 168\n",
      "21 x 9 = 189\n",
      "21 x 10 = 210\n"
     ]
    }
   ],
   "source": [
    "num = 21        \n",
    "counter = 1      \n",
    "# we will use a while loop for iterating 10 times for the multiplication table        \n",
    "print(\"The Multiplication Table of: \", num)      \n",
    "while counter <= 10: # specifying the condition  \n",
    "    ans = num * counter      \n",
    "    print (num, 'x', counter, '=', ans)      \n",
    "    counter += 1 # expression to increment the counter  "
   ]
  },
  {
   "cell_type": "code",
   "execution_count": 68,
   "id": "9bed640c",
   "metadata": {},
   "outputs": [
    {
     "name": "stdout",
     "output_type": "stream",
     "text": [
      "(15, -9)\n",
      "(13, -6)\n",
      "(11, -3)\n"
     ]
    }
   ],
   "source": [
    "num1=17\n",
    "num2=-12\n",
    "while num1>5 and num2<-5:\n",
    "    num1-=2\n",
    "    num2+=3\n",
    "    print((num1,num2))"
   ]
  },
  {
   "cell_type": "code",
   "execution_count": 69,
   "id": "9d64e014",
   "metadata": {},
   "outputs": [
    {
     "name": "stdout",
     "output_type": "stream",
     "text": [
      "(15, -9)\n",
      "(13, -6)\n",
      "(11, -3)\n",
      "(9, 0)\n",
      "(7, 3)\n",
      "(5, 6)\n"
     ]
    }
   ],
   "source": [
    "num1=17\n",
    "num2=-12\n",
    "while num1>5 or num2<-5:\n",
    "    num1-=2\n",
    "    num2+=3\n",
    "    print((num1,num2))"
   ]
  },
  {
   "cell_type": "code",
   "execution_count": 70,
   "id": "5e10bd29",
   "metadata": {},
   "outputs": [
    {
     "name": "stdout",
     "output_type": "stream",
     "text": [
      "Number of iterations: 0\n",
      "Number of iterations: 1\n",
      "Number of iterations: 2\n",
      "Number of iterations: 3\n"
     ]
    }
   ],
   "source": [
    "num1 = 9   \n",
    "num = 14   \n",
    "maximum_value = 4  \n",
    "counter = 0   \n",
    "while (counter < num1 or counter < num2) and not counter >= maximum_value: # grouping multiple conditions  \n",
    "    print(f\"Number of iterations: {counter}\")   \n",
    "    counter += 1  "
   ]
  },
  {
   "cell_type": "code",
   "execution_count": 71,
   "id": "d419c227",
   "metadata": {},
   "outputs": [
    {
     "name": "stdout",
     "output_type": "stream",
     "text": [
      "1\n",
      "2\n",
      "3\n",
      "4\n",
      "5\n",
      "6\n",
      "7\n",
      "8\n",
      "9\n",
      "10\n"
     ]
    }
   ],
   "source": [
    "#First 10 Natural numbers:\n",
    "num = 1\n",
    "while(num<=10):\n",
    "   print(num)\n",
    "   num = num + 1"
   ]
  },
  {
   "cell_type": "code",
   "execution_count": 72,
   "id": "dbbc1a6e",
   "metadata": {},
   "outputs": [
    {
     "name": "stdout",
     "output_type": "stream",
     "text": [
      "0\n",
      "1\n",
      "2\n",
      "3\n",
      "4\n",
      "5\n",
      "6\n",
      "7\n",
      "8\n",
      "9\n"
     ]
    }
   ],
   "source": [
    "#First 10 Whole numbers:\n",
    "num = 0\n",
    "while(num<10):\n",
    "   print(num)\n",
    "   num = num + 1"
   ]
  },
  {
   "cell_type": "code",
   "execution_count": 73,
   "id": "82b1905e",
   "metadata": {},
   "outputs": [
    {
     "name": "stdout",
     "output_type": "stream",
     "text": [
      "Numbers\t\tSquares\n",
      "1 \t\t\t\t 1\n",
      "2 \t\t\t\t 4\n",
      "3 \t\t\t\t 9\n",
      "4 \t\t\t\t 16\n",
      "5 \t\t\t\t 25\n",
      "6 \t\t\t\t 36\n",
      "7 \t\t\t\t 49\n",
      "8 \t\t\t\t 64\n",
      "9 \t\t\t\t 81\n",
      "10 \t\t\t\t 100\n"
     ]
    }
   ],
   "source": [
    "#Write a program to print first 10 integers and their squares using while loop.\n",
    "num = 1\n",
    "print(\"Numbers\\t\\tSquares\")\n",
    "while(num<=10):\n",
    "   print(num,\"\\t\\t\\t\\t\", num ** 2)\n",
    "   num = num + 1"
   ]
  },
  {
   "cell_type": "code",
   "execution_count": 74,
   "id": "81efd46c",
   "metadata": {},
   "outputs": [
    {
     "name": "stdout",
     "output_type": "stream",
     "text": [
      "10,20,30,40,50,60,70,80,90,100,110,120,130,140,150,160,170,180,190,200,210,220,230,240,250,260,270,280,290,300,"
     ]
    }
   ],
   "source": [
    "#Write for loop statement to print the following series:\n",
    "num=10\n",
    "while(num<=300):\n",
    "    print(num,end=\",\")\n",
    "    num=num+10"
   ]
  },
  {
   "cell_type": "code",
   "execution_count": 75,
   "id": "76d8e8b8",
   "metadata": {},
   "outputs": [
    {
     "name": "stdout",
     "output_type": "stream",
     "text": [
      "55\n"
     ]
    }
   ],
   "source": [
    "#Write a program to print sum of first 10 Natural numbers.\n",
    "num = 10\n",
    "sum = 0\n",
    "while num >= 1:\n",
    "   sum = sum + num\n",
    "   num= num - 1\n",
    "print(sum)"
   ]
  },
  {
   "cell_type": "code",
   "execution_count": 76,
   "id": "6f9da0b2",
   "metadata": {},
   "outputs": [
    {
     "name": "stdout",
     "output_type": "stream",
     "text": [
      "110\n"
     ]
    }
   ],
   "source": [
    "#Write a program to print sum of first 10 Even numbers.\n",
    "num = 2\n",
    "sum = 0\n",
    "while num <= 20:\n",
    "   sum = sum + num\n",
    "   num= num + 2\n",
    "print(sum)"
   ]
  },
  {
   "cell_type": "code",
   "execution_count": 77,
   "id": "b605bce7",
   "metadata": {},
   "outputs": [
    {
     "name": "stdout",
     "output_type": "stream",
     "text": [
      "100\n"
     ]
    }
   ],
   "source": [
    "# write a program to print sum of the first 10 odd numbers.\n",
    "num=1\n",
    "sum=0\n",
    "while num<=20:\n",
    "    sum = sum+num\n",
    "    num=num+2\n",
    "print(sum)"
   ]
  },
  {
   "cell_type": "code",
   "execution_count": 78,
   "id": "85f2429d",
   "metadata": {},
   "outputs": [
    {
     "name": "stdout",
     "output_type": "stream",
     "text": [
      "Enter any number  : 1\n",
      "1  *  1  =  1\n",
      "1  *  2  =  2\n",
      "1  *  3  =  3\n",
      "1  *  4  =  4\n",
      "1  *  5  =  5\n",
      "1  *  6  =  6\n",
      "1  *  7  =  7\n",
      "1  *  8  =  8\n",
      "1  *  9  =  9\n",
      "1  *  10  =  10\n"
     ]
    }
   ],
   "source": [
    "#Write a program to print table of a number entered from the user.\n",
    "i = 1\n",
    "num = int(input(\"Enter any number  : \"))\n",
    "while i <= 10:\n",
    "    print(num,\" * \",i,\" = \", num * i)\n",
    "    i = i+1"
   ]
  },
  {
   "cell_type": "code",
   "execution_count": 79,
   "id": "dcada41d",
   "metadata": {},
   "outputs": [
    {
     "name": "stdout",
     "output_type": "stream",
     "text": [
      "Enter any number : 1\n",
      "1 * 1 = 1\n",
      "1 * 2 = 2\n",
      "1 * 3 = 3\n",
      "1 * 4 = 4\n",
      "1 * 5 = 5\n",
      "1 * 6 = 6\n",
      "1 * 7 = 7\n",
      "1 * 8 = 8\n",
      "1 * 9 = 9\n",
      "1 * 10 = 10\n"
     ]
    }
   ],
   "source": [
    "i=1\n",
    "num=int(input(\"Enter any number : \"))\n",
    "while i <= 10:\n",
    "    print(num,\"*\", i,\"=\", num*i)\n",
    "    i=i+1"
   ]
  },
  {
   "cell_type": "code",
   "execution_count": 80,
   "id": "925904e5",
   "metadata": {},
   "outputs": [
    {
     "name": "stdout",
     "output_type": "stream",
     "text": [
      "Enter first number  : 1\n",
      "Enter second number  : 1\n"
     ]
    }
   ],
   "source": [
    "num1 = int(input(\"Enter first number  : \"))\n",
    "num2 = int(input(\"Enter second number  : \"))\n",
    "if num1 > num2:\n",
    "   while(num1>num2):\n",
    "     if num2 % 2 == 0:\n",
    "       print(num2)\n",
    "     num2 = num2 + 1\n",
    "else:\n",
    "   while(num1<num2):\n",
    "     if num1 % 2 == 0:\n",
    "       print(num1)\n",
    "     num1 = num1 + 1"
   ]
  },
  {
   "cell_type": "code",
   "execution_count": 81,
   "id": "4ddba753",
   "metadata": {},
   "outputs": [
    {
     "name": "stdout",
     "output_type": "stream",
     "text": [
      "Enter any number : 1\n",
      "Not a prime number \n",
      "1 is prime number\n"
     ]
    }
   ],
   "source": [
    "# wether number is prime number or not \n",
    "num1 = int(input(\"Enter any number : \"))\n",
    "k=0\n",
    "if num1 == 0 or num1 == 1:\n",
    "    print(\"Not a prime number \")\n",
    "else:\n",
    "   i = 2\n",
    "   while(i<num1):\n",
    "     if num1 % i == 0:\n",
    "       k = k+1\n",
    "     i = i+1\n",
    "if k == 0 :\n",
    "        print( num1,\"is prime number\")\n",
    "else:\n",
    "        print(num1, \"is not prime number\")"
   ]
  },
  {
   "cell_type": "code",
   "execution_count": 82,
   "id": "4f444c09",
   "metadata": {},
   "outputs": [
    {
     "name": "stdout",
     "output_type": "stream",
     "text": [
      "Enter any number:1\n",
      "not a prime number\n",
      "1 is prime number\n"
     ]
    }
   ],
   "source": [
    "num1=int(input(\"Enter any number:\"))\n",
    "k=0\n",
    "if num1==0 or num1==1:\n",
    "    print(\"not a prime number\")\n",
    "else:\n",
    "    i=2\n",
    "    while (i<num1):\n",
    "      if num1% i==0:\n",
    "        k=k+1\n",
    "      i=i+1\n",
    "if k==0:\n",
    "    print(num1, \"is prime number\")\n",
    "else:\n",
    "    print(num1,\"is not prime number\")"
   ]
  },
  {
   "cell_type": "code",
   "execution_count": 83,
   "id": "9754bfa9",
   "metadata": {},
   "outputs": [
    {
     "name": "stdout",
     "output_type": "stream",
     "text": [
      "Enter the Number20\n",
      "20\n",
      "40\n",
      "60\n",
      "80\n",
      "100\n",
      "120\n",
      "140\n",
      "160\n",
      "180\n",
      "200\n"
     ]
    }
   ],
   "source": [
    "number = int(input('Enter the Number'))\n",
    "i=1\n",
    "while i<11:\n",
    "    print(number *i)\n",
    "    i+=1"
   ]
  },
  {
   "cell_type": "code",
   "execution_count": 85,
   "id": "b2954ddd",
   "metadata": {},
   "outputs": [
    {
     "name": "stdout",
     "output_type": "stream",
     "text": [
      "Enter the Number8\n",
      "8 * 1 = 8\n",
      "8 * 2 = 16\n",
      "8 * 3 = 24\n",
      "8 * 4 = 32\n",
      "8 * 5 = 40\n",
      "8 * 6 = 48\n",
      "8 * 7 = 56\n",
      "8 * 8 = 64\n",
      "8 * 9 = 72\n",
      "8 * 10 = 80\n"
     ]
    }
   ],
   "source": [
    "number = int(input('Enter the Number'))\n",
    "i=1\n",
    "while i<11:\n",
    "    print(number ,'*',i,'=', number *i)\n",
    "    i+=1"
   ]
  },
  {
   "cell_type": "code",
   "execution_count": 86,
   "id": "19b5c51c",
   "metadata": {},
   "outputs": [
    {
     "name": "stdout",
     "output_type": "stream",
     "text": [
      "1\n",
      "2\n",
      "Limit Crossed\n"
     ]
    }
   ],
   "source": [
    "x=1\n",
    "while x<3:\n",
    "    print(x)\n",
    "    x+=1\n",
    "else:\n",
    "    print('Limit Crossed')"
   ]
  },
  {
   "cell_type": "code",
   "execution_count": 88,
   "id": "60785282",
   "metadata": {},
   "outputs": [
    {
     "name": "stdout",
     "output_type": "stream",
     "text": [
      "guess karo20\n",
      "galat!guess higher\n",
      "guess karo40\n",
      "galat!guess higher\n",
      "guess karo20\n",
      "galat!guess higher\n",
      "guess karo45\n",
      "galat!guess higher\n",
      "guess karo50\n",
      "galat!guess higher\n",
      "guess karo44\n",
      "galat!guess higher\n",
      "guess karo45\n",
      "galat!guess higher\n",
      "guess karo49\n",
      "galat!guess higher\n",
      "guess karo89\n",
      "galat!guess higher\n",
      "guess karo90\n",
      "galat!guess higher\n",
      "guess karo98\n",
      "galat!guess higher\n",
      "guess karo100\n",
      "galat!guess higher\n",
      "guess karo200\n",
      "galat!guess lower\n",
      "guess karo190\n",
      "galat!guess higher\n",
      "guess karo191\n",
      "galat!guess higher\n",
      "guess karo192\n",
      "galat!guess higher\n",
      "guess karo193\n",
      "galat!guess higher\n",
      "guess karo194\n",
      "galat!guess higher\n",
      "guess karo195\n",
      "Correct Guess\n",
      "attempts 19\n"
     ]
    }
   ],
   "source": [
    "#guessing game\n",
    "#generate a random integer between 1 and 100\n",
    "import random\n",
    "jackpot=random.randint(1,1000)\n",
    "guess=int(input('guess karo'))\n",
    "counter=1\n",
    "while guess !=jackpot:\n",
    "    if guess<jackpot:\n",
    "        print('galat!guess higher')\n",
    "    else:\n",
    "        print('galat!guess lower')\n",
    "    guess=int(input('guess karo'))\n",
    "    counter+=1\n",
    "else:\n",
    "    print('Correct Guess')\n",
    "    print('attempts',counter)\n",
    "    "
   ]
  }
 ],
 "metadata": {
  "kernelspec": {
   "display_name": "Python 3 (ipykernel)",
   "language": "python",
   "name": "python3"
  },
  "language_info": {
   "codemirror_mode": {
    "name": "ipython",
    "version": 3
   },
   "file_extension": ".py",
   "mimetype": "text/x-python",
   "name": "python",
   "nbconvert_exporter": "python",
   "pygments_lexer": "ipython3",
   "version": "3.9.13"
  }
 },
 "nbformat": 4,
 "nbformat_minor": 5
}
