{
 "cells": [
  {
   "cell_type": "raw",
   "id": "d36b8f08",
   "metadata": {},
   "source": [
    "Write OOP classes to handle the following scenarios:\n",
    "    1. A user can create and view 2D coordinates\n",
    "    2. A user can find out the distance between 2 coordinates\n",
    "    3. A user can find the distance of a coordinate from origin\n",
    "    4. A user can check if a point lies on a given line\n",
    "    5. A user can find the distance between a given 2D  point and a given line "
   ]
  },
  {
   "cell_type": "code",
   "execution_count": 6,
   "id": "fe21e795",
   "metadata": {},
   "outputs": [],
   "source": [
    "#1\n",
    "class Point:\n",
    "    \n",
    "    \n",
    "    def __init__(self,x,y):\n",
    "        self.x_cod= x\n",
    "        self.y_cod= y\n",
    "        \n",
    "    def __str__(self):\n",
    "        return '<{},{}>'.format(self.x_cod,self.y_cod)\n",
    "    def eiclidean_distance(self,other):\n",
    "        return ((self.x_cod-other.x_cod)**2 + (self.y_cod-other.y_cod)**2)**0.5\n",
    "    \n",
    "    def distance_from_origin(self):\n",
    "        return (self.x_cod**2+self.y_cod**2)**0.5"
   ]
  },
  {
   "cell_type": "code",
   "execution_count": 7,
   "id": "e2488a72",
   "metadata": {},
   "outputs": [],
   "source": [
    "p1=Point(0,0)\n",
    "p2=Point(1,1)"
   ]
  },
  {
   "cell_type": "code",
   "execution_count": 8,
   "id": "91c60548",
   "metadata": {},
   "outputs": [
    {
     "data": {
      "text/plain": [
       "1.4142135623730951"
      ]
     },
     "execution_count": 8,
     "metadata": {},
     "output_type": "execute_result"
    }
   ],
   "source": [
    "p1.eiclidean_distance(p2)"
   ]
  },
  {
   "cell_type": "code",
   "execution_count": 9,
   "id": "1bf8fe6d",
   "metadata": {},
   "outputs": [
    {
     "data": {
      "text/plain": [
       "0.0"
      ]
     },
     "execution_count": 9,
     "metadata": {},
     "output_type": "execute_result"
    }
   ],
   "source": [
    "p1=Point(0,0)\n",
    "p2=Point(10,10)\n",
    "p1.distance_from_origin()"
   ]
  },
  {
   "cell_type": "code",
   "execution_count": 11,
   "id": "94e4395a",
   "metadata": {},
   "outputs": [
    {
     "data": {
      "text/plain": [
       "3.605551275463989"
      ]
     },
     "execution_count": 11,
     "metadata": {},
     "output_type": "execute_result"
    }
   ],
   "source": [
    "p1=Point(2,3)\n",
    "p2=Point(1,1)\n",
    "p1.distance_from_origin()"
   ]
  },
  {
   "cell_type": "code",
   "execution_count": 15,
   "id": "f211fbae",
   "metadata": {},
   "outputs": [],
   "source": [
    "class Line:\n",
    "    \n",
    "    def __init__(self,A,B,C):\n",
    "        self.A = A\n",
    "        self.B = B\n",
    "        self.C = C\n",
    "        \n",
    "    def __str__(self):\n",
    "        return '{}x+{}y+{}=0'.format(self.A,self.B,self.C)\n",
    "    \n",
    "    def point_on_line(line,point):\n",
    "        if line.A*point.x_cod + line.B*point.y_cod + line.C == 0:\n",
    "            return 'lies on the line'\n",
    "        else:\n",
    "            return 'does not lie on the line'\n",
    "        \n",
    "    def shortest_distance(line,point):\n",
    "        return abs(line.A*point.x_cod + line.B*point.y_cod+line.C)/(line.A**2+line.B**2)**0.5\n",
    "        \n",
    "    \n",
    "     \n",
    "    \n",
    "    \n"
   ]
  },
  {
   "cell_type": "code",
   "execution_count": 13,
   "id": "08001d33",
   "metadata": {},
   "outputs": [
    {
     "name": "stdout",
     "output_type": "stream",
     "text": [
      "1x+2y+3=0\n",
      "<1,1>\n"
     ]
    }
   ],
   "source": [
    "l1=Line(1,2,3)\n",
    "p1=Point(1,1)\n",
    "print(l1)\n",
    "print(p1)"
   ]
  },
  {
   "cell_type": "code",
   "execution_count": 14,
   "id": "b95ebdfe",
   "metadata": {},
   "outputs": [
    {
     "data": {
      "text/plain": [
       "'does not lie on the line'"
      ]
     },
     "execution_count": 14,
     "metadata": {},
     "output_type": "execute_result"
    }
   ],
   "source": [
    "l1.point_on_line(p1)"
   ]
  },
  {
   "cell_type": "code",
   "execution_count": 16,
   "id": "dcf93f8e",
   "metadata": {},
   "outputs": [
    {
     "data": {
      "text/plain": [
       "9.609690621771017"
      ]
     },
     "execution_count": 16,
     "metadata": {},
     "output_type": "execute_result"
    }
   ],
   "source": [
    "l1=Line(1,5,7)\n",
    "p1=Point(2,8)\n",
    "\n",
    "l1.shortest_distance(p1)"
   ]
  },
  {
   "cell_type": "markdown",
   "id": "0854a760",
   "metadata": {},
   "source": [
    "### How Object access attributes"
   ]
  },
  {
   "cell_type": "code",
   "execution_count": 17,
   "id": "44adbccb",
   "metadata": {},
   "outputs": [],
   "source": [
    "class Person:\n",
    "    def __init__(self,name_input,country_input):\n",
    "        self.name = name_input\n",
    "        self.country = country_input\n",
    "        \n",
    "    def greet(self):\n",
    "        if self.country == 'india':\n",
    "            print('Namaste',self.name)\n",
    "        else:\n",
    "            print('Hello',self.name)"
   ]
  },
  {
   "cell_type": "code",
   "execution_count": 19,
   "id": "76f235fd",
   "metadata": {},
   "outputs": [],
   "source": [
    "# How to access attributes\n",
    "p=Person('nitish','india')\n"
   ]
  },
  {
   "cell_type": "code",
   "execution_count": 20,
   "id": "e4468cdb",
   "metadata": {},
   "outputs": [
    {
     "data": {
      "text/plain": [
       "'india'"
      ]
     },
     "execution_count": 20,
     "metadata": {},
     "output_type": "execute_result"
    }
   ],
   "source": [
    "p.country"
   ]
  },
  {
   "cell_type": "code",
   "execution_count": 21,
   "id": "006aeb90",
   "metadata": {},
   "outputs": [
    {
     "data": {
      "text/plain": [
       "'nitish'"
      ]
     },
     "execution_count": 21,
     "metadata": {},
     "output_type": "execute_result"
    }
   ],
   "source": [
    "p.name"
   ]
  },
  {
   "cell_type": "code",
   "execution_count": 22,
   "id": "10e15400",
   "metadata": {},
   "outputs": [
    {
     "name": "stdout",
     "output_type": "stream",
     "text": [
      "Namaste nitish\n"
     ]
    }
   ],
   "source": [
    "# How to access methods\n",
    "p.greet()"
   ]
  },
  {
   "cell_type": "code",
   "execution_count": 23,
   "id": "6fe672f6",
   "metadata": {},
   "outputs": [
    {
     "ename": "AttributeError",
     "evalue": "'Person' object has no attribute 'gender'",
     "output_type": "error",
     "traceback": [
      "\u001b[1;31m---------------------------------------------------------------------------\u001b[0m",
      "\u001b[1;31mAttributeError\u001b[0m                            Traceback (most recent call last)",
      "\u001b[1;32m~\\AppData\\Local\\Temp\\ipykernel_2888\\4018032914.py\u001b[0m in \u001b[0;36m<module>\u001b[1;34m\u001b[0m\n\u001b[0;32m      1\u001b[0m \u001b[1;31m# What if i try to access non-existent attributes\u001b[0m\u001b[1;33m\u001b[0m\u001b[1;33m\u001b[0m\u001b[0m\n\u001b[1;32m----> 2\u001b[1;33m \u001b[0mp\u001b[0m\u001b[1;33m.\u001b[0m\u001b[0mgender\u001b[0m\u001b[1;33m\u001b[0m\u001b[1;33m\u001b[0m\u001b[0m\n\u001b[0m",
      "\u001b[1;31mAttributeError\u001b[0m: 'Person' object has no attribute 'gender'"
     ]
    }
   ],
   "source": [
    "# What if i try to access non-existent attributes\n",
    "p.gender"
   ]
  },
  {
   "cell_type": "markdown",
   "id": "99063ce2",
   "metadata": {},
   "source": [
    "### Attributes creation from outside of the class"
   ]
  },
  {
   "cell_type": "code",
   "execution_count": 24,
   "id": "0aeb3261",
   "metadata": {},
   "outputs": [],
   "source": [
    "p.gender='male'"
   ]
  },
  {
   "cell_type": "code",
   "execution_count": 25,
   "id": "a9ab130a",
   "metadata": {},
   "outputs": [
    {
     "data": {
      "text/plain": [
       "'male'"
      ]
     },
     "execution_count": 25,
     "metadata": {},
     "output_type": "execute_result"
    }
   ],
   "source": [
    "p.gender"
   ]
  },
  {
   "cell_type": "markdown",
   "id": "fb662cc9",
   "metadata": {},
   "source": [
    "### Reference Variables"
   ]
  },
  {
   "cell_type": "raw",
   "id": "00f79307",
   "metadata": {},
   "source": [
    "1). Reference variable hold the objects\n",
    "2). We can create objects without reference variable as well\n",
    "3). An object can have multiple reference variable\n",
    "4). Assigning a new reference variable to an existing object does not create a new object."
   ]
  },
  {
   "cell_type": "code",
   "execution_count": 27,
   "id": "8764e522",
   "metadata": {},
   "outputs": [
    {
     "data": {
      "text/plain": [
       "<__main__.person at 0x1db53e58400>"
      ]
     },
     "execution_count": 27,
     "metadata": {},
     "output_type": "execute_result"
    }
   ],
   "source": [
    "#object without a reference \n",
    "\n",
    "class person:\n",
    "    \n",
    "    def __init__(self):\n",
    "        self.name = 'nitish'\n",
    "        self.gender = 'male'\n",
    "        \n",
    "person()"
   ]
  },
  {
   "cell_type": "code",
   "execution_count": 28,
   "id": "6a6d2c21",
   "metadata": {},
   "outputs": [],
   "source": [
    "p=person()\n",
    "q=p"
   ]
  },
  {
   "cell_type": "code",
   "execution_count": 29,
   "id": "c219efc9",
   "metadata": {},
   "outputs": [
    {
     "name": "stdout",
     "output_type": "stream",
     "text": [
      "2041516790736\n",
      "2041516790736\n"
     ]
    }
   ],
   "source": [
    "# multiple references\n",
    "\n",
    "print(id(p))\n",
    "print(id(q))\n",
    "\n"
   ]
  },
  {
   "cell_type": "code",
   "execution_count": 31,
   "id": "5fd3d00f",
   "metadata": {},
   "outputs": [
    {
     "name": "stdout",
     "output_type": "stream",
     "text": [
      "nitish\n",
      "nitish\n",
      "ankit\n",
      "ankit\n"
     ]
    }
   ],
   "source": [
    "# change attribute value with the help of 2nd object\n",
    "print(p.name)\n",
    "print(q.name)\n",
    "q.name='ankit'\n",
    "print(q.name)\n",
    "print(p.name)"
   ]
  },
  {
   "cell_type": "markdown",
   "id": "f58088aa",
   "metadata": {},
   "source": [
    "### Pass by reference"
   ]
  },
  {
   "cell_type": "code",
   "execution_count": 33,
   "id": "1f544463",
   "metadata": {},
   "outputs": [
    {
     "name": "stdout",
     "output_type": "stream",
     "text": [
      "hi my name is nitish and i am a male\n"
     ]
    }
   ],
   "source": [
    "class Person:\n",
    "    def __init__(self,name,gender):\n",
    "        self.name=name\n",
    "        self.gender=gender\n",
    "        \n",
    "#outside the calass ---> function \n",
    "def greet(person):\n",
    "    print('hi my name is',person.name,'and i am a',person.gender)\n",
    "\n",
    "p=Person('nitish','male')\n",
    "greet(p)"
   ]
  },
  {
   "cell_type": "code",
   "execution_count": null,
   "id": "78d1f622",
   "metadata": {},
   "outputs": [],
   "source": [
    "# A function can return object\n",
    "#"
   ]
  },
  {
   "cell_type": "code",
   "execution_count": 42,
   "id": "d0516e16",
   "metadata": {},
   "outputs": [
    {
     "name": "stdout",
     "output_type": "stream",
     "text": [
      "hi my name is nitish and i am a male\n",
      "ankit\n",
      "male\n"
     ]
    }
   ],
   "source": [
    "class Person:\n",
    "    def __init__(self,name,gender):\n",
    "        self.name = name\n",
    "        self.gender = gender\n",
    "        \n",
    "#outside the calass ---> function \n",
    "def greet(person):\n",
    "    print('hi my name is',person.name,'and i am a',person.gender)\n",
    "    p1=Person('ankit','male')\n",
    "    return p1\n",
    "    \n",
    "p=Person('nitish','male')\n",
    "x=greet(P)\n",
    "print(x.name)\n",
    "print(x.gender)"
   ]
  },
  {
   "cell_type": "code",
   "execution_count": 46,
   "id": "e07718c0",
   "metadata": {},
   "outputs": [
    {
     "name": "stdout",
     "output_type": "stream",
     "text": [
      "2041516830000\n",
      "hi my name is nitish and i am a male\n"
     ]
    }
   ],
   "source": [
    "class Person:\n",
    "    def __init__(self,name,gender):\n",
    "        self.name = name\n",
    "        self.gender = gender\n",
    "        \n",
    "#outside the calass ---> function \n",
    "def greet(person):\n",
    "    print('hi my name is',person.name,'and i am a',person.gender)\n",
    " \n",
    "\n",
    "    \n",
    "p=Person('nitish','male')\n",
    "print(id(p))\n",
    "greet(p)"
   ]
  },
  {
   "cell_type": "code",
   "execution_count": 47,
   "id": "5689ea1f",
   "metadata": {},
   "outputs": [],
   "source": [
    "# if you pass any object to function , it is not actually a object it is reference of the object "
   ]
  },
  {
   "cell_type": "code",
   "execution_count": 48,
   "id": "4dc14a35",
   "metadata": {},
   "outputs": [
    {
     "name": "stdout",
     "output_type": "stream",
     "text": [
      "2041516793712\n",
      "ankit\n",
      "nitish\n"
     ]
    }
   ],
   "source": [
    "class Person:\n",
    "    def __init__(self,name,gender):\n",
    "        self.name = name\n",
    "        self.gender = gender\n",
    "        \n",
    "#outside the calass ---> function \n",
    "def greet(person):\n",
    "    print(id(person))\n",
    "    person.name = 'ankit'\n",
    "    print(person.name)\n",
    " \n",
    "    \n",
    "p=Person('nitish','male')\n",
    "x=greet(P)\n",
    "print(p.name)"
   ]
  },
  {
   "cell_type": "code",
   "execution_count": 50,
   "id": "d87571c2",
   "metadata": {},
   "outputs": [],
   "source": [
    "# if you change the object through any reference it will changes\n",
    "#all objects are mutable in python default \n",
    "# but we can create immutable objects also."
   ]
  },
  {
   "cell_type": "markdown",
   "id": "69b45914",
   "metadata": {},
   "source": [
    "### object ki mutability"
   ]
  },
  {
   "cell_type": "code",
   "execution_count": 52,
   "id": "0cf6e7cb",
   "metadata": {},
   "outputs": [
    {
     "name": "stdout",
     "output_type": "stream",
     "text": [
      "2041517173872\n",
      "2041517173872\n"
     ]
    }
   ],
   "source": [
    "class Person:\n",
    "    def __init__(self,name,gender):\n",
    "        self.name = name\n",
    "        self.gender = gender\n",
    "        \n",
    "#outside the calass ---> function \n",
    "def greet(person):\n",
    "    person.name = 'ankit'\n",
    "    return person\n",
    "    \n",
    "    \n",
    "p=Person('nitish','male')\n",
    "print(id(p))\n",
    "p1 = greet(p)\n",
    "print(id(p1))"
   ]
  },
  {
   "cell_type": "markdown",
   "id": "62df3d9c",
   "metadata": {},
   "source": [
    "### Encapsulation"
   ]
  },
  {
   "cell_type": "raw",
   "id": "0c2f1316",
   "metadata": {},
   "source": [
    "#instance variable :\n",
    "2).one object have different variables.\n",
    "3).In instant variable we can store different values that can be used throughout the programm.\n",
    "4).for every object the value of the instance variable is different."
   ]
  },
  {
   "cell_type": "code",
   "execution_count": 54,
   "id": "29882a51",
   "metadata": {},
   "outputs": [],
   "source": [
    "#Instance variable\n",
    "class Person:\n",
    "    \n",
    "    def __init__(self,name_input,country_input):\n",
    "        self.name = name_input\n",
    "        self.country = country_input\n",
    "        \n",
    "p1=Person('nitish','india')\n",
    "p2=Person('steve','australia')"
   ]
  },
  {
   "cell_type": "code",
   "execution_count": 55,
   "id": "2015b34d",
   "metadata": {},
   "outputs": [
    {
     "data": {
      "text/plain": [
       "'nitish'"
      ]
     },
     "execution_count": 55,
     "metadata": {},
     "output_type": "execute_result"
    }
   ],
   "source": [
    "p1.name"
   ]
  },
  {
   "cell_type": "code",
   "execution_count": 56,
   "id": "e8fb5ce5",
   "metadata": {},
   "outputs": [
    {
     "data": {
      "text/plain": [
       "'steve'"
      ]
     },
     "execution_count": 56,
     "metadata": {},
     "output_type": "execute_result"
    }
   ],
   "source": [
    "p2.name"
   ]
  },
  {
   "cell_type": "code",
   "execution_count": 57,
   "id": "9dd8a444",
   "metadata": {},
   "outputs": [],
   "source": [
    "# where name is object, it has different values are nitish,steve."
   ]
  },
  {
   "cell_type": "code",
   "execution_count": 58,
   "id": "fe51b450",
   "metadata": {},
   "outputs": [],
   "source": [
    "class Atm:\n",
    "\n",
    "  # constructor(special function)->superpower -> \n",
    "  def __init__(self):\n",
    "    print(id(self))\n",
    "    self.pin = ''\n",
    "    self.__balance = 0\n",
    "    #self.menu()\n",
    "\n",
    "  def get_balance(self):\n",
    "    return self.__balance\n",
    "\n",
    "  def set_balance(self,new_value):\n",
    "    if type(new_value) == int:\n",
    "      self.__balance = new_value\n",
    "    else:\n",
    "      print('beta bahot maarenge')\n",
    "\n",
    "  def __menu(self):\n",
    "    user_input = input(\"\"\"\n",
    "    Hi how can I help you?\n",
    "    1. Press 1 to create pin\n",
    "    2. Press 2 to change pin\n",
    "    3. Press 3 to check balance\n",
    "    4. Press 4 to withdraw\n",
    "    5. Anything else to exit\n",
    "    \"\"\")\n",
    "\n",
    "    if user_input == '1':\n",
    "      self.create_pin()\n",
    "    elif user_input == '2':\n",
    "      self.change_pin()\n",
    "    elif user_input == '3':\n",
    "      self.check_balance()\n",
    "    elif user_input == '4':\n",
    "      self.withdraw()\n",
    "    else:\n",
    "      exit()\n",
    "\n",
    "  def create_pin(self):\n",
    "    user_pin = input('enter your pin')\n",
    "    self.pin = user_pin\n",
    "\n",
    "    user_balance = int(input('enter balance'))\n",
    "    self.__balance = user_balance\n",
    "\n",
    "    print('pin created successfully')\n",
    "\n",
    "  def change_pin(self):\n",
    "    old_pin = input('enter old pin')\n",
    "\n",
    "    if old_pin == self.pin:\n",
    "      # let him change the pin\n",
    "      new_pin = input('enter new pin')\n",
    "      self.pin = new_pin\n",
    "      print('pin change successful')\n",
    "    else:\n",
    "      print('nai karne de sakta re baba')\n",
    "\n",
    "  def check_balance(self):\n",
    "    user_pin = input('enter your pin')\n",
    "    if user_pin == self.pin:\n",
    "      print('your balance is ',self.__balance) #__balance is private variable\n",
    "    else:\n",
    "      print('chal nikal yahan se')\n",
    "\n",
    "  def withdraw(self):\n",
    "    user_pin = input('enter the pin')\n",
    "    if user_pin == self.pin:\n",
    "      # allow to withdraw\n",
    "      amount = int(input('enter the amount'))\n",
    "      if amount <= self.__balance:\n",
    "        self.__balance = self.__balance - amount\n",
    "        print('withdrawl successful.balance is',self.__balance)\n",
    "      else:\n",
    "        print('abe garib')\n",
    "    else:\n",
    "      print('sale chor')"
   ]
  },
  {
   "cell_type": "code",
   "execution_count": 59,
   "id": "aa219f4a",
   "metadata": {},
   "outputs": [
    {
     "name": "stdout",
     "output_type": "stream",
     "text": [
      "2041517173920\n"
     ]
    }
   ],
   "source": [
    "obj=Atm()"
   ]
  },
  {
   "cell_type": "code",
   "execution_count": 65,
   "id": "48aa0b5a",
   "metadata": {},
   "outputs": [
    {
     "data": {
      "text/plain": [
       "1000"
      ]
     },
     "execution_count": 65,
     "metadata": {},
     "output_type": "execute_result"
    }
   ],
   "source": [
    "obj.get_balance()"
   ]
  },
  {
   "cell_type": "code",
   "execution_count": 64,
   "id": "b7ad8597",
   "metadata": {},
   "outputs": [],
   "source": [
    "obj.set_balance(1000)\n"
   ]
  },
  {
   "cell_type": "code",
   "execution_count": 67,
   "id": "ff32e9d5",
   "metadata": {},
   "outputs": [
    {
     "name": "stdout",
     "output_type": "stream",
     "text": [
      "enter the pin1234\n",
      "sale chor\n"
     ]
    }
   ],
   "source": [
    "obj.withdraw()"
   ]
  },
  {
   "cell_type": "code",
   "execution_count": 68,
   "id": "fccdd4e3",
   "metadata": {},
   "outputs": [],
   "source": [
    "#Collection of Objects \n",
    "class Person:\n",
    "    \n",
    "    def __init__(self,name,gender):\n",
    "        self.name = name\n",
    "        self.gender = gender\n",
    "p1=Person('nitish','male')\n",
    "p2=Person('ankit','male')\n",
    "p3=Person('ankita','female')\n",
    "\n",
    "L=[p1,p2,p3]"
   ]
  },
  {
   "cell_type": "code",
   "execution_count": 69,
   "id": "41d0cd6f",
   "metadata": {},
   "outputs": [
    {
     "name": "stdout",
     "output_type": "stream",
     "text": [
      "[<__main__.Person object at 0x000001DB53E58FA0>, <__main__.Person object at 0x000001DB53E589A0>, <__main__.Person object at 0x000001DB53E18430>]\n"
     ]
    }
   ],
   "source": [
    "print(L)\n",
    "#it will return the address"
   ]
  },
  {
   "cell_type": "code",
   "execution_count": 70,
   "id": "0edddbcf",
   "metadata": {},
   "outputs": [
    {
     "name": "stdout",
     "output_type": "stream",
     "text": [
      "nitish male\n",
      "ankit male\n",
      "ankita female\n"
     ]
    }
   ],
   "source": [
    "for i in L:\n",
    "    print(i.name,i.gender)"
   ]
  },
  {
   "cell_type": "markdown",
   "id": "a7298f45",
   "metadata": {},
   "source": [
    "### Static Variables(Vs instance variable)"
   ]
  },
  {
   "cell_type": "code",
   "execution_count": 71,
   "id": "c888b4cd",
   "metadata": {},
   "outputs": [],
   "source": [
    "#need for static variables\n",
    "#using instant variable we can not implement counter\n",
    "#we can implement counter on static variables"
   ]
  },
  {
   "cell_type": "code",
   "execution_count": null,
   "id": "190d5602",
   "metadata": {},
   "outputs": [],
   "source": [
    "#instance variable is object variable \n",
    "#static variable is class variable"
   ]
  },
  {
   "cell_type": "code",
   "execution_count": null,
   "id": "870947bb",
   "metadata": {},
   "outputs": [],
   "source": [
    "#civil engineering branch is Class - static variable \n",
    "# student roll numbers in civil engineering branch are objects - Instance variable"
   ]
  },
  {
   "cell_type": "code",
   "execution_count": null,
   "id": "c015e227",
   "metadata": {},
   "outputs": [],
   "source": []
  },
  {
   "cell_type": "code",
   "execution_count": null,
   "id": "c2a9c5f5",
   "metadata": {},
   "outputs": [],
   "source": []
  },
  {
   "cell_type": "code",
   "execution_count": null,
   "id": "1ec4069b",
   "metadata": {},
   "outputs": [],
   "source": []
  },
  {
   "cell_type": "code",
   "execution_count": null,
   "id": "104fc8c6",
   "metadata": {},
   "outputs": [],
   "source": []
  },
  {
   "cell_type": "code",
   "execution_count": null,
   "id": "d80d6b55",
   "metadata": {},
   "outputs": [],
   "source": []
  },
  {
   "cell_type": "code",
   "execution_count": null,
   "id": "f2b1f042",
   "metadata": {},
   "outputs": [],
   "source": []
  },
  {
   "cell_type": "code",
   "execution_count": null,
   "id": "62691ff3",
   "metadata": {},
   "outputs": [],
   "source": []
  },
  {
   "cell_type": "code",
   "execution_count": null,
   "id": "bd662889",
   "metadata": {},
   "outputs": [],
   "source": []
  },
  {
   "cell_type": "code",
   "execution_count": null,
   "id": "0e7c69a3",
   "metadata": {},
   "outputs": [],
   "source": []
  },
  {
   "cell_type": "code",
   "execution_count": null,
   "id": "0830aeb4",
   "metadata": {},
   "outputs": [],
   "source": []
  },
  {
   "cell_type": "code",
   "execution_count": null,
   "id": "7449de1c",
   "metadata": {},
   "outputs": [],
   "source": []
  }
 ],
 "metadata": {
  "kernelspec": {
   "display_name": "Python 3 (ipykernel)",
   "language": "python",
   "name": "python3"
  },
  "language_info": {
   "codemirror_mode": {
    "name": "ipython",
    "version": 3
   },
   "file_extension": ".py",
   "mimetype": "text/x-python",
   "name": "python",
   "nbconvert_exporter": "python",
   "pygments_lexer": "ipython3",
   "version": "3.9.13"
  }
 },
 "nbformat": 4,
 "nbformat_minor": 5
}
